{
  "cells": [
    {
      "cell_type": "markdown",
      "metadata": {
        "id": "view-in-github",
        "colab_type": "text"
      },
      "source": [
        "<a href=\"https://colab.research.google.com/github/poojashreeNS/ANN_Techniques/blob/main/NEWDATA_Conversational_Sentiment_Analysis_6_Zeyneb.ipynb\" target=\"_parent\"><img src=\"https://colab.research.google.com/assets/colab-badge.svg\" alt=\"Open In Colab\"/></a>"
      ]
    },
    {
      "cell_type": "markdown",
      "metadata": {
        "id": "VadbO-RbSoiB"
      },
      "source": [
        "# Imports "
      ]
    },
    {
      "cell_type": "code",
      "execution_count": null,
      "metadata": {
        "colab": {
          "base_uri": "https://localhost:8080/",
          "height": 1000
        },
        "id": "TRbFAWCaSfsL",
        "outputId": "982fb50d-b192-4985-8309-3a5a169dcbd0"
      },
      "outputs": [
        {
          "name": "stdout",
          "output_type": "stream",
          "text": [
            "Looking in indexes: https://pypi.org/simple, https://us-python.pkg.dev/colab-wheels/public/simple/\n",
            "Requirement already satisfied: tensorflow in /usr/local/lib/python3.7/dist-packages (2.8.2+zzzcolab20220527125636)\n",
            "Requirement already satisfied: libclang>=9.0.1 in /usr/local/lib/python3.7/dist-packages (from tensorflow) (14.0.1)\n",
            "Requirement already satisfied: gast>=0.2.1 in /usr/local/lib/python3.7/dist-packages (from tensorflow) (0.5.3)\n",
            "Requirement already satisfied: google-pasta>=0.1.1 in /usr/local/lib/python3.7/dist-packages (from tensorflow) (0.2.0)\n",
            "Requirement already satisfied: wrapt>=1.11.0 in /usr/local/lib/python3.7/dist-packages (from tensorflow) (1.14.1)\n",
            "Requirement already satisfied: typing-extensions>=3.6.6 in /usr/local/lib/python3.7/dist-packages (from tensorflow) (4.1.1)\n",
            "Requirement already satisfied: keras-preprocessing>=1.1.1 in /usr/local/lib/python3.7/dist-packages (from tensorflow) (1.1.2)\n",
            "Requirement already satisfied: tensorflow-estimator<2.9,>=2.8 in /usr/local/lib/python3.7/dist-packages (from tensorflow) (2.8.0)\n",
            "Requirement already satisfied: opt-einsum>=2.3.2 in /usr/local/lib/python3.7/dist-packages (from tensorflow) (3.3.0)\n",
            "Requirement already satisfied: numpy>=1.20 in /usr/local/lib/python3.7/dist-packages (from tensorflow) (1.21.6)\n",
            "Requirement already satisfied: keras<2.9,>=2.8.0rc0 in /usr/local/lib/python3.7/dist-packages (from tensorflow) (2.8.0)\n",
            "Requirement already satisfied: absl-py>=0.4.0 in /usr/local/lib/python3.7/dist-packages (from tensorflow) (1.1.0)\n",
            "Requirement already satisfied: tensorboard<2.9,>=2.8 in /usr/local/lib/python3.7/dist-packages (from tensorflow) (2.8.0)\n",
            "Requirement already satisfied: setuptools in /usr/local/lib/python3.7/dist-packages (from tensorflow) (57.4.0)\n",
            "Requirement already satisfied: flatbuffers>=1.12 in /usr/local/lib/python3.7/dist-packages (from tensorflow) (2.0)\n",
            "Requirement already satisfied: six>=1.12.0 in /usr/local/lib/python3.7/dist-packages (from tensorflow) (1.15.0)\n",
            "Requirement already satisfied: tensorflow-io-gcs-filesystem>=0.23.1 in /usr/local/lib/python3.7/dist-packages (from tensorflow) (0.26.0)\n",
            "Requirement already satisfied: h5py>=2.9.0 in /usr/local/lib/python3.7/dist-packages (from tensorflow) (3.1.0)\n",
            "Requirement already satisfied: termcolor>=1.1.0 in /usr/local/lib/python3.7/dist-packages (from tensorflow) (1.1.0)\n",
            "Requirement already satisfied: astunparse>=1.6.0 in /usr/local/lib/python3.7/dist-packages (from tensorflow) (1.6.3)\n",
            "Requirement already satisfied: protobuf<3.20,>=3.9.2 in /usr/local/lib/python3.7/dist-packages (from tensorflow) (3.17.3)\n",
            "Requirement already satisfied: grpcio<2.0,>=1.24.3 in /usr/local/lib/python3.7/dist-packages (from tensorflow) (1.46.3)\n",
            "Requirement already satisfied: wheel<1.0,>=0.23.0 in /usr/local/lib/python3.7/dist-packages (from astunparse>=1.6.0->tensorflow) (0.37.1)\n",
            "Requirement already satisfied: cached-property in /usr/local/lib/python3.7/dist-packages (from h5py>=2.9.0->tensorflow) (1.5.2)\n",
            "Requirement already satisfied: tensorboard-plugin-wit>=1.6.0 in /usr/local/lib/python3.7/dist-packages (from tensorboard<2.9,>=2.8->tensorflow) (1.8.1)\n",
            "Requirement already satisfied: google-auth-oauthlib<0.5,>=0.4.1 in /usr/local/lib/python3.7/dist-packages (from tensorboard<2.9,>=2.8->tensorflow) (0.4.6)\n",
            "Requirement already satisfied: google-auth<3,>=1.6.3 in /usr/local/lib/python3.7/dist-packages (from tensorboard<2.9,>=2.8->tensorflow) (1.35.0)\n",
            "Requirement already satisfied: werkzeug>=0.11.15 in /usr/local/lib/python3.7/dist-packages (from tensorboard<2.9,>=2.8->tensorflow) (1.0.1)\n",
            "Requirement already satisfied: tensorboard-data-server<0.7.0,>=0.6.0 in /usr/local/lib/python3.7/dist-packages (from tensorboard<2.9,>=2.8->tensorflow) (0.6.1)\n",
            "Requirement already satisfied: requests<3,>=2.21.0 in /usr/local/lib/python3.7/dist-packages (from tensorboard<2.9,>=2.8->tensorflow) (2.23.0)\n",
            "Requirement already satisfied: markdown>=2.6.8 in /usr/local/lib/python3.7/dist-packages (from tensorboard<2.9,>=2.8->tensorflow) (3.3.7)\n",
            "Requirement already satisfied: rsa<5,>=3.1.4 in /usr/local/lib/python3.7/dist-packages (from google-auth<3,>=1.6.3->tensorboard<2.9,>=2.8->tensorflow) (4.8)\n",
            "Requirement already satisfied: pyasn1-modules>=0.2.1 in /usr/local/lib/python3.7/dist-packages (from google-auth<3,>=1.6.3->tensorboard<2.9,>=2.8->tensorflow) (0.2.8)\n",
            "Requirement already satisfied: cachetools<5.0,>=2.0.0 in /usr/local/lib/python3.7/dist-packages (from google-auth<3,>=1.6.3->tensorboard<2.9,>=2.8->tensorflow) (4.2.4)\n",
            "Requirement already satisfied: requests-oauthlib>=0.7.0 in /usr/local/lib/python3.7/dist-packages (from google-auth-oauthlib<0.5,>=0.4.1->tensorboard<2.9,>=2.8->tensorflow) (1.3.1)\n",
            "Requirement already satisfied: importlib-metadata>=4.4 in /usr/local/lib/python3.7/dist-packages (from markdown>=2.6.8->tensorboard<2.9,>=2.8->tensorflow) (4.11.4)\n",
            "Requirement already satisfied: zipp>=0.5 in /usr/local/lib/python3.7/dist-packages (from importlib-metadata>=4.4->markdown>=2.6.8->tensorboard<2.9,>=2.8->tensorflow) (3.8.0)\n",
            "Requirement already satisfied: pyasn1<0.5.0,>=0.4.6 in /usr/local/lib/python3.7/dist-packages (from pyasn1-modules>=0.2.1->google-auth<3,>=1.6.3->tensorboard<2.9,>=2.8->tensorflow) (0.4.8)\n",
            "Requirement already satisfied: certifi>=2017.4.17 in /usr/local/lib/python3.7/dist-packages (from requests<3,>=2.21.0->tensorboard<2.9,>=2.8->tensorflow) (2022.6.15)\n",
            "Requirement already satisfied: chardet<4,>=3.0.2 in /usr/local/lib/python3.7/dist-packages (from requests<3,>=2.21.0->tensorboard<2.9,>=2.8->tensorflow) (3.0.4)\n",
            "Requirement already satisfied: idna<3,>=2.5 in /usr/local/lib/python3.7/dist-packages (from requests<3,>=2.21.0->tensorboard<2.9,>=2.8->tensorflow) (2.10)\n",
            "Requirement already satisfied: urllib3!=1.25.0,!=1.25.1,<1.26,>=1.21.1 in /usr/local/lib/python3.7/dist-packages (from requests<3,>=2.21.0->tensorboard<2.9,>=2.8->tensorflow) (1.24.3)\n",
            "Requirement already satisfied: oauthlib>=3.0.0 in /usr/local/lib/python3.7/dist-packages (from requests-oauthlib>=0.7.0->google-auth-oauthlib<0.5,>=0.4.1->tensorboard<2.9,>=2.8->tensorflow) (3.2.0)\n",
            "Looking in indexes: https://pypi.org/simple, https://us-python.pkg.dev/colab-wheels/public/simple/\n",
            "Collecting livelossplot\n",
            "  Downloading livelossplot-0.5.5-py3-none-any.whl (22 kB)\n",
            "Requirement already satisfied: matplotlib in /usr/local/lib/python3.7/dist-packages (from livelossplot) (3.2.2)\n",
            "Collecting ipython==7.*\n",
            "  Downloading ipython-7.34.0-py3-none-any.whl (793 kB)\n",
            "\u001b[K     |████████████████████████████████| 793 kB 5.7 MB/s \n",
            "\u001b[?25hRequirement already satisfied: numpy<1.22 in /usr/local/lib/python3.7/dist-packages (from livelossplot) (1.21.6)\n",
            "Requirement already satisfied: bokeh in /usr/local/lib/python3.7/dist-packages (from livelossplot) (2.3.3)\n",
            "Requirement already satisfied: decorator in /usr/local/lib/python3.7/dist-packages (from ipython==7.*->livelossplot) (4.4.2)\n",
            "Requirement already satisfied: jedi>=0.16 in /usr/local/lib/python3.7/dist-packages (from ipython==7.*->livelossplot) (0.18.1)\n",
            "Requirement already satisfied: setuptools>=18.5 in /usr/local/lib/python3.7/dist-packages (from ipython==7.*->livelossplot) (57.4.0)\n",
            "Requirement already satisfied: traitlets>=4.2 in /usr/local/lib/python3.7/dist-packages (from ipython==7.*->livelossplot) (5.1.1)\n",
            "Requirement already satisfied: backcall in /usr/local/lib/python3.7/dist-packages (from ipython==7.*->livelossplot) (0.2.0)\n",
            "Requirement already satisfied: matplotlib-inline in /usr/local/lib/python3.7/dist-packages (from ipython==7.*->livelossplot) (0.1.3)\n",
            "Requirement already satisfied: pygments in /usr/local/lib/python3.7/dist-packages (from ipython==7.*->livelossplot) (2.6.1)\n",
            "Requirement already satisfied: pexpect>4.3 in /usr/local/lib/python3.7/dist-packages (from ipython==7.*->livelossplot) (4.8.0)\n",
            "Requirement already satisfied: pickleshare in /usr/local/lib/python3.7/dist-packages (from ipython==7.*->livelossplot) (0.7.5)\n",
            "Collecting prompt-toolkit!=3.0.0,!=3.0.1,<3.1.0,>=2.0.0\n",
            "  Downloading prompt_toolkit-3.0.30-py3-none-any.whl (381 kB)\n",
            "\u001b[K     |████████████████████████████████| 381 kB 57.6 MB/s \n",
            "\u001b[?25hRequirement already satisfied: parso<0.9.0,>=0.8.0 in /usr/local/lib/python3.7/dist-packages (from jedi>=0.16->ipython==7.*->livelossplot) (0.8.3)\n",
            "Requirement already satisfied: ptyprocess>=0.5 in /usr/local/lib/python3.7/dist-packages (from pexpect>4.3->ipython==7.*->livelossplot) (0.7.0)\n",
            "Requirement already satisfied: wcwidth in /usr/local/lib/python3.7/dist-packages (from prompt-toolkit!=3.0.0,!=3.0.1,<3.1.0,>=2.0.0->ipython==7.*->livelossplot) (0.2.5)\n",
            "Requirement already satisfied: python-dateutil>=2.1 in /usr/local/lib/python3.7/dist-packages (from bokeh->livelossplot) (2.8.2)\n",
            "Requirement already satisfied: PyYAML>=3.10 in /usr/local/lib/python3.7/dist-packages (from bokeh->livelossplot) (3.13)\n",
            "Requirement already satisfied: tornado>=5.1 in /usr/local/lib/python3.7/dist-packages (from bokeh->livelossplot) (5.1.1)\n",
            "Requirement already satisfied: Jinja2>=2.9 in /usr/local/lib/python3.7/dist-packages (from bokeh->livelossplot) (2.11.3)\n",
            "Requirement already satisfied: pillow>=7.1.0 in /usr/local/lib/python3.7/dist-packages (from bokeh->livelossplot) (7.1.2)\n",
            "Requirement already satisfied: packaging>=16.8 in /usr/local/lib/python3.7/dist-packages (from bokeh->livelossplot) (21.3)\n",
            "Requirement already satisfied: typing-extensions>=3.7.4 in /usr/local/lib/python3.7/dist-packages (from bokeh->livelossplot) (4.1.1)\n",
            "Requirement already satisfied: MarkupSafe>=0.23 in /usr/local/lib/python3.7/dist-packages (from Jinja2>=2.9->bokeh->livelossplot) (2.0.1)\n",
            "Requirement already satisfied: pyparsing!=3.0.5,>=2.0.2 in /usr/local/lib/python3.7/dist-packages (from packaging>=16.8->bokeh->livelossplot) (3.0.9)\n",
            "Requirement already satisfied: six>=1.5 in /usr/local/lib/python3.7/dist-packages (from python-dateutil>=2.1->bokeh->livelossplot) (1.15.0)\n",
            "Requirement already satisfied: cycler>=0.10 in /usr/local/lib/python3.7/dist-packages (from matplotlib->livelossplot) (0.11.0)\n",
            "Requirement already satisfied: kiwisolver>=1.0.1 in /usr/local/lib/python3.7/dist-packages (from matplotlib->livelossplot) (1.4.3)\n",
            "Installing collected packages: prompt-toolkit, ipython, livelossplot\n",
            "  Attempting uninstall: prompt-toolkit\n",
            "    Found existing installation: prompt-toolkit 1.0.18\n",
            "    Uninstalling prompt-toolkit-1.0.18:\n",
            "      Successfully uninstalled prompt-toolkit-1.0.18\n",
            "  Attempting uninstall: ipython\n",
            "    Found existing installation: ipython 5.5.0\n",
            "    Uninstalling ipython-5.5.0:\n",
            "      Successfully uninstalled ipython-5.5.0\n",
            "\u001b[31mERROR: pip's dependency resolver does not currently take into account all the packages that are installed. This behaviour is the source of the following dependency conflicts.\n",
            "jupyter-console 5.2.0 requires prompt-toolkit<2.0.0,>=1.0.0, but you have prompt-toolkit 3.0.30 which is incompatible.\n",
            "google-colab 1.0.0 requires ipython~=5.5.0, but you have ipython 7.34.0 which is incompatible.\u001b[0m\n",
            "Successfully installed ipython-7.34.0 livelossplot-0.5.5 prompt-toolkit-3.0.30\n"
          ]
        },
        {
          "data": {
            "application/vnd.colab-display-data+json": {
              "pip_warning": {
                "packages": [
                  "IPython",
                  "prompt_toolkit"
                ]
              }
            }
          },
          "metadata": {},
          "output_type": "display_data"
        },
        {
          "name": "stdout",
          "output_type": "stream",
          "text": [
            "Looking in indexes: https://pypi.org/simple, https://us-python.pkg.dev/colab-wheels/public/simple/\n",
            "Collecting shap\n",
            "  Downloading shap-0.41.0-cp37-cp37m-manylinux_2_12_x86_64.manylinux2010_x86_64.whl (569 kB)\n",
            "\u001b[K     |████████████████████████████████| 569 kB 4.1 MB/s \n",
            "\u001b[?25hRequirement already satisfied: scipy in /usr/local/lib/python3.7/dist-packages (from shap) (1.4.1)\n",
            "Requirement already satisfied: pandas in /usr/local/lib/python3.7/dist-packages (from shap) (1.3.5)\n",
            "Requirement already satisfied: tqdm>4.25.0 in /usr/local/lib/python3.7/dist-packages (from shap) (4.64.0)\n",
            "Requirement already satisfied: numba in /usr/local/lib/python3.7/dist-packages (from shap) (0.51.2)\n",
            "Collecting slicer==0.0.7\n",
            "  Downloading slicer-0.0.7-py3-none-any.whl (14 kB)\n",
            "Requirement already satisfied: scikit-learn in /usr/local/lib/python3.7/dist-packages (from shap) (1.0.2)\n",
            "Requirement already satisfied: numpy in /usr/local/lib/python3.7/dist-packages (from shap) (1.21.6)\n",
            "Requirement already satisfied: packaging>20.9 in /usr/local/lib/python3.7/dist-packages (from shap) (21.3)\n",
            "Requirement already satisfied: cloudpickle in /usr/local/lib/python3.7/dist-packages (from shap) (1.3.0)\n",
            "Requirement already satisfied: pyparsing!=3.0.5,>=2.0.2 in /usr/local/lib/python3.7/dist-packages (from packaging>20.9->shap) (3.0.9)\n",
            "Requirement already satisfied: llvmlite<0.35,>=0.34.0.dev0 in /usr/local/lib/python3.7/dist-packages (from numba->shap) (0.34.0)\n",
            "Requirement already satisfied: setuptools in /usr/local/lib/python3.7/dist-packages (from numba->shap) (57.4.0)\n",
            "Requirement already satisfied: python-dateutil>=2.7.3 in /usr/local/lib/python3.7/dist-packages (from pandas->shap) (2.8.2)\n",
            "Requirement already satisfied: pytz>=2017.3 in /usr/local/lib/python3.7/dist-packages (from pandas->shap) (2022.1)\n",
            "Requirement already satisfied: six>=1.5 in /usr/local/lib/python3.7/dist-packages (from python-dateutil>=2.7.3->pandas->shap) (1.15.0)\n",
            "Requirement already satisfied: threadpoolctl>=2.0.0 in /usr/local/lib/python3.7/dist-packages (from scikit-learn->shap) (3.1.0)\n",
            "Requirement already satisfied: joblib>=0.11 in /usr/local/lib/python3.7/dist-packages (from scikit-learn->shap) (1.1.0)\n",
            "Installing collected packages: slicer, shap\n",
            "Successfully installed shap-0.41.0 slicer-0.0.7\n",
            "Looking in indexes: https://pypi.org/simple, https://us-python.pkg.dev/colab-wheels/public/simple/\n",
            "Collecting transformers\n",
            "  Downloading transformers-4.20.1-py3-none-any.whl (4.4 MB)\n",
            "\u001b[K     |████████████████████████████████| 4.4 MB 4.0 MB/s \n",
            "\u001b[?25hCollecting huggingface-hub<1.0,>=0.1.0\n",
            "  Downloading huggingface_hub-0.8.1-py3-none-any.whl (101 kB)\n",
            "\u001b[K     |████████████████████████████████| 101 kB 12.1 MB/s \n",
            "\u001b[?25hRequirement already satisfied: regex!=2019.12.17 in /usr/local/lib/python3.7/dist-packages (from transformers) (2022.6.2)\n",
            "Requirement already satisfied: tqdm>=4.27 in /usr/local/lib/python3.7/dist-packages (from transformers) (4.64.0)\n",
            "Requirement already satisfied: importlib-metadata in /usr/local/lib/python3.7/dist-packages (from transformers) (4.11.4)\n",
            "Collecting pyyaml>=5.1\n",
            "  Downloading PyYAML-6.0-cp37-cp37m-manylinux_2_5_x86_64.manylinux1_x86_64.manylinux_2_12_x86_64.manylinux2010_x86_64.whl (596 kB)\n",
            "\u001b[K     |████████████████████████████████| 596 kB 50.7 MB/s \n",
            "\u001b[?25hRequirement already satisfied: filelock in /usr/local/lib/python3.7/dist-packages (from transformers) (3.7.1)\n",
            "Requirement already satisfied: numpy>=1.17 in /usr/local/lib/python3.7/dist-packages (from transformers) (1.21.6)\n",
            "Requirement already satisfied: packaging>=20.0 in /usr/local/lib/python3.7/dist-packages (from transformers) (21.3)\n",
            "Collecting tokenizers!=0.11.3,<0.13,>=0.11.1\n",
            "  Downloading tokenizers-0.12.1-cp37-cp37m-manylinux_2_12_x86_64.manylinux2010_x86_64.whl (6.6 MB)\n",
            "\u001b[K     |████████████████████████████████| 6.6 MB 42.4 MB/s \n",
            "\u001b[?25hRequirement already satisfied: requests in /usr/local/lib/python3.7/dist-packages (from transformers) (2.23.0)\n",
            "Requirement already satisfied: typing-extensions>=3.7.4.3 in /usr/local/lib/python3.7/dist-packages (from huggingface-hub<1.0,>=0.1.0->transformers) (4.1.1)\n",
            "Requirement already satisfied: pyparsing!=3.0.5,>=2.0.2 in /usr/local/lib/python3.7/dist-packages (from packaging>=20.0->transformers) (3.0.9)\n",
            "Requirement already satisfied: zipp>=0.5 in /usr/local/lib/python3.7/dist-packages (from importlib-metadata->transformers) (3.8.0)\n",
            "Requirement already satisfied: certifi>=2017.4.17 in /usr/local/lib/python3.7/dist-packages (from requests->transformers) (2022.6.15)\n",
            "Requirement already satisfied: chardet<4,>=3.0.2 in /usr/local/lib/python3.7/dist-packages (from requests->transformers) (3.0.4)\n",
            "Requirement already satisfied: urllib3!=1.25.0,!=1.25.1,<1.26,>=1.21.1 in /usr/local/lib/python3.7/dist-packages (from requests->transformers) (1.24.3)\n",
            "Requirement already satisfied: idna<3,>=2.5 in /usr/local/lib/python3.7/dist-packages (from requests->transformers) (2.10)\n",
            "Installing collected packages: pyyaml, tokenizers, huggingface-hub, transformers\n",
            "  Attempting uninstall: pyyaml\n",
            "    Found existing installation: PyYAML 3.13\n",
            "    Uninstalling PyYAML-3.13:\n",
            "      Successfully uninstalled PyYAML-3.13\n",
            "Successfully installed huggingface-hub-0.8.1 pyyaml-6.0 tokenizers-0.12.1 transformers-4.20.1\n"
          ]
        }
      ],
      "source": [
        "!pip install tensorflow\n",
        "!pip install livelossplot   \n",
        "!pip install shap \n",
        "!pip install transformers     "
      ]
    },
    {
      "cell_type": "code",
      "execution_count": null,
      "metadata": {
        "id": "u7pKx5fjqqrz"
      },
      "outputs": [],
      "source": [
        "# 70 20 10 split\n",
        "# tasks: remap and run data models\n",
        "# baseline from other paper's algorithms\n",
        "# forward models file  "
      ]
    },
    {
      "cell_type": "code",
      "execution_count": null,
      "metadata": {
        "id": "wgXKsBwCRYxa"
      },
      "outputs": [],
      "source": [
        "import pandas as pd\n",
        "import numpy as np\n",
        "\n",
        "import matplotlib.pyplot as plt\n",
        "import seaborn as sns \n",
        "\n",
        "import random\n",
        "import re \n",
        "\n",
        "from sklearn.preprocessing import LabelEncoder\n",
        "from sklearn.model_selection import train_test_split \n",
        "from sklearn.model_selection import StratifiedShuffleSplit\n",
        "from sklearn.metrics import confusion_matrix, classification_report, accuracy_score\n",
        "from sklearn.preprocessing import StandardScaler\n",
        "\n",
        "import tensorflow as tf\n",
        "from keras.utils.np_utils import to_categorical\n",
        "from keras.preprocessing.text import Tokenizer\n",
        "from keras.preprocessing.sequence import pad_sequences \n",
        "\n",
        "import tensorflow as tf \n",
        "import keras\n",
        "from keras.models import Sequential\n",
        "from tensorflow.keras import layers\n",
        "from keras.layers import Dense, Embedding, LSTM, SpatialDropout1D, Input, Conv1D, Flatten, MaxPooling1D, Dropout, GlobalMaxPooling1D, Bidirectional, GRU, CuDNNGRU, Activation, GlobalAveragePooling1D \n",
        "from keras.layers import Dot, Reshape, TimeDistributed, concatenate, BatchNormalization\n",
        "from keras.callbacks import EarlyStopping, ModelCheckpoint\n",
        "from keras.layers.merge import concatenate\n",
        "from keras.models import Model\n",
        "\n",
        "from keras.losses import SparseCategoricalCrossentropy\n",
        "from livelossplot import PlotLossesKeras\n",
        "from keras.callbacks import Callback\n",
        "\n",
        "from transformers import DistilBertTokenizer, TFDistilBertModel, DistilBertConfig \n",
        "from transformers import TFBertModel, BertConfig, BertTokenizer,TFBertForSequenceClassification\n",
        "\n",
        "from keras.utils.vis_utils import plot_model \n",
        "\n",
        "from google.colab import files\n"
      ]
    },
    {
      "cell_type": "code",
      "execution_count": null,
      "metadata": {
        "id": "xo-tELrqS1gB"
      },
      "outputs": [],
      "source": [
        " "
      ]
    },
    {
      "cell_type": "markdown",
      "metadata": {
        "id": "D9J9WjaOS-ds"
      },
      "source": [
        "### Load Data + basic functions"
      ]
    },
    {
      "cell_type": "markdown",
      "metadata": {
        "id": "CYF5mQEH6-60"
      },
      "source": [
        "#### load in data"
      ]
    },
    {
      "cell_type": "code",
      "execution_count": null,
      "metadata": {
        "id": "NLOgRhcqTArD"
      },
      "outputs": [],
      "source": [
        "ASIST_tabular_cols = [ \n",
        "                'Analytic', 'Clout', 'Authentic', 'Tone', 'WPS', 'WC',  \n",
        "                'BigWords', 'Dic', 'Linguistic', 'function', 'pronoun', 'ppron', \n",
        "                'i', 'we', 'you', 'shehe', 'they', 'ipron', 'det', 'article', 'number', \n",
        "                'prep', 'auxverb', 'adverb', 'conj', 'negate', 'verb', 'adj', 'quantity', \n",
        "                'Drives', 'affiliation', 'achieve', 'power', 'Cognition', 'allnone', \n",
        "                'cogproc', 'insight', 'cause', 'discrep', 'tentat', 'certitude', \n",
        "                'differ', 'memory', 'Affect', 'tone_pos', 'tone_neg', 'emo_pos', \n",
        "                'emo_neg', 'emo_anx', 'emo_anger', 'emo_sad', 'swear', 'Social', \n",
        "                'socbehav', 'prosocial', 'polite', 'conflict', 'moral', 'comm', 'socrefs', \n",
        "                'family', 'friend', 'female', 'male', 'Culture', 'politic', 'ethnicity', 'tech',\n",
        "                'Lifestyle', 'leisure', 'home', 'work', 'money', 'relig', 'Physical', \n",
        "                'health', 'illness', 'wellness', 'mental', 'substances', 'sexual', \n",
        "                'food', 'death', 'need', 'want', 'acquire', 'lack', 'fulfill', 'fatigue', \n",
        "                'reward', 'risk', 'curiosity', 'allure', 'Perception', 'attention', 'motion',\n",
        "                'space', 'visual', 'auditory', 'feeling', 'time', 'focuspast', 'focuspresent',\n",
        "                'focusfuture', 'Conversation', 'netspeak', 'assent', 'nonflu', 'filler', 'AllPunc',\n",
        "                'Apostro', 'OtherP', 'voice_probability', 'pcm_loudness', 'F0']\n",
        "\n"
      ]
    },
    {
      "cell_type": "code",
      "execution_count": null,
      "metadata": {
        "id": "7sQaWPAHhHeD"
      },
      "outputs": [],
      "source": [
        "tabular_cols = ['Analytic', 'Clout', 'Authentic', 'Tone', 'WPS', 'BigWords', 'Dic', \n",
        " 'Linguistic', 'function', 'pronoun', 'ppron', 'i', 'we', 'you', 'shehe', \n",
        " 'they', 'ipron', 'det', 'article', 'number', 'prep', 'auxverb', 'adverb', \n",
        " 'conj', 'negate', 'verb', 'adj', 'quantity', 'Drives', 'affiliation', 'achieve', \n",
        " 'power', 'Cognition', 'allnone', 'cogproc', 'insight', 'cause', 'discrep', \n",
        " 'tentat', 'certitude', 'differ', 'memory', 'Affect', 'tone_pos', \n",
        " 'tone_neg', 'emotion', 'emo_pos', 'emo_neg', 'emo_anx', 'emo_anger', \n",
        " 'emo_sad', 'swear', 'Social', 'socbehav', 'prosocial', 'polite', \n",
        " 'conflict', 'moral', 'comm', 'socrefs', 'family', 'friend', \n",
        " 'female', 'male', 'Culture', 'politic', 'ethnicity', 'tech',\n",
        " 'Lifestyle', 'leisure', 'home', 'work', 'money', 'relig', 'Physical', \n",
        " 'health', 'illness', 'wellness', 'mental', 'substances', 'sexual', 'food', \n",
        " 'death', 'need', 'want', 'acquire', 'lack', 'fulfill', 'fatigue', 'reward', \n",
        " 'risk', 'curiosity', 'allure', 'Perception', 'attention', 'motion', 'space', \n",
        " 'visual', 'auditory', 'feeling', 'time', 'focuspast', 'focuspresent', 'focusfuture',\n",
        " 'Conversation', 'netspeak', 'assent', 'nonflu', 'filler', 'AllPunc', 'Period', 'Comma',\n",
        " 'QMark', 'Exclam', 'Apostro', 'OtherP','voice_probability', 'pcm_loudness', 'F0']\n"
      ]
    },
    {
      "cell_type": "code",
      "execution_count": null,
      "metadata": {
        "id": "zj2p_GG8hhrO"
      },
      "outputs": [],
      "source": [
        "# LIWC COLUMNS WHICH ARE NOT IN COMMON IN MISC_ASIST VS CONVEX:\n",
        "## 'emotion', 'Period', 'Comma', 'QMark', 'Exclam' \n"
      ]
    },
    {
      "cell_type": "code",
      "execution_count": null,
      "metadata": {
        "id": "QUvP4bScTMAI"
      },
      "outputs": [],
      "source": [
        "## read data \n",
        "train_data_CONVEX = pd.read_csv('/content/drive/MyDrive/ICANN/Proj-Sentiment-Conversational/Datasets/CONVEX-proj-sentiment-conversational/CONVEX_June28_LIWC_sentiments_annotated.csv')\n",
        "train_auds_CONVEX = pd.read_csv('/content/drive/MyDrive/ICANN/Proj-Sentiment-Conversational/Datasets/CONVEX-proj-sentiment-conversational/CONVEX_June 28_Prosodic_sentiments_annotated.csv')\n",
        "\n",
        "train_auds_CONVEX.set_axis(['ind', 'filename', 'pcm_loudness', 'voice_probability', 'F0','F0_env','F0_all','Study_Number','Search_Task','Content','Sentiment'], axis=1, inplace=True)"
      ]
    },
    {
      "cell_type": "code",
      "execution_count": null,
      "metadata": {
        "id": "_pk0m0eNznkY"
      },
      "outputs": [],
      "source": [
        "df = pd.merge(train_data_CONVEX,train_auds_CONVEX[['pcm_loudness','voice_probability','F0','Content']],on='Content')"
      ]
    },
    {
      "cell_type": "code",
      "execution_count": null,
      "metadata": {
        "colab": {
          "base_uri": "https://localhost:8080/"
        },
        "id": "MP7_xeda66Ed",
        "outputId": "90ca9e3b-efac-45f1-96c7-3f9118528be5"
      },
      "outputs": [
        {
          "name": "stderr",
          "output_type": "stream",
          "text": [
            "[nltk_data] Downloading package stopwords to /root/nltk_data...\n",
            "[nltk_data]   Unzipping corpora/stopwords.zip.\n"
          ]
        }
      ],
      "source": [
        "## text preprocessing\n",
        "\n",
        "from nltk.stem import PorterStemmer\n",
        "import nltk\n",
        "nltk.download('stopwords') \n",
        "from nltk.corpus import stopwords\n",
        "stop_list = stopwords.words('english')  \n",
        "stop_list.extend(['yeah','um'])\n",
        "\n",
        "def preprocess(text):\n",
        "    ## simple cleaning \n",
        "    if type(text)!=str:\n",
        "      return ''\n",
        "    text = text.lower()\n",
        "    text = re.sub(r'[/(){}\\[\\]\\|@,;]',' ',text)\n",
        "    text = ' '.join([w for w in text.split(' ') if w not in stop_list])\n",
        "    #stemmer = PorterStemmer()\n",
        "    #text = ' '.join([stemmer.stem(w) for w in text.split(' ')])\n",
        "\n",
        "    return text  \n",
        "\n",
        "def preprocess_version_2(text):\n",
        "    ## simple cleaning \n",
        "    if type(text)!=str:\n",
        "      return ''\n",
        "    text = text.lower()\n",
        "    #text = re.sub(r'[/(){}\\[\\]\\|@,;]',' ',text)\n",
        "    #text = ' '.join([w for w in text.split(' ') if w not in stop_list])\n",
        "    #stemmer = PorterStemmer()\n",
        "    #text = ' '.join([stemmer.stem(w) for w in text.split(' ')])\n",
        "\n",
        "    return text         "
      ]
    },
    {
      "cell_type": "markdown",
      "metadata": {
        "id": "yv82bZMU7E0b"
      },
      "source": [
        "#### prepare data "
      ]
    },
    {
      "cell_type": "code",
      "execution_count": null,
      "metadata": {
        "id": "Z2du_zpD66JW"
      },
      "outputs": [],
      "source": [
        "  \n",
        "## prepare data \n",
        "\n",
        "df_train, df_test, _, _ = train_test_split(df,df['Sentiment'],test_size=0.2,random_state=1)  \n",
        "\n",
        "def prepareData(data):\n",
        "    encoder = {'Frustration/Upset':0, 'Cautious':1,'Neutral':2, 'Surprise':3,'Content':4}\n",
        "    output_num = len(encoder.keys())\n",
        "\n",
        "    le = data['Sentiment'].apply(lambda x: encoder[x]).values \n",
        "      \n",
        "    out_classes = to_categorical( \n",
        "      le, num_classes=output_num) \n",
        "\n",
        "    data['target'] = [x for x in out_classes]\n",
        "\n",
        "    liwc_aud = data[tabular_cols]\n",
        "    liwc = liwc_aud.drop(['voice_probability', 'pcm_loudness', 'F0'],axis=1).to_numpy()\n",
        "    aud = liwc_aud[['voice_probability', 'pcm_loudness', 'F0']].to_numpy()\n",
        "\n",
        "    text = data['Content'].values\n",
        "\n",
        "    '''\n",
        "      le_t = np.array([encoder[c] for c in text_y])\n",
        "      text_y = to_categorical( \n",
        "        le_t, num_classes=7) \n",
        "    '''\n",
        "\n",
        "    return liwc_aud.to_numpy(), liwc, aud, text, np.array([list(x) for x in data['target'].values]),np.array([list(x) for x in data['target'].values])\n",
        "\n",
        "X_train_tab, X_train_liwc, X_train_aud, X_train_text,y_train_tab,y_train_text = prepareData(df_train)\n",
        "X_test_tab, X_test_liwc, X_test_aud, X_test_text,y_test_tab,y_test_text = prepareData(df_test)\n",
        "\n"
      ]
    },
    {
      "cell_type": "code",
      "execution_count": null,
      "metadata": {
        "id": "rqbVUPSzUm9P"
      },
      "outputs": [],
      "source": [
        "X_train_text = np.array([preprocess_version_2(text) for text in X_train_text])  \n",
        "X_test_text = np.array([preprocess_version_2(text) for text in X_test_text])"
      ]
    },
    {
      "cell_type": "code",
      "execution_count": null,
      "metadata": {
        "colab": {
          "base_uri": "https://localhost:8080/"
        },
        "id": "nXyuG9HrUnb2",
        "outputId": "51813e27-3df8-4907-feb3-b3f2259b35ea"
      },
      "outputs": [
        {
          "data": {
            "text/plain": [
              "((15878, 119), (15878,), (15878, 5), (15878, 5))"
            ]
          },
          "execution_count": 29,
          "metadata": {},
          "output_type": "execute_result"
        }
      ],
      "source": [
        "X_train_tab.shape, X_train_text.shape, y_train_tab.shape, y_train_text.shape"
      ]
    },
    {
      "cell_type": "code",
      "execution_count": null,
      "metadata": {
        "colab": {
          "base_uri": "https://localhost:8080/"
        },
        "id": "MMn7vM9hUszy",
        "outputId": "e4d422b3-25fc-4b2c-ed54-c5bee2e7ad2c"
      },
      "outputs": [
        {
          "data": {
            "text/plain": [
              "((3970, 119), (3970,), (3970, 5), (3970, 5))"
            ]
          },
          "execution_count": 30,
          "metadata": {},
          "output_type": "execute_result"
        }
      ],
      "source": [
        "X_test_tab.shape, X_test_text.shape, y_test_tab.shape, y_test_text.shape "
      ]
    },
    {
      "cell_type": "code",
      "execution_count": null,
      "metadata": {
        "colab": {
          "base_uri": "https://localhost:8080/",
          "height": 339
        },
        "id": "Mom4_S4MUxXy",
        "outputId": "d8fbdbbb-0cb7-4cbf-d533-2b673f72e82f"
      },
      "outputs": [
        {
          "name": "stderr",
          "output_type": "stream",
          "text": [
            "/usr/local/lib/python3.7/dist-packages/seaborn/_decorators.py:43: FutureWarning: Pass the following variable as a keyword arg: x. From version 0.12, the only valid positional argument will be `data`, and passing other arguments without an explicit keyword will result in an error or misinterpretation.\n",
            "  FutureWarning\n"
          ]
        },
        {
          "data": {
            "text/plain": [
              "<matplotlib.axes._subplots.AxesSubplot at 0x7fb589d63790>"
            ]
          },
          "execution_count": 31,
          "metadata": {},
          "output_type": "execute_result"
        },
        {
          "data": {
            "image/png": "[encoded data removed]",
            "text/plain": [
              "<Figure size 432x288 with 1 Axes>"
            ]
          },
          "metadata": {},
          "output_type": "display_data"
        }
      ],
      "source": [
        "sns.countplot([c.argmax() for c in y_train_tab])  "
      ]
    },
    {
      "cell_type": "code",
      "execution_count": null,
      "metadata": {
        "id": "0Jc01CJNUxro"
      },
      "outputs": [],
      "source": [
        ""
      ]
    },
    {
      "cell_type": "code",
      "execution_count": null,
      "metadata": {
        "id": "cD5eD8u_UysJ"
      },
      "outputs": [],
      "source": [
        "def predictions(preds):\n",
        "  z = np.zeros(len(preds))\n",
        "  z[np.argmax(preds)] = 1 \n",
        "  return z\n",
        "  \n",
        "  return z  \n",
        "def evaluate_model(y_true, y_preds):\n",
        "  print(classification_report([np.argmax(y) for y in y_true],[np.argmax(y) for y in y_preds]))\n",
        "  print(confusion_matrix([np.argmax(y) for y in y_true],[np.argmax(y) for y in y_preds]))\n",
        " "
      ]
    },
    {
      "cell_type": "code",
      "execution_count": null,
      "metadata": {
        "id": "jq9PBG2mU8Vi"
      },
      "outputs": [],
      "source": [
        ""
      ]
    },
    {
      "cell_type": "markdown",
      "metadata": {
        "id": "KMeuoWqekN3M"
      },
      "source": [
        "# Check"
      ]
    },
    {
      "cell_type": "code",
      "execution_count": null,
      "metadata": {
        "colab": {
          "base_uri": "https://localhost:8080/"
        },
        "id": "SOI8XxndkNYO",
        "outputId": "5f5aea94-7e1a-480a-b21c-8fc474036df9"
      },
      "outputs": [
        {
          "data": {
            "text/plain": [
              "((15878, 119), (15878,), (15878, 5), (15878, 5))"
            ]
          },
          "execution_count": 33,
          "metadata": {},
          "output_type": "execute_result"
        }
      ],
      "source": [
        "X_train_tab.shape, X_train_text.shape, y_train_tab.shape, y_train_text.shape "
      ]
    },
    {
      "cell_type": "code",
      "execution_count": null,
      "metadata": {
        "id": "7fE-f8vzkQfc"
      },
      "outputs": [],
      "source": [
        "X_train_tab[0], X_train_text[0], y_train_tab[0]"
      ]
    },
    {
      "cell_type": "code",
      "execution_count": null,
      "metadata": {
        "colab": {
          "base_uri": "https://localhost:8080/",
          "height": 339
        },
        "id": "aRvZnBWYkQnQ",
        "outputId": "3af8cc43-3b8a-4d67-f6cd-d9c2828ac3eb"
      },
      "outputs": [
        {
          "name": "stderr",
          "output_type": "stream",
          "text": [
            "/usr/local/lib/python3.7/dist-packages/seaborn/_decorators.py:43: FutureWarning: Pass the following variable as a keyword arg: x. From version 0.12, the only valid positional argument will be `data`, and passing other arguments without an explicit keyword will result in an error or misinterpretation.\n",
            "  FutureWarning\n"
          ]
        },
        {
          "data": {
            "text/plain": [
              "<matplotlib.axes._subplots.AxesSubplot at 0x7fb589bb4210>"
            ]
          },
          "execution_count": 35,
          "metadata": {},
          "output_type": "execute_result"
        },
        {
          "data": {
            "image/png": "[encoded data removed]",
            "text/plain": [
              "<Figure size 432x288 with 1 Axes>"
            ]
          },
          "metadata": {},
          "output_type": "display_data"
        }
      ],
      "source": [
        "sns.countplot([np.argmax(c) for c in y_train_text]) ## heavily imbalanced [neutral]"
      ]
    },
    {
      "cell_type": "markdown",
      "metadata": {
        "id": "lXwii4UrU-xV"
      },
      "source": [
        "# Models (Text)"
      ]
    },
    {
      "cell_type": "code",
      "execution_count": null,
      "metadata": {
        "id": "aTfAPzmVVAHv"
      },
      "outputs": [],
      "source": [
        ""
      ]
    },
    {
      "cell_type": "markdown",
      "metadata": {
        "id": "yqTF8QCiVBEt"
      },
      "source": [
        "BERT [fine tune by itsself]"
      ]
    },
    {
      "cell_type": "code",
      "execution_count": null,
      "metadata": {
        "id": "eOkl3DK3VGSs"
      },
      "outputs": [],
      "source": [
        "def tokenize_bert(X_train_text,y_train_text, tokenizer):\n",
        "  \n",
        "\n",
        "  input_ids=[]\n",
        "  attention_masks=[]\n",
        "\n",
        "  for sent in X_train_text:\n",
        "      bert_inp=tokenizer.encode_plus(sent,add_special_tokens = True,max_length =100,pad_to_max_length = True,return_attention_mask = True)\n",
        "      input_ids.append(bert_inp['input_ids'])\n",
        "      attention_masks.append(bert_inp['attention_mask']) \n",
        "  \n",
        "  input_ids=np.asarray(input_ids)\n",
        "  attention_masks=np.array(attention_masks)\n",
        "  labels=np.array([np.argmax(c) for c in y_train_text]) \n",
        "\n",
        "  return input_ids, attention_masks, labels \n"
      ]
    },
    {
      "cell_type": "code",
      "execution_count": null,
      "metadata": {
        "id": "Pph23FEBZ3bp"
      },
      "outputs": [],
      "source": [
        "def train_bert(X_train_text, X_test_text, y_train_text, y_test_text, name, model, tokenizer):\n",
        "  X_train_input_ids, X_train_attention_masks, y_train_labels = tokenize_bert(X_train_text,y_train_text, tokenizer)\n",
        "  X_test_input_ids, X_test_attention_masks, y_test_labels = tokenize_bert(X_test_text,y_test_text,tokenizer)  \n",
        "  \n",
        "  model_bert = model\n",
        "  model_bert.compile(\n",
        "      optimizer=tf.keras.optimizers.Adam(learning_rate=3e-5,epsilon=1e-08,clipnorm=1.0),\n",
        "      loss=SparseCategoricalCrossentropy(from_logits=True),\n",
        "      metrics=[\"accuracy\"],\n",
        "  )  \n",
        "\n",
        "  model_bert.fit( \n",
        "      [X_train_input_ids,X_train_attention_masks], y_train_labels, \n",
        "      epochs=4, \n",
        "      batch_size=64,  \n",
        "      callbacks = [PlotLossesKeras()],\n",
        "      validation_split=0.2\n",
        "  )\n",
        "  # model.save_weights(name ) \n",
        "  model_bert.save_weights(\n",
        "    name, overwrite=True, save_format='h5', options=None\n",
        ")\n",
        "  # files.download('/content/'+name) \n",
        "\n",
        "  \n",
        "  ## loading weights for predicting\n",
        "  model_bert = model\n",
        "  model_bert.compile(\n",
        "      optimizer=tf.keras.optimizers.Adam(learning_rate=3e-5,epsilon=1e-08,clipnorm=1.0),\n",
        "      loss=SparseCategoricalCrossentropy(from_logits=True),\n",
        "      metrics=[\"accuracy\"]\n",
        "  )  \n",
        "\n",
        "  model_bert.load_weights('/content/'+name)\n",
        "  pred_bert = model_bert.predict([X_test_input_ids, X_test_attention_masks])\n",
        "  print(evaluate_model(y_test_text, np.array(tf.nn.softmax(pred_bert[0])))) \n",
        "\n",
        "  return model_bert \n",
        "  "
      ]
    },
    {
      "cell_type": "code",
      "execution_count": null,
      "metadata": {
        "id": "yM5Ns43Jn8IV"
      },
      "outputs": [],
      "source": [
        "from transformers import TFRobertaForSequenceClassification, RobertaTokenizer  "
      ]
    },
    {
      "cell_type": "code",
      "execution_count": null,
      "metadata": {
        "colab": {
          "base_uri": "https://localhost:8080/",
          "height": 1000
        },
        "id": "M0QDs0-M2u4o",
        "outputId": "4a0f125f-605a-449d-f4d5-8ad4679cab1e"
      },
      "outputs": [
        {
          "data": {
            "image/png": "[encoded data removed]",
            "text/plain": [
              "<Figure size 864x576 with 2 Axes>"
            ]
          },
          "metadata": {},
          "output_type": "display_data"
        },
        {
          "name": "stdout",
          "output_type": "stream",
          "text": [
            "accuracy\n",
            "\ttraining         \t (min:    0.946, max:    0.949, cur:    0.949)\n",
            "\tvalidation       \t (min:    0.939, max:    0.942, cur:    0.939)\n",
            "Loss\n",
            "\ttraining         \t (min:    0.160, max:    0.236, cur:    0.160)\n",
            "\tvalidation       \t (min:    0.179, max:    0.187, cur:    0.179)\n",
            "\b\b\b\b\b\b\b\b\b\b\b\b\b\b\b\b\b\b\b\b\b\b\b\b\b\b\b\b\b\b\b\b\b\b\b\b\b\b\b\b\b\b\b\b\b\b\b\b\b\b\b\b\b\b\b\b\b\b\b\b\b\b\b\b\b\b\b\b\b\b\b\b\b\b\b\b\b\b\b\b\b\b\b\b\r199/199 [==============================] - 158s 792ms/step - loss: 0.1597 - accuracy: 0.9491 - val_loss: 0.1785 - val_accuracy: 0.9392\n",
            "              precision    recall  f1-score   support\n",
            "\n",
            "           0       0.35      0.07      0.11       133\n",
            "           1       0.00      0.00      0.00         2\n",
            "           2       0.96      1.00      0.98      3786\n",
            "           3       0.00      0.00      0.00         2\n",
            "           4       0.00      0.00      0.00        47\n",
            "\n",
            "    accuracy                           0.95      3970\n",
            "   macro avg       0.26      0.21      0.22      3970\n",
            "weighted avg       0.92      0.95      0.93      3970\n",
            "\n",
            "[[   9    0  124    0    0]\n",
            " [   0    0    2    0    0]\n",
            " [  17    1 3768    0    0]\n",
            " [   0    0    2    0    0]\n",
            " [   0    0   47    0    0]]\n",
            "None\n"
          ]
        },
        {
          "name": "stderr",
          "output_type": "stream",
          "text": [
            "/usr/local/lib/python3.7/dist-packages/sklearn/metrics/_classification.py:1318: UndefinedMetricWarning: Precision and F-score are ill-defined and being set to 0.0 in labels with no predicted samples. Use `zero_division` parameter to control this behavior.\n",
            "  _warn_prf(average, modifier, msg_start, len(result))\n",
            "/usr/local/lib/python3.7/dist-packages/sklearn/metrics/_classification.py:1318: UndefinedMetricWarning: Precision and F-score are ill-defined and being set to 0.0 in labels with no predicted samples. Use `zero_division` parameter to control this behavior.\n",
            "  _warn_prf(average, modifier, msg_start, len(result))\n",
            "/usr/local/lib/python3.7/dist-packages/sklearn/metrics/_classification.py:1318: UndefinedMetricWarning: Precision and F-score are ill-defined and being set to 0.0 in labels with no predicted samples. Use `zero_division` parameter to control this behavior.\n",
            "  _warn_prf(average, modifier, msg_start, len(result))\n"
          ]
        }
      ],
      "source": [
        "model_bert = train_bert(X_train_text, X_test_text, y_train_text, y_test_text, \n",
        "           'bert_base_ft_CONVEX_v1',TFBertForSequenceClassification.from_pretrained('bert-base-uncased',num_labels=5),\n",
        "            BertTokenizer.from_pretrained('bert-base-uncased') \n",
        ") \n"
      ]
    },
    {
      "cell_type": "code",
      "execution_count": null,
      "metadata": {
        "colab": {
          "base_uri": "https://localhost:8080/",
          "height": 1000
        },
        "id": "Bi4DYDD9M549",
        "outputId": "390afd3f-692b-474a-83f2-dfb6417b8150"
      },
      "outputs": [
        {
          "data": {
            "image/png": "[encoded data removed]",
            "text/plain": [
              "<Figure size 864x576 with 2 Axes>"
            ]
          },
          "metadata": {},
          "output_type": "display_data"
        },
        {
          "name": "stdout",
          "output_type": "stream",
          "text": [
            "accuracy\n",
            "\ttraining         \t (min:    0.943, max:    0.949, cur:    0.949)\n",
            "\tvalidation       \t (min:    0.942, max:    0.942, cur:    0.942)\n",
            "Loss\n",
            "\ttraining         \t (min:    0.158, max:    0.238, cur:    0.158)\n",
            "\tvalidation       \t (min:    0.176, max:    0.190, cur:    0.176)\n",
            "\b\b\b\b\b\b\b\b\b\b\b\b\b\b\b\b\b\b\b\b\b\b\b\b\b\b\b\b\b\b\b\b\b\b\b\b\b\b\b\b\b\b\b\b\b\b\b\b\b\b\b\b\b\b\b\b\b\b\b\b\b\b\b\b\b\b\b\b\b\b\b\b\b\b\b\b\b\b\b\b\b\b\b\b\r199/199 [==============================] - 157s 791ms/step - loss: 0.1579 - accuracy: 0.9490 - val_loss: 0.1763 - val_accuracy: 0.9421\n",
            "              precision    recall  f1-score   support\n",
            "\n",
            "           0       0.00      0.00      0.00       133\n",
            "           1       0.00      0.00      0.00         2\n",
            "           2       0.95      1.00      0.98      3786\n",
            "           3       0.00      0.00      0.00         2\n",
            "           4       0.00      0.00      0.00        47\n",
            "\n",
            "    accuracy                           0.95      3970\n",
            "   macro avg       0.19      0.20      0.20      3970\n",
            "weighted avg       0.91      0.95      0.93      3970\n",
            "\n",
            "[[   0    0  133    0    0]\n",
            " [   0    0    2    0    0]\n",
            " [   1    0 3785    0    0]\n",
            " [   0    0    2    0    0]\n",
            " [   0    0   47    0    0]]\n",
            "None\n"
          ]
        },
        {
          "name": "stderr",
          "output_type": "stream",
          "text": [
            "/usr/local/lib/python3.7/dist-packages/sklearn/metrics/_classification.py:1318: UndefinedMetricWarning: Precision and F-score are ill-defined and being set to 0.0 in labels with no predicted samples. Use `zero_division` parameter to control this behavior.\n",
            "  _warn_prf(average, modifier, msg_start, len(result))\n",
            "/usr/local/lib/python3.7/dist-packages/sklearn/metrics/_classification.py:1318: UndefinedMetricWarning: Precision and F-score are ill-defined and being set to 0.0 in labels with no predicted samples. Use `zero_division` parameter to control this behavior.\n",
            "  _warn_prf(average, modifier, msg_start, len(result))\n",
            "/usr/local/lib/python3.7/dist-packages/sklearn/metrics/_classification.py:1318: UndefinedMetricWarning: Precision and F-score are ill-defined and being set to 0.0 in labels with no predicted samples. Use `zero_division` parameter to control this behavior.\n",
            "  _warn_prf(average, modifier, msg_start, len(result))\n"
          ]
        }
      ],
      "source": [
        "model_bert = train_bert(X_train_text, X_test_text, y_train_text, y_test_text, \n",
        "           'bert_base_ft_CONVEX_v2',TFBertForSequenceClassification.from_pretrained('bert-base-uncased',num_labels=5),\n",
        "            BertTokenizer.from_pretrained('bert-base-uncased') \n",
        ") \n",
        " "
      ]
    },
    {
      "cell_type": "code",
      "execution_count": null,
      "metadata": {
        "colab": {
          "base_uri": "https://localhost:8080/",
          "height": 1000
        },
        "id": "S52qU3iGWTA_",
        "outputId": "7ea32727-52a6-4676-ad4f-178692402944"
      },
      "outputs": [
        {
          "data": {
            "image/png": "[encoded data removed]",
            "text/plain": [
              "<Figure size 864x576 with 2 Axes>"
            ]
          },
          "metadata": {},
          "output_type": "display_data"
        },
        {
          "name": "stdout",
          "output_type": "stream",
          "text": [
            "accuracy\n",
            "\ttraining         \t (min:    0.937, max:    0.950, cur:    0.950)\n",
            "\tvalidation       \t (min:    0.940, max:    0.942, cur:    0.942)\n",
            "Loss\n",
            "\ttraining         \t (min:    0.161, max:    0.266, cur:    0.161)\n",
            "\tvalidation       \t (min:    0.182, max:    0.194, cur:    0.182)\n",
            "\b\b\b\b\b\b\b\b\b\b\b\b\b\b\b\b\b\b\b\b\b\b\b\b\b\b\b\b\b\b\b\b\b\b\b\b\b\b\b\b\b\b\b\b\b\b\b\b\b\b\b\b\b\b\b\b\b\b\b\b\b\b\b\b\b\b\b\b\b\b\b\b\b\b\b\b\b\b\b\b\b\b\b\b\r199/199 [==============================] - 157s 791ms/step - loss: 0.1610 - accuracy: 0.9496 - val_loss: 0.1819 - val_accuracy: 0.9421\n",
            "              precision    recall  f1-score   support\n",
            "\n",
            "           0       0.00      0.00      0.00       133\n",
            "           1       0.00      0.00      0.00         2\n",
            "           2       0.95      1.00      0.98      3786\n",
            "           3       0.00      0.00      0.00         2\n",
            "           4       0.00      0.00      0.00        47\n",
            "\n",
            "    accuracy                           0.95      3970\n",
            "   macro avg       0.19      0.20      0.20      3970\n",
            "weighted avg       0.91      0.95      0.93      3970\n",
            "\n",
            "[[   0    0  133    0    0]\n",
            " [   0    0    2    0    0]\n",
            " [   0    0 3786    0    0]\n",
            " [   0    0    2    0    0]\n",
            " [   0    0   47    0    0]]\n",
            "None\n"
          ]
        },
        {
          "name": "stderr",
          "output_type": "stream",
          "text": [
            "/usr/local/lib/python3.7/dist-packages/sklearn/metrics/_classification.py:1318: UndefinedMetricWarning: Precision and F-score are ill-defined and being set to 0.0 in labels with no predicted samples. Use `zero_division` parameter to control this behavior.\n",
            "  _warn_prf(average, modifier, msg_start, len(result))\n",
            "/usr/local/lib/python3.7/dist-packages/sklearn/metrics/_classification.py:1318: UndefinedMetricWarning: Precision and F-score are ill-defined and being set to 0.0 in labels with no predicted samples. Use `zero_division` parameter to control this behavior.\n",
            "  _warn_prf(average, modifier, msg_start, len(result))\n",
            "/usr/local/lib/python3.7/dist-packages/sklearn/metrics/_classification.py:1318: UndefinedMetricWarning: Precision and F-score are ill-defined and being set to 0.0 in labels with no predicted samples. Use `zero_division` parameter to control this behavior.\n",
            "  _warn_prf(average, modifier, msg_start, len(result))\n"
          ]
        },
        {
          "data": {
            "application/vnd.google.colaboratory.intrinsic+json": {
              "type": "string"
            },
            "text/plain": [
              "'\\n              precision    recall  f1-score   support\\n\\n           0       0.02      0.08      0.03        25\\n           1       0.00      0.00      0.00       119\\n           2       0.31      0.18      0.23       383\\n           3       1.00      0.02      0.03       243\\n           4       0.02      0.16      0.04        19\\n           5       0.51      0.68      0.58       758\\n           6       0.00      0.00      0.00         0\\n\\n    accuracy                           0.38      1547\\n   macro avg       0.27      0.16      0.13      1547\\nweighted avg       0.48      0.38      0.35      1547\\n\\n[[  2   0   3   0   4  16   0]\\n [ 16   0   5   0  18  80   0]\\n [ 38   0  69   0  20 246  10]\\n [  8   0  56   4  29 137   9]\\n [  1   0   4   0   3  11   0]\\n [ 61   0  87   0  74 514  22]\\n [  0   0   0   0   0   0   0]]\\n\\n'"
            ]
          },
          "execution_count": 43,
          "metadata": {},
          "output_type": "execute_result"
        }
      ],
      "source": [
        "model_bert = train_bert(X_train_text, X_test_text, y_train_text, y_test_text, \n",
        "           'bert_base_CONVEX_v3',TFBertForSequenceClassification.from_pretrained('bert-base-uncased',num_labels=5),\n",
        "            BertTokenizer.from_pretrained('bert-base-uncased') \n",
        ") \n",
        "\n",
        "## output\n",
        "'''\n",
        "              precision    recall  f1-score   support\n",
        "\n",
        "           0       0.02      0.08      0.03        25\n",
        "           1       0.00      0.00      0.00       119\n",
        "           2       0.31      0.18      0.23       383\n",
        "           3       1.00      0.02      0.03       243\n",
        "           4       0.02      0.16      0.04        19\n",
        "           5       0.51      0.68      0.58       758\n",
        "           6       0.00      0.00      0.00         0\n",
        "\n",
        "    accuracy                           0.38      1547\n",
        "   macro avg       0.27      0.16      0.13      1547\n",
        "weighted avg       0.48      0.38      0.35      1547\n",
        "\n",
        "[[  2   0   3   0   4  16   0]\n",
        " [ 16   0   5   0  18  80   0]\n",
        " [ 38   0  69   0  20 246  10]\n",
        " [  8   0  56   4  29 137   9]\n",
        " [  1   0   4   0   3  11   0]\n",
        " [ 61   0  87   0  74 514  22]\n",
        " [  0   0   0   0   0   0   0]]\n",
        "\n",
        "'''"
      ]
    },
    {
      "cell_type": "code",
      "execution_count": null,
      "metadata": {
        "colab": {
          "base_uri": "https://localhost:8080/",
          "height": 698
        },
        "id": "uTQreHM2Wx1o",
        "outputId": "2692d7c9-01ed-4810-f600-03e90233ca2a"
      },
      "outputs": [
        {
          "name": "stderr",
          "output_type": "stream",
          "text": [
            "All model checkpoint layers were used when initializing TFBertForSequenceClassification.\n",
            "\n",
            "Some layers of TFBertForSequenceClassification were not initialized from the model checkpoint at bert-base-uncased and are newly initialized: ['classifier']\n",
            "You should probably TRAIN this model on a down-stream task to be able to use it for predictions and inference.\n",
            "Truncation was not explicitly activated but `max_length` is provided a specific value, please use `truncation=True` to explicitly truncate examples to max length. Defaulting to 'longest_first' truncation strategy. If you encode pairs of sequences (GLUE-style) with the tokenizer you can select this strategy more precisely by providing a specific strategy to `truncation`.\n",
            "/usr/local/lib/python3.7/dist-packages/transformers/tokenization_utils_base.py:2307: FutureWarning: The `pad_to_max_length` argument is deprecated and will be removed in a future version, use `padding=True` or `padding='longest'` to pad to the longest sequence in the batch, or use `padding='max_length'` to pad to a max length. In this case, you can give a specific length with `max_length` (e.g. `max_length=45`) or leave max_length to None to pad to the maximal input size of the model (e.g. 512 for Bert).\n",
            "  FutureWarning,\n"
          ]
        },
        {
          "name": "stdout",
          "output_type": "stream",
          "text": [
            "              precision    recall  f1-score   support\n",
            "\n",
            "           0       0.15      0.07      0.09       133\n",
            "           1       0.00      0.00      0.00         2\n",
            "           2       1.00      0.00      0.00      3786\n",
            "           3       0.00      0.00      0.00         2\n",
            "           4       0.01      1.00      0.02        47\n",
            "\n",
            "    accuracy                           0.01      3970\n",
            "   macro avg       0.23      0.21      0.02      3970\n",
            "weighted avg       0.96      0.01      0.00      3970\n",
            "\n",
            "[[   9    0    0    0  124]\n",
            " [   1    0    0    0    1]\n",
            " [  50    0    1    0 3735]\n",
            " [   1    0    0    0    1]\n",
            " [   0    0    0    0   47]]\n"
          ]
        },
        {
          "name": "stderr",
          "output_type": "stream",
          "text": [
            "/usr/local/lib/python3.7/dist-packages/sklearn/metrics/_classification.py:1318: UndefinedMetricWarning: Precision and F-score are ill-defined and being set to 0.0 in labels with no predicted samples. Use `zero_division` parameter to control this behavior.\n",
            "  _warn_prf(average, modifier, msg_start, len(result))\n",
            "/usr/local/lib/python3.7/dist-packages/sklearn/metrics/_classification.py:1318: UndefinedMetricWarning: Precision and F-score are ill-defined and being set to 0.0 in labels with no predicted samples. Use `zero_division` parameter to control this behavior.\n",
            "  _warn_prf(average, modifier, msg_start, len(result))\n",
            "/usr/local/lib/python3.7/dist-packages/sklearn/metrics/_classification.py:1318: UndefinedMetricWarning: Precision and F-score are ill-defined and being set to 0.0 in labels with no predicted samples. Use `zero_division` parameter to control this behavior.\n",
            "  _warn_prf(average, modifier, msg_start, len(result))\n"
          ]
        },
        {
          "data": {
            "application/vnd.google.colaboratory.intrinsic+json": {
              "type": "string"
            },
            "text/plain": [
              "'\\n              precision    recall  f1-score   support\\n\\n           0       0.00      0.00      0.00        25\\n           1       0.11      0.13      0.12       119\\n           2       0.36      0.01      0.02       383\\n           3       0.00      0.00      0.00       243\\n           4       0.02      0.42      0.03        19\\n           5       0.48      0.01      0.03       758\\n           6       0.00      0.00      0.00         0\\n\\n    accuracy                           0.03      1547\\n   macro avg       0.14      0.08      0.03      1547\\nweighted avg       0.33      0.03      0.03      1547\\n\\n[[  0   4   0   0   3   0  18]\\n [  0  16   1   0  32   0  70]\\n [  0  37   4   0 125   8 209]\\n [  0  20   0   0  77   3 143]\\n [  0   3   0   0   8   1   7]\\n [  0  66   6   0 206  11 469]\\n [  0   0   0   0   0   0   0]] \\n'"
            ]
          },
          "execution_count": 46,
          "metadata": {},
          "output_type": "execute_result"
        }
      ],
      "source": [
        "## base bert without further training for comparison\n",
        "model_bert_BASE = TFBertForSequenceClassification.from_pretrained('bert-base-uncased',num_labels=5)\n",
        "X_test_input_ids, X_test_attention_masks, y_test_labels = tokenize_bert(X_test_text,y_test_text, BertTokenizer.from_pretrained('bert-base-uncased')) \n",
        "pred_bert_BASE = model_bert_BASE.predict([X_test_input_ids,X_test_attention_masks])\n",
        "evaluate_model(y_test_text, np.array(tf.nn.softmax(pred_bert_BASE[0])))  \n",
        "\n",
        "## output\n",
        "'''\n",
        "              precision    recall  f1-score   support\n",
        "\n",
        "           0       0.00      0.00      0.00        25\n",
        "           1       0.11      0.13      0.12       119\n",
        "           2       0.36      0.01      0.02       383\n",
        "           3       0.00      0.00      0.00       243\n",
        "           4       0.02      0.42      0.03        19\n",
        "           5       0.48      0.01      0.03       758\n",
        "           6       0.00      0.00      0.00         0\n",
        "\n",
        "    accuracy                           0.03      1547\n",
        "   macro avg       0.14      0.08      0.03      1547\n",
        "weighted avg       0.33      0.03      0.03      1547\n",
        "\n",
        "[[  0   4   0   0   3   0  18]\n",
        " [  0  16   1   0  32   0  70]\n",
        " [  0  37   4   0 125   8 209]\n",
        " [  0  20   0   0  77   3 143]\n",
        " [  0   3   0   0   8   1   7]\n",
        " [  0  66   6   0 206  11 469]\n",
        " [  0   0   0   0   0   0   0]] \n",
        "'''"
      ]
    },
    {
      "cell_type": "code",
      "execution_count": null,
      "metadata": {
        "id": "RFpyeOBXZIq4"
      },
      "outputs": [],
      "source": [
        "   "
      ]
    },
    {
      "cell_type": "markdown",
      "metadata": {
        "id": "eRamC60MZN_g"
      },
      "source": [
        "### [BERT, DistilBERT, RoBERTa...] Embedding + [BiLSTM, BiGRU...]"
      ]
    },
    {
      "cell_type": "code",
      "execution_count": null,
      "metadata": {
        "id": "JBeE8QLCZX1G"
      },
      "outputs": [],
      "source": [
        "# tokenizes + attention mask \n",
        "\n",
        "max_seq = 112\n",
        "\n",
        "def tokenize(sentences, tokenizer):\n",
        "\n",
        "    input_ids, input_masks, input_segments = [], [], []\n",
        "    for sentence in sentences:\n",
        "        inputs = tokenizer.encode_plus(sentence, \n",
        "                                        max_length=max_seq, \n",
        "                                        pad_to_max_length=True, \n",
        "                                        return_attention_mask=True, \n",
        "                                        return_token_type_ids=True, \n",
        "                                        truncation=True)\n",
        "        input_ids.append(inputs['input_ids'])\n",
        "        input_masks.append(inputs['attention_mask'])\n",
        "        input_segments.append(inputs['token_type_ids'])        \n",
        "          \n",
        "    return np.asarray(input_ids, dtype='int32'), np.asarray(input_masks, dtype='int32') \n",
        "\n"
      ]
    },
    {
      "cell_type": "code",
      "execution_count": null,
      "metadata": {
        "id": "jU0t48THuUlx"
      },
      "outputs": [],
      "source": [
        "from keras.layers import Input, Bidirectional, LSTM, GlobalMaxPool1D,Dense,Dropout\n",
        "from keras import Model"
      ]
    },
    {
      "cell_type": "code",
      "execution_count": null,
      "metadata": {
        "id": "4qnlMUzSbmgP"
      },
      "outputs": [],
      "source": [
        "## Model - BERT + Bidirectional LSTM w/ Attention\n",
        "def train_bert_bilstm(X_train, y_train, X_test, y_test, model,path_for_ft,tokenizer, ver,outdim=5):\n",
        "  \n",
        "  X_train_encoding = tokenize(X_train, tokenizer)\n",
        "  X_test_encoding = tokenize(X_test, tokenizer)\n",
        "\n",
        "  BERT = model \n",
        "  BERT.load_weights(path_for_ft)\n",
        "  BERT = BERT.layers[0]\n",
        "  \n",
        "  ## set up model architecture\n",
        "\n",
        "  input_ids_in = Input(shape=(max_seq,), name='input_token', dtype='int32')\n",
        "  input_masks_in = Input(shape=(max_seq,), name='masked_token', dtype='int32') \n",
        "\n",
        "\n",
        "  embedding_layer = BERT(input_ids = input_ids_in, attention_mask = input_masks_in)[0]\n",
        "  X = Bidirectional(keras.layers.LSTM(128, return_sequences=True))(embedding_layer)\n",
        "  X = GlobalMaxPool1D()(X) \n",
        "  X = Dense(64, activation='relu')(X)\n",
        "  X = Dropout(0.2)(X)\n",
        "  X = Dense(outdim, activation='softmax')(X)\n",
        "\n",
        "  model = Model(inputs=[input_ids_in, input_masks_in], outputs = X)\n",
        "\n",
        "  for layer in model.layers[:3]:\n",
        "      layer.trainable = False\n",
        "\n",
        "  model.summary()   \n",
        "  model.compile(loss='categorical_crossentropy', optimizer=tf.keras.optimizers.Adam(1e-5), metrics=['accuracy'])\n",
        "\n",
        "  #checkpt = ModelCheckpoint(ver + '.h5', monitor=\"val_recall\", mode='min', save_best_only=True)\n",
        "  \n",
        "  history = model.fit(X_train_encoding,  \n",
        "                      y_train,\n",
        "                      epochs = 8,\n",
        "                      batch_size=32,\n",
        "                      validation_split=0.1,callbacks=[PlotLossesKeras()]) #,checkpt])\n",
        "  \n",
        "  pred_bert = model.predict(X_test_encoding) \n",
        "  #pred_bert = [predictions(p) for p in pred_bert]\n",
        "  evaluate_model(y_test, pred_bert)\n",
        "  \n",
        "  model.save(ver) \n"
      ]
    },
    {
      "cell_type": "code",
      "execution_count": null,
      "metadata": {
        "colab": {
          "base_uri": "https://localhost:8080/",
          "height": 1000
        },
        "id": "X5sLNDqacs-d",
        "outputId": "e42f185a-4bfa-4b2d-88a9-d3e1dcba8260"
      },
      "outputs": [
        {
          "data": {
            "image/png": "[encoded data removed]",
            "text/plain": [
              "<Figure size 864x576 with 2 Axes>"
            ]
          },
          "metadata": {},
          "output_type": "display_data"
        },
        {
          "name": "stdout",
          "output_type": "stream",
          "text": [
            "accuracy\n",
            "\ttraining         \t (min:    0.906, max:    0.948, cur:    0.948)\n",
            "\tvalidation       \t (min:    0.941, max:    0.941, cur:    0.941)\n",
            "Loss\n",
            "\ttraining         \t (min:    0.189, max:    0.500, cur:    0.190)\n",
            "\tvalidation       \t (min:    0.196, max:    0.256, cur:    0.196)\n",
            "\b\b\b\b\b\b\b\b\b\b\b\b\b\b\b\b\b\b\b\b\b\b\b\b\b\b\b\b\b\b\b\b\b\b\b\b\b\b\b\b\b\b\b\b\b\b\b\b\b\b\b\b\b\b\b\b\b\b\b\b\b\b\b\b\b\b\b\b\b\b\b\b\b\b\b\b\b\b\b\b\b\b\b\b\r447/447 [==============================] - 93s 208ms/step - loss: 0.1899 - accuracy: 0.9485 - val_loss: 0.1962 - val_accuracy: 0.9414\n"
          ]
        },
        {
          "name": "stderr",
          "output_type": "stream",
          "text": [
            "/usr/local/lib/python3.7/dist-packages/sklearn/metrics/_classification.py:1318: UndefinedMetricWarning: Precision and F-score are ill-defined and being set to 0.0 in labels with no predicted samples. Use `zero_division` parameter to control this behavior.\n",
            "  _warn_prf(average, modifier, msg_start, len(result))\n",
            "/usr/local/lib/python3.7/dist-packages/sklearn/metrics/_classification.py:1318: UndefinedMetricWarning: Precision and F-score are ill-defined and being set to 0.0 in labels with no predicted samples. Use `zero_division` parameter to control this behavior.\n",
            "  _warn_prf(average, modifier, msg_start, len(result))\n",
            "/usr/local/lib/python3.7/dist-packages/sklearn/metrics/_classification.py:1318: UndefinedMetricWarning: Precision and F-score are ill-defined and being set to 0.0 in labels with no predicted samples. Use `zero_division` parameter to control this behavior.\n",
            "  _warn_prf(average, modifier, msg_start, len(result))\n"
          ]
        },
        {
          "name": "stdout",
          "output_type": "stream",
          "text": [
            "              precision    recall  f1-score   support\n",
            "\n",
            "           0       0.00      0.00      0.00       133\n",
            "           1       0.00      0.00      0.00         2\n",
            "           2       0.95      1.00      0.98      3786\n",
            "           3       0.00      0.00      0.00         2\n",
            "           4       0.00      0.00      0.00        47\n",
            "\n",
            "    accuracy                           0.95      3970\n",
            "   macro avg       0.19      0.20      0.20      3970\n",
            "weighted avg       0.91      0.95      0.93      3970\n",
            "\n",
            "[[   0    0  133    0    0]\n",
            " [   0    0    2    0    0]\n",
            " [   0    0 3786    0    0]\n",
            " [   0    0    2    0    0]\n",
            " [   0    0   47    0    0]]\n"
          ]
        },
        {
          "name": "stderr",
          "output_type": "stream",
          "text": [
            "WARNING:absl:Found untraced functions such as embeddings_layer_call_fn, embeddings_layer_call_and_return_conditional_losses, encoder_layer_call_fn, encoder_layer_call_and_return_conditional_losses, pooler_layer_call_fn while saving (showing 5 of 424). These functions will not be directly callable after loading.\n"
          ]
        },
        {
          "name": "stdout",
          "output_type": "stream",
          "text": [
            "INFO:tensorflow:Assets written to: bert_bilstm_CONVEX_ver1/assets\n"
          ]
        },
        {
          "name": "stderr",
          "output_type": "stream",
          "text": [
            "INFO:tensorflow:Assets written to: bert_bilstm_CONVEX_ver1/assets\n",
            "WARNING:absl:<keras.layers.recurrent.LSTMCell object at 0x7fb5006b9490> has the same name 'LSTMCell' as a built-in Keras object. Consider renaming <class 'keras.layers.recurrent.LSTMCell'> to avoid naming conflicts when loading with `tf.keras.models.load_model`. If renaming is not possible, pass the object in the `custom_objects` parameter of the load function.\n",
            "WARNING:absl:<keras.layers.recurrent.LSTMCell object at 0x7fb1aef56790> has the same name 'LSTMCell' as a built-in Keras object. Consider renaming <class 'keras.layers.recurrent.LSTMCell'> to avoid naming conflicts when loading with `tf.keras.models.load_model`. If renaming is not possible, pass the object in the `custom_objects` parameter of the load function.\n"
          ]
        }
      ],
      "source": [
        "train_bert_bilstm(X_train_text, y_train_text, X_test_text, y_test_text,\n",
        "                  TFBertForSequenceClassification.from_pretrained('bert-base-uncased',num_labels=5),\n",
        "                  '/content/bert_base_ft_CONVEX_v1',BertTokenizer.from_pretrained('bert-base-cased'),'bert_bilstm_CONVEX_ver1')\n",
        "\n"
      ]
    },
    {
      "cell_type": "code",
      "execution_count": null,
      "metadata": {
        "colab": {
          "base_uri": "https://localhost:8080/",
          "height": 1000
        },
        "id": "HnTR8US4G50y",
        "outputId": "4545e74d-e5f1-4b54-da1b-8e89097e2e24"
      },
      "outputs": [
        {
          "data": {
            "image/png": "[encoded data removed]",
            "text/plain": [
              "<Figure size 864x576 with 2 Axes>"
            ]
          },
          "metadata": {},
          "output_type": "display_data"
        },
        {
          "name": "stdout",
          "output_type": "stream",
          "text": [
            "accuracy\n",
            "\ttraining         \t (min:    0.943, max:    0.949, cur:    0.949)\n",
            "\tvalidation       \t (min:    0.941, max:    0.942, cur:    0.942)\n",
            "Loss\n",
            "\ttraining         \t (min:    0.163, max:    0.221, cur:    0.163)\n",
            "\tvalidation       \t (min:    0.175, max:    0.196, cur:    0.175)\n",
            "\b\b\b\b\b\b\b\b\b\b\b\b\b\b\b\b\b\b\b\b\b\b\b\b\b\b\b\b\b\b\b\b\b\b\b\b\b\b\b\b\b\b\b\b\b\b\b\b\b\b\b\b\b\b\b\b\b\b\b\b\b\b\b\b\b\b\b\b\b\b\b\b\b\b\b\b\b\b\b\b\b\b\b\b\r447/447 [==============================] - 214s 479ms/step - loss: 0.1633 - accuracy: 0.9487 - val_loss: 0.1754 - val_accuracy: 0.9421\n"
          ]
        },
        {
          "name": "stderr",
          "output_type": "stream",
          "text": [
            "/usr/local/lib/python3.7/dist-packages/sklearn/metrics/_classification.py:1318: UndefinedMetricWarning: Precision and F-score are ill-defined and being set to 0.0 in labels with no predicted samples. Use `zero_division` parameter to control this behavior.\n",
            "  _warn_prf(average, modifier, msg_start, len(result))\n",
            "/usr/local/lib/python3.7/dist-packages/sklearn/metrics/_classification.py:1318: UndefinedMetricWarning: Precision and F-score are ill-defined and being set to 0.0 in labels with no predicted samples. Use `zero_division` parameter to control this behavior.\n",
            "  _warn_prf(average, modifier, msg_start, len(result))\n",
            "/usr/local/lib/python3.7/dist-packages/sklearn/metrics/_classification.py:1318: UndefinedMetricWarning: Precision and F-score are ill-defined and being set to 0.0 in labels with no predicted samples. Use `zero_division` parameter to control this behavior.\n",
            "  _warn_prf(average, modifier, msg_start, len(result))\n"
          ]
        },
        {
          "name": "stdout",
          "output_type": "stream",
          "text": [
            "              precision    recall  f1-score   support\n",
            "\n",
            "           0       0.36      0.06      0.10       133\n",
            "           1       0.00      0.00      0.00         2\n",
            "           2       0.96      1.00      0.98      3786\n",
            "           3       0.00      0.00      0.00         2\n",
            "           4       0.00      0.00      0.00        47\n",
            "\n",
            "    accuracy                           0.95      3970\n",
            "   macro avg       0.26      0.21      0.22      3970\n",
            "weighted avg       0.92      0.95      0.93      3970\n",
            "\n",
            "[[   8    0  125    0    0]\n",
            " [   0    0    2    0    0]\n",
            " [  14    0 3772    0    0]\n",
            " [   0    0    2    0    0]\n",
            " [   0    0   47    0    0]]\n"
          ]
        },
        {
          "name": "stderr",
          "output_type": "stream",
          "text": [
            "WARNING:absl:Found untraced functions such as embeddings_layer_call_fn, embeddings_layer_call_and_return_conditional_losses, encoder_layer_call_fn, encoder_layer_call_and_return_conditional_losses, pooler_layer_call_fn while saving (showing 5 of 424). These functions will not be directly callable after loading.\n"
          ]
        },
        {
          "name": "stdout",
          "output_type": "stream",
          "text": [
            "INFO:tensorflow:Assets written to: bert_bilstm_CONVEX_ver2/assets\n"
          ]
        },
        {
          "name": "stderr",
          "output_type": "stream",
          "text": [
            "INFO:tensorflow:Assets written to: bert_bilstm_CONVEX_ver2/assets\n",
            "WARNING:absl:<keras.layers.recurrent.LSTMCell object at 0x7fb1b58d0fd0> has the same name 'LSTMCell' as a built-in Keras object. Consider renaming <class 'keras.layers.recurrent.LSTMCell'> to avoid naming conflicts when loading with `tf.keras.models.load_model`. If renaming is not possible, pass the object in the `custom_objects` parameter of the load function.\n",
            "WARNING:absl:<keras.layers.recurrent.LSTMCell object at 0x7fb5451f5ad0> has the same name 'LSTMCell' as a built-in Keras object. Consider renaming <class 'keras.layers.recurrent.LSTMCell'> to avoid naming conflicts when loading with `tf.keras.models.load_model`. If renaming is not possible, pass the object in the `custom_objects` parameter of the load function.\n"
          ]
        }
      ],
      "source": [
        "## Model - BERT + Bidirectional LSTM w/ Attention\n",
        "def train_bert_bilstm2(X_train, y_train, X_test, y_test, ver,outdim=5):\n",
        "  \n",
        "  tokenizer = BertTokenizer.from_pretrained('bert-base-cased')\n",
        "\n",
        "  X_train_encoding = tokenize(X_train, tokenizer)\n",
        "  X_test_encoding = tokenize(X_test, tokenizer)\n",
        "\n",
        "\n",
        "  config = BertConfig.from_pretrained('bert-base-cased', output_hidden_states=True, output_attentions=True) ## transfer learning\n",
        "  BERT = TFBertModel.from_pretrained('bert-base-cased', config=config)\n",
        "  \n",
        "  \n",
        "  ## set up model architecture\n",
        "\n",
        "  input_ids_in = keras.layers.Input(shape=(max_seq,), name='input_token', dtype='int32')\n",
        "  input_masks_in = keras.layers.Input(shape=(max_seq,), name='masked_token', dtype='int32') \n",
        "\n",
        "\n",
        "  embedding_layer = BERT(input_ids = input_ids_in, attention_mask = input_masks_in)[0]\n",
        "  X = keras.layers.Bidirectional(keras.layers.LSTM(128, return_sequences=True))(embedding_layer)\n",
        "  X = keras.layers.GlobalMaxPool1D()(X) \n",
        "  X = keras.layers.Dense(64, activation='relu')(X)\n",
        "  X = keras.layers.Dropout(0.2)(X)\n",
        "  X = keras.layers.Dense(outdim, activation='softmax')(X)\n",
        "\n",
        "  model = keras.Model(inputs=[input_ids_in, input_masks_in], outputs = X)\n",
        "\n",
        "  for layer in model.layers[:3]:\n",
        "      layer.trainable = True\n",
        "\n",
        "  model.summary()   \n",
        "  model.compile(loss='categorical_crossentropy', optimizer=tf.keras.optimizers.Adam(1e-5), metrics=['accuracy'])\n",
        "\n",
        "  #checkpt = ModelCheckpoint(ver + '.h5', monitor=\"val_recall\", mode='min', save_best_only=True)\n",
        "  \n",
        "  history = model.fit(X_train_encoding,  \n",
        "                      y_train,\n",
        "                      epochs = 5,\n",
        "                      batch_size=32,\n",
        "                      validation_split=0.1,callbacks=[PlotLossesKeras()]) #,checkpt])\n",
        "  \n",
        "  pred_bert = model.predict(X_test_encoding) \n",
        "  #pred_bert = [predictions(p) for p in pred_bert]\n",
        "  evaluate_model(y_test, pred_bert)\n",
        "  \n",
        "  model.save(ver)   \n",
        "\n",
        "train_bert_bilstm2(X_train_text, y_train_text, X_test_text, y_test_text,'bert_bilstm_CONVEX_ver2')\n"
      ]
    },
    {
      "cell_type": "code",
      "execution_count": null,
      "metadata": {
        "colab": {
          "base_uri": "https://localhost:8080/",
          "height": 1000
        },
        "id": "PVaXN0VBdfNk",
        "outputId": "6e7d43fc-6956-44fb-c721-572262d5ff12"
      },
      "outputs": [
        {
          "data": {
            "image/png": "[encoded data removed]",
            "text/plain": [
              "<Figure size 864x576 with 2 Axes>"
            ]
          },
          "metadata": {},
          "output_type": "display_data"
        },
        {
          "name": "stdout",
          "output_type": "stream",
          "text": [
            "accuracy\n",
            "\ttraining         \t (min:    0.943, max:    0.950, cur:    0.950)\n",
            "\tvalidation       \t (min:    0.940, max:    0.942, cur:    0.941)\n",
            "Loss\n",
            "\ttraining         \t (min:    0.156, max:    0.257, cur:    0.156)\n",
            "\tvalidation       \t (min:    0.178, max:    0.193, cur:    0.178)\n",
            "\b\b\b\b\b\b\b\b\b\b\b\b\b\b\b\b\b\b\b\b\b\b\b\b\b\b\b\b\b\b\b\b\b\b\b\b\b\b\b\b\b\b\b\b\b\b\b\b\b\b\b\b\b\b\b\b\b\b\b\b\b\b\b\b\b\b\b\b\b\b\b\b\b\b\b\b\b\b\b\b\b\b\b\b\r199/199 [==============================] - 80s 401ms/step - loss: 0.1557 - accuracy: 0.9495 - val_loss: 0.1784 - val_accuracy: 0.9414\n",
            "              precision    recall  f1-score   support\n",
            "\n",
            "           0       0.00      0.00      0.00       133\n",
            "           1       0.00      0.00      0.00         2\n",
            "           2       0.95      1.00      0.98      3786\n",
            "           3       0.00      0.00      0.00         2\n",
            "           4       0.00      0.00      0.00        47\n",
            "\n",
            "    accuracy                           0.95      3970\n",
            "   macro avg       0.19      0.20      0.20      3970\n",
            "weighted avg       0.91      0.95      0.93      3970\n",
            "\n",
            "[[   0    0  133    0    0]\n",
            " [   0    0    2    0    0]\n",
            " [   2    0 3784    0    0]\n",
            " [   0    0    2    0    0]\n",
            " [   0    0   47    0    0]]\n",
            "None\n"
          ]
        },
        {
          "name": "stderr",
          "output_type": "stream",
          "text": [
            "/usr/local/lib/python3.7/dist-packages/sklearn/metrics/_classification.py:1318: UndefinedMetricWarning: Precision and F-score are ill-defined and being set to 0.0 in labels with no predicted samples. Use `zero_division` parameter to control this behavior.\n",
            "  _warn_prf(average, modifier, msg_start, len(result))\n",
            "/usr/local/lib/python3.7/dist-packages/sklearn/metrics/_classification.py:1318: UndefinedMetricWarning: Precision and F-score are ill-defined and being set to 0.0 in labels with no predicted samples. Use `zero_division` parameter to control this behavior.\n",
            "  _warn_prf(average, modifier, msg_start, len(result))\n",
            "/usr/local/lib/python3.7/dist-packages/sklearn/metrics/_classification.py:1318: UndefinedMetricWarning: Precision and F-score are ill-defined and being set to 0.0 in labels with no predicted samples. Use `zero_division` parameter to control this behavior.\n",
            "  _warn_prf(average, modifier, msg_start, len(result))\n"
          ]
        },
        {
          "data": {
            "text/plain": [
              "<transformers.models.distilbert.modeling_tf_distilbert.TFDistilBertForSequenceClassification at 0x7fb576359290>"
            ]
          },
          "execution_count": 52,
          "metadata": {},
          "output_type": "execute_result"
        }
      ],
      "source": [
        "## distilbert   \n",
        "from transformers import TFDistilBertModel, TFDistilBertForSequenceClassification\n",
        "\n",
        "train_bert(X_train_text, X_test_text, y_train_text, y_test_text, \n",
        "           'distilbert_base_ft_COVEX_ver1',TFDistilBertForSequenceClassification.from_pretrained('distilbert-base-cased',num_labels=5),\n",
        "           DistilBertTokenizer.from_pretrained('distilbert-base-cased'))  \n",
        "\n",
        "   "
      ]
    },
    {
      "cell_type": "code",
      "execution_count": null,
      "metadata": {
        "colab": {
          "base_uri": "https://localhost:8080/",
          "height": 1000
        },
        "id": "zbT2L7F6tAiZ",
        "outputId": "7053b77f-cc78-4690-e2f5-9139838b747c"
      },
      "outputs": [
        {
          "data": {
            "image/png": "[encoded data removed]",
            "text/plain": [
              "<Figure size 864x576 with 2 Axes>"
            ]
          },
          "metadata": {},
          "output_type": "display_data"
        },
        {
          "name": "stdout",
          "output_type": "stream",
          "text": [
            "accuracy\n",
            "\ttraining         \t (min:    0.881, max:    0.950, cur:    0.950)\n",
            "\tvalidation       \t (min:    0.941, max:    0.942, cur:    0.942)\n",
            "Loss\n",
            "\ttraining         \t (min:    0.162, max:    0.462, cur:    0.162)\n",
            "\tvalidation       \t (min:    0.180, max:    0.214, cur:    0.180)\n",
            "\b\b\b\b\b\b\b\b\b\b\b\b\b\b\b\b\b\b\b\b\b\b\b\b\b\b\b\b\b\b\b\b\b\b\b\b\b\b\b\b\b\b\b\b\b\b\b\b\b\b\b\b\b\b\b\b\b\b\b\b\b\b\b\b\b\b\b\b\b\b\b\b\b\b\b\b\b\b\b\b\b\b\b\b\r447/447 [==============================] - 51s 114ms/step - loss: 0.1618 - accuracy: 0.9495 - val_loss: 0.1804 - val_accuracy: 0.9421\n"
          ]
        },
        {
          "name": "stderr",
          "output_type": "stream",
          "text": [
            "/usr/local/lib/python3.7/dist-packages/sklearn/metrics/_classification.py:1318: UndefinedMetricWarning: Precision and F-score are ill-defined and being set to 0.0 in labels with no predicted samples. Use `zero_division` parameter to control this behavior.\n",
            "  _warn_prf(average, modifier, msg_start, len(result))\n",
            "/usr/local/lib/python3.7/dist-packages/sklearn/metrics/_classification.py:1318: UndefinedMetricWarning: Precision and F-score are ill-defined and being set to 0.0 in labels with no predicted samples. Use `zero_division` parameter to control this behavior.\n",
            "  _warn_prf(average, modifier, msg_start, len(result))\n",
            "/usr/local/lib/python3.7/dist-packages/sklearn/metrics/_classification.py:1318: UndefinedMetricWarning: Precision and F-score are ill-defined and being set to 0.0 in labels with no predicted samples. Use `zero_division` parameter to control this behavior.\n",
            "  _warn_prf(average, modifier, msg_start, len(result))\n"
          ]
        },
        {
          "name": "stdout",
          "output_type": "stream",
          "text": [
            "              precision    recall  f1-score   support\n",
            "\n",
            "           0       0.33      0.06      0.10       133\n",
            "           1       0.00      0.00      0.00         2\n",
            "           2       0.96      1.00      0.98      3786\n",
            "           3       0.00      0.00      0.00         2\n",
            "           4       0.00      0.00      0.00        47\n",
            "\n",
            "    accuracy                           0.95      3970\n",
            "   macro avg       0.26      0.21      0.22      3970\n",
            "weighted avg       0.92      0.95      0.93      3970\n",
            "\n",
            "[[   8    0  125    0    0]\n",
            " [   0    0    2    0    0]\n",
            " [  16    0 3770    0    0]\n",
            " [   0    0    2    0    0]\n",
            " [   0    0   47    0    0]]\n",
            "WARNING:tensorflow:Skipping full serialization of Keras layer <keras.layers.core.dropout.Dropout object at 0x7fb54224e910>, because it is not built.\n"
          ]
        },
        {
          "name": "stderr",
          "output_type": "stream",
          "text": [
            "WARNING:tensorflow:Skipping full serialization of Keras layer <keras.layers.core.dropout.Dropout object at 0x7fb54224e910>, because it is not built.\n"
          ]
        },
        {
          "name": "stdout",
          "output_type": "stream",
          "text": [
            "WARNING:tensorflow:Skipping full serialization of Keras layer <keras.layers.core.dropout.Dropout object at 0x7fb1b91344d0>, because it is not built.\n"
          ]
        },
        {
          "name": "stderr",
          "output_type": "stream",
          "text": [
            "WARNING:tensorflow:Skipping full serialization of Keras layer <keras.layers.core.dropout.Dropout object at 0x7fb1b91344d0>, because it is not built.\n"
          ]
        },
        {
          "name": "stdout",
          "output_type": "stream",
          "text": [
            "WARNING:tensorflow:Skipping full serialization of Keras layer <keras.layers.core.dropout.Dropout object at 0x7fb1b5dfabd0>, because it is not built.\n"
          ]
        },
        {
          "name": "stderr",
          "output_type": "stream",
          "text": [
            "WARNING:tensorflow:Skipping full serialization of Keras layer <keras.layers.core.dropout.Dropout object at 0x7fb1b5dfabd0>, because it is not built.\n"
          ]
        },
        {
          "name": "stdout",
          "output_type": "stream",
          "text": [
            "WARNING:tensorflow:Skipping full serialization of Keras layer <keras.layers.core.dropout.Dropout object at 0x7fb1aee63390>, because it is not built.\n"
          ]
        },
        {
          "name": "stderr",
          "output_type": "stream",
          "text": [
            "WARNING:tensorflow:Skipping full serialization of Keras layer <keras.layers.core.dropout.Dropout object at 0x7fb1aee63390>, because it is not built.\n"
          ]
        },
        {
          "name": "stdout",
          "output_type": "stream",
          "text": [
            "WARNING:tensorflow:Skipping full serialization of Keras layer <keras.layers.core.dropout.Dropout object at 0x7fb1aeeac0d0>, because it is not built.\n"
          ]
        },
        {
          "name": "stderr",
          "output_type": "stream",
          "text": [
            "WARNING:tensorflow:Skipping full serialization of Keras layer <keras.layers.core.dropout.Dropout object at 0x7fb1aeeac0d0>, because it is not built.\n"
          ]
        },
        {
          "name": "stdout",
          "output_type": "stream",
          "text": [
            "WARNING:tensorflow:Skipping full serialization of Keras layer <keras.layers.core.dropout.Dropout object at 0x7fb1aaca4990>, because it is not built.\n"
          ]
        },
        {
          "name": "stderr",
          "output_type": "stream",
          "text": [
            "WARNING:tensorflow:Skipping full serialization of Keras layer <keras.layers.core.dropout.Dropout object at 0x7fb1aaca4990>, because it is not built.\n",
            "WARNING:absl:Found untraced functions such as embeddings_layer_call_fn, embeddings_layer_call_and_return_conditional_losses, transformer_layer_call_fn, transformer_layer_call_and_return_conditional_losses, LayerNorm_layer_call_fn while saving (showing 5 of 168). These functions will not be directly callable after loading.\n"
          ]
        },
        {
          "name": "stdout",
          "output_type": "stream",
          "text": [
            "INFO:tensorflow:Assets written to: distilbert_bilstm_CONVEX_ver1/assets\n"
          ]
        },
        {
          "name": "stderr",
          "output_type": "stream",
          "text": [
            "INFO:tensorflow:Assets written to: distilbert_bilstm_CONVEX_ver1/assets\n",
            "WARNING:absl:<keras.layers.recurrent.LSTMCell object at 0x7fb1b386eb50> has the same name 'LSTMCell' as a built-in Keras object. Consider renaming <class 'keras.layers.recurrent.LSTMCell'> to avoid naming conflicts when loading with `tf.keras.models.load_model`. If renaming is not possible, pass the object in the `custom_objects` parameter of the load function.\n",
            "WARNING:absl:<keras.layers.recurrent.LSTMCell object at 0x7fb5763097d0> has the same name 'LSTMCell' as a built-in Keras object. Consider renaming <class 'keras.layers.recurrent.LSTMCell'> to avoid naming conflicts when loading with `tf.keras.models.load_model`. If renaming is not possible, pass the object in the `custom_objects` parameter of the load function.\n"
          ]
        }
      ],
      "source": [
        "\n",
        "train_bert_bilstm(X_train_text, y_train_text, X_test_text, y_test_text,\n",
        "                  TFDistilBertForSequenceClassification.from_pretrained('distilbert-base-cased',num_labels=5),\n",
        "                  '/content/distilbert_base_ft_COVEX_ver1',DistilBertTokenizer.from_pretrained('distilbert-base-cased'),\n",
        "                  'distilbert_bilstm_CONVEX_ver1') "
      ]
    },
    {
      "cell_type": "code",
      "execution_count": null,
      "metadata": {
        "colab": {
          "background_save": true,
          "base_uri": "https://localhost:8080/",
          "height": 766
        },
        "id": "tqYDYk4WdNOg",
        "outputId": "935358f7-62fc-4c5a-c3e3-027cfe61e2c9"
      },
      "outputs": [
        {
          "data": {
            "image/png": "[encoded data removed]",
            "text/plain": [
              "<Figure size 864x576 with 2 Axes>"
            ]
          },
          "metadata": {},
          "output_type": "display_data"
        },
        {
          "name": "stdout",
          "output_type": "stream",
          "text": [
            "accuracy\n",
            "\ttraining         \t (min:    0.906, max:    0.949, cur:    0.949)\n",
            "\tvalidation       \t (min:    0.941, max:    0.942, cur:    0.942)\n",
            "Loss\n",
            "\ttraining         \t (min:    0.171, max:    0.466, cur:    0.171)\n",
            "\tvalidation       \t (min:    0.181, max:    0.226, cur:    0.181)\n",
            "\b\b\b\b\b\b\b\b\b\b\b\b\b\b\b\b\b\b\b\b\b\b\b\b\b\b\b\b\b\b\b\b\b\b\b\b\b\b\b\b\b\b\b\b\b\b\b\b\b\b\b\b\b\b\b\b\b\b\b\b\b\b\b\b\b\b\b\b\b\b\b\b\b\b\b\b\b\b\b\b\b\b\b\b\r447/447 [==============================] - 93s 208ms/step - loss: 0.1709 - accuracy: 0.9486 - val_loss: 0.1815 - val_accuracy: 0.9421\n"
          ]
        },
        {
          "name": "stderr",
          "output_type": "stream",
          "text": [
            "/usr/local/lib/python3.7/dist-packages/sklearn/metrics/_classification.py:1318: UndefinedMetricWarning: Precision and F-score are ill-defined and being set to 0.0 in labels with no predicted samples. Use `zero_division` parameter to control this behavior.\n",
            "  _warn_prf(average, modifier, msg_start, len(result))\n",
            "/usr/local/lib/python3.7/dist-packages/sklearn/metrics/_classification.py:1318: UndefinedMetricWarning: Precision and F-score are ill-defined and being set to 0.0 in labels with no predicted samples. Use `zero_division` parameter to control this behavior.\n",
            "  _warn_prf(average, modifier, msg_start, len(result))\n",
            "/usr/local/lib/python3.7/dist-packages/sklearn/metrics/_classification.py:1318: UndefinedMetricWarning: Precision and F-score are ill-defined and being set to 0.0 in labels with no predicted samples. Use `zero_division` parameter to control this behavior.\n",
            "  _warn_prf(average, modifier, msg_start, len(result))\n"
          ]
        },
        {
          "name": "stdout",
          "output_type": "stream",
          "text": [
            "              precision    recall  f1-score   support\n",
            "\n",
            "           0       0.00      0.00      0.00       133\n",
            "           1       0.00      0.00      0.00         2\n",
            "           2       0.95      1.00      0.98      3786\n",
            "           3       0.00      0.00      0.00         2\n",
            "           4       0.00      0.00      0.00        47\n",
            "\n",
            "    accuracy                           0.95      3970\n",
            "   macro avg       0.19      0.20      0.20      3970\n",
            "weighted avg       0.91      0.95      0.93      3970\n",
            "\n",
            "[[   0    0  133    0    0]\n",
            " [   0    0    2    0    0]\n",
            " [   0    0 3786    0    0]\n",
            " [   0    0    2    0    0]\n",
            " [   0    0   47    0    0]]\n"
          ]
        },
        {
          "name": "stderr",
          "output_type": "stream",
          "text": [
            "WARNING:absl:Found untraced functions such as encoder_layer_call_fn, encoder_layer_call_and_return_conditional_losses, embeddings_layer_call_fn, embeddings_layer_call_and_return_conditional_losses, LayerNorm_layer_call_fn while saving (showing 5 of 420). These functions will not be directly callable after loading.\n"
          ]
        },
        {
          "name": "stdout",
          "output_type": "stream",
          "text": [
            "INFO:tensorflow:Assets written to: roberta_bilstm_CONVEX_ver1/assets\n"
          ]
        },
        {
          "name": "stderr",
          "output_type": "stream",
          "text": [
            "INFO:tensorflow:Assets written to: roberta_bilstm_CONVEX_ver1/assets\n",
            "WARNING:absl:<keras.layers.recurrent.LSTMCell object at 0x7fb5450d59d0> has the same name 'LSTMCell' as a built-in Keras object. Consider renaming <class 'keras.layers.recurrent.LSTMCell'> to avoid naming conflicts when loading with `tf.keras.models.load_model`. If renaming is not possible, pass the object in the `custom_objects` parameter of the load function.\n",
            "WARNING:absl:<keras.layers.recurrent.LSTMCell object at 0x7fb5443a9250> has the same name 'LSTMCell' as a built-in Keras object. Consider renaming <class 'keras.layers.recurrent.LSTMCell'> to avoid naming conflicts when loading with `tf.keras.models.load_model`. If renaming is not possible, pass the object in the `custom_objects` parameter of the load function.\n"
          ]
        }
      ],
      "source": [
        "## roberta \n",
        "from transformers import TFRobertaModel, RobertaTokenizer, TFRobertaForSequenceClassification \n",
        "\n",
        "train_bert(X_train_text, X_test_text, y_train_text, y_test_text, \n",
        "           'roberta_base_ft_CONVEX_ver1',TFRobertaForSequenceClassification.from_pretrained('roberta-base',num_labels=7),\n",
        "           RobertaTokenizer.from_pretrained('roberta-base'))  \n",
        "\n",
        "train_bert_bilstm(X_train_text, y_train_text, X_test_text, y_test_text,\n",
        "                  TFRobertaForSequenceClassification.from_pretrained('roberta-base',num_labels=7),\n",
        "                  '/content/roberta_base_ft_CONVEX_ver1',RobertaTokenizer.from_pretrained('roberta-base'),\n",
        "                  'roberta_bilstm_CONVEX_ver1')\n",
        "\n"
      ]
    },
    {
      "cell_type": "code",
      "execution_count": null,
      "metadata": {
        "colab": {
          "background_save": true
        },
        "id": "qPRLR6cRc-lB"
      },
      "outputs": [],
      "source": [
        ""
      ]
    },
    {
      "cell_type": "code",
      "execution_count": null,
      "metadata": {
        "colab": {
          "background_save": true
        },
        "id": "iIs2HuPokiMF"
      },
      "outputs": [],
      "source": [
        "def train_bert_bigru(X_train, y_train, X_test, y_test, model,path_for_ft,tokenizer, ver,outdim=7): \n",
        " \n",
        "  X_train_encoding = tokenize(X_train, tokenizer)\n",
        "  X_test_encoding = tokenize(X_test, tokenizer) \n",
        "\n",
        "  BERT = model \n",
        "  BERT.load_weights(path_for_ft)  \n",
        "  BERT = BERT.layers[0]\n",
        " \n",
        "\n",
        "  ## set up model architecture\n",
        "\n",
        "  input_ids_in = keras.layers.Input(shape=(max_seq,), name='input_token', dtype='int32')\n",
        "  input_masks_in = keras.layers.Input(shape=(max_seq,), name='masked_token', dtype='int32') \n",
        "\n",
        "\n",
        "  embedding_layer = BERT(input_ids = input_ids_in, attention_mask = input_masks_in)[0]\n",
        "  X = keras.layers.Bidirectional(keras.layers.LSTM(128, return_sequences=True))(embedding_layer)\n",
        "  X = keras.layers.GlobalMaxPool1D()(X) \n",
        "\n",
        "\n",
        "\n",
        "  input_ids_in = keras.layers.Input(shape=(max_seq,), name='input_token', dtype='int32')\n",
        "  input_masks_in = keras.layers.Input(shape=(max_seq,), name='masked_token', dtype='int32')\n",
        "\n",
        "  embedding = BERT(input_ids = input_ids_in, attention_mask=input_masks_in)[0] \n",
        "  gru = Bidirectional(GRU(128))(embedding)\n",
        "  drop = Dropout(0.5)(gru)    \n",
        "\n",
        "  out = Dense(128, activation='relu')(drop) \n",
        "  out_2 = Dense(64, activation='relu')(drop)  \n",
        "  outputs = Dense(7, activation='softmax')(out_2) \n",
        "\n",
        "  model = Model(inputs=[input_ids_in,input_masks_in], outputs=outputs)   \n",
        "  \n",
        "  for layer in model.layers[:3]:\n",
        "        layer.trainable = False \n",
        "\n",
        "  model.compile( loss='categorical_crossentropy', optimizer='adam', metrics=['accuracy']) \n",
        "  model.fit(X_train_encoding, y_train_text, epochs=10,batch_size=64)  \n",
        "\n",
        "  pred_bert = model.predict(X_test_encoding) \n",
        "  evaluate_model(y_test, pred_bert)\n",
        "  \n",
        "\n",
        " "
      ]
    },
    {
      "cell_type": "code",
      "execution_count": null,
      "metadata": {
        "colab": {
          "background_save": true
        },
        "id": "Wdl03Fs3GS7_",
        "outputId": "9413ab02-405a-4f20-e542-304284b974e9"
      },
      "outputs": [
        {
          "data": {
            "application/vnd.google.colaboratory.intrinsic+json": {
              "type": "string"
            },
            "text/plain": [
              "\"model_bert.save_weights(\\n    'bert_weights', overwrite=True, save_format='h5', options=None\\n)\""
            ]
          },
          "execution_count": null,
          "metadata": {},
          "output_type": "execute_result"
        }
      ],
      "source": [
        "'''model_bert.save_weights(\n",
        "    'bert_weights', overwrite=True, save_format='h5', options=None\n",
        ")'''\n"
      ]
    },
    {
      "cell_type": "code",
      "execution_count": null,
      "metadata": {
        "colab": {
          "background_save": true
        },
        "id": "aryQOi_RlP55",
        "outputId": "428e32d2-bb0c-4aad-9631-224a039a5a42"
      },
      "outputs": [
        {
          "name": "stderr",
          "output_type": "stream",
          "text": [
            "All model checkpoint layers were used when initializing TFBertForSequenceClassification.\n",
            "\n",
            "Some layers of TFBertForSequenceClassification were not initialized from the model checkpoint at bert-base-uncased and are newly initialized: ['classifier']\n",
            "You should probably TRAIN this model on a down-stream task to be able to use it for predictions and inference.\n",
            "/usr/local/lib/python3.7/dist-packages/transformers/tokenization_utils_base.py:2307: FutureWarning: The `pad_to_max_length` argument is deprecated and will be removed in a future version, use `padding=True` or `padding='longest'` to pad to the longest sequence in the batch, or use `padding='max_length'` to pad to a max length. In this case, you can give a specific length with `max_length` (e.g. `max_length=45`) or leave max_length to None to pad to the maximal input size of the model (e.g. 512 for Bert).\n",
            "  FutureWarning,\n"
          ]
        },
        {
          "ename": "ValueError",
          "evalue": "ignored",
          "output_type": "error",
          "traceback": [
            "\u001b[0;31m---------------------------------------------------------------------------\u001b[0m",
            "\u001b[0;31mValueError\u001b[0m                                Traceback (most recent call last)",
            "\u001b[0;32m<ipython-input-57-ff605e2b06e7>\u001b[0m in \u001b[0;36m<module>\u001b[0;34m()\u001b[0m\n\u001b[1;32m      1\u001b[0m train_bert_bigru(X_train_text, y_train_text, X_test_text, y_test_text,\n\u001b[1;32m      2\u001b[0m                   \u001b[0mTFBertForSequenceClassification\u001b[0m\u001b[0;34m.\u001b[0m\u001b[0mfrom_pretrained\u001b[0m\u001b[0;34m(\u001b[0m\u001b[0;34m'bert-base-uncased'\u001b[0m\u001b[0;34m,\u001b[0m\u001b[0mnum_labels\u001b[0m\u001b[0;34m=\u001b[0m\u001b[0;36m5\u001b[0m\u001b[0;34m)\u001b[0m\u001b[0;34m,\u001b[0m\u001b[0;34m\u001b[0m\u001b[0;34m\u001b[0m\u001b[0m\n\u001b[0;32m----> 3\u001b[0;31m                   '/content/distilbert_base_ft_COVEX_ver1',BertTokenizer.from_pretrained('bert-base-cased'),'bert_bigru_ver_2')\n\u001b[0m",
            "\u001b[0;32m<ipython-input-55-333dfc5b1b04>\u001b[0m in \u001b[0;36mtrain_bert_bigru\u001b[0;34m(X_train, y_train, X_test, y_test, model, path_for_ft, tokenizer, ver, outdim)\u001b[0m\n\u001b[1;32m      5\u001b[0m \u001b[0;34m\u001b[0m\u001b[0m\n\u001b[1;32m      6\u001b[0m   \u001b[0mBERT\u001b[0m \u001b[0;34m=\u001b[0m \u001b[0mmodel\u001b[0m\u001b[0;34m\u001b[0m\u001b[0;34m\u001b[0m\u001b[0m\n\u001b[0;32m----> 7\u001b[0;31m   \u001b[0mBERT\u001b[0m\u001b[0;34m.\u001b[0m\u001b[0mload_weights\u001b[0m\u001b[0;34m(\u001b[0m\u001b[0mpath_for_ft\u001b[0m\u001b[0;34m)\u001b[0m\u001b[0;34m\u001b[0m\u001b[0;34m\u001b[0m\u001b[0m\n\u001b[0m\u001b[1;32m      8\u001b[0m   \u001b[0mBERT\u001b[0m \u001b[0;34m=\u001b[0m \u001b[0mBERT\u001b[0m\u001b[0;34m.\u001b[0m\u001b[0mlayers\u001b[0m\u001b[0;34m[\u001b[0m\u001b[0;36m0\u001b[0m\u001b[0;34m]\u001b[0m\u001b[0;34m\u001b[0m\u001b[0;34m\u001b[0m\u001b[0m\n\u001b[1;32m      9\u001b[0m \u001b[0;34m\u001b[0m\u001b[0m\n",
            "\u001b[0;32m/usr/local/lib/python3.7/dist-packages/keras/utils/traceback_utils.py\u001b[0m in \u001b[0;36merror_handler\u001b[0;34m(*args, **kwargs)\u001b[0m\n\u001b[1;32m     65\u001b[0m     \u001b[0;32mexcept\u001b[0m \u001b[0mException\u001b[0m \u001b[0;32mas\u001b[0m \u001b[0me\u001b[0m\u001b[0;34m:\u001b[0m  \u001b[0;31m# pylint: disable=broad-except\u001b[0m\u001b[0;34m\u001b[0m\u001b[0;34m\u001b[0m\u001b[0m\n\u001b[1;32m     66\u001b[0m       \u001b[0mfiltered_tb\u001b[0m \u001b[0;34m=\u001b[0m \u001b[0m_process_traceback_frames\u001b[0m\u001b[0;34m(\u001b[0m\u001b[0me\u001b[0m\u001b[0;34m.\u001b[0m\u001b[0m__traceback__\u001b[0m\u001b[0;34m)\u001b[0m\u001b[0;34m\u001b[0m\u001b[0;34m\u001b[0m\u001b[0m\n\u001b[0;32m---> 67\u001b[0;31m       \u001b[0;32mraise\u001b[0m \u001b[0me\u001b[0m\u001b[0;34m.\u001b[0m\u001b[0mwith_traceback\u001b[0m\u001b[0;34m(\u001b[0m\u001b[0mfiltered_tb\u001b[0m\u001b[0;34m)\u001b[0m \u001b[0;32mfrom\u001b[0m \u001b[0;32mNone\u001b[0m\u001b[0;34m\u001b[0m\u001b[0;34m\u001b[0m\u001b[0m\n\u001b[0m\u001b[1;32m     68\u001b[0m     \u001b[0;32mfinally\u001b[0m\u001b[0;34m:\u001b[0m\u001b[0;34m\u001b[0m\u001b[0;34m\u001b[0m\u001b[0m\n\u001b[1;32m     69\u001b[0m       \u001b[0;32mdel\u001b[0m \u001b[0mfiltered_tb\u001b[0m\u001b[0;34m\u001b[0m\u001b[0;34m\u001b[0m\u001b[0m\n",
            "\u001b[0;32m/usr/local/lib/python3.7/dist-packages/keras/saving/hdf5_format.py\u001b[0m in \u001b[0;36mload_weights_from_hdf5_group\u001b[0;34m(f, model)\u001b[0m\n\u001b[1;32m    727\u001b[0m   \u001b[0;32mif\u001b[0m \u001b[0mlen\u001b[0m\u001b[0;34m(\u001b[0m\u001b[0mlayer_names\u001b[0m\u001b[0;34m)\u001b[0m \u001b[0;34m!=\u001b[0m \u001b[0mlen\u001b[0m\u001b[0;34m(\u001b[0m\u001b[0mfiltered_layers\u001b[0m\u001b[0;34m)\u001b[0m\u001b[0;34m:\u001b[0m\u001b[0;34m\u001b[0m\u001b[0;34m\u001b[0m\u001b[0m\n\u001b[1;32m    728\u001b[0m     raise ValueError(\n\u001b[0;32m--> 729\u001b[0;31m         \u001b[0;34mf'Layer count mismatch when loading weights from file. '\u001b[0m\u001b[0;34m\u001b[0m\u001b[0;34m\u001b[0m\u001b[0m\n\u001b[0m\u001b[1;32m    730\u001b[0m         \u001b[0;34mf'Model expected {len(filtered_layers)} layers, found '\u001b[0m\u001b[0;34m\u001b[0m\u001b[0;34m\u001b[0m\u001b[0m\n\u001b[1;32m    731\u001b[0m         f'{len(layer_names)} saved layers.')\n",
            "\u001b[0;31mValueError\u001b[0m: Layer count mismatch when loading weights from file. Model expected 2 layers, found 3 saved layers."
          ]
        }
      ],
      "source": [
        "train_bert_bigru(X_train_text, y_train_text, X_test_text, y_test_text,\n",
        "                  TFBertForSequenceClassification.from_pretrained('bert-base-uncased',num_labels=5),\n",
        "                  '/content/distilbert_base_ft_COVEX_ver1',BertTokenizer.from_pretrained('bert-base-cased'),'bert_bigru_ver_2')\n"
      ]
    },
    {
      "cell_type": "code",
      "execution_count": null,
      "metadata": {
        "colab": {
          "background_save": true
        },
        "id": "PNRrNLLClfey"
      },
      "outputs": [],
      "source": [
        ""
      ]
    },
    {
      "cell_type": "code",
      "execution_count": null,
      "metadata": {
        "colab": {
          "background_save": true
        },
        "id": "r9A-WVrqO6ar"
      },
      "outputs": [],
      "source": [
        ""
      ]
    },
    {
      "cell_type": "markdown",
      "metadata": {
        "id": "89wWtyRJ-IA9"
      },
      "source": [
        "# Tabular"
      ]
    },
    {
      "cell_type": "code",
      "execution_count": null,
      "metadata": {
        "colab": {
          "background_save": true
        },
        "id": "60qinFtYVlzV"
      },
      "outputs": [],
      "source": [
        "from keras.metrics import Recall"
      ]
    },
    {
      "cell_type": "code",
      "execution_count": null,
      "metadata": {
        "colab": {
          "background_save": true
        },
        "id": "SrKysTT--KlC"
      },
      "outputs": [],
      "source": [
        "def train_model1_liwcaud(X_train,y_train,X_test,y_test,name,num_out=5,loss='categorical_crossentropy',cw=None, epochs = 350):\n",
        "  model = Sequential()  \n",
        "  model.add(Dense(256,activation='relu',input_shape=(X_train.shape[-1],)))\n",
        "  model.add(Dense(256,activation='relu'))\n",
        "  model.add(Dropout(0.3))\n",
        "  model.add(Dense(128,activation='relu'))\n",
        "  model.add(Dropout(0.3))\n",
        "  model.add(Dense(num_out,activation='softmax'))\n",
        "  model.compile(loss=loss, optimizer=tf.keras.optimizers.Adam(1e-4), metrics=['accuracy',Recall()])\n",
        "  print(model.summary()) \n",
        "\n",
        "  # normalize tabulars \n",
        "  scaler = StandardScaler()\n",
        "  X_train = scaler.fit_transform(X_train)\n",
        "  X_test = scaler.transform(X_test) \n",
        " \n",
        "  early_stop = EarlyStopping(patience=40) \n",
        "  checkpt = ModelCheckpoint(name + '.h5', save_best_only=True)  \n",
        "  \n",
        "  model.fit(X_train,y_train,epochs=epochs, callbacks = [checkpt,early_stop],validation_split=0.1)\n",
        "                                             \n",
        "  pred_dbert = model.predict(X_test)\n",
        "  pred_dbert = [predictions(p) for p in pred_dbert] \n",
        "  print(evaluate_model(y_test, pred_dbert)) \n",
        "  model.save(name)    "
      ]
    },
    {
      "cell_type": "code",
      "execution_count": null,
      "metadata": {
        "colab": {
          "background_save": true
        },
        "id": "_WZtL8EyNWL_"
      },
      "outputs": [],
      "source": [
        "train_model1_liwcaud(X_train_liwc,y_train_tab,X_test_liwc,y_test_tab,'model_liwc_only_2',epochs=250)   "
      ]
    },
    {
      "cell_type": "markdown",
      "metadata": {
        "id": "AdEiWiUUrnv3"
      },
      "source": [
        "Prosodic Model"
      ]
    },
    {
      "cell_type": "code",
      "execution_count": null,
      "metadata": {
        "colab": {
          "background_save": true
        },
        "id": "9YbDQxgqNWP8"
      },
      "outputs": [],
      "source": [
        "train_model1_liwcaud(X_train_aud,y_train_tab,X_test_aud,y_test_tab,'model_aud_only_2',epochs=250)   \n"
      ]
    },
    {
      "cell_type": "code",
      "execution_count": null,
      "metadata": {
        "colab": {
          "background_save": true
        },
        "id": "sdNoq2xK-ibl"
      },
      "outputs": [],
      "source": [
        " "
      ]
    },
    {
      "cell_type": "code",
      "execution_count": null,
      "metadata": {
        "colab": {
          "background_save": true
        },
        "id": "9_0OBhl70AAe"
      },
      "outputs": [],
      "source": [
        "model = keras.models.load_model('/content/new/content/model_liwc_3')\n",
        "from keras.utils.vis_utils import plot_model \n",
        "plot_model(model, show_shapes=True, show_layer_names=True)  "
      ]
    },
    {
      "cell_type": "code",
      "execution_count": null,
      "metadata": {
        "colab": {
          "background_save": true
        },
        "id": "87mTSB4CctcY"
      },
      "outputs": [],
      "source": [
        "train_model1_liwcaud(X_train_tab,y_train_tab,X_test_tab,y_test_tab,'model_all_2',epochs=250)   "
      ]
    },
    {
      "cell_type": "code",
      "execution_count": null,
      "metadata": {
        "colab": {
          "background_save": true
        },
        "id": "oLDOjkZqgpMB"
      },
      "outputs": [],
      "source": [
        "scaler = StandardScaler()\n",
        "X_train_s = scaler.fit_transform(X_train_liwc)\n",
        "X_test_s = scaler.transform(X_test_liwc)  "
      ]
    },
    {
      "cell_type": "code",
      "execution_count": null,
      "metadata": {
        "colab": {
          "background_save": true
        },
        "id": "Zhu52z7Eq2ui"
      },
      "outputs": [],
      "source": [
        "!pip install shap"
      ]
    },
    {
      "cell_type": "code",
      "execution_count": null,
      "metadata": {
        "colab": {
          "background_save": true
        },
        "id": "58BWxRXZqkg5"
      },
      "outputs": [],
      "source": [
        "import tensorflow as tf\n",
        "tf.compat.v1.disable_v2_behavior() \n",
        "import shap\n",
        "\n",
        "liwc_model = keras.models.load_model('/content/model_liwc_only_2')\n",
        "# SHAP values\n",
        "shap_exp = shap.DeepExplainer(liwc_model, X_train_s)\n",
        "shap_values = shap_exp.shap_values(X_test_s[:15]) \n",
        "\n",
        "shap.summary_plot(shap_values[0], plot_type = 'bar', feature_names = tabular_cols)\n"
      ]
    },
    {
      "cell_type": "code",
      "execution_count": null,
      "metadata": {
        "colab": {
          "background_save": true
        },
        "id": "nuw64IF5-pkW"
      },
      "outputs": [],
      "source": [
        ""
      ]
    },
    {
      "cell_type": "markdown",
      "metadata": {
        "id": "uYsdZAOpr0CW"
      },
      "source": [
        "MultiChannel LIWC + Prosodic"
      ]
    },
    {
      "cell_type": "code",
      "execution_count": null,
      "metadata": {
        "colab": {
          "background_save": true
        },
        "id": "LT9fz2C4r2qS"
      },
      "outputs": [],
      "source": [
        "def train_multichannel_liwcaud(X_train_liwc,X_train_aud,y_train,X_test_liwc,X_test_aud,y_test,name,num_out=5,loss='categorical_crossentropy',cw=None, epochs=350):\n",
        "  \n",
        "  \n",
        "  ## liwc \n",
        "  inputs_text = Input(shape=(X_train_liwc.shape[-1],))\n",
        "  X_text = Dense(256,activation='relu')(inputs_text)\n",
        "  X_text = Dense(256,activation='relu')(X_text)\n",
        "  X_text = Dropout(0.3)(X_text)\n",
        "  X_text = Dense(128,activation='relu')(X_text)\n",
        "  X_text = Dropout(0.3)(X_text)\n",
        "  X_text = Dense(128,activation='relu')(X_text)\n",
        "  flat_text = Flatten()(X_text)\n",
        "\n",
        "  ## prosodic  \n",
        "  inputs_aud = Input(shape=(X_train_aud.shape[-1],))\n",
        "  X_aud = Dense(256,activation='relu')(inputs_aud)\n",
        "  X_aud = Dense(256,activation='relu')(X_aud)\n",
        "  X_aud = Dropout(0.3)(X_aud)\n",
        "  X_aud = Dense(128,activation='relu')(X_aud)\n",
        "  X_aud = Dropout(0.3)(X_aud)\n",
        "  X_aud = Dense(128,activation='relu')(X_aud)\n",
        "  flat_aud = Flatten()(X_aud) \n",
        "   \n",
        "  # normalize tabulars \n",
        "  scaler = StandardScaler()\n",
        "  X_train_liwc = scaler.fit_transform(X_train_liwc)\n",
        "  X_test_liwc = scaler.transform(X_test_liwc) \n",
        "\n",
        "  X_train_aud = scaler.fit_transform(X_train_aud)\n",
        "  X_test_aud = scaler.transform(X_test_aud) \n",
        "    \n",
        "  merged = concatenate([flat_text, flat_aud])\n",
        "\n",
        "  dense1 = Dense(128, activation='relu')(merged)\n",
        "  dense2 = Dense(64, activation='relu')(dense1)\n",
        "  outputs = Dense(5, activation='softmax')(dense2)\n",
        "\n",
        "  \n",
        "  model = Model(inputs=[inputs_text, inputs_aud], outputs=outputs)\n",
        "  for layer in model.layers[:3]:\n",
        "    layer.trainable = False  \n",
        "     \n",
        "  model.compile(loss='categorical_crossentropy',\n",
        "              optimizer='adam',\n",
        "              metrics=['accuracy'])\n",
        "\n",
        " \n",
        "  early_stop = EarlyStopping(monitor='val_loss', mode='min', patience=8) \n",
        "  checkpt = ModelCheckpoint(name+'.h5', monitor='val_loss', mode='min', save_best_only=True) \n",
        "\n",
        "  history = model.fit([X_train_liwc,X_train_aud], y_train, batch_size = 32, epochs=epochs, callbacks=[early_stop,checkpt,PlotLossesKeras()],validation_split=0.1,class_weight=cw) \n",
        "   \n",
        "  preds = model.predict([X_test_liwc,X_test_aud]) \n",
        "  preds = [x.argmax() for x in preds] \n",
        "  y_true = [x.argmax() for x in y_test]\n",
        "\n",
        "  print(confusion_matrix(y_true,preds))\n",
        "  print(classification_report(y_true,preds)) \n",
        "  print(accuracy_score(y_true,preds))  \n",
        "    \n",
        "  model.save(name)  \n",
        "\n",
        "  return model   "
      ]
    },
    {
      "cell_type": "code",
      "execution_count": null,
      "metadata": {
        "colab": {
          "background_save": true
        },
        "id": "0HVjpwxOr2x0"
      },
      "outputs": [],
      "source": [
        "model_m = train_multichannel_liwcaud(X_train_liwc,X_train_aud,y_train_tab,X_test_liwc,X_test_aud,y_test_tab,'multi_liwc_aud_ver1',epochs=275)\n"
      ]
    },
    {
      "cell_type": "code",
      "execution_count": null,
      "metadata": {
        "colab": {
          "background_save": true
        },
        "id": "4J_jtZjRcUnQ"
      },
      "outputs": [],
      "source": [
        "pip install --upgrade tabnet"
      ]
    },
    {
      "cell_type": "code",
      "execution_count": null,
      "metadata": {
        "colab": {
          "background_save": true
        },
        "id": "jw1m_X8ucWXv"
      },
      "outputs": [],
      "source": [
        "from tabnet import TabNet, TabNetClassifier  "
      ]
    },
    {
      "cell_type": "code",
      "execution_count": null,
      "metadata": {
        "colab": {
          "background_save": true
        },
        "id": "4CYpzE3ofhBV"
      },
      "outputs": [],
      "source": [
        "## feature columns\n",
        "\n",
        "liwc_feature_cols = []\n",
        "for col_name in [c for c in tabular_cols if c not in ['F0','voice_probability','pcm_loudness']]:\n",
        "    liwc_feature_cols.append(tf.feature_column.numeric_column(col_name))\n",
        "     \n",
        "aud_feature_cols = []\n",
        "for col_name in ['F0','voice_probability','pcm_loudness']:\n",
        "    aud_feature_cols.append(tf.feature_column.numeric_column(col_name))\n",
        "    "
      ]
    },
    {
      "cell_type": "code",
      "execution_count": null,
      "metadata": {
        "colab": {
          "background_save": true
        },
        "id": "CqC3tXKpl2UA"
      },
      "outputs": [],
      "source": [
        "def train_multichannel_liwcaud_tabnets(X_train_liwc,X_train_aud,y_train,X_test_liwc,X_test_aud,y_test,name,num_out=7,epochs=350):\n",
        "  \n",
        "  ## liwc \n",
        "  tn1 = TabNet(feature_columns=liwc_feature_cols, output_dim=32) \n",
        "  inputs_text = Input(shape=(X_train_liwc.shape[-1],))\n",
        "  text_layer = tn1.layers[2](inputs_text)\n",
        "  text_layer = tn1.layers[3](text_layer)\n",
        "\n",
        "  #for layer in tn1.layers[3:5]:\n",
        "  #  text_layer = layer(text_layer)\n",
        "  \n",
        "  flat_text = Flatten()(text_layer)\n",
        "  \n",
        "  ## prosodic  \n",
        "  tn2 = TabNet(feature_columns=aud_feature_cols, output_dim=32)\n",
        "  inputs_aud = Input(shape=(X_train_aud.shape[-1],))\n",
        "  aud_layer = tn2.layers[2](inputs_aud)\n",
        "  aud_layer = tn2.layers[3](aud_layer)\n",
        "  #for layer2 in tn2.layers[3:5]:\n",
        "  # aud_layer = layer2(aud_layer)  \n",
        "  flat_aud = Flatten()(aud_layer)\n",
        "  \n",
        "  # normalize tabulars \n",
        "  scaler = StandardScaler()\n",
        "  X_train_liwc = scaler.fit_transform(X_train_liwc)\n",
        "  X_test_liwc = scaler.transform(X_test_liwc) \n",
        "\n",
        "  X_train_aud = scaler.fit_transform(X_train_aud)\n",
        "  X_test_aud = scaler.transform(X_test_aud) \n",
        "  \n",
        "  merged = concatenate([flat_text, flat_aud])\n",
        "\n",
        "  dense1 = Dense(128, activation='relu')(merged)\n",
        "  dense2 = Dense(64, activation='relu')(dense1)\n",
        "  outputs = Dense(5, activation='softmax')(dense2)\n",
        "  \n",
        "  model = Model(inputs=[inputs_text, inputs_aud], outputs=outputs)\n",
        "  for layer in model.layers[:1]:\n",
        "    layer.trainable = False  \n",
        "     \n",
        "  model.compile(loss='categorical_crossentropy',\n",
        "              optimizer=tf.optimizers.Adam(1e-3),\n",
        "              metrics=['accuracy'])\n",
        "  \n",
        "  \n",
        "  history = model.fit([X_train_liwc,X_train_aud], y_train, batch_size = 32, epochs=epochs,validation_split=0.1) \n",
        "   \n",
        "  preds = model.predict([X_test_liwc,X_test_aud]) \n",
        "  preds = [x.argmax() for x in preds] \n",
        "  y_true = [x.argmax() for x in y_test]\n",
        "\n",
        "  print(confusion_matrix(y_true,preds))\n",
        "  print(classification_report(y_true,preds)) \n",
        "  print(accuracy_score(y_true,preds))  \n",
        "    \n",
        "  model.save(name)  \n",
        "   \n",
        "  return model     \n",
        "  "
      ]
    },
    {
      "cell_type": "code",
      "execution_count": null,
      "metadata": {
        "colab": {
          "background_save": true
        },
        "id": "WD-KUyeVlU31"
      },
      "outputs": [],
      "source": [
        "train_multichannel_liwcaud_tabnets(X_train_liwc,X_train_aud,y_train_tab,X_test_liwc,X_test_aud,y_test_tab,'tabnet_liwcandpros_v2',num_out=7, epochs=55)"
      ]
    },
    {
      "cell_type": "code",
      "execution_count": null,
      "metadata": {
        "colab": {
          "background_save": true
        },
        "id": "kvh-kXg9zpFB"
      },
      "outputs": [],
      "source": [
        "  "
      ]
    },
    {
      "cell_type": "code",
      "execution_count": null,
      "metadata": {
        "colab": {
          "background_save": true
        },
        "id": "LUfrG5YhBBlW"
      },
      "outputs": [],
      "source": [
        "'''\n",
        "from pytorch_tabnet.tab_model import TabNetClassifier\n",
        "\n",
        "tabnet = TabNetClassifier()\n",
        "\n",
        "tabnet.fit(X_train=X_train_liwc, y_train=np.array([np.argmax(c) for c in y_train_tab]),\n",
        "              eval_set=[(X_test_liwc, np.array([np.argmax(c) for c in y_test_tab]))], \n",
        "              patience=300, max_epochs=1500,eval_metric=['balanced_accuracy'])   \n",
        "              \n",
        "print(classification_report([np.argmax(c) for c in y_test_tab],tabnet.predict(X_test_liwc)))\n",
        "print(confusion_matrix([np.argmax(c) for c in y_test_tab],tabnet.predict(X_test_liwc)))  \n",
        "'''"
      ]
    },
    {
      "cell_type": "code",
      "execution_count": null,
      "metadata": {
        "colab": {
          "background_save": true
        },
        "id": "Yt1wsTOv8i0x"
      },
      "outputs": [],
      "source": [
        ""
      ]
    },
    {
      "cell_type": "code",
      "execution_count": null,
      "metadata": {
        "colab": {
          "background_save": true
        },
        "id": "fHDuhr0HoKCN"
      },
      "outputs": [],
      "source": [
        " "
      ]
    },
    {
      "cell_type": "code",
      "execution_count": null,
      "metadata": {
        "colab": {
          "background_save": true
        },
        "id": "fGCb1-hToKFV"
      },
      "outputs": [],
      "source": [
        ""
      ]
    },
    {
      "cell_type": "markdown",
      "metadata": {
        "id": "jDvbKhrHoKjR"
      },
      "source": [
        "LSTM"
      ]
    },
    {
      "cell_type": "code",
      "execution_count": null,
      "metadata": {
        "colab": {
          "background_save": true
        },
        "id": "-J6DAF-HoKLU"
      },
      "outputs": [],
      "source": [
        "## make model\n",
        "max_words = 64\n",
        "max_seq = 64\n",
        "emb_dim = 100  \n",
        "\n",
        "model = Sequential()\n",
        "model.add(Embedding(max_words, emb_dim, input_length=X_train_tab.shape[1])) \n",
        "model.add(keras.layers.Bidirectional(keras.layers.LSTM(128, return_sequences=True)))\n",
        "model.add(keras.layers.GlobalMaxPool1D())\n",
        "model.add(keras.layers.Dense(64, activation='relu'))\n",
        "model.add(keras.layers.Dropout(0.2))\n",
        "model.add(keras.layers.Dense(5, activation='softmax'))\n",
        "\n",
        "model.compile(loss='categorical_crossentropy', optimizer='adam', metrics=['accuracy'])\n",
        "print(model.summary())\n",
        "\n",
        "\n",
        "## train \n",
        "epochs = 60 \n",
        "batch_size = 64   \n",
        " \n",
        "history = model.fit(X_train_tab, y_train_tab, epochs=epochs, batch_size=batch_size,validation_split=0.1) \n",
        "\n",
        "preds = model.predict(X_test_tab)\n",
        "print(classification_report([np.argmax(c) for c in y_test_tab],[np.argmax(c) for c in preds]))\n",
        "print(confusion_matrix([np.argmax(c) for c in y_test_tab],[np.argmax(c) for c in preds]))  \n",
        "\n",
        " "
      ]
    },
    {
      "cell_type": "markdown",
      "metadata": {
        "id": "GWQIl4qioFOc"
      },
      "source": [
        "WideDeep (TabMlp, TabResnet, TabNet, TabTransformer, SAINT, FTTransformer TabPerceiver, TabFastFormer)"
      ]
    },
    {
      "cell_type": "markdown",
      "metadata": {
        "id": "kkSL9m7yXkaG"
      },
      "source": [
        "https://github.com/jrzaurin/pytorch-widedeep "
      ]
    },
    {
      "cell_type": "code",
      "execution_count": null,
      "metadata": {
        "colab": {
          "background_save": true
        },
        "id": "oMPL88vPIdkA"
      },
      "outputs": [],
      "source": [
        "! pip install pytorch-widedeep\n",
        "! pip install transformers"
      ]
    },
    {
      "cell_type": "code",
      "execution_count": null,
      "metadata": {
        "colab": {
          "background_save": true
        },
        "id": "EZE-S-7aO63G"
      },
      "outputs": [],
      "source": [
        "import transformers"
      ]
    },
    {
      "cell_type": "code",
      "execution_count": null,
      "metadata": {
        "colab": {
          "background_save": true
        },
        "id": "vum5EiT4IhfM"
      },
      "outputs": [],
      "source": [
        "import pytorch_widedeep"
      ]
    },
    {
      "cell_type": "code",
      "execution_count": null,
      "metadata": {
        "colab": {
          "background_save": true
        },
        "id": "A_3t2GHuL126"
      },
      "outputs": [],
      "source": [
        "import torch "
      ]
    },
    {
      "cell_type": "code",
      "execution_count": null,
      "metadata": {
        "colab": {
          "background_save": true
        },
        "id": "m4JWoJoxKRlA"
      },
      "outputs": [],
      "source": [
        "from pytorch_widedeep.models import TabMlp, WideDeep, TabResnet, BasicRNN, TabNet, FTTransformer,TabFastFormer \n",
        "from pytorch_widedeep.preprocessing import TabPreprocessor\n",
        "from pytorch_widedeep import Trainer\n",
        "from pytorch_widedeep.metrics import Accuracy, Recall, Precision "
      ]
    },
    {
      "cell_type": "code",
      "execution_count": null,
      "metadata": {
        "colab": {
          "background_save": true
        },
        "id": "jdeewwp8jiE4"
      },
      "outputs": [],
      "source": [
        ""
      ]
    },
    {
      "cell_type": "code",
      "execution_count": null,
      "metadata": {
        "colab": {
          "background_save": true
        },
        "id": "YZeavM24jRLV"
      },
      "outputs": [],
      "source": [
        "train_data = df_train.copy()\n",
        "test_data = df_test.copy()\n"
      ]
    },
    {
      "cell_type": "code",
      "execution_count": null,
      "metadata": {
        "colab": {
          "background_save": true
        },
        "id": "G3Vqu8iYKuzx"
      },
      "outputs": [],
      "source": [
        "# DeepTabular \n",
        "tab_preprocessor = TabPreprocessor(continuous_cols=tabular_cols) \n",
        "X_tab = tab_preprocessor.fit_transform(train_data[tabular_cols]) \n",
        " \n"
      ]
    },
    {
      "cell_type": "code",
      "execution_count": null,
      "metadata": {
        "colab": {
          "background_save": true
        },
        "id": "MZ_SsPn_Ms0Y"
      },
      "outputs": [],
      "source": [
        "tff = TabFastFormer(\n",
        "    column_idx=tab_preprocessor.column_idx,\n",
        "    continuous_cols=tabular_cols,\n",
        "  \n",
        ")\n",
        "model = WideDeep(deeptabular=tff , pred_dim=7)\n",
        "trainer = Trainer(model, objective=\"categorical_cross_entropy\")\n",
        "trainer.fit(X_tab=X_tab, target=[np.argmax(c) for c in y_train_tab], n_epochs=50, batch_size=256, val_split=0.2)  "
      ]
    },
    {
      "cell_type": "code",
      "execution_count": null,
      "metadata": {
        "colab": {
          "background_save": true
        },
        "id": "pfVvIYOFWnwn"
      },
      "outputs": [],
      "source": [
        "preds = trainer.predict(X_tab = tab_preprocessor.transform(test_data[tabular_cols])) \n",
        "\n",
        "print(classification_report([np.argmax(c) for c in y_test_tab],preds))\n",
        "print(confusion_matrix([np.argmax(c) for c in y_test_tab],preds))  "
      ]
    },
    {
      "cell_type": "code",
      "execution_count": null,
      "metadata": {
        "colab": {
          "background_save": true
        },
        "id": "mkhmy0BMWqpM"
      },
      "outputs": [],
      "source": [
        ""
      ]
    },
    {
      "cell_type": "code",
      "execution_count": null,
      "metadata": {
        "colab": {
          "background_save": true
        },
        "id": "HuuQKk0J6nrM"
      },
      "outputs": [],
      "source": [
        "ftt = FTTransformer(column_idx=tab_preprocessor.column_idx,  continuous_cols=tabular_cols)\n",
        "model = WideDeep(deeptabular=ftt, pred_dim=7) \n",
        "\n",
        "trainer = Trainer(model, objective=\"categorical_cross_entropy\")\n",
        "trainer.fit(X_tab=X_tab, target=[np.argmax(c) for c in y_train_tab], n_epochs=50, batch_size=256, val_split=0.2)  "
      ]
    },
    {
      "cell_type": "code",
      "execution_count": null,
      "metadata": {
        "colab": {
          "background_save": true
        },
        "id": "ySwbdymXWorb"
      },
      "outputs": [],
      "source": [
        "preds = trainer.predict(X_tab = tab_preprocessor.transform(test_data[tabular_cols])) \n",
        "\n",
        "print(classification_report([np.argmax(c) for c in y_test_tab],preds))\n",
        "print(confusion_matrix([np.argmax(c) for c in y_test_tab],preds))   "
      ]
    },
    {
      "cell_type": "code",
      "execution_count": null,
      "metadata": {
        "colab": {
          "background_save": true
        },
        "id": "xVYAbISzWpqe"
      },
      "outputs": [],
      "source": [
        "tabresnet = TabResnet(\n",
        "    column_idx=tab_preprocessor.column_idx,\n",
        "    continuous_cols=tabular_cols,\n",
        "    blocks_dims=[200, 100, 100],\n",
        "    mlp_hidden_dims=[100, 50],\n",
        ")\n",
        "model = WideDeep(deeptabular=tabresnet, pred_dim=7) "
      ]
    },
    {
      "cell_type": "code",
      "execution_count": null,
      "metadata": {
        "colab": {
          "background_save": true
        },
        "id": "4a4d56yuLW4G"
      },
      "outputs": [],
      "source": [
        "trainer = Trainer(model, objective=\"categorical_cross_entropy\")\n",
        "trainer.fit(X_tab=X_tab, target=[np.argmax(c) for c in y_train_tab], n_epochs=50, batch_size=256, val_split=0.2) "
      ]
    },
    {
      "cell_type": "code",
      "execution_count": null,
      "metadata": {
        "colab": {
          "background_save": true
        },
        "id": "QVRLFCDadLL9"
      },
      "outputs": [],
      "source": [
        "preds = trainer.predict(X_tab = tab_preprocessor.transform(test_data[tabular_cols])) \n",
        "\n",
        "print(classification_report([np.argmax(c) for c in y_test_tab],preds))\n",
        "print(confusion_matrix([np.argmax(c) for c in y_test_tab],preds))  "
      ]
    },
    {
      "cell_type": "code",
      "execution_count": null,
      "metadata": {
        "colab": {
          "background_save": true
        },
        "id": "zLbV88sOcv2s"
      },
      "outputs": [],
      "source": [
        ""
      ]
    },
    {
      "cell_type": "code",
      "execution_count": null,
      "metadata": {
        "colab": {
          "background_save": true
        },
        "id": "y8Lurx4_JE3n"
      },
      "outputs": [],
      "source": [
        ""
      ]
    }
  ],
  "metadata": {
    "accelerator": "GPU",
    "colab": {
      "collapsed_sections": [
        "D9J9WjaOS-ds",
        "KMeuoWqekN3M",
        "lXwii4UrU-xV",
        "yzz-Re4RlgI9"
      ],
      "machine_shape": "hm",
      "name": "NEWDATA Conversational Sentiment Analysis 6 Zeyneb.ipynb",
      "provenance": [],
      "include_colab_link": true
    },
    "gpuClass": "standard",
    "kernelspec": {
      "display_name": "Python 3",
      "name": "python3"
    },
    "language_info": {
      "name": "python"
    }
  },
  "nbformat": 4,
  "nbformat_minor": 0
}