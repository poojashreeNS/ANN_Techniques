{
  "cells": [
    {
      "cell_type": "markdown",
      "metadata": {
        "id": "view-in-github",
        "colab_type": "text"
      },
      "source": [
        "<a href=\"https://colab.research.google.com/github/poojashreeNS/ANN_Techniques/blob/main/Conversational_Sentiment_Analysis_6_Zeyneb.ipynb\" target=\"_parent\"><img src=\"https://colab.research.google.com/assets/colab-badge.svg\" alt=\"Open In Colab\"/></a>"
      ]
    },
    {
      "cell_type": "markdown",
      "metadata": {
        "id": "VadbO-RbSoiB"
      },
      "source": [
        "# Imports "
      ]
    },
    {
      "cell_type": "code",
      "execution_count": null,
      "metadata": {
        "id": "TRbFAWCaSfsL",
        "colab": {
          "base_uri": "https://localhost:8080/",
          "height": 1000
        },
        "outputId": "19eed95d-eaf2-4471-faaf-396094bf6c6d"
      },
      "outputs": [
        {
          "output_type": "stream",
          "name": "stdout",
          "text": [
            "Looking in indexes: https://pypi.org/simple, https://us-python.pkg.dev/colab-wheels/public/simple/\n",
            "Requirement already satisfied: tensorflow in /usr/local/lib/python3.7/dist-packages (2.8.2+zzzcolab20220527125636)\n",
            "Requirement already satisfied: opt-einsum>=2.3.2 in /usr/local/lib/python3.7/dist-packages (from tensorflow) (3.3.0)\n",
            "Requirement already satisfied: astunparse>=1.6.0 in /usr/local/lib/python3.7/dist-packages (from tensorflow) (1.6.3)\n",
            "Requirement already satisfied: tensorboard<2.9,>=2.8 in /usr/local/lib/python3.7/dist-packages (from tensorflow) (2.8.0)\n",
            "Requirement already satisfied: tensorflow-estimator<2.9,>=2.8 in /usr/local/lib/python3.7/dist-packages (from tensorflow) (2.8.0)\n",
            "Requirement already satisfied: wrapt>=1.11.0 in /usr/local/lib/python3.7/dist-packages (from tensorflow) (1.14.1)\n",
            "Requirement already satisfied: google-pasta>=0.1.1 in /usr/local/lib/python3.7/dist-packages (from tensorflow) (0.2.0)\n",
            "Requirement already satisfied: six>=1.12.0 in /usr/local/lib/python3.7/dist-packages (from tensorflow) (1.15.0)\n",
            "Requirement already satisfied: keras<2.9,>=2.8.0rc0 in /usr/local/lib/python3.7/dist-packages (from tensorflow) (2.8.0)\n",
            "Requirement already satisfied: libclang>=9.0.1 in /usr/local/lib/python3.7/dist-packages (from tensorflow) (14.0.1)\n",
            "Requirement already satisfied: absl-py>=0.4.0 in /usr/local/lib/python3.7/dist-packages (from tensorflow) (1.1.0)\n",
            "Requirement already satisfied: setuptools in /usr/local/lib/python3.7/dist-packages (from tensorflow) (57.4.0)\n",
            "Requirement already satisfied: keras-preprocessing>=1.1.1 in /usr/local/lib/python3.7/dist-packages (from tensorflow) (1.1.2)\n",
            "Requirement already satisfied: numpy>=1.20 in /usr/local/lib/python3.7/dist-packages (from tensorflow) (1.21.6)\n",
            "Requirement already satisfied: grpcio<2.0,>=1.24.3 in /usr/local/lib/python3.7/dist-packages (from tensorflow) (1.46.3)\n",
            "Requirement already satisfied: h5py>=2.9.0 in /usr/local/lib/python3.7/dist-packages (from tensorflow) (3.1.0)\n",
            "Requirement already satisfied: protobuf<3.20,>=3.9.2 in /usr/local/lib/python3.7/dist-packages (from tensorflow) (3.17.3)\n",
            "Requirement already satisfied: termcolor>=1.1.0 in /usr/local/lib/python3.7/dist-packages (from tensorflow) (1.1.0)\n",
            "Requirement already satisfied: tensorflow-io-gcs-filesystem>=0.23.1 in /usr/local/lib/python3.7/dist-packages (from tensorflow) (0.26.0)\n",
            "Requirement already satisfied: flatbuffers>=1.12 in /usr/local/lib/python3.7/dist-packages (from tensorflow) (2.0)\n",
            "Requirement already satisfied: gast>=0.2.1 in /usr/local/lib/python3.7/dist-packages (from tensorflow) (0.5.3)\n",
            "Requirement already satisfied: typing-extensions>=3.6.6 in /usr/local/lib/python3.7/dist-packages (from tensorflow) (4.1.1)\n",
            "Requirement already satisfied: wheel<1.0,>=0.23.0 in /usr/local/lib/python3.7/dist-packages (from astunparse>=1.6.0->tensorflow) (0.37.1)\n",
            "Requirement already satisfied: cached-property in /usr/local/lib/python3.7/dist-packages (from h5py>=2.9.0->tensorflow) (1.5.2)\n",
            "Requirement already satisfied: google-auth-oauthlib<0.5,>=0.4.1 in /usr/local/lib/python3.7/dist-packages (from tensorboard<2.9,>=2.8->tensorflow) (0.4.6)\n",
            "Requirement already satisfied: requests<3,>=2.21.0 in /usr/local/lib/python3.7/dist-packages (from tensorboard<2.9,>=2.8->tensorflow) (2.23.0)\n",
            "Requirement already satisfied: markdown>=2.6.8 in /usr/local/lib/python3.7/dist-packages (from tensorboard<2.9,>=2.8->tensorflow) (3.3.7)\n",
            "Requirement already satisfied: tensorboard-data-server<0.7.0,>=0.6.0 in /usr/local/lib/python3.7/dist-packages (from tensorboard<2.9,>=2.8->tensorflow) (0.6.1)\n",
            "Requirement already satisfied: tensorboard-plugin-wit>=1.6.0 in /usr/local/lib/python3.7/dist-packages (from tensorboard<2.9,>=2.8->tensorflow) (1.8.1)\n",
            "Requirement already satisfied: werkzeug>=0.11.15 in /usr/local/lib/python3.7/dist-packages (from tensorboard<2.9,>=2.8->tensorflow) (1.0.1)\n",
            "Requirement already satisfied: google-auth<3,>=1.6.3 in /usr/local/lib/python3.7/dist-packages (from tensorboard<2.9,>=2.8->tensorflow) (1.35.0)\n",
            "Requirement already satisfied: pyasn1-modules>=0.2.1 in /usr/local/lib/python3.7/dist-packages (from google-auth<3,>=1.6.3->tensorboard<2.9,>=2.8->tensorflow) (0.2.8)\n",
            "Requirement already satisfied: cachetools<5.0,>=2.0.0 in /usr/local/lib/python3.7/dist-packages (from google-auth<3,>=1.6.3->tensorboard<2.9,>=2.8->tensorflow) (4.2.4)\n",
            "Requirement already satisfied: rsa<5,>=3.1.4 in /usr/local/lib/python3.7/dist-packages (from google-auth<3,>=1.6.3->tensorboard<2.9,>=2.8->tensorflow) (4.8)\n",
            "Requirement already satisfied: requests-oauthlib>=0.7.0 in /usr/local/lib/python3.7/dist-packages (from google-auth-oauthlib<0.5,>=0.4.1->tensorboard<2.9,>=2.8->tensorflow) (1.3.1)\n",
            "Requirement already satisfied: importlib-metadata>=4.4 in /usr/local/lib/python3.7/dist-packages (from markdown>=2.6.8->tensorboard<2.9,>=2.8->tensorflow) (4.11.4)\n",
            "Requirement already satisfied: zipp>=0.5 in /usr/local/lib/python3.7/dist-packages (from importlib-metadata>=4.4->markdown>=2.6.8->tensorboard<2.9,>=2.8->tensorflow) (3.8.0)\n",
            "Requirement already satisfied: pyasn1<0.5.0,>=0.4.6 in /usr/local/lib/python3.7/dist-packages (from pyasn1-modules>=0.2.1->google-auth<3,>=1.6.3->tensorboard<2.9,>=2.8->tensorflow) (0.4.8)\n",
            "Requirement already satisfied: certifi>=2017.4.17 in /usr/local/lib/python3.7/dist-packages (from requests<3,>=2.21.0->tensorboard<2.9,>=2.8->tensorflow) (2022.6.15)\n",
            "Requirement already satisfied: idna<3,>=2.5 in /usr/local/lib/python3.7/dist-packages (from requests<3,>=2.21.0->tensorboard<2.9,>=2.8->tensorflow) (2.10)\n",
            "Requirement already satisfied: urllib3!=1.25.0,!=1.25.1,<1.26,>=1.21.1 in /usr/local/lib/python3.7/dist-packages (from requests<3,>=2.21.0->tensorboard<2.9,>=2.8->tensorflow) (1.24.3)\n",
            "Requirement already satisfied: chardet<4,>=3.0.2 in /usr/local/lib/python3.7/dist-packages (from requests<3,>=2.21.0->tensorboard<2.9,>=2.8->tensorflow) (3.0.4)\n",
            "Requirement already satisfied: oauthlib>=3.0.0 in /usr/local/lib/python3.7/dist-packages (from requests-oauthlib>=0.7.0->google-auth-oauthlib<0.5,>=0.4.1->tensorboard<2.9,>=2.8->tensorflow) (3.2.0)\n",
            "Looking in indexes: https://pypi.org/simple, https://us-python.pkg.dev/colab-wheels/public/simple/\n",
            "Collecting livelossplot\n",
            "  Downloading livelossplot-0.5.5-py3-none-any.whl (22 kB)\n",
            "Requirement already satisfied: bokeh in /usr/local/lib/python3.7/dist-packages (from livelossplot) (2.3.3)\n",
            "Requirement already satisfied: numpy<1.22 in /usr/local/lib/python3.7/dist-packages (from livelossplot) (1.21.6)\n",
            "Requirement already satisfied: matplotlib in /usr/local/lib/python3.7/dist-packages (from livelossplot) (3.2.2)\n",
            "Collecting ipython==7.*\n",
            "  Downloading ipython-7.34.0-py3-none-any.whl (793 kB)\n",
            "\u001b[K     |████████████████████████████████| 793 kB 9.7 MB/s \n",
            "\u001b[?25hRequirement already satisfied: decorator in /usr/local/lib/python3.7/dist-packages (from ipython==7.*->livelossplot) (4.4.2)\n",
            "Requirement already satisfied: traitlets>=4.2 in /usr/local/lib/python3.7/dist-packages (from ipython==7.*->livelossplot) (5.1.1)\n",
            "Requirement already satisfied: jedi>=0.16 in /usr/local/lib/python3.7/dist-packages (from ipython==7.*->livelossplot) (0.18.1)\n",
            "Requirement already satisfied: backcall in /usr/local/lib/python3.7/dist-packages (from ipython==7.*->livelossplot) (0.2.0)\n",
            "Collecting prompt-toolkit!=3.0.0,!=3.0.1,<3.1.0,>=2.0.0\n",
            "  Downloading prompt_toolkit-3.0.30-py3-none-any.whl (381 kB)\n",
            "\u001b[K     |████████████████████████████████| 381 kB 9.3 MB/s \n",
            "\u001b[?25hRequirement already satisfied: pygments in /usr/local/lib/python3.7/dist-packages (from ipython==7.*->livelossplot) (2.6.1)\n",
            "Requirement already satisfied: matplotlib-inline in /usr/local/lib/python3.7/dist-packages (from ipython==7.*->livelossplot) (0.1.3)\n",
            "Requirement already satisfied: pexpect>4.3 in /usr/local/lib/python3.7/dist-packages (from ipython==7.*->livelossplot) (4.8.0)\n",
            "Requirement already satisfied: setuptools>=18.5 in /usr/local/lib/python3.7/dist-packages (from ipython==7.*->livelossplot) (57.4.0)\n",
            "Requirement already satisfied: pickleshare in /usr/local/lib/python3.7/dist-packages (from ipython==7.*->livelossplot) (0.7.5)\n",
            "Requirement already satisfied: parso<0.9.0,>=0.8.0 in /usr/local/lib/python3.7/dist-packages (from jedi>=0.16->ipython==7.*->livelossplot) (0.8.3)\n",
            "Requirement already satisfied: ptyprocess>=0.5 in /usr/local/lib/python3.7/dist-packages (from pexpect>4.3->ipython==7.*->livelossplot) (0.7.0)\n",
            "Requirement already satisfied: wcwidth in /usr/local/lib/python3.7/dist-packages (from prompt-toolkit!=3.0.0,!=3.0.1,<3.1.0,>=2.0.0->ipython==7.*->livelossplot) (0.2.5)\n",
            "Requirement already satisfied: tornado>=5.1 in /usr/local/lib/python3.7/dist-packages (from bokeh->livelossplot) (5.1.1)\n",
            "Requirement already satisfied: packaging>=16.8 in /usr/local/lib/python3.7/dist-packages (from bokeh->livelossplot) (21.3)\n",
            "Requirement already satisfied: pillow>=7.1.0 in /usr/local/lib/python3.7/dist-packages (from bokeh->livelossplot) (7.1.2)\n",
            "Requirement already satisfied: Jinja2>=2.9 in /usr/local/lib/python3.7/dist-packages (from bokeh->livelossplot) (2.11.3)\n",
            "Requirement already satisfied: typing-extensions>=3.7.4 in /usr/local/lib/python3.7/dist-packages (from bokeh->livelossplot) (4.1.1)\n",
            "Requirement already satisfied: PyYAML>=3.10 in /usr/local/lib/python3.7/dist-packages (from bokeh->livelossplot) (3.13)\n",
            "Requirement already satisfied: python-dateutil>=2.1 in /usr/local/lib/python3.7/dist-packages (from bokeh->livelossplot) (2.8.2)\n",
            "Requirement already satisfied: MarkupSafe>=0.23 in /usr/local/lib/python3.7/dist-packages (from Jinja2>=2.9->bokeh->livelossplot) (2.0.1)\n",
            "Requirement already satisfied: pyparsing!=3.0.5,>=2.0.2 in /usr/local/lib/python3.7/dist-packages (from packaging>=16.8->bokeh->livelossplot) (3.0.9)\n",
            "Requirement already satisfied: six>=1.5 in /usr/local/lib/python3.7/dist-packages (from python-dateutil>=2.1->bokeh->livelossplot) (1.15.0)\n",
            "Requirement already satisfied: kiwisolver>=1.0.1 in /usr/local/lib/python3.7/dist-packages (from matplotlib->livelossplot) (1.4.3)\n",
            "Requirement already satisfied: cycler>=0.10 in /usr/local/lib/python3.7/dist-packages (from matplotlib->livelossplot) (0.11.0)\n",
            "Installing collected packages: prompt-toolkit, ipython, livelossplot\n",
            "  Attempting uninstall: prompt-toolkit\n",
            "    Found existing installation: prompt-toolkit 1.0.18\n",
            "    Uninstalling prompt-toolkit-1.0.18:\n",
            "      Successfully uninstalled prompt-toolkit-1.0.18\n",
            "  Attempting uninstall: ipython\n",
            "    Found existing installation: ipython 5.5.0\n",
            "    Uninstalling ipython-5.5.0:\n",
            "      Successfully uninstalled ipython-5.5.0\n",
            "\u001b[31mERROR: pip's dependency resolver does not currently take into account all the packages that are installed. This behaviour is the source of the following dependency conflicts.\n",
            "jupyter-console 5.2.0 requires prompt-toolkit<2.0.0,>=1.0.0, but you have prompt-toolkit 3.0.30 which is incompatible.\n",
            "google-colab 1.0.0 requires ipython~=5.5.0, but you have ipython 7.34.0 which is incompatible.\u001b[0m\n",
            "Successfully installed ipython-7.34.0 livelossplot-0.5.5 prompt-toolkit-3.0.30\n"
          ]
        },
        {
          "output_type": "display_data",
          "data": {
            "application/vnd.colab-display-data+json": {
              "pip_warning": {
                "packages": [
                  "IPython",
                  "prompt_toolkit"
                ]
              }
            }
          },
          "metadata": {}
        },
        {
          "output_type": "stream",
          "name": "stdout",
          "text": [
            "Looking in indexes: https://pypi.org/simple, https://us-python.pkg.dev/colab-wheels/public/simple/\n",
            "Collecting shap\n",
            "  Downloading shap-0.41.0-cp37-cp37m-manylinux_2_12_x86_64.manylinux2010_x86_64.whl (569 kB)\n",
            "\u001b[K     |████████████████████████████████| 569 kB 8.5 MB/s \n",
            "\u001b[?25hRequirement already satisfied: cloudpickle in /usr/local/lib/python3.7/dist-packages (from shap) (1.3.0)\n",
            "Requirement already satisfied: pandas in /usr/local/lib/python3.7/dist-packages (from shap) (1.3.5)\n",
            "Requirement already satisfied: scikit-learn in /usr/local/lib/python3.7/dist-packages (from shap) (1.0.2)\n",
            "Collecting slicer==0.0.7\n",
            "  Downloading slicer-0.0.7-py3-none-any.whl (14 kB)\n",
            "Requirement already satisfied: packaging>20.9 in /usr/local/lib/python3.7/dist-packages (from shap) (21.3)\n",
            "Requirement already satisfied: scipy in /usr/local/lib/python3.7/dist-packages (from shap) (1.4.1)\n",
            "Requirement already satisfied: tqdm>4.25.0 in /usr/local/lib/python3.7/dist-packages (from shap) (4.64.0)\n",
            "Requirement already satisfied: numpy in /usr/local/lib/python3.7/dist-packages (from shap) (1.21.6)\n",
            "Requirement already satisfied: numba in /usr/local/lib/python3.7/dist-packages (from shap) (0.51.2)\n",
            "Requirement already satisfied: pyparsing!=3.0.5,>=2.0.2 in /usr/local/lib/python3.7/dist-packages (from packaging>20.9->shap) (3.0.9)\n",
            "Requirement already satisfied: llvmlite<0.35,>=0.34.0.dev0 in /usr/local/lib/python3.7/dist-packages (from numba->shap) (0.34.0)\n",
            "Requirement already satisfied: setuptools in /usr/local/lib/python3.7/dist-packages (from numba->shap) (57.4.0)\n",
            "Requirement already satisfied: pytz>=2017.3 in /usr/local/lib/python3.7/dist-packages (from pandas->shap) (2022.1)\n",
            "Requirement already satisfied: python-dateutil>=2.7.3 in /usr/local/lib/python3.7/dist-packages (from pandas->shap) (2.8.2)\n",
            "Requirement already satisfied: six>=1.5 in /usr/local/lib/python3.7/dist-packages (from python-dateutil>=2.7.3->pandas->shap) (1.15.0)\n",
            "Requirement already satisfied: threadpoolctl>=2.0.0 in /usr/local/lib/python3.7/dist-packages (from scikit-learn->shap) (3.1.0)\n",
            "Requirement already satisfied: joblib>=0.11 in /usr/local/lib/python3.7/dist-packages (from scikit-learn->shap) (1.1.0)\n",
            "Installing collected packages: slicer, shap\n",
            "Successfully installed shap-0.41.0 slicer-0.0.7\n",
            "Looking in indexes: https://pypi.org/simple, https://us-python.pkg.dev/colab-wheels/public/simple/\n",
            "Collecting transformers\n",
            "  Downloading transformers-4.20.1-py3-none-any.whl (4.4 MB)\n",
            "\u001b[K     |████████████████████████████████| 4.4 MB 7.9 MB/s \n",
            "\u001b[?25hRequirement already satisfied: requests in /usr/local/lib/python3.7/dist-packages (from transformers) (2.23.0)\n",
            "Requirement already satisfied: numpy>=1.17 in /usr/local/lib/python3.7/dist-packages (from transformers) (1.21.6)\n",
            "Collecting tokenizers!=0.11.3,<0.13,>=0.11.1\n",
            "  Downloading tokenizers-0.12.1-cp37-cp37m-manylinux_2_12_x86_64.manylinux2010_x86_64.whl (6.6 MB)\n",
            "\u001b[K     |████████████████████████████████| 6.6 MB 42.8 MB/s \n",
            "\u001b[?25hRequirement already satisfied: importlib-metadata in /usr/local/lib/python3.7/dist-packages (from transformers) (4.11.4)\n",
            "Collecting pyyaml>=5.1\n",
            "  Downloading PyYAML-6.0-cp37-cp37m-manylinux_2_5_x86_64.manylinux1_x86_64.manylinux_2_12_x86_64.manylinux2010_x86_64.whl (596 kB)\n",
            "\u001b[K     |████████████████████████████████| 596 kB 69.9 MB/s \n",
            "\u001b[?25hRequirement already satisfied: tqdm>=4.27 in /usr/local/lib/python3.7/dist-packages (from transformers) (4.64.0)\n",
            "Collecting huggingface-hub<1.0,>=0.1.0\n",
            "  Downloading huggingface_hub-0.8.1-py3-none-any.whl (101 kB)\n",
            "\u001b[K     |████████████████████████████████| 101 kB 10.4 MB/s \n",
            "\u001b[?25hRequirement already satisfied: filelock in /usr/local/lib/python3.7/dist-packages (from transformers) (3.7.1)\n",
            "Requirement already satisfied: packaging>=20.0 in /usr/local/lib/python3.7/dist-packages (from transformers) (21.3)\n",
            "Requirement already satisfied: regex!=2019.12.17 in /usr/local/lib/python3.7/dist-packages (from transformers) (2022.6.2)\n",
            "Requirement already satisfied: typing-extensions>=3.7.4.3 in /usr/local/lib/python3.7/dist-packages (from huggingface-hub<1.0,>=0.1.0->transformers) (4.1.1)\n",
            "Requirement already satisfied: pyparsing!=3.0.5,>=2.0.2 in /usr/local/lib/python3.7/dist-packages (from packaging>=20.0->transformers) (3.0.9)\n",
            "Requirement already satisfied: zipp>=0.5 in /usr/local/lib/python3.7/dist-packages (from importlib-metadata->transformers) (3.8.0)\n",
            "Requirement already satisfied: chardet<4,>=3.0.2 in /usr/local/lib/python3.7/dist-packages (from requests->transformers) (3.0.4)\n",
            "Requirement already satisfied: urllib3!=1.25.0,!=1.25.1,<1.26,>=1.21.1 in /usr/local/lib/python3.7/dist-packages (from requests->transformers) (1.24.3)\n",
            "Requirement already satisfied: idna<3,>=2.5 in /usr/local/lib/python3.7/dist-packages (from requests->transformers) (2.10)\n",
            "Requirement already satisfied: certifi>=2017.4.17 in /usr/local/lib/python3.7/dist-packages (from requests->transformers) (2022.6.15)\n",
            "Installing collected packages: pyyaml, tokenizers, huggingface-hub, transformers\n",
            "  Attempting uninstall: pyyaml\n",
            "    Found existing installation: PyYAML 3.13\n",
            "    Uninstalling PyYAML-3.13:\n",
            "      Successfully uninstalled PyYAML-3.13\n",
            "Successfully installed huggingface-hub-0.8.1 pyyaml-6.0 tokenizers-0.12.1 transformers-4.20.1\n"
          ]
        }
      ],
      "source": [
        "!pip install tensorflow\n",
        "!pip install livelossplot   \n",
        "!pip install shap \n",
        "!pip install transformers     "
      ]
    },
    {
      "cell_type": "code",
      "execution_count": null,
      "metadata": {
        "id": "wgXKsBwCRYxa"
      },
      "outputs": [],
      "source": [
        "import pandas as pd\n",
        "import numpy as np\n",
        "\n",
        "import matplotlib.pyplot as plt\n",
        "import seaborn as sns \n",
        "\n",
        "import random\n",
        "import re \n",
        "\n",
        "from sklearn.preprocessing import LabelEncoder\n",
        "from sklearn.model_selection import train_test_split \n",
        "from sklearn.model_selection import StratifiedShuffleSplit\n",
        "from sklearn.metrics import confusion_matrix, classification_report, accuracy_score\n",
        "from sklearn.preprocessing import StandardScaler\n",
        "\n",
        "import tensorflow as tf\n",
        "from keras.utils.np_utils import to_categorical\n",
        "from keras.preprocessing.text import Tokenizer\n",
        "from keras.preprocessing.sequence import pad_sequences \n",
        "\n",
        "import tensorflow as tf \n",
        "import keras\n",
        "from keras.models import Sequential\n",
        "from tensorflow.keras import layers\n",
        "from keras.layers import Dense, Embedding, LSTM, SpatialDropout1D, Input, Conv1D, Flatten, MaxPooling1D, Dropout, GlobalMaxPooling1D, Bidirectional, GRU, CuDNNGRU, Activation, GlobalAveragePooling1D \n",
        "from keras.layers import Dot, Reshape, TimeDistributed, concatenate, BatchNormalization\n",
        "from keras.callbacks import EarlyStopping, ModelCheckpoint\n",
        "from keras.layers.merge import concatenate\n",
        "from keras.models import Model\n",
        "\n",
        "from keras.losses import SparseCategoricalCrossentropy\n",
        "from livelossplot import PlotLossesKeras\n",
        "from keras.callbacks import Callback\n",
        "\n",
        "from transformers import DistilBertTokenizer, TFDistilBertModel, DistilBertConfig \n",
        "from transformers import TFBertModel, BertConfig, BertTokenizer,TFBertForSequenceClassification\n",
        "\n",
        "from keras.utils.vis_utils import plot_model \n",
        "\n",
        "from google.colab import files\n"
      ]
    },
    {
      "cell_type": "code",
      "execution_count": null,
      "metadata": {
        "id": "xo-tELrqS1gB"
      },
      "outputs": [],
      "source": [
        ""
      ]
    },
    {
      "cell_type": "markdown",
      "metadata": {
        "id": "D9J9WjaOS-ds"
      },
      "source": [
        "### Load Data + basic functions"
      ]
    },
    {
      "cell_type": "code",
      "execution_count": null,
      "metadata": {
        "id": "NLOgRhcqTArD"
      },
      "outputs": [],
      "source": [
        "tabular_cols = [ \n",
        "                'Analytic', 'Clout', 'Authentic', 'Tone', 'WPS', 'WC',  \n",
        "                'BigWords', 'Dic', 'Linguistic', 'function', 'pronoun', 'ppron', \n",
        "                'i', 'we', 'you', 'shehe', 'they', 'ipron', 'det', 'article', 'number', \n",
        "                'prep', 'auxverb', 'adverb', 'conj', 'negate', 'verb', 'adj', 'quantity', \n",
        "                'Drives', 'affiliation', 'achieve', 'power', 'Cognition', 'allnone', \n",
        "                'cogproc', 'insight', 'cause', 'discrep', 'tentat', 'certitude', \n",
        "                'differ', 'memory', 'Affect', 'tone_pos', 'tone_neg', 'emo_pos', \n",
        "                'emo_neg', 'emo_anx', 'emo_anger', 'emo_sad', 'swear', 'Social', \n",
        "                'socbehav', 'prosocial', 'polite', 'conflict', 'moral', 'comm', 'socrefs', \n",
        "                'family', 'friend', 'female', 'male', 'Culture', 'politic', 'ethnicity', 'tech',\n",
        "                'Lifestyle', 'leisure', 'home', 'work', 'money', 'relig', 'Physical', \n",
        "                'health', 'illness', 'wellness', 'mental', 'substances', 'sexual', \n",
        "                'food', 'death', 'need', 'want', 'acquire', 'lack', 'fulfill', 'fatigue', \n",
        "                'reward', 'risk', 'curiosity', 'allure', 'Perception', 'attention', 'motion',\n",
        "                'space', 'visual', 'auditory', 'feeling', 'time', 'focuspast', 'focuspresent',\n",
        "                'focusfuture', 'Conversation', 'netspeak', 'assent', 'nonflu', 'filler', 'AllPunc',\n",
        "                'Apostro', 'OtherP', 'voice_probability', 'pcm_loudness', 'F0']"
      ]
    },
    {
      "cell_type": "code",
      "execution_count": null,
      "metadata": {
        "id": "YcymxiikTEWB"
      },
      "outputs": [],
      "source": [
        " \n",
        "## prepare data \n",
        " \n",
        "def load_prep_data(data,texts,prosodics,is_train=True):\n",
        "  \n",
        "  # match ids to get target  \n",
        "  if is_train:\n",
        "    data['target'] = data['instance_num'].apply(lambda x: prosodics[prosodics['instance_num']==x]['emotion'].values[0])\n",
        "  else:\n",
        "    data['target'] = data['instance_num'].apply(lambda x: prosodics[prosodics['instance_num']==x]['emotion_1'].values[0])\n",
        "\n",
        "  # encode target\n",
        "  \n",
        "  encoder = {'Contempt' : 0, 'Sadness' : 1, 'Frustration' : 2, 'Boredom' : 3, 'Surprise' : 4, 'Interest' : 5, 'Joy' : 6}\n",
        "  le = data['target'].apply(lambda x: encoder[x]).values \n",
        "  \n",
        "  out_classes = to_categorical( \n",
        "    le, num_classes=7) \n",
        " \n",
        "  data['target'] = out_classes \n",
        "  \n",
        "  # match ids to get other features \n",
        "  temp_vp = []\n",
        "  temp_pcm = []\n",
        "  temp_f0 = []\n",
        "  for x in data['instance_num'].values:\n",
        "    temp = prosodics[prosodics['instance_num']==x] \n",
        "    temp_vp.append(temp['voice_probability'].values[0])\n",
        "    temp_pcm.append(temp['pcm_loudness'].values[0])\n",
        "    temp_f0.append(temp['F0'].values[0])\n",
        "  \n",
        "  data['voice_probability'] = temp_vp\n",
        "  data['pcm_loudness'] = temp_pcm\n",
        "  data['F0'] = temp_f0\n",
        "  \n",
        "  #drops = data.describe().transpose()[data.describe().transpose()['std'] == 0 ].index.to_list( )\n",
        "  \n",
        "  liwc_aud = data[tabular_cols]\n",
        "  liwc = liwc_aud.drop(['voice_probability', 'pcm_loudness', 'F0'],axis=1).to_numpy()\n",
        "  aud = liwc_aud[['voice_probability', 'pcm_loudness', 'F0']].to_numpy()\n",
        "  \n",
        "  text = texts['transcript'].values\n",
        "  text_y = texts['emotion_1'].values\n",
        "  \n",
        "  le_t = np.array([encoder[c] for c in text_y])\n",
        "  text_y = to_categorical( \n",
        "    le_t, num_classes=7) \n",
        "  \n",
        "  return liwc_aud.to_numpy(), liwc, aud, text, out_classes, text_y \n"
      ]
    },
    {
      "cell_type": "code",
      "execution_count": null,
      "metadata": {
        "colab": {
          "base_uri": "https://localhost:8080/"
        },
        "id": "4HKkgersTGuj",
        "outputId": "7d3aeadc-4290-425a-813b-82557c0cb340"
      },
      "outputs": [
        {
          "output_type": "stream",
          "name": "stderr",
          "text": [
            "[nltk_data] Downloading package stopwords to /root/nltk_data...\n",
            "[nltk_data]   Unzipping corpora/stopwords.zip.\n"
          ]
        }
      ],
      "source": [
        "## text preprocessing\n",
        "\n",
        "from nltk.stem import PorterStemmer\n",
        "import nltk\n",
        "nltk.download('stopwords') \n",
        "from nltk.corpus import stopwords\n",
        "stop_list = stopwords.words('english')  \n",
        "stop_list.extend(['yeah','um'])\n",
        "\n",
        "def preprocess(text):\n",
        "    ## simple cleaning \n",
        "    if type(text)!=str:\n",
        "      return ''\n",
        "    text = text.lower()\n",
        "    text = re.sub(r'[/(){}\\[\\]\\|@,;]',' ',text)\n",
        "    text = ' '.join([w for w in text.split(' ') if w not in stop_list])\n",
        "    #stemmer = PorterStemmer()\n",
        "    #text = ' '.join([stemmer.stem(w) for w in text.split(' ')])\n",
        "\n",
        "    return text  \n",
        "\n",
        "def preprocess_version_2(text):\n",
        "    ## simple cleaning \n",
        "    if type(text)!=str:\n",
        "      return ''\n",
        "    text = text.lower()\n",
        "    #text = re.sub(r'[/(){}\\[\\]\\|@,;]',' ',text)\n",
        "    #text = ' '.join([w for w in text.split(' ') if w not in stop_list])\n",
        "    #stemmer = PorterStemmer()\n",
        "    #text = ' '.join([stemmer.stem(w) for w in text.split(' ')])\n",
        "\n",
        "    return text         "
      ]
    },
    {
      "cell_type": "code",
      "execution_count": null,
      "metadata": {
        "id": "QUvP4bScTMAI"
      },
      "outputs": [],
      "source": [
        "train_data = pd.read_csv('/content/drive/MyDrive/ICANN/Proj-Conversational-ASIST/MISC-ASIST/training_balanced/balanced_training_liwc_features.csv')\n",
        "train_texts = pd.read_csv('/content/drive/MyDrive/ICANN/Proj-Conversational-ASIST/MISC-ASIST/training_balanced/balanced_training_utterance.csv')\n",
        "train_auds = pd.read_csv('/content/drive/MyDrive/ICANN/Proj-Conversational-ASIST/MISC-ASIST/training_balanced/balanced_training_prosodic_features.csv')\n",
        "\n",
        "X_train_tab,X_train_liwc,X_train_aud, X_train_text, y_train_tab, y_train_text = load_prep_data(train_data, train_texts, train_auds)\n",
        "\n",
        "test_data = pd.read_csv('/content/drive/MyDrive/ICANN/Proj-Conversational-ASIST/MISC-ASIST/test/test_liwc.csv')\n",
        "test_texts = pd.read_csv('/content/drive/MyDrive/ICANN/Proj-Conversational-ASIST/MISC-ASIST/test/test_utterance.csv')\n",
        "test_auds = pd.read_csv('/content/drive/MyDrive/ICANN/Proj-Conversational-ASIST/MISC-ASIST/test/test_prosodic.csv')\n",
        "  \n",
        "X_test_tab, X_test_liwc, X_test_aud, X_test_text, y_test_tab, y_test_text = load_prep_data(test_data, test_texts, test_auds, False)\n"
      ]
    },
    {
      "cell_type": "code",
      "execution_count": null,
      "metadata": {
        "id": "rqbVUPSzUm9P"
      },
      "outputs": [],
      "source": [
        "X_train_text = np.array([preprocess_version_2(text) for text in X_train_text])  \n",
        "X_test_text = np.array([preprocess_version_2(text) for text in X_test_text])"
      ]
    },
    {
      "cell_type": "code",
      "execution_count": null,
      "metadata": {
        "colab": {
          "base_uri": "https://localhost:8080/"
        },
        "id": "nXyuG9HrUnb2",
        "outputId": "44097f42-d9be-4e04-ac64-baeac78845b8"
      },
      "outputs": [
        {
          "output_type": "execute_result",
          "data": {
            "text/plain": [
              "((28245, 115), (28245,), (28245, 7), (28245, 7))"
            ]
          },
          "metadata": {},
          "execution_count": 8
        }
      ],
      "source": [
        "X_train_tab.shape, X_train_text.shape, y_train_tab.shape, y_train_text.shape"
      ]
    },
    {
      "cell_type": "code",
      "execution_count": null,
      "metadata": {
        "colab": {
          "base_uri": "https://localhost:8080/"
        },
        "id": "MMn7vM9hUszy",
        "outputId": "0560fc79-5eb2-459c-8aa0-cfa356375404"
      },
      "outputs": [
        {
          "output_type": "execute_result",
          "data": {
            "text/plain": [
              "((1547, 115), (1547,), (1547, 7), (1547, 7))"
            ]
          },
          "metadata": {},
          "execution_count": 9
        }
      ],
      "source": [
        "X_test_tab.shape, X_test_text.shape, y_test_tab.shape, y_test_text.shape "
      ]
    },
    {
      "cell_type": "code",
      "execution_count": null,
      "metadata": {
        "id": "a-i4x4gOUtNX"
      },
      "outputs": [],
      "source": [
        ""
      ]
    },
    {
      "cell_type": "code",
      "execution_count": null,
      "metadata": {
        "colab": {
          "base_uri": "https://localhost:8080/",
          "height": 339
        },
        "id": "Mom4_S4MUxXy",
        "outputId": "a0e030fc-fafa-4e25-819f-b66abb8ba453"
      },
      "outputs": [
        {
          "output_type": "stream",
          "name": "stderr",
          "text": [
            "/usr/local/lib/python3.7/dist-packages/seaborn/_decorators.py:43: FutureWarning: Pass the following variable as a keyword arg: x. From version 0.12, the only valid positional argument will be `data`, and passing other arguments without an explicit keyword will result in an error or misinterpretation.\n",
            "  FutureWarning\n"
          ]
        },
        {
          "output_type": "execute_result",
          "data": {
            "text/plain": [
              "<matplotlib.axes._subplots.AxesSubplot at 0x7fba27b26490>"
            ]
          },
          "metadata": {},
          "execution_count": 10
        },
        {
          "output_type": "display_data",
          "data": {
            "text/plain": [
              "<Figure size 432x288 with 1 Axes>"
            ],
            "image/png": "[encoded data removed]"
          },
          "metadata": {
            "needs_background": "light"
          }
        }
      ],
      "source": [
        "sns.countplot([c.argmax() for c in y_train_tab])  "
      ]
    },
    {
      "cell_type": "code",
      "execution_count": null,
      "metadata": {
        "id": "0Jc01CJNUxro"
      },
      "outputs": [],
      "source": [
        ""
      ]
    },
    {
      "cell_type": "code",
      "execution_count": null,
      "metadata": {
        "id": "cD5eD8u_UysJ"
      },
      "outputs": [],
      "source": [
        "def predictions(preds):\n",
        "  z = np.zeros(len(preds))\n",
        "  z[np.argmax(preds)] = 1 \n",
        "  return z\n",
        "  \n",
        "  return z  \n",
        "def evaluate_model(y_true, y_preds):\n",
        "  print(classification_report([np.argmax(y) for y in y_true],[np.argmax(y) for y in y_preds]))\n",
        "  print(confusion_matrix([np.argmax(y) for y in y_true],[np.argmax(y) for y in y_preds]))\n",
        " "
      ]
    },
    {
      "cell_type": "code",
      "execution_count": null,
      "metadata": {
        "id": "jq9PBG2mU8Vi"
      },
      "outputs": [],
      "source": [
        ""
      ]
    },
    {
      "cell_type": "markdown",
      "metadata": {
        "id": "KMeuoWqekN3M"
      },
      "source": [
        "# Check"
      ]
    },
    {
      "cell_type": "code",
      "execution_count": null,
      "metadata": {
        "colab": {
          "base_uri": "https://localhost:8080/"
        },
        "id": "SOI8XxndkNYO",
        "outputId": "80a7687c-e07f-4c18-e4ac-61daf7728786"
      },
      "outputs": [
        {
          "output_type": "execute_result",
          "data": {
            "text/plain": [
              "((28245, 115), (28245,), (28245, 7), (28245, 7))"
            ]
          },
          "metadata": {},
          "execution_count": 12
        }
      ],
      "source": [
        "X_train_tab.shape, X_train_text.shape, y_train_tab.shape, y_train_text.shape "
      ]
    },
    {
      "cell_type": "code",
      "execution_count": null,
      "metadata": {
        "colab": {
          "base_uri": "https://localhost:8080/"
        },
        "id": "7fE-f8vzkQfc",
        "outputId": "170bedb4-3a94-4efa-f3eb-7ad4a561cdd9"
      },
      "outputs": [
        {
          "output_type": "execute_result",
          "data": {
            "text/plain": [
              "(array([89.52      , 40.06      ,  1.        , 20.23      , 11.        ,\n",
              "        11.        , 18.18      , 81.82      , 63.64      , 54.55      ,\n",
              "         0.        ,  0.        ,  0.        ,  0.        ,  0.        ,\n",
              "         0.        ,  0.        ,  0.        , 27.27      , 18.18      ,\n",
              "         0.        ,  9.09      , 18.18      ,  9.09      ,  0.        ,\n",
              "         0.        , 27.27      ,  0.        ,  9.09      ,  0.        ,\n",
              "         0.        ,  0.        ,  0.        ,  0.        ,  0.        ,\n",
              "         0.        ,  0.        ,  0.        ,  0.        ,  0.        ,\n",
              "         0.        ,  0.        ,  0.        ,  0.        ,  0.        ,\n",
              "         0.        ,  0.        ,  0.        ,  0.        ,  0.        ,\n",
              "         0.        ,  0.        ,  9.09      ,  9.09      ,  0.        ,\n",
              "         0.        ,  0.        ,  0.        ,  9.09      ,  0.        ,\n",
              "         0.        ,  0.        ,  0.        ,  0.        ,  0.        ,\n",
              "         0.        ,  0.        ,  0.        ,  0.        ,  0.        ,\n",
              "         0.        ,  0.        ,  0.        ,  0.        ,  9.09      ,\n",
              "         9.09      ,  9.09      ,  0.        ,  0.        ,  0.        ,\n",
              "         0.        ,  0.        ,  0.        ,  0.        ,  0.        ,\n",
              "         0.        ,  0.        ,  0.        ,  0.        ,  0.        ,\n",
              "         0.        ,  0.        ,  0.        ,  9.09      ,  0.        ,\n",
              "         0.        ,  0.        ,  0.        ,  9.09      ,  0.        ,\n",
              "         0.        ,  9.09      ,  9.09      ,  0.        ,  0.        ,\n",
              "         0.        ,  0.        ,  0.        ,  0.        ,  0.        ,\n",
              "         0.        ,  0.        ,  0.50848187,  0.40643222, 64.23972016]),\n",
              " 'ask mary has been hearing a lot about the hpv vaccine',\n",
              " array([0., 0., 0., 0., 0., 1., 0.], dtype=float32))"
            ]
          },
          "metadata": {},
          "execution_count": 13
        }
      ],
      "source": [
        "X_train_tab[0], X_train_text[0], y_train_tab[0]"
      ]
    },
    {
      "cell_type": "code",
      "execution_count": null,
      "metadata": {
        "id": "aRvZnBWYkQnQ"
      },
      "outputs": [],
      "source": [
        ""
      ]
    },
    {
      "cell_type": "markdown",
      "metadata": {
        "id": "lXwii4UrU-xV"
      },
      "source": [
        "# Models (Text)"
      ]
    },
    {
      "cell_type": "code",
      "execution_count": null,
      "metadata": {
        "id": "aTfAPzmVVAHv"
      },
      "outputs": [],
      "source": [
        ""
      ]
    },
    {
      "cell_type": "markdown",
      "metadata": {
        "id": "yqTF8QCiVBEt"
      },
      "source": [
        "BERT [fine tune by itsself]"
      ]
    },
    {
      "cell_type": "code",
      "execution_count": null,
      "metadata": {
        "id": "eOkl3DK3VGSs"
      },
      "outputs": [],
      "source": [
        "def tokenize_bert(X_train_text,y_train_text, tokenizer):\n",
        "  \n",
        "\n",
        "  input_ids=[]\n",
        "  attention_masks=[]\n",
        "\n",
        "  for sent in X_train_text:\n",
        "      bert_inp=tokenizer.encode_plus(sent,add_special_tokens = True,max_length =100,pad_to_max_length = True,return_attention_mask = True)\n",
        "      input_ids.append(bert_inp['input_ids'])\n",
        "      attention_masks.append(bert_inp['attention_mask']) \n",
        "  \n",
        "  input_ids=np.asarray(input_ids)\n",
        "  attention_masks=np.array(attention_masks)\n",
        "  labels=np.array([np.argmax(c) for c in y_train_text]) \n",
        "\n",
        "  return input_ids, attention_masks, labels \n"
      ]
    },
    {
      "cell_type": "code",
      "execution_count": null,
      "metadata": {
        "id": "Pph23FEBZ3bp"
      },
      "outputs": [],
      "source": [
        "def train_bert(X_train_text, X_test_text, y_train_text, y_test_text, name, model, tokenizer):\n",
        "  X_train_input_ids, X_train_attention_masks, y_train_labels = tokenize_bert(X_train_text,y_train_text,tokenizer)\n",
        "  X_test_input_ids, X_test_attention_masks, y_test_labels = tokenize_bert(X_test_text,y_test_text,tokenizer)  \n",
        "  \n",
        "  model_bert = model\n",
        "  model_bert.compile(\n",
        "      optimizer=tf.keras.optimizers.Adam(learning_rate=3e-5,epsilon=1e-08,clipnorm=1.0),\n",
        "      loss=SparseCategoricalCrossentropy(from_logits=True),\n",
        "      metrics=[\"accuracy\"],\n",
        "  )  \n",
        "\n",
        "  model_bert.fit( \n",
        "      [X_train_input_ids,X_train_attention_masks], y_train_labels, \n",
        "      epochs=4, \n",
        "      batch_size=64,  \n",
        "      callbacks = [PlotLossesKeras()],\n",
        "      validation_split=0.2\n",
        "  )\n",
        "  model.save_weights(name ) \n",
        "  # files.download('/content/'+name) \n",
        "\n",
        "  \n",
        "  ## loading weights for predicting\n",
        "  model_bert = model\n",
        "  model_bert.compile(\n",
        "      optimizer=tf.keras.optimizers.Adam(learning_rate=3e-5,epsilon=1e-08,clipnorm=1.0),\n",
        "      loss=SparseCategoricalCrossentropy(from_logits=True),\n",
        "      metrics=[\"accuracy\"]\n",
        "  )  \n",
        "\n",
        "  model_bert.load_weights('/content/'+name)\n",
        "  pred_bert = model_bert.predict([X_test_input_ids, X_test_attention_masks])\n",
        "  print(evaluate_model(y_test_text, np.array(tf.nn.softmax(pred_bert[0])))) \n",
        "\n",
        "  return model_bert \n",
        "  "
      ]
    },
    {
      "cell_type": "code",
      "source": [
        "pip install transformers"
      ],
      "metadata": {
        "colab": {
          "base_uri": "https://localhost:8080/"
        },
        "id": "ZVBeiwu45a15",
        "outputId": "71c34370-7ea6-43bd-f066-519818e76fa0"
      },
      "execution_count": null,
      "outputs": [
        {
          "output_type": "stream",
          "name": "stdout",
          "text": [
            "Looking in indexes: https://pypi.org/simple, https://us-python.pkg.dev/colab-wheels/public/simple/\n",
            "Requirement already satisfied: transformers in /usr/local/lib/python3.7/dist-packages (4.20.1)\n",
            "Requirement already satisfied: numpy>=1.17 in /usr/local/lib/python3.7/dist-packages (from transformers) (1.21.6)\n",
            "Requirement already satisfied: huggingface-hub<1.0,>=0.1.0 in /usr/local/lib/python3.7/dist-packages (from transformers) (0.8.1)\n",
            "Requirement already satisfied: tqdm>=4.27 in /usr/local/lib/python3.7/dist-packages (from transformers) (4.64.0)\n",
            "Requirement already satisfied: importlib-metadata in /usr/local/lib/python3.7/dist-packages (from transformers) (4.11.4)\n",
            "Requirement already satisfied: pyyaml>=5.1 in /usr/local/lib/python3.7/dist-packages (from transformers) (6.0)\n",
            "Requirement already satisfied: filelock in /usr/local/lib/python3.7/dist-packages (from transformers) (3.7.1)\n",
            "Requirement already satisfied: packaging>=20.0 in /usr/local/lib/python3.7/dist-packages (from transformers) (21.3)\n",
            "Requirement already satisfied: requests in /usr/local/lib/python3.7/dist-packages (from transformers) (2.23.0)\n",
            "Requirement already satisfied: tokenizers!=0.11.3,<0.13,>=0.11.1 in /usr/local/lib/python3.7/dist-packages (from transformers) (0.12.1)\n",
            "Requirement already satisfied: regex!=2019.12.17 in /usr/local/lib/python3.7/dist-packages (from transformers) (2022.6.2)\n",
            "Requirement already satisfied: typing-extensions>=3.7.4.3 in /usr/local/lib/python3.7/dist-packages (from huggingface-hub<1.0,>=0.1.0->transformers) (4.1.1)\n",
            "Requirement already satisfied: pyparsing!=3.0.5,>=2.0.2 in /usr/local/lib/python3.7/dist-packages (from packaging>=20.0->transformers) (3.0.9)\n",
            "Requirement already satisfied: zipp>=0.5 in /usr/local/lib/python3.7/dist-packages (from importlib-metadata->transformers) (3.8.0)\n",
            "Requirement already satisfied: idna<3,>=2.5 in /usr/local/lib/python3.7/dist-packages (from requests->transformers) (2.10)\n",
            "Requirement already satisfied: certifi>=2017.4.17 in /usr/local/lib/python3.7/dist-packages (from requests->transformers) (2022.6.15)\n",
            "Requirement already satisfied: chardet<4,>=3.0.2 in /usr/local/lib/python3.7/dist-packages (from requests->transformers) (3.0.4)\n",
            "Requirement already satisfied: urllib3!=1.25.0,!=1.25.1,<1.26,>=1.21.1 in /usr/local/lib/python3.7/dist-packages (from requests->transformers) (1.24.3)\n"
          ]
        }
      ]
    },
    {
      "cell_type": "code",
      "execution_count": null,
      "metadata": {
        "id": "yM5Ns43Jn8IV"
      },
      "outputs": [],
      "source": [
        "from transformers import TFRobertaForSequenceClassification, RobertaTokenizer "
      ]
    },
    {
      "cell_type": "code",
      "execution_count": null,
      "metadata": {
        "colab": {
          "base_uri": "https://localhost:8080/",
          "height": 1000,
          "referenced_widgets": [
            "1a785b81ff8f43a1b99ae41d2d5e924b",
            "0659a74469c84dc49d86f02c95560425",
            "17aed50c287147fda21a92b76c3093be",
            "7d9a3719d9044380a19590a863b58e6d",
            "978f11caf32d4a98b36a1600c599a329",
            "d3a42caf480d4950b13da34dbc52aa53",
            "8296aea53d854dbcb3c12931f3372bd5",
            "c7341c8257274af3b34dfe80b5e8089e",
            "9cd95155957c44d18b05e8a81aa49f7b",
            "061e1bf7d5b84e0d87d4da4bb8f7ca57",
            "f0699baf384e43b98987c9ee58b92d85",
            "1a7b538f6c174509ace1b8c7db84700b",
            "0f708c6eab5647bc9ee76de41de1fcf7",
            "79bfe58273824905a30b85f06109c5b9",
            "0c6eff7b26d740cda09a982a8a81cd03",
            "6c26aaafc6d04eb0abb3056365a4357f",
            "c04ac68af3dc46e1ae9fbdeb3404e3b3",
            "8e391c0f9c2c4f82a61183d346cc8708",
            "4ead0d0ea1c843f391869fd7241cb7d9",
            "4044dee9231948ce84de56edce8f5f28",
            "dd139428607e47969f03866a5f2b95e8",
            "b7f9de41b6c84fddbd559aaf79bac99f",
            "99e0b1fce52c46ed92d64d8387c209c2",
            "364ab28006d54b8499009b3ba1d18161",
            "f3cfb212ed96423b9e4a6661a1586442",
            "f08bfab9f9ae4634aa42448c35dc55ca",
            "1269c0ff7ad54d0184e66dea961d1a41",
            "13a1246f76134c388e939ec2e74b9002",
            "574c6ac658874efaa53067222bac69c7",
            "0debf9a89b704439beec914ceeee6bd4",
            "c4734a15de734da99373287a5c2c367a",
            "6af72be135f84de2ac9ec656ffe9b5e6",
            "0bfd23b7efbf4e849ac4cb613e66b9e6",
            "24b729d707064c578e3764a5f2123bd8",
            "4cc7fe71c5524d198d0b194481dfdffe",
            "cd6ffb1bf3564eac9f4d1fecaedbda9e",
            "812337690d6e4a46a2b086505c86a2c2",
            "922e29760dec4f2d864c2558ca0ddece",
            "eab7008b4d53474796fa41250970d603",
            "663bca18af0244c9a16b24ec8d92584c",
            "4bd3c8a007484a74b35c4ea59009d225",
            "019a65d52d904ae6b9f911ace1382601",
            "9ee444c879ef494eb725d082d04c54fa",
            "076514d042f74e87b57649c80c601132"
          ]
        },
        "id": "zWOY3XeBnE15",
        "outputId": "2a2ed5eb-e1bd-44e6-ba65-9be1dcc5bb98"
      },
      "outputs": [
        {
          "output_type": "display_data",
          "data": {
            "text/plain": [
              "<Figure size 864x576 with 2 Axes>"
            ],
            "image/png": "[encoded data removed]"
          },
          "metadata": {
            "needs_background": "light"
          }
        },
        {
          "output_type": "stream",
          "name": "stdout",
          "text": [
            "accuracy\n",
            "\ttraining         \t (min:    0.657, max:    0.866, cur:    0.866)\n",
            "\tvalidation       \t (min:    0.286, max:    0.286, cur:    0.286)\n",
            "Loss\n",
            "\ttraining         \t (min:    0.309, max:    0.776, cur:    0.309)\n",
            "\tvalidation       \t (min:    4.876, max:    6.287, cur:    6.287)\n",
            "\b\b\b\b\b\b\b\b\b\b\b\b\b\b\b\b\b\b\b\b\b\b\b\b\b\b\b\b\b\b\b\b\b\b\b\b\b\b\b\b\b\b\b\b\b\b\b\b\b\b\b\b\b\b\b\b\b\b\b\b\b\b\b\b\b\b\b\b\b\b\b\b\b\b\b\b\b\b\b\b\b\b\b\b\r354/354 [==============================] - 280s 790ms/step - loss: 0.3095 - accuracy: 0.8664 - val_loss: 6.2868 - val_accuracy: 0.2857\n",
            "              precision    recall  f1-score   support\n",
            "\n",
            "           0       0.01      0.08      0.02        25\n",
            "           1       0.00      0.00      0.00       119\n",
            "           2       0.35      0.21      0.26       383\n",
            "           3       1.00      0.02      0.03       243\n",
            "           4       0.02      0.05      0.03        19\n",
            "           5       0.51      0.68      0.58       758\n",
            "           6       0.00      0.00      0.00         0\n",
            "\n",
            "    accuracy                           0.39      1547\n",
            "   macro avg       0.27      0.15      0.13      1547\n",
            "weighted avg       0.49      0.39      0.36      1547\n",
            "\n",
            "[[  2   0   3   0   3  13   4]\n",
            " [ 18   0   9   0   3  89   0]\n",
            " [ 46   0  81   0   5 234  17]\n",
            " [  9   0  43   4   8 158  21]\n",
            " [  1   0   3   0   1  12   2]\n",
            " [ 73   0  95   0  22 517  51]\n",
            " [  0   0   0   0   0   0   0]]\n",
            "None\n"
          ]
        },
        {
          "output_type": "stream",
          "name": "stderr",
          "text": [
            "/usr/local/lib/python3.7/dist-packages/sklearn/metrics/_classification.py:1318: UndefinedMetricWarning: Precision and F-score are ill-defined and being set to 0.0 in labels with no predicted samples. Use `zero_division` parameter to control this behavior.\n",
            "  _warn_prf(average, modifier, msg_start, len(result))\n",
            "/usr/local/lib/python3.7/dist-packages/sklearn/metrics/_classification.py:1318: UndefinedMetricWarning: Recall and F-score are ill-defined and being set to 0.0 in labels with no true samples. Use `zero_division` parameter to control this behavior.\n",
            "  _warn_prf(average, modifier, msg_start, len(result))\n",
            "/usr/local/lib/python3.7/dist-packages/sklearn/metrics/_classification.py:1318: UndefinedMetricWarning: Precision and F-score are ill-defined and being set to 0.0 in labels with no predicted samples. Use `zero_division` parameter to control this behavior.\n",
            "  _warn_prf(average, modifier, msg_start, len(result))\n",
            "/usr/local/lib/python3.7/dist-packages/sklearn/metrics/_classification.py:1318: UndefinedMetricWarning: Recall and F-score are ill-defined and being set to 0.0 in labels with no true samples. Use `zero_division` parameter to control this behavior.\n",
            "  _warn_prf(average, modifier, msg_start, len(result))\n",
            "/usr/local/lib/python3.7/dist-packages/sklearn/metrics/_classification.py:1318: UndefinedMetricWarning: Precision and F-score are ill-defined and being set to 0.0 in labels with no predicted samples. Use `zero_division` parameter to control this behavior.\n",
            "  _warn_prf(average, modifier, msg_start, len(result))\n",
            "/usr/local/lib/python3.7/dist-packages/sklearn/metrics/_classification.py:1318: UndefinedMetricWarning: Recall and F-score are ill-defined and being set to 0.0 in labels with no true samples. Use `zero_division` parameter to control this behavior.\n",
            "  _warn_prf(average, modifier, msg_start, len(result))\n"
          ]
        }
      ],
      "source": [
        " \n",
        "model_bert = train_bert(X_train_text, X_test_text, y_train_text, y_test_text, \n",
        "           'roberta_base_ft_ver2',TFRobertaForSequenceClassification.from_pretrained('roberta-base',num_labels=7),\n",
        "            RobertaTokenizer.from_pretrained('roberta-base') \n",
        ") \n"
      ]
    },
    {
      "cell_type": "code",
      "execution_count": null,
      "metadata": {
        "colab": {
          "base_uri": "https://localhost:8080/",
          "height": 1000,
          "referenced_widgets": [
            "d36069fe09d34358bcee5837e5f3e70e",
            "0cb2d02ecd7d4a70a9bee59606cad23b",
            "cea7380e61264a6cb7dd58c84ff7c8a9",
            "f1aa411835584ac29d6ba205bbc71c09",
            "cce003b96d9d436ba3ca40f39d590e37",
            "6fa14ff880034c6fba42b765dac33365",
            "f0ec051643714019b0d05edf9352787f",
            "76d5c6bf1fb5425b9fafa2805907c8dc",
            "7b6d953c8d6a4badaf274ae92436a676",
            "4349eb73052c4347b6f3e7ea999ba6a8",
            "8fe4deea699e44669aaeebcc9f2f39e1",
            "0b60aaea13274aa49ed39a4aee2f480b",
            "c0942a4a17c14df5b6b6d25eabdc7956",
            "8ae9ffb9bc0d4367942bc5fe5a50b443",
            "89cbcdb5207b4e2295c9d4b44689a631",
            "ad56dbd2d615454b93eaf9bbee559d06",
            "2542bfb169d841ebb474e4315822a65a",
            "eec8ded1a3774945b4536aeb8af5b62f",
            "ec6e6d4279ca4a2d9edbe18abdbf4ffd",
            "e30af9ab09fd43bd996b325f60a1583a",
            "3764ab9c99b24f4490825a5fe02482ae",
            "f3ad50ab074f499ebda524ec8637ae5c",
            "80b420511a604aab9d1f77b292ea50e2",
            "4343899aa70b42f2baa7308536fd1a47",
            "c03a9ab4eb79441b949ec82b7107fd66",
            "ad51e6604c8c42d599b4fc37c76621d9",
            "695e6fc8e85d4347acf74f07cf643ae4",
            "628886859a4b42da84d848595741d17b",
            "44b4ad0c9481423ea3e6c0fbf82a4cc2",
            "5b586794cd1c4a47b72b6e822ba20632",
            "fa9dfffe0aec468d8dd2977648dd8221",
            "c5c9ccc2e9884eddb32884ab68e96568",
            "21cea8a18f8445f1a548df60a9308f1e",
            "9442ae37b3e1414d9e73e6d2b1abb6ef",
            "141cb06a05fe465abcc1f1553027f430",
            "0adb9e84ac394ce0a447bea113c4b48d",
            "9df36790ddd4464f9064495184e6bbed",
            "93d06067415a40b28d2cc8b1f89811cd",
            "a77c31d6e7e64b87a4d74d82d10c8ef3",
            "3cec9decdc694d0fb118fb72d3f7c32e",
            "648412b285384b88b32620c6d9cef82e",
            "505425ca2d9343eeb1279d2fdf213e33",
            "de2a96017d24465b9568c1a8e5db0b4f",
            "11525cd0c1b741e28d92fd02f358893f"
          ]
        },
        "id": "M0QDs0-M2u4o",
        "outputId": "62244433-75c5-4501-d17d-7c50d5fc559b"
      },
      "outputs": [
        {
          "output_type": "display_data",
          "data": {
            "text/plain": [
              "<Figure size 864x576 with 2 Axes>"
            ],
            "image/png": "[encoded data removed]"
          },
          "metadata": {
            "needs_background": "light"
          }
        },
        {
          "output_type": "stream",
          "name": "stdout",
          "text": [
            "accuracy\n",
            "\ttraining         \t (min:    0.693, max:    0.874, cur:    0.874)\n",
            "\tvalidation       \t (min:    0.286, max:    0.286, cur:    0.286)\n",
            "Loss\n",
            "\ttraining         \t (min:    0.285, max:    0.754, cur:    0.285)\n",
            "\tvalidation       \t (min:    4.312, max:    6.140, cur:    5.838)\n",
            "\b\b\b\b\b\b\b\b\b\b\b\b\b\b\b\b\b\b\b\b\b\b\b\b\b\b\b\b\b\b\b\b\b\b\b\b\b\b\b\b\b\b\b\b\b\b\b\b\b\b\b\b\b\b\b\b\b\b\b\b\b\b\b\b\b\b\b\b\b\b\b\b\b\b\b\b\b\b\b\b\b\b\b\b\r354/354 [==============================] - 278s 786ms/step - loss: 0.2854 - accuracy: 0.8744 - val_loss: 5.8375 - val_accuracy: 0.2857\n",
            "              precision    recall  f1-score   support\n",
            "\n",
            "           0       0.02      0.08      0.03        25\n",
            "           1       0.00      0.00      0.00       119\n",
            "           2       0.34      0.21      0.26       383\n",
            "           3       1.00      0.02      0.03       243\n",
            "           4       0.01      0.05      0.01        19\n",
            "           5       0.50      0.61      0.55       758\n",
            "           6       0.00      0.00      0.00         0\n",
            "\n",
            "    accuracy                           0.36      1547\n",
            "   macro avg       0.27      0.14      0.13      1547\n",
            "weighted avg       0.49      0.36      0.34      1547\n",
            "\n",
            "[[  2   0   2   0   1  16   4]\n",
            " [ 16   0  13   0  17  73   0]\n",
            " [ 38   0  79   0  22 230  14]\n",
            " [  8   0  37   4  36 140  18]\n",
            " [  1   0   5   0   1   9   3]\n",
            " [ 61   0  95   0  87 466  49]\n",
            " [  0   0   0   0   0   0   0]]\n",
            "None\n"
          ]
        },
        {
          "output_type": "stream",
          "name": "stderr",
          "text": [
            "/usr/local/lib/python3.7/dist-packages/sklearn/metrics/_classification.py:1318: UndefinedMetricWarning: Precision and F-score are ill-defined and being set to 0.0 in labels with no predicted samples. Use `zero_division` parameter to control this behavior.\n",
            "  _warn_prf(average, modifier, msg_start, len(result))\n",
            "/usr/local/lib/python3.7/dist-packages/sklearn/metrics/_classification.py:1318: UndefinedMetricWarning: Recall and F-score are ill-defined and being set to 0.0 in labels with no true samples. Use `zero_division` parameter to control this behavior.\n",
            "  _warn_prf(average, modifier, msg_start, len(result))\n",
            "/usr/local/lib/python3.7/dist-packages/sklearn/metrics/_classification.py:1318: UndefinedMetricWarning: Precision and F-score are ill-defined and being set to 0.0 in labels with no predicted samples. Use `zero_division` parameter to control this behavior.\n",
            "  _warn_prf(average, modifier, msg_start, len(result))\n",
            "/usr/local/lib/python3.7/dist-packages/sklearn/metrics/_classification.py:1318: UndefinedMetricWarning: Recall and F-score are ill-defined and being set to 0.0 in labels with no true samples. Use `zero_division` parameter to control this behavior.\n",
            "  _warn_prf(average, modifier, msg_start, len(result))\n",
            "/usr/local/lib/python3.7/dist-packages/sklearn/metrics/_classification.py:1318: UndefinedMetricWarning: Precision and F-score are ill-defined and being set to 0.0 in labels with no predicted samples. Use `zero_division` parameter to control this behavior.\n",
            "  _warn_prf(average, modifier, msg_start, len(result))\n",
            "/usr/local/lib/python3.7/dist-packages/sklearn/metrics/_classification.py:1318: UndefinedMetricWarning: Recall and F-score are ill-defined and being set to 0.0 in labels with no true samples. Use `zero_division` parameter to control this behavior.\n",
            "  _warn_prf(average, modifier, msg_start, len(result))\n"
          ]
        }
      ],
      "source": [
        "model_bert = train_bert(X_train_text, X_test_text, y_train_text, y_test_text, \n",
        "           'bert_base_ft_ver5',TFBertForSequenceClassification.from_pretrained('bert-base-uncased',num_labels=7),\n",
        "            BertTokenizer.from_pretrained('bert-base-uncased') \n",
        ") \n"
      ]
    },
    {
      "cell_type": "code",
      "execution_count": null,
      "metadata": {
        "colab": {
          "base_uri": "https://localhost:8080/",
          "height": 1000
        },
        "id": "Bi4DYDD9M549",
        "outputId": "d8293422-b906-4e1d-b0c8-50fd1b727c98"
      },
      "outputs": [
        {
          "output_type": "display_data",
          "data": {
            "text/plain": [
              "<Figure size 864x576 with 2 Axes>"
            ],
            "image/png": "[encoded data removed]"
          },
          "metadata": {
            "needs_background": "light"
          }
        },
        {
          "output_type": "stream",
          "name": "stdout",
          "text": [
            "accuracy\n",
            "\ttraining         \t (min:    0.672, max:    0.874, cur:    0.874)\n",
            "\tvalidation       \t (min:    0.286, max:    0.286, cur:    0.286)\n",
            "Loss\n",
            "\ttraining         \t (min:    0.287, max:    0.787, cur:    0.287)\n",
            "\tvalidation       \t (min:    4.042, max:    6.124, cur:    6.124)\n",
            "\b\b\b\b\b\b\b\b\b\b\b\b\b\b\b\b\b\b\b\b\b\b\b\b\b\b\b\b\b\b\b\b\b\b\b\b\b\b\b\b\b\b\b\b\b\b\b\b\b\b\b\b\b\b\b\b\b\b\b\b\b\b\b\b\b\b\b\b\b\b\b\b\b\b\b\b\b\b\b\b\b\b\b\b\r354/354 [==============================] - 278s 785ms/step - loss: 0.2865 - accuracy: 0.8740 - val_loss: 6.1244 - val_accuracy: 0.2857\n",
            "              precision    recall  f1-score   support\n",
            "\n",
            "           0       0.50      0.04      0.07        25\n",
            "           1       0.00      0.00      0.00       119\n",
            "           2       0.36      0.18      0.24       383\n",
            "           3       1.00      0.02      0.03       243\n",
            "           4       0.01      0.21      0.02        19\n",
            "           5       0.50      0.67      0.57       758\n",
            "           6       0.00      0.00      0.00         0\n",
            "\n",
            "    accuracy                           0.38      1547\n",
            "   macro avg       0.34      0.16      0.13      1547\n",
            "weighted avg       0.50      0.38      0.35      1547\n",
            "\n",
            "[[  1   0   3   0   7  14   0]\n",
            " [  0   0   7   0  35  77   0]\n",
            " [  0   0  68   0  68 244   3]\n",
            " [  1   0  30   4  45 156   7]\n",
            " [  0   0   1   0   4  14   0]\n",
            " [  0   0  82   0 153 509  14]\n",
            " [  0   0   0   0   0   0   0]]\n",
            "None\n"
          ]
        },
        {
          "output_type": "stream",
          "name": "stderr",
          "text": [
            "/usr/local/lib/python3.7/dist-packages/sklearn/metrics/_classification.py:1318: UndefinedMetricWarning: Precision and F-score are ill-defined and being set to 0.0 in labels with no predicted samples. Use `zero_division` parameter to control this behavior.\n",
            "  _warn_prf(average, modifier, msg_start, len(result))\n",
            "/usr/local/lib/python3.7/dist-packages/sklearn/metrics/_classification.py:1318: UndefinedMetricWarning: Recall and F-score are ill-defined and being set to 0.0 in labels with no true samples. Use `zero_division` parameter to control this behavior.\n",
            "  _warn_prf(average, modifier, msg_start, len(result))\n",
            "/usr/local/lib/python3.7/dist-packages/sklearn/metrics/_classification.py:1318: UndefinedMetricWarning: Precision and F-score are ill-defined and being set to 0.0 in labels with no predicted samples. Use `zero_division` parameter to control this behavior.\n",
            "  _warn_prf(average, modifier, msg_start, len(result))\n",
            "/usr/local/lib/python3.7/dist-packages/sklearn/metrics/_classification.py:1318: UndefinedMetricWarning: Recall and F-score are ill-defined and being set to 0.0 in labels with no true samples. Use `zero_division` parameter to control this behavior.\n",
            "  _warn_prf(average, modifier, msg_start, len(result))\n",
            "/usr/local/lib/python3.7/dist-packages/sklearn/metrics/_classification.py:1318: UndefinedMetricWarning: Precision and F-score are ill-defined and being set to 0.0 in labels with no predicted samples. Use `zero_division` parameter to control this behavior.\n",
            "  _warn_prf(average, modifier, msg_start, len(result))\n",
            "/usr/local/lib/python3.7/dist-packages/sklearn/metrics/_classification.py:1318: UndefinedMetricWarning: Recall and F-score are ill-defined and being set to 0.0 in labels with no true samples. Use `zero_division` parameter to control this behavior.\n",
            "  _warn_prf(average, modifier, msg_start, len(result))\n"
          ]
        }
      ],
      "source": [
        "model_bert = train_bert(X_train_text, X_test_text, y_train_text, y_test_text, \n",
        "           'bert_base_ft_ver4',TFBertForSequenceClassification.from_pretrained('bert-base-uncased',num_labels=7),\n",
        "            BertTokenizer.from_pretrained('bert-base-uncased') \n",
        ") \n",
        " "
      ]
    },
    {
      "cell_type": "code",
      "execution_count": null,
      "metadata": {
        "id": "S52qU3iGWTA_",
        "colab": {
          "base_uri": "https://localhost:8080/",
          "height": 1000
        },
        "outputId": "39bb0465-7795-4bef-e9a1-cbd8df7aeed6"
      },
      "outputs": [
        {
          "output_type": "display_data",
          "data": {
            "text/plain": [
              "<Figure size 864x576 with 2 Axes>"
            ],
            "image/png": "[encoded data removed]"
          },
          "metadata": {
            "needs_background": "light"
          }
        },
        {
          "output_type": "stream",
          "name": "stdout",
          "text": [
            "accuracy\n",
            "\ttraining         \t (min:    0.694, max:    0.875, cur:    0.875)\n",
            "\tvalidation       \t (min:    0.286, max:    0.286, cur:    0.286)\n",
            "Loss\n",
            "\ttraining         \t (min:    0.289, max:    0.747, cur:    0.289)\n",
            "\tvalidation       \t (min:    3.974, max:    5.402, cur:    5.305)\n",
            "\b\b\b\b\b\b\b\b\b\b\b\b\b\b\b\b\b\b\b\b\b\b\b\b\b\b\b\b\b\b\b\b\b\b\b\b\b\b\b\b\b\b\b\b\b\b\b\b\b\b\b\b\b\b\b\b\b\b\b\b\b\b\b\b\b\b\b\b\b\b\b\b\b\b\b\b\b\b\b\b\b\b\b\b\r354/354 [==============================] - 278s 786ms/step - loss: 0.2895 - accuracy: 0.8749 - val_loss: 5.3051 - val_accuracy: 0.2857\n",
            "              precision    recall  f1-score   support\n",
            "\n",
            "           0       0.02      0.08      0.03        25\n",
            "           1       0.00      0.00      0.00       119\n",
            "           2       0.37      0.28      0.32       383\n",
            "           3       1.00      0.02      0.03       243\n",
            "           4       0.01      0.16      0.03        19\n",
            "           5       0.51      0.61      0.56       758\n",
            "           6       0.00      0.00      0.00         0\n",
            "\n",
            "    accuracy                           0.37      1547\n",
            "   macro avg       0.27      0.16      0.14      1547\n",
            "weighted avg       0.50      0.37      0.36      1547\n",
            "\n",
            "[[  2   0   3   0   6  13   1]\n",
            " [ 16   0  13   0  19  71   0]\n",
            " [ 38   0 107   0  31 203   4]\n",
            " [  8   0  46   4  38 136  11]\n",
            " [  1   0   2   0   3  13   0]\n",
            " [ 61   0 116   0 104 460  17]\n",
            " [  0   0   0   0   0   0   0]]\n",
            "None\n"
          ]
        },
        {
          "output_type": "stream",
          "name": "stderr",
          "text": [
            "/usr/local/lib/python3.7/dist-packages/sklearn/metrics/_classification.py:1318: UndefinedMetricWarning: Precision and F-score are ill-defined and being set to 0.0 in labels with no predicted samples. Use `zero_division` parameter to control this behavior.\n",
            "  _warn_prf(average, modifier, msg_start, len(result))\n",
            "/usr/local/lib/python3.7/dist-packages/sklearn/metrics/_classification.py:1318: UndefinedMetricWarning: Recall and F-score are ill-defined and being set to 0.0 in labels with no true samples. Use `zero_division` parameter to control this behavior.\n",
            "  _warn_prf(average, modifier, msg_start, len(result))\n",
            "/usr/local/lib/python3.7/dist-packages/sklearn/metrics/_classification.py:1318: UndefinedMetricWarning: Precision and F-score are ill-defined and being set to 0.0 in labels with no predicted samples. Use `zero_division` parameter to control this behavior.\n",
            "  _warn_prf(average, modifier, msg_start, len(result))\n",
            "/usr/local/lib/python3.7/dist-packages/sklearn/metrics/_classification.py:1318: UndefinedMetricWarning: Recall and F-score are ill-defined and being set to 0.0 in labels with no true samples. Use `zero_division` parameter to control this behavior.\n",
            "  _warn_prf(average, modifier, msg_start, len(result))\n",
            "/usr/local/lib/python3.7/dist-packages/sklearn/metrics/_classification.py:1318: UndefinedMetricWarning: Precision and F-score are ill-defined and being set to 0.0 in labels with no predicted samples. Use `zero_division` parameter to control this behavior.\n",
            "  _warn_prf(average, modifier, msg_start, len(result))\n",
            "/usr/local/lib/python3.7/dist-packages/sklearn/metrics/_classification.py:1318: UndefinedMetricWarning: Recall and F-score are ill-defined and being set to 0.0 in labels with no true samples. Use `zero_division` parameter to control this behavior.\n",
            "  _warn_prf(average, modifier, msg_start, len(result))\n"
          ]
        },
        {
          "output_type": "execute_result",
          "data": {
            "text/plain": [
              "'\\n              precision    recall  f1-score   support\\n\\n           0       0.02      0.08      0.03        25\\n           1       0.00      0.00      0.00       119\\n           2       0.31      0.18      0.23       383\\n           3       1.00      0.02      0.03       243\\n           4       0.02      0.16      0.04        19\\n           5       0.51      0.68      0.58       758\\n           6       0.00      0.00      0.00         0\\n\\n    accuracy                           0.38      1547\\n   macro avg       0.27      0.16      0.13      1547\\nweighted avg       0.48      0.38      0.35      1547\\n\\n[[  2   0   3   0   4  16   0]\\n [ 16   0   5   0  18  80   0]\\n [ 38   0  69   0  20 246  10]\\n [  8   0  56   4  29 137   9]\\n [  1   0   4   0   3  11   0]\\n [ 61   0  87   0  74 514  22]\\n [  0   0   0   0   0   0   0]]\\n\\n'"
            ],
            "application/vnd.google.colaboratory.intrinsic+json": {
              "type": "string"
            }
          },
          "metadata": {},
          "execution_count": 21
        }
      ],
      "source": [
        "model_bert = train_bert(X_train_text, X_test_text, y_train_text, y_test_text, \n",
        "           'bert_base_ft_ver3',TFBertForSequenceClassification.from_pretrained('bert-base-uncased',num_labels=7),\n",
        "            BertTokenizer.from_pretrained('bert-base-uncased') \n",
        ") \n",
        "\n",
        "## output\n",
        "'''\n",
        "              precision    recall  f1-score   support\n",
        "\n",
        "           0       0.02      0.08      0.03        25\n",
        "           1       0.00      0.00      0.00       119\n",
        "           2       0.31      0.18      0.23       383\n",
        "           3       1.00      0.02      0.03       243\n",
        "           4       0.02      0.16      0.04        19\n",
        "           5       0.51      0.68      0.58       758\n",
        "           6       0.00      0.00      0.00         0\n",
        "\n",
        "    accuracy                           0.38      1547\n",
        "   macro avg       0.27      0.16      0.13      1547\n",
        "weighted avg       0.48      0.38      0.35      1547\n",
        "\n",
        "[[  2   0   3   0   4  16   0]\n",
        " [ 16   0   5   0  18  80   0]\n",
        " [ 38   0  69   0  20 246  10]\n",
        " [  8   0  56   4  29 137   9]\n",
        " [  1   0   4   0   3  11   0]\n",
        " [ 61   0  87   0  74 514  22]\n",
        " [  0   0   0   0   0   0   0]]\n",
        "\n",
        "'''"
      ]
    },
    {
      "cell_type": "code",
      "execution_count": null,
      "metadata": {
        "id": "uTQreHM2Wx1o",
        "colab": {
          "base_uri": "https://localhost:8080/",
          "height": 966
        },
        "outputId": "1027170d-0d13-4c39-c295-a4e7ee5d0806"
      },
      "outputs": [
        {
          "output_type": "stream",
          "name": "stdout",
          "text": [
            "WARNING:tensorflow:Detecting that an object or model or tf.train.Checkpoint is being deleted with unrestored values. See the following logs for the specific values in question. To silence these warnings, use `status.expect_partial()`. See https://www.tensorflow.org/api_docs/python/tf/train/Checkpoint#restorefor details about the status object returned by the restore function.\n",
            "WARNING:tensorflow:Value in checkpoint could not be found in the restored object: (root).optimizer.iter\n",
            "WARNING:tensorflow:Value in checkpoint could not be found in the restored object: (root).optimizer.beta_1\n",
            "WARNING:tensorflow:Value in checkpoint could not be found in the restored object: (root).optimizer.beta_2\n",
            "WARNING:tensorflow:Value in checkpoint could not be found in the restored object: (root).optimizer.decay\n",
            "WARNING:tensorflow:Value in checkpoint could not be found in the restored object: (root).optimizer.learning_rate\n"
          ]
        },
        {
          "output_type": "stream",
          "name": "stderr",
          "text": [
            "All model checkpoint layers were used when initializing TFBertForSequenceClassification.\n",
            "\n",
            "Some layers of TFBertForSequenceClassification were not initialized from the model checkpoint at bert-base-uncased and are newly initialized: ['classifier']\n",
            "You should probably TRAIN this model on a down-stream task to be able to use it for predictions and inference.\n",
            "Truncation was not explicitly activated but `max_length` is provided a specific value, please use `truncation=True` to explicitly truncate examples to max length. Defaulting to 'longest_first' truncation strategy. If you encode pairs of sequences (GLUE-style) with the tokenizer you can select this strategy more precisely by providing a specific strategy to `truncation`.\n",
            "/usr/local/lib/python3.7/dist-packages/transformers/tokenization_utils_base.py:2307: FutureWarning: The `pad_to_max_length` argument is deprecated and will be removed in a future version, use `padding=True` or `padding='longest'` to pad to the longest sequence in the batch, or use `padding='max_length'` to pad to a max length. In this case, you can give a specific length with `max_length` (e.g. `max_length=45`) or leave max_length to None to pad to the maximal input size of the model (e.g. 512 for Bert).\n",
            "  FutureWarning,\n"
          ]
        },
        {
          "output_type": "stream",
          "name": "stdout",
          "text": [
            "              precision    recall  f1-score   support\n",
            "\n",
            "           0       0.00      0.00      0.00        25\n",
            "           1       0.00      0.00      0.00       119\n",
            "           2       0.25      0.97      0.39       383\n",
            "           3       0.00      0.00      0.00       243\n",
            "           4       0.00      0.00      0.00        19\n",
            "           5       0.00      0.00      0.00       758\n",
            "           6       0.00      0.00      0.00         0\n",
            "\n",
            "    accuracy                           0.24      1547\n",
            "   macro avg       0.04      0.14      0.06      1547\n",
            "weighted avg       0.06      0.24      0.10      1547\n",
            "\n",
            "[[  0   0  24   0   0   0   1]\n",
            " [  0   0 118   0   0   0   1]\n",
            " [  0   0 370   1   0   0  12]\n",
            " [  0   0 231   0   0   0  12]\n",
            " [  0   0  19   0   0   0   0]\n",
            " [  0   0 732   0   0   0  26]\n",
            " [  0   0   0   0   0   0   0]]\n"
          ]
        },
        {
          "output_type": "stream",
          "name": "stderr",
          "text": [
            "/usr/local/lib/python3.7/dist-packages/sklearn/metrics/_classification.py:1318: UndefinedMetricWarning: Precision and F-score are ill-defined and being set to 0.0 in labels with no predicted samples. Use `zero_division` parameter to control this behavior.\n",
            "  _warn_prf(average, modifier, msg_start, len(result))\n",
            "/usr/local/lib/python3.7/dist-packages/sklearn/metrics/_classification.py:1318: UndefinedMetricWarning: Recall and F-score are ill-defined and being set to 0.0 in labels with no true samples. Use `zero_division` parameter to control this behavior.\n",
            "  _warn_prf(average, modifier, msg_start, len(result))\n",
            "/usr/local/lib/python3.7/dist-packages/sklearn/metrics/_classification.py:1318: UndefinedMetricWarning: Precision and F-score are ill-defined and being set to 0.0 in labels with no predicted samples. Use `zero_division` parameter to control this behavior.\n",
            "  _warn_prf(average, modifier, msg_start, len(result))\n",
            "/usr/local/lib/python3.7/dist-packages/sklearn/metrics/_classification.py:1318: UndefinedMetricWarning: Recall and F-score are ill-defined and being set to 0.0 in labels with no true samples. Use `zero_division` parameter to control this behavior.\n",
            "  _warn_prf(average, modifier, msg_start, len(result))\n",
            "/usr/local/lib/python3.7/dist-packages/sklearn/metrics/_classification.py:1318: UndefinedMetricWarning: Precision and F-score are ill-defined and being set to 0.0 in labels with no predicted samples. Use `zero_division` parameter to control this behavior.\n",
            "  _warn_prf(average, modifier, msg_start, len(result))\n",
            "/usr/local/lib/python3.7/dist-packages/sklearn/metrics/_classification.py:1318: UndefinedMetricWarning: Recall and F-score are ill-defined and being set to 0.0 in labels with no true samples. Use `zero_division` parameter to control this behavior.\n",
            "  _warn_prf(average, modifier, msg_start, len(result))\n"
          ]
        },
        {
          "output_type": "execute_result",
          "data": {
            "text/plain": [
              "'\\n              precision    recall  f1-score   support\\n\\n           0       0.00      0.00      0.00        25\\n           1       0.11      0.13      0.12       119\\n           2       0.36      0.01      0.02       383\\n           3       0.00      0.00      0.00       243\\n           4       0.02      0.42      0.03        19\\n           5       0.48      0.01      0.03       758\\n           6       0.00      0.00      0.00         0\\n\\n    accuracy                           0.03      1547\\n   macro avg       0.14      0.08      0.03      1547\\nweighted avg       0.33      0.03      0.03      1547\\n\\n[[  0   4   0   0   3   0  18]\\n [  0  16   1   0  32   0  70]\\n [  0  37   4   0 125   8 209]\\n [  0  20   0   0  77   3 143]\\n [  0   3   0   0   8   1   7]\\n [  0  66   6   0 206  11 469]\\n [  0   0   0   0   0   0   0]] \\n'"
            ],
            "application/vnd.google.colaboratory.intrinsic+json": {
              "type": "string"
            }
          },
          "metadata": {},
          "execution_count": 25
        }
      ],
      "source": [
        "## base bert without further training for comparison\n",
        "model_bert_BASE = TFBertForSequenceClassification.from_pretrained('bert-base-uncased',num_labels=7)\n",
        "X_test_input_ids, X_test_attention_masks, y_test_labels = tokenize_bert(X_test_text,y_test_text, BertTokenizer.from_pretrained('bert-base-uncased')) \n",
        "pred_bert_BASE = model_bert_BASE.predict([X_test_input_ids,X_test_attention_masks])\n",
        "evaluate_model(y_test_text, np.array(tf.nn.softmax(pred_bert_BASE[0])))  \n",
        "\n",
        "## output\n",
        "'''\n",
        "              precision    recall  f1-score   support\n",
        "\n",
        "           0       0.00      0.00      0.00        25\n",
        "           1       0.11      0.13      0.12       119\n",
        "           2       0.36      0.01      0.02       383\n",
        "           3       0.00      0.00      0.00       243\n",
        "           4       0.02      0.42      0.03        19\n",
        "           5       0.48      0.01      0.03       758\n",
        "           6       0.00      0.00      0.00         0\n",
        "\n",
        "    accuracy                           0.03      1547\n",
        "   macro avg       0.14      0.08      0.03      1547\n",
        "weighted avg       0.33      0.03      0.03      1547\n",
        "\n",
        "[[  0   4   0   0   3   0  18]\n",
        " [  0  16   1   0  32   0  70]\n",
        " [  0  37   4   0 125   8 209]\n",
        " [  0  20   0   0  77   3 143]\n",
        " [  0   3   0   0   8   1   7]\n",
        " [  0  66   6   0 206  11 469]\n",
        " [  0   0   0   0   0   0   0]] \n",
        "'''"
      ]
    },
    {
      "cell_type": "code",
      "execution_count": null,
      "metadata": {
        "id": "RFpyeOBXZIq4"
      },
      "outputs": [],
      "source": [
        "   "
      ]
    },
    {
      "cell_type": "markdown",
      "metadata": {
        "id": "eRamC60MZN_g"
      },
      "source": [
        "### [BERT, DistilBERT, RoBERTa...] Embedding + [BiLSTM, BiGRU...]"
      ]
    },
    {
      "cell_type": "code",
      "execution_count": null,
      "metadata": {
        "id": "JBeE8QLCZX1G"
      },
      "outputs": [],
      "source": [
        "# tokenizes + attention mask \n",
        "\n",
        "max_seq = 112\n",
        "\n",
        "def tokenize(sentences, tokenizer):\n",
        "\n",
        "    input_ids, input_masks, input_segments = [], [], []\n",
        "    for sentence in sentences:\n",
        "        inputs = tokenizer.encode_plus(sentence, \n",
        "                                        max_length=max_seq, \n",
        "                                        pad_to_max_length=True, \n",
        "                                        return_attention_mask=True, \n",
        "                                        return_token_type_ids=True, \n",
        "                                        truncation=True)\n",
        "        input_ids.append(inputs['input_ids'])\n",
        "        input_masks.append(inputs['attention_mask'])\n",
        "        input_segments.append(inputs['token_type_ids'])        \n",
        "          \n",
        "    return np.asarray(input_ids, dtype='int32'), np.asarray(input_masks, dtype='int32') \n",
        "\n"
      ]
    },
    {
      "cell_type": "code",
      "execution_count": null,
      "metadata": {
        "id": "jU0t48THuUlx"
      },
      "outputs": [],
      "source": [
        "from keras.layers import Input, Bidirectional, LSTM, GlobalMaxPool1D,Dense,Dropout\n",
        "from keras import Model"
      ]
    },
    {
      "cell_type": "code",
      "execution_count": null,
      "metadata": {
        "id": "4qnlMUzSbmgP"
      },
      "outputs": [],
      "source": [
        "## Model - BERT + Bidirectional LSTM w/ Attention\n",
        "def train_bert_bilstm(X_train, y_train, X_test, y_test, model,path_for_ft,tokenizer, ver,outdim=7):\n",
        "  \n",
        "  X_train_encoding = tokenize(X_train, tokenizer)\n",
        "  X_test_encoding = tokenize(X_test, tokenizer)\n",
        "\n",
        "  BERT = model \n",
        "  BERT.load_weights(path_for_ft)\n",
        "  \n",
        "  ## set up model architecture\n",
        "\n",
        "  input_ids_in = Input(shape=(max_seq,), name='input_token', dtype='int32')\n",
        "  input_masks_in = Input(shape=(max_seq,), name='masked_token', dtype='int32') \n",
        "\n",
        "\n",
        "  embedding_layer = BERT(input_ids = input_ids_in, attention_mask = input_masks_in)[0]\n",
        "  X = Bidirectional(keras.layers.LSTM(128, return_sequences=True))(embedding_layer)\n",
        "  X = GlobalMaxPool1D()(X) \n",
        "  X = Dense(64, activation='relu')(X)\n",
        "  X = Dropout(0.2)(X)\n",
        "  X = Dense(outdim, activation='softmax')(X)\n",
        "\n",
        "  model = Model(inputs=[input_ids_in, input_masks_in], outputs = X)\n",
        "\n",
        "  for layer in model.layers[:3]:\n",
        "      layer.trainable = False\n",
        "\n",
        "  model.summary()   \n",
        "  model.compile(loss='categorical_crossentropy', optimizer=tf.keras.optimizers.Adam(1e-5), metrics=['accuracy'])\n",
        "\n",
        "  #checkpt = ModelCheckpoint(ver + '.h5', monitor=\"val_recall\", mode='min', save_best_only=True)\n",
        "  \n",
        "  history = model.fit(X_train_encoding,  \n",
        "                      y_train,\n",
        "                      epochs = 8,\n",
        "                      batch_size=32,\n",
        "                      validation_split=0.1,callbacks=[PlotLossesKeras()]) #,checkpt])\n",
        "  \n",
        "  pred_bert = model.predict(X_test_encoding) \n",
        "  #pred_bert = [predictions(p) for p in pred_bert]\n",
        "  evaluate_model(y_test, pred_bert)\n",
        "  \n",
        "  model.save(ver) \n"
      ]
    },
    {
      "cell_type": "code",
      "execution_count": null,
      "metadata": {
        "id": "X5sLNDqacs-d",
        "colab": {
          "base_uri": "https://localhost:8080/",
          "height": 1000,
          "referenced_widgets": [
            "9d593799b9e442998acdc6aa3cd1e912",
            "30115aecce114defa393ff66f3e45996",
            "01c6a23804d44aedacfc9e97b8a83056",
            "b3e7c6e3e533493f8e644e6285782ae8",
            "6d31bc9072a54c9bab919c780865ef02",
            "45daa649b97d4e4cb8500cd4c253e7d6",
            "6d239732e220492ca2e2b5d49b901baf",
            "17ac023dd58f41d387750c69c5cbe457",
            "67e881094b7a4cf0b7a0436486d560c7",
            "2f46f33ae467494eb00228047488cb1e",
            "efef3051f5b7410192b09181e9f61911",
            "34f499f81c4c4298b54e3a7710a01805",
            "b98bd781a9cb43d5838508ceb78d3e11",
            "d10ae0b6cac2437590ba1dde1e6d0324",
            "ce46c4dbb71d466cb4a7e0b89b4dee05",
            "536ebce7cc2f4c94a817b0c73407c022",
            "99c9337e05914722b9d3614a205795c2",
            "22de8fe9701a45fca57762f3ed86126a",
            "f065126765574e62b7fa95b1e75ba368",
            "cfd63613743e44aebf39050d3c0e6dbb",
            "6bdcafa25c7e4927b837ab39ed2ed593",
            "81d68e10843e46c995c1cab2219a99e6",
            "5837eb76151145e98a425e6a69c55d98",
            "c045cb9a709b4ac68563f142c9bdf01c",
            "3da9660fce284bba96dfd67a5c1018a0",
            "d3a38c7bdd3944b6ad69c1e26f00e265",
            "92fae5a86ac24109bcabd42e5a5068d9",
            "4b1b91330dbf4c4090e177783708c7f6",
            "03be58962f654ec8bf1028ffdc05e38f",
            "f35e4eb066724b4ebdaeb2ab367e3cf4",
            "2832485c4c494954ad0f237845ee5302",
            "c103eec9c9bc47c6acb381930192098c",
            "7de0dd26b1e54753a0204317e80a94e2"
          ]
        },
        "outputId": "68720b5c-317e-48cb-dd7e-79f605eded43"
      },
      "outputs": [
        {
          "output_type": "stream",
          "name": "stderr",
          "text": [
            "Some layers from the model checkpoint at bert-base-uncased were not used when initializing TFBertModel: ['nsp___cls', 'mlm___cls']\n",
            "- This IS expected if you are initializing TFBertModel from the checkpoint of a model trained on another task or with another architecture (e.g. initializing a BertForSequenceClassification model from a BertForPreTraining model).\n",
            "- This IS NOT expected if you are initializing TFBertModel from the checkpoint of a model that you expect to be exactly identical (initializing a BertForSequenceClassification model from a BertForSequenceClassification model).\n",
            "All the layers of TFBertModel were initialized from the model checkpoint at bert-base-uncased.\n",
            "If your task is similar to the task the model of the checkpoint was trained on, you can already use TFBertModel for predictions without further training.\n"
          ]
        },
        {
          "output_type": "display_data",
          "data": {
            "text/plain": [
              "Downloading:   0%|          | 0.00/208k [00:00<?, ?B/s]"
            ],
            "application/vnd.jupyter.widget-view+json": {
              "version_major": 2,
              "version_minor": 0,
              "model_id": "9d593799b9e442998acdc6aa3cd1e912"
            }
          },
          "metadata": {}
        },
        {
          "output_type": "display_data",
          "data": {
            "text/plain": [
              "Downloading:   0%|          | 0.00/29.0 [00:00<?, ?B/s]"
            ],
            "application/vnd.jupyter.widget-view+json": {
              "version_major": 2,
              "version_minor": 0,
              "model_id": "34f499f81c4c4298b54e3a7710a01805"
            }
          },
          "metadata": {}
        },
        {
          "output_type": "display_data",
          "data": {
            "text/plain": [
              "Downloading:   0%|          | 0.00/570 [00:00<?, ?B/s]"
            ],
            "application/vnd.jupyter.widget-view+json": {
              "version_major": 2,
              "version_minor": 0,
              "model_id": "5837eb76151145e98a425e6a69c55d98"
            }
          },
          "metadata": {}
        },
        {
          "output_type": "stream",
          "name": "stderr",
          "text": [
            "/usr/local/lib/python3.7/dist-packages/transformers/tokenization_utils_base.py:2307: FutureWarning: The `pad_to_max_length` argument is deprecated and will be removed in a future version, use `padding=True` or `padding='longest'` to pad to the longest sequence in the batch, or use `padding='max_length'` to pad to a max length. In this case, you can give a specific length with `max_length` (e.g. `max_length=45`) or leave max_length to None to pad to the maximal input size of the model (e.g. 512 for Bert).\n",
            "  FutureWarning,\n"
          ]
        },
        {
          "output_type": "stream",
          "name": "stdout",
          "text": [
            "Model: \"model\"\n",
            "__________________________________________________________________________________________________\n",
            " Layer (type)                   Output Shape         Param #     Connected to                     \n",
            "==================================================================================================\n",
            " input_token (InputLayer)       [(None, 112)]        0           []                               \n",
            "                                                                                                  \n",
            " masked_token (InputLayer)      [(None, 112)]        0           []                               \n",
            "                                                                                                  \n",
            " tf_bert_model (TFBertModel)    TFBaseModelOutputWi  109482240   ['input_token[0][0]',            \n",
            "                                thPoolingAndCrossAt               'masked_token[0][0]']           \n",
            "                                tentions(last_hidde                                               \n",
            "                                n_state=(None, 112,                                               \n",
            "                                 768),                                                            \n",
            "                                 pooler_output=(Non                                               \n",
            "                                e, 768),                                                          \n",
            "                                 past_key_values=No                                               \n",
            "                                ne, hidden_states=N                                               \n",
            "                                one, attentions=Non                                               \n",
            "                                e, cross_attentions                                               \n",
            "                                =None)                                                            \n",
            "                                                                                                  \n",
            " bidirectional (Bidirectional)  (None, 112, 256)     918528      ['tf_bert_model[0][0]']          \n",
            "                                                                                                  \n",
            " global_max_pooling1d (GlobalMa  (None, 256)         0           ['bidirectional[0][0]']          \n",
            " xPooling1D)                                                                                      \n",
            "                                                                                                  \n",
            " dense (Dense)                  (None, 64)           16448       ['global_max_pooling1d[0][0]']   \n",
            "                                                                                                  \n",
            " dropout_341 (Dropout)          (None, 64)           0           ['dense[0][0]']                  \n",
            "                                                                                                  \n",
            " dense_1 (Dense)                (None, 7)            455         ['dropout_341[0][0]']            \n",
            "                                                                                                  \n",
            "==================================================================================================\n",
            "Total params: 110,417,671\n",
            "Trainable params: 935,431\n",
            "Non-trainable params: 109,482,240\n",
            "__________________________________________________________________________________________________\n",
            "Epoch 1/8\n"
          ]
        },
        {
          "output_type": "error",
          "ename": "KeyboardInterrupt",
          "evalue": "ignored",
          "traceback": [
            "\u001b[0;31m---------------------------------------------------------------------------\u001b[0m",
            "\u001b[0;31mKeyboardInterrupt\u001b[0m                         Traceback (most recent call last)",
            "\u001b[0;32m<ipython-input-29-29ccaffeff6c>\u001b[0m in \u001b[0;36m<module>\u001b[0;34m()\u001b[0m\n\u001b[1;32m      1\u001b[0m train_bert_bilstm(X_train_text, y_train_text, X_test_text, y_test_text,\n\u001b[1;32m      2\u001b[0m                   \u001b[0mTFBertModel\u001b[0m\u001b[0;34m.\u001b[0m\u001b[0mfrom_pretrained\u001b[0m\u001b[0;34m(\u001b[0m\u001b[0;34m'bert-base-uncased'\u001b[0m\u001b[0;34m,\u001b[0m\u001b[0mnum_labels\u001b[0m\u001b[0;34m=\u001b[0m\u001b[0;36m7\u001b[0m\u001b[0;34m)\u001b[0m\u001b[0;34m,\u001b[0m\u001b[0;34m\u001b[0m\u001b[0;34m\u001b[0m\u001b[0m\n\u001b[0;32m----> 3\u001b[0;31m                   '/content/bert_base_ft_ver3',BertTokenizer.from_pretrained('bert-base-cased'),'bert_bilstm_ver_3')\n\u001b[0m\u001b[1;32m      4\u001b[0m \u001b[0;34m\u001b[0m\u001b[0m\n\u001b[1;32m      5\u001b[0m '''\n",
            "\u001b[0;32m<ipython-input-28-89b4ba961758>\u001b[0m in \u001b[0;36mtrain_bert_bilstm\u001b[0;34m(X_train, y_train, X_test, y_test, model, path_for_ft, tokenizer, ver, outdim)\u001b[0m\n\u001b[1;32m     35\u001b[0m                       \u001b[0mepochs\u001b[0m \u001b[0;34m=\u001b[0m \u001b[0;36m8\u001b[0m\u001b[0;34m,\u001b[0m\u001b[0;34m\u001b[0m\u001b[0;34m\u001b[0m\u001b[0m\n\u001b[1;32m     36\u001b[0m                       \u001b[0mbatch_size\u001b[0m\u001b[0;34m=\u001b[0m\u001b[0;36m32\u001b[0m\u001b[0;34m,\u001b[0m\u001b[0;34m\u001b[0m\u001b[0;34m\u001b[0m\u001b[0m\n\u001b[0;32m---> 37\u001b[0;31m                       validation_split=0.1,callbacks=[PlotLossesKeras()]) #,checkpt])\n\u001b[0m\u001b[1;32m     38\u001b[0m \u001b[0;34m\u001b[0m\u001b[0m\n\u001b[1;32m     39\u001b[0m   \u001b[0mpred_bert\u001b[0m \u001b[0;34m=\u001b[0m \u001b[0mmodel\u001b[0m\u001b[0;34m.\u001b[0m\u001b[0mpredict\u001b[0m\u001b[0;34m(\u001b[0m\u001b[0mX_test_encoding\u001b[0m\u001b[0;34m)\u001b[0m\u001b[0;34m\u001b[0m\u001b[0;34m\u001b[0m\u001b[0m\n",
            "\u001b[0;32m/usr/local/lib/python3.7/dist-packages/keras/utils/traceback_utils.py\u001b[0m in \u001b[0;36merror_handler\u001b[0;34m(*args, **kwargs)\u001b[0m\n\u001b[1;32m     62\u001b[0m     \u001b[0mfiltered_tb\u001b[0m \u001b[0;34m=\u001b[0m \u001b[0;32mNone\u001b[0m\u001b[0;34m\u001b[0m\u001b[0;34m\u001b[0m\u001b[0m\n\u001b[1;32m     63\u001b[0m     \u001b[0;32mtry\u001b[0m\u001b[0;34m:\u001b[0m\u001b[0;34m\u001b[0m\u001b[0;34m\u001b[0m\u001b[0m\n\u001b[0;32m---> 64\u001b[0;31m       \u001b[0;32mreturn\u001b[0m \u001b[0mfn\u001b[0m\u001b[0;34m(\u001b[0m\u001b[0;34m*\u001b[0m\u001b[0margs\u001b[0m\u001b[0;34m,\u001b[0m \u001b[0;34m**\u001b[0m\u001b[0mkwargs\u001b[0m\u001b[0;34m)\u001b[0m\u001b[0;34m\u001b[0m\u001b[0;34m\u001b[0m\u001b[0m\n\u001b[0m\u001b[1;32m     65\u001b[0m     \u001b[0;32mexcept\u001b[0m \u001b[0mException\u001b[0m \u001b[0;32mas\u001b[0m \u001b[0me\u001b[0m\u001b[0;34m:\u001b[0m  \u001b[0;31m# pylint: disable=broad-except\u001b[0m\u001b[0;34m\u001b[0m\u001b[0;34m\u001b[0m\u001b[0m\n\u001b[1;32m     66\u001b[0m       \u001b[0mfiltered_tb\u001b[0m \u001b[0;34m=\u001b[0m \u001b[0m_process_traceback_frames\u001b[0m\u001b[0;34m(\u001b[0m\u001b[0me\u001b[0m\u001b[0;34m.\u001b[0m\u001b[0m__traceback__\u001b[0m\u001b[0;34m)\u001b[0m\u001b[0;34m\u001b[0m\u001b[0;34m\u001b[0m\u001b[0m\n",
            "\u001b[0;32m/usr/local/lib/python3.7/dist-packages/keras/engine/training.py\u001b[0m in \u001b[0;36mfit\u001b[0;34m(self, x, y, batch_size, epochs, verbose, callbacks, validation_split, validation_data, shuffle, class_weight, sample_weight, initial_epoch, steps_per_epoch, validation_steps, validation_batch_size, validation_freq, max_queue_size, workers, use_multiprocessing)\u001b[0m\n\u001b[1;32m   1382\u001b[0m                 _r=1):\n\u001b[1;32m   1383\u001b[0m               \u001b[0mcallbacks\u001b[0m\u001b[0;34m.\u001b[0m\u001b[0mon_train_batch_begin\u001b[0m\u001b[0;34m(\u001b[0m\u001b[0mstep\u001b[0m\u001b[0;34m)\u001b[0m\u001b[0;34m\u001b[0m\u001b[0;34m\u001b[0m\u001b[0m\n\u001b[0;32m-> 1384\u001b[0;31m               \u001b[0mtmp_logs\u001b[0m \u001b[0;34m=\u001b[0m \u001b[0mself\u001b[0m\u001b[0;34m.\u001b[0m\u001b[0mtrain_function\u001b[0m\u001b[0;34m(\u001b[0m\u001b[0miterator\u001b[0m\u001b[0;34m)\u001b[0m\u001b[0;34m\u001b[0m\u001b[0;34m\u001b[0m\u001b[0m\n\u001b[0m\u001b[1;32m   1385\u001b[0m               \u001b[0;32mif\u001b[0m \u001b[0mdata_handler\u001b[0m\u001b[0;34m.\u001b[0m\u001b[0mshould_sync\u001b[0m\u001b[0;34m:\u001b[0m\u001b[0;34m\u001b[0m\u001b[0;34m\u001b[0m\u001b[0m\n\u001b[1;32m   1386\u001b[0m                 \u001b[0mcontext\u001b[0m\u001b[0;34m.\u001b[0m\u001b[0masync_wait\u001b[0m\u001b[0;34m(\u001b[0m\u001b[0;34m)\u001b[0m\u001b[0;34m\u001b[0m\u001b[0;34m\u001b[0m\u001b[0m\n",
            "\u001b[0;32m/usr/local/lib/python3.7/dist-packages/tensorflow/python/util/traceback_utils.py\u001b[0m in \u001b[0;36merror_handler\u001b[0;34m(*args, **kwargs)\u001b[0m\n\u001b[1;32m    148\u001b[0m     \u001b[0mfiltered_tb\u001b[0m \u001b[0;34m=\u001b[0m \u001b[0;32mNone\u001b[0m\u001b[0;34m\u001b[0m\u001b[0;34m\u001b[0m\u001b[0m\n\u001b[1;32m    149\u001b[0m     \u001b[0;32mtry\u001b[0m\u001b[0;34m:\u001b[0m\u001b[0;34m\u001b[0m\u001b[0;34m\u001b[0m\u001b[0m\n\u001b[0;32m--> 150\u001b[0;31m       \u001b[0;32mreturn\u001b[0m \u001b[0mfn\u001b[0m\u001b[0;34m(\u001b[0m\u001b[0;34m*\u001b[0m\u001b[0margs\u001b[0m\u001b[0;34m,\u001b[0m \u001b[0;34m**\u001b[0m\u001b[0mkwargs\u001b[0m\u001b[0;34m)\u001b[0m\u001b[0;34m\u001b[0m\u001b[0;34m\u001b[0m\u001b[0m\n\u001b[0m\u001b[1;32m    151\u001b[0m     \u001b[0;32mexcept\u001b[0m \u001b[0mException\u001b[0m \u001b[0;32mas\u001b[0m \u001b[0me\u001b[0m\u001b[0;34m:\u001b[0m\u001b[0;34m\u001b[0m\u001b[0;34m\u001b[0m\u001b[0m\n\u001b[1;32m    152\u001b[0m       \u001b[0mfiltered_tb\u001b[0m \u001b[0;34m=\u001b[0m \u001b[0m_process_traceback_frames\u001b[0m\u001b[0;34m(\u001b[0m\u001b[0me\u001b[0m\u001b[0;34m.\u001b[0m\u001b[0m__traceback__\u001b[0m\u001b[0;34m)\u001b[0m\u001b[0;34m\u001b[0m\u001b[0;34m\u001b[0m\u001b[0m\n",
            "\u001b[0;32m/usr/local/lib/python3.7/dist-packages/tensorflow/python/eager/def_function.py\u001b[0m in \u001b[0;36m__call__\u001b[0;34m(self, *args, **kwds)\u001b[0m\n\u001b[1;32m    913\u001b[0m \u001b[0;34m\u001b[0m\u001b[0m\n\u001b[1;32m    914\u001b[0m       \u001b[0;32mwith\u001b[0m \u001b[0mOptionalXlaContext\u001b[0m\u001b[0;34m(\u001b[0m\u001b[0mself\u001b[0m\u001b[0;34m.\u001b[0m\u001b[0m_jit_compile\u001b[0m\u001b[0;34m)\u001b[0m\u001b[0;34m:\u001b[0m\u001b[0;34m\u001b[0m\u001b[0;34m\u001b[0m\u001b[0m\n\u001b[0;32m--> 915\u001b[0;31m         \u001b[0mresult\u001b[0m \u001b[0;34m=\u001b[0m \u001b[0mself\u001b[0m\u001b[0;34m.\u001b[0m\u001b[0m_call\u001b[0m\u001b[0;34m(\u001b[0m\u001b[0;34m*\u001b[0m\u001b[0margs\u001b[0m\u001b[0;34m,\u001b[0m \u001b[0;34m**\u001b[0m\u001b[0mkwds\u001b[0m\u001b[0;34m)\u001b[0m\u001b[0;34m\u001b[0m\u001b[0;34m\u001b[0m\u001b[0m\n\u001b[0m\u001b[1;32m    916\u001b[0m \u001b[0;34m\u001b[0m\u001b[0m\n\u001b[1;32m    917\u001b[0m       \u001b[0mnew_tracing_count\u001b[0m \u001b[0;34m=\u001b[0m \u001b[0mself\u001b[0m\u001b[0;34m.\u001b[0m\u001b[0mexperimental_get_tracing_count\u001b[0m\u001b[0;34m(\u001b[0m\u001b[0;34m)\u001b[0m\u001b[0;34m\u001b[0m\u001b[0;34m\u001b[0m\u001b[0m\n",
            "\u001b[0;32m/usr/local/lib/python3.7/dist-packages/tensorflow/python/eager/def_function.py\u001b[0m in \u001b[0;36m_call\u001b[0;34m(self, *args, **kwds)\u001b[0m\n\u001b[1;32m    961\u001b[0m       \u001b[0;31m# This is the first call of __call__, so we have to initialize.\u001b[0m\u001b[0;34m\u001b[0m\u001b[0;34m\u001b[0m\u001b[0;34m\u001b[0m\u001b[0m\n\u001b[1;32m    962\u001b[0m       \u001b[0minitializers\u001b[0m \u001b[0;34m=\u001b[0m \u001b[0;34m[\u001b[0m\u001b[0;34m]\u001b[0m\u001b[0;34m\u001b[0m\u001b[0;34m\u001b[0m\u001b[0m\n\u001b[0;32m--> 963\u001b[0;31m       \u001b[0mself\u001b[0m\u001b[0;34m.\u001b[0m\u001b[0m_initialize\u001b[0m\u001b[0;34m(\u001b[0m\u001b[0margs\u001b[0m\u001b[0;34m,\u001b[0m \u001b[0mkwds\u001b[0m\u001b[0;34m,\u001b[0m \u001b[0madd_initializers_to\u001b[0m\u001b[0;34m=\u001b[0m\u001b[0minitializers\u001b[0m\u001b[0;34m)\u001b[0m\u001b[0;34m\u001b[0m\u001b[0;34m\u001b[0m\u001b[0m\n\u001b[0m\u001b[1;32m    964\u001b[0m     \u001b[0;32mfinally\u001b[0m\u001b[0;34m:\u001b[0m\u001b[0;34m\u001b[0m\u001b[0;34m\u001b[0m\u001b[0m\n\u001b[1;32m    965\u001b[0m       \u001b[0;31m# At this point we know that the initialization is complete (or less\u001b[0m\u001b[0;34m\u001b[0m\u001b[0;34m\u001b[0m\u001b[0;34m\u001b[0m\u001b[0m\n",
            "\u001b[0;32m/usr/local/lib/python3.7/dist-packages/tensorflow/python/eager/def_function.py\u001b[0m in \u001b[0;36m_initialize\u001b[0;34m(self, args, kwds, add_initializers_to)\u001b[0m\n\u001b[1;32m    784\u001b[0m     self._concrete_stateful_fn = (\n\u001b[1;32m    785\u001b[0m         self._stateful_fn._get_concrete_function_internal_garbage_collected(  # pylint: disable=protected-access\n\u001b[0;32m--> 786\u001b[0;31m             *args, **kwds))\n\u001b[0m\u001b[1;32m    787\u001b[0m \u001b[0;34m\u001b[0m\u001b[0m\n\u001b[1;32m    788\u001b[0m     \u001b[0;32mdef\u001b[0m \u001b[0minvalid_creator_scope\u001b[0m\u001b[0;34m(\u001b[0m\u001b[0;34m*\u001b[0m\u001b[0munused_args\u001b[0m\u001b[0;34m,\u001b[0m \u001b[0;34m**\u001b[0m\u001b[0munused_kwds\u001b[0m\u001b[0;34m)\u001b[0m\u001b[0;34m:\u001b[0m\u001b[0;34m\u001b[0m\u001b[0;34m\u001b[0m\u001b[0m\n",
            "\u001b[0;32m/usr/local/lib/python3.7/dist-packages/tensorflow/python/eager/function.py\u001b[0m in \u001b[0;36m_get_concrete_function_internal_garbage_collected\u001b[0;34m(self, *args, **kwargs)\u001b[0m\n\u001b[1;32m   2981\u001b[0m       \u001b[0margs\u001b[0m\u001b[0;34m,\u001b[0m \u001b[0mkwargs\u001b[0m \u001b[0;34m=\u001b[0m \u001b[0;32mNone\u001b[0m\u001b[0;34m,\u001b[0m \u001b[0;32mNone\u001b[0m\u001b[0;34m\u001b[0m\u001b[0;34m\u001b[0m\u001b[0m\n\u001b[1;32m   2982\u001b[0m     \u001b[0;32mwith\u001b[0m \u001b[0mself\u001b[0m\u001b[0;34m.\u001b[0m\u001b[0m_lock\u001b[0m\u001b[0;34m:\u001b[0m\u001b[0;34m\u001b[0m\u001b[0;34m\u001b[0m\u001b[0m\n\u001b[0;32m-> 2983\u001b[0;31m       \u001b[0mgraph_function\u001b[0m\u001b[0;34m,\u001b[0m \u001b[0m_\u001b[0m \u001b[0;34m=\u001b[0m \u001b[0mself\u001b[0m\u001b[0;34m.\u001b[0m\u001b[0m_maybe_define_function\u001b[0m\u001b[0;34m(\u001b[0m\u001b[0margs\u001b[0m\u001b[0;34m,\u001b[0m \u001b[0mkwargs\u001b[0m\u001b[0;34m)\u001b[0m\u001b[0;34m\u001b[0m\u001b[0;34m\u001b[0m\u001b[0m\n\u001b[0m\u001b[1;32m   2984\u001b[0m     \u001b[0;32mreturn\u001b[0m \u001b[0mgraph_function\u001b[0m\u001b[0;34m\u001b[0m\u001b[0;34m\u001b[0m\u001b[0m\n\u001b[1;32m   2985\u001b[0m \u001b[0;34m\u001b[0m\u001b[0m\n",
            "\u001b[0;32m/usr/local/lib/python3.7/dist-packages/tensorflow/python/eager/function.py\u001b[0m in \u001b[0;36m_maybe_define_function\u001b[0;34m(self, args, kwargs)\u001b[0m\n\u001b[1;32m   3290\u001b[0m \u001b[0;34m\u001b[0m\u001b[0m\n\u001b[1;32m   3291\u001b[0m           \u001b[0mself\u001b[0m\u001b[0;34m.\u001b[0m\u001b[0m_function_cache\u001b[0m\u001b[0;34m.\u001b[0m\u001b[0madd_call_context\u001b[0m\u001b[0;34m(\u001b[0m\u001b[0mcache_key\u001b[0m\u001b[0;34m.\u001b[0m\u001b[0mcall_context\u001b[0m\u001b[0;34m)\u001b[0m\u001b[0;34m\u001b[0m\u001b[0;34m\u001b[0m\u001b[0m\n\u001b[0;32m-> 3292\u001b[0;31m           \u001b[0mgraph_function\u001b[0m \u001b[0;34m=\u001b[0m \u001b[0mself\u001b[0m\u001b[0;34m.\u001b[0m\u001b[0m_create_graph_function\u001b[0m\u001b[0;34m(\u001b[0m\u001b[0margs\u001b[0m\u001b[0;34m,\u001b[0m \u001b[0mkwargs\u001b[0m\u001b[0;34m)\u001b[0m\u001b[0;34m\u001b[0m\u001b[0;34m\u001b[0m\u001b[0m\n\u001b[0m\u001b[1;32m   3293\u001b[0m           self._function_cache.add(cache_key, cache_key_deletion_observer,\n\u001b[1;32m   3294\u001b[0m                                    graph_function)\n",
            "\u001b[0;32m/usr/local/lib/python3.7/dist-packages/tensorflow/python/eager/function.py\u001b[0m in \u001b[0;36m_create_graph_function\u001b[0;34m(self, args, kwargs, override_flat_arg_shapes)\u001b[0m\n\u001b[1;32m   3138\u001b[0m             \u001b[0marg_names\u001b[0m\u001b[0;34m=\u001b[0m\u001b[0marg_names\u001b[0m\u001b[0;34m,\u001b[0m\u001b[0;34m\u001b[0m\u001b[0;34m\u001b[0m\u001b[0m\n\u001b[1;32m   3139\u001b[0m             \u001b[0moverride_flat_arg_shapes\u001b[0m\u001b[0;34m=\u001b[0m\u001b[0moverride_flat_arg_shapes\u001b[0m\u001b[0;34m,\u001b[0m\u001b[0;34m\u001b[0m\u001b[0;34m\u001b[0m\u001b[0m\n\u001b[0;32m-> 3140\u001b[0;31m             capture_by_value=self._capture_by_value),\n\u001b[0m\u001b[1;32m   3141\u001b[0m         \u001b[0mself\u001b[0m\u001b[0;34m.\u001b[0m\u001b[0m_function_attributes\u001b[0m\u001b[0;34m,\u001b[0m\u001b[0;34m\u001b[0m\u001b[0;34m\u001b[0m\u001b[0m\n\u001b[1;32m   3142\u001b[0m         \u001b[0mfunction_spec\u001b[0m\u001b[0;34m=\u001b[0m\u001b[0mself\u001b[0m\u001b[0;34m.\u001b[0m\u001b[0mfunction_spec\u001b[0m\u001b[0;34m,\u001b[0m\u001b[0;34m\u001b[0m\u001b[0;34m\u001b[0m\u001b[0m\n",
            "\u001b[0;32m/usr/local/lib/python3.7/dist-packages/tensorflow/python/framework/func_graph.py\u001b[0m in \u001b[0;36mfunc_graph_from_py_func\u001b[0;34m(name, python_func, args, kwargs, signature, func_graph, autograph, autograph_options, add_control_dependencies, arg_names, op_return_value, collections, capture_by_value, override_flat_arg_shapes, acd_record_initial_resource_uses)\u001b[0m\n\u001b[1;32m   1159\u001b[0m         \u001b[0m_\u001b[0m\u001b[0;34m,\u001b[0m \u001b[0moriginal_func\u001b[0m \u001b[0;34m=\u001b[0m \u001b[0mtf_decorator\u001b[0m\u001b[0;34m.\u001b[0m\u001b[0munwrap\u001b[0m\u001b[0;34m(\u001b[0m\u001b[0mpython_func\u001b[0m\u001b[0;34m)\u001b[0m\u001b[0;34m\u001b[0m\u001b[0;34m\u001b[0m\u001b[0m\n\u001b[1;32m   1160\u001b[0m \u001b[0;34m\u001b[0m\u001b[0m\n\u001b[0;32m-> 1161\u001b[0;31m       \u001b[0mfunc_outputs\u001b[0m \u001b[0;34m=\u001b[0m \u001b[0mpython_func\u001b[0m\u001b[0;34m(\u001b[0m\u001b[0;34m*\u001b[0m\u001b[0mfunc_args\u001b[0m\u001b[0;34m,\u001b[0m \u001b[0;34m**\u001b[0m\u001b[0mfunc_kwargs\u001b[0m\u001b[0;34m)\u001b[0m\u001b[0;34m\u001b[0m\u001b[0;34m\u001b[0m\u001b[0m\n\u001b[0m\u001b[1;32m   1162\u001b[0m \u001b[0;34m\u001b[0m\u001b[0m\n\u001b[1;32m   1163\u001b[0m       \u001b[0;31m# invariant: `func_outputs` contains only Tensors, CompositeTensors,\u001b[0m\u001b[0;34m\u001b[0m\u001b[0;34m\u001b[0m\u001b[0;34m\u001b[0m\u001b[0m\n",
            "\u001b[0;32m/usr/local/lib/python3.7/dist-packages/tensorflow/python/eager/def_function.py\u001b[0m in \u001b[0;36mwrapped_fn\u001b[0;34m(*args, **kwds)\u001b[0m\n\u001b[1;32m    675\u001b[0m         \u001b[0;31m# the function a weak reference to itself to avoid a reference cycle.\u001b[0m\u001b[0;34m\u001b[0m\u001b[0;34m\u001b[0m\u001b[0;34m\u001b[0m\u001b[0m\n\u001b[1;32m    676\u001b[0m         \u001b[0;32mwith\u001b[0m \u001b[0mOptionalXlaContext\u001b[0m\u001b[0;34m(\u001b[0m\u001b[0mcompile_with_xla\u001b[0m\u001b[0;34m)\u001b[0m\u001b[0;34m:\u001b[0m\u001b[0;34m\u001b[0m\u001b[0;34m\u001b[0m\u001b[0m\n\u001b[0;32m--> 677\u001b[0;31m           \u001b[0mout\u001b[0m \u001b[0;34m=\u001b[0m \u001b[0mweak_wrapped_fn\u001b[0m\u001b[0;34m(\u001b[0m\u001b[0;34m)\u001b[0m\u001b[0;34m.\u001b[0m\u001b[0m__wrapped__\u001b[0m\u001b[0;34m(\u001b[0m\u001b[0;34m*\u001b[0m\u001b[0margs\u001b[0m\u001b[0;34m,\u001b[0m \u001b[0;34m**\u001b[0m\u001b[0mkwds\u001b[0m\u001b[0;34m)\u001b[0m\u001b[0;34m\u001b[0m\u001b[0;34m\u001b[0m\u001b[0m\n\u001b[0m\u001b[1;32m    678\u001b[0m         \u001b[0;32mreturn\u001b[0m \u001b[0mout\u001b[0m\u001b[0;34m\u001b[0m\u001b[0;34m\u001b[0m\u001b[0m\n\u001b[1;32m    679\u001b[0m \u001b[0;34m\u001b[0m\u001b[0m\n",
            "\u001b[0;32m/usr/local/lib/python3.7/dist-packages/tensorflow/python/framework/func_graph.py\u001b[0m in \u001b[0;36mautograph_handler\u001b[0;34m(*args, **kwargs)\u001b[0m\n\u001b[1;32m   1141\u001b[0m                     \u001b[0mrecursive\u001b[0m\u001b[0;34m=\u001b[0m\u001b[0;32mTrue\u001b[0m\u001b[0;34m,\u001b[0m\u001b[0;34m\u001b[0m\u001b[0;34m\u001b[0m\u001b[0m\n\u001b[1;32m   1142\u001b[0m                     \u001b[0moptional_features\u001b[0m\u001b[0;34m=\u001b[0m\u001b[0mautograph_options\u001b[0m\u001b[0;34m,\u001b[0m\u001b[0;34m\u001b[0m\u001b[0;34m\u001b[0m\u001b[0m\n\u001b[0;32m-> 1143\u001b[0;31m                     \u001b[0muser_requested\u001b[0m\u001b[0;34m=\u001b[0m\u001b[0;32mTrue\u001b[0m\u001b[0;34m,\u001b[0m\u001b[0;34m\u001b[0m\u001b[0;34m\u001b[0m\u001b[0m\n\u001b[0m\u001b[1;32m   1144\u001b[0m                 ))\n\u001b[1;32m   1145\u001b[0m           \u001b[0;32mexcept\u001b[0m \u001b[0mException\u001b[0m \u001b[0;32mas\u001b[0m \u001b[0me\u001b[0m\u001b[0;34m:\u001b[0m  \u001b[0;31m# pylint:disable=broad-except\u001b[0m\u001b[0;34m\u001b[0m\u001b[0;34m\u001b[0m\u001b[0m\n",
            "\u001b[0;32m/usr/local/lib/python3.7/dist-packages/tensorflow/python/autograph/impl/api.py\u001b[0m in \u001b[0;36mconverted_call\u001b[0;34m(f, args, kwargs, caller_fn_scope, options)\u001b[0m\n\u001b[1;32m    437\u001b[0m     \u001b[0;32mtry\u001b[0m\u001b[0;34m:\u001b[0m\u001b[0;34m\u001b[0m\u001b[0;34m\u001b[0m\u001b[0m\n\u001b[1;32m    438\u001b[0m       \u001b[0;32mif\u001b[0m \u001b[0mkwargs\u001b[0m \u001b[0;32mis\u001b[0m \u001b[0;32mnot\u001b[0m \u001b[0;32mNone\u001b[0m\u001b[0;34m:\u001b[0m\u001b[0;34m\u001b[0m\u001b[0;34m\u001b[0m\u001b[0m\n\u001b[0;32m--> 439\u001b[0;31m         \u001b[0mresult\u001b[0m \u001b[0;34m=\u001b[0m \u001b[0mconverted_f\u001b[0m\u001b[0;34m(\u001b[0m\u001b[0;34m*\u001b[0m\u001b[0meffective_args\u001b[0m\u001b[0;34m,\u001b[0m \u001b[0;34m**\u001b[0m\u001b[0mkwargs\u001b[0m\u001b[0;34m)\u001b[0m\u001b[0;34m\u001b[0m\u001b[0;34m\u001b[0m\u001b[0m\n\u001b[0m\u001b[1;32m    440\u001b[0m       \u001b[0;32melse\u001b[0m\u001b[0;34m:\u001b[0m\u001b[0;34m\u001b[0m\u001b[0;34m\u001b[0m\u001b[0m\n\u001b[1;32m    441\u001b[0m         \u001b[0mresult\u001b[0m \u001b[0;34m=\u001b[0m \u001b[0mconverted_f\u001b[0m\u001b[0;34m(\u001b[0m\u001b[0;34m*\u001b[0m\u001b[0meffective_args\u001b[0m\u001b[0;34m)\u001b[0m\u001b[0;34m\u001b[0m\u001b[0;34m\u001b[0m\u001b[0m\n",
            "\u001b[0;32m/usr/local/lib/python3.7/dist-packages/keras/engine/training.py\u001b[0m in \u001b[0;36mtf__train_function\u001b[0;34m(iterator)\u001b[0m\n\u001b[1;32m     13\u001b[0m                 \u001b[0;32mtry\u001b[0m\u001b[0;34m:\u001b[0m\u001b[0;34m\u001b[0m\u001b[0;34m\u001b[0m\u001b[0m\n\u001b[1;32m     14\u001b[0m                     \u001b[0mdo_return\u001b[0m \u001b[0;34m=\u001b[0m \u001b[0;32mTrue\u001b[0m\u001b[0;34m\u001b[0m\u001b[0;34m\u001b[0m\u001b[0m\n\u001b[0;32m---> 15\u001b[0;31m                     \u001b[0mretval_\u001b[0m \u001b[0;34m=\u001b[0m \u001b[0mag__\u001b[0m\u001b[0;34m.\u001b[0m\u001b[0mconverted_call\u001b[0m\u001b[0;34m(\u001b[0m\u001b[0mag__\u001b[0m\u001b[0;34m.\u001b[0m\u001b[0mld\u001b[0m\u001b[0;34m(\u001b[0m\u001b[0mstep_function\u001b[0m\u001b[0;34m)\u001b[0m\u001b[0;34m,\u001b[0m \u001b[0;34m(\u001b[0m\u001b[0mag__\u001b[0m\u001b[0;34m.\u001b[0m\u001b[0mld\u001b[0m\u001b[0;34m(\u001b[0m\u001b[0mself\u001b[0m\u001b[0;34m)\u001b[0m\u001b[0;34m,\u001b[0m \u001b[0mag__\u001b[0m\u001b[0;34m.\u001b[0m\u001b[0mld\u001b[0m\u001b[0;34m(\u001b[0m\u001b[0miterator\u001b[0m\u001b[0;34m)\u001b[0m\u001b[0;34m)\u001b[0m\u001b[0;34m,\u001b[0m \u001b[0;32mNone\u001b[0m\u001b[0;34m,\u001b[0m \u001b[0mfscope\u001b[0m\u001b[0;34m)\u001b[0m\u001b[0;34m\u001b[0m\u001b[0;34m\u001b[0m\u001b[0m\n\u001b[0m\u001b[1;32m     16\u001b[0m                 \u001b[0;32mexcept\u001b[0m\u001b[0;34m:\u001b[0m\u001b[0;34m\u001b[0m\u001b[0;34m\u001b[0m\u001b[0m\n\u001b[1;32m     17\u001b[0m                     \u001b[0mdo_return\u001b[0m \u001b[0;34m=\u001b[0m \u001b[0;32mFalse\u001b[0m\u001b[0;34m\u001b[0m\u001b[0;34m\u001b[0m\u001b[0m\n",
            "\u001b[0;32m/usr/local/lib/python3.7/dist-packages/tensorflow/python/autograph/impl/api.py\u001b[0m in \u001b[0;36mconverted_call\u001b[0;34m(f, args, kwargs, caller_fn_scope, options)\u001b[0m\n\u001b[1;32m    375\u001b[0m \u001b[0;34m\u001b[0m\u001b[0m\n\u001b[1;32m    376\u001b[0m   \u001b[0;32mif\u001b[0m \u001b[0;32mnot\u001b[0m \u001b[0moptions\u001b[0m\u001b[0;34m.\u001b[0m\u001b[0muser_requested\u001b[0m \u001b[0;32mand\u001b[0m \u001b[0mconversion\u001b[0m\u001b[0;34m.\u001b[0m\u001b[0mis_allowlisted\u001b[0m\u001b[0;34m(\u001b[0m\u001b[0mf\u001b[0m\u001b[0;34m)\u001b[0m\u001b[0;34m:\u001b[0m\u001b[0;34m\u001b[0m\u001b[0;34m\u001b[0m\u001b[0m\n\u001b[0;32m--> 377\u001b[0;31m     \u001b[0;32mreturn\u001b[0m \u001b[0m_call_unconverted\u001b[0m\u001b[0;34m(\u001b[0m\u001b[0mf\u001b[0m\u001b[0;34m,\u001b[0m \u001b[0margs\u001b[0m\u001b[0;34m,\u001b[0m \u001b[0mkwargs\u001b[0m\u001b[0;34m,\u001b[0m \u001b[0moptions\u001b[0m\u001b[0;34m)\u001b[0m\u001b[0;34m\u001b[0m\u001b[0;34m\u001b[0m\u001b[0m\n\u001b[0m\u001b[1;32m    378\u001b[0m \u001b[0;34m\u001b[0m\u001b[0m\n\u001b[1;32m    379\u001b[0m   \u001b[0;31m# internal_convert_user_code is for example turned off when issuing a dynamic\u001b[0m\u001b[0;34m\u001b[0m\u001b[0;34m\u001b[0m\u001b[0;34m\u001b[0m\u001b[0m\n",
            "\u001b[0;32m/usr/local/lib/python3.7/dist-packages/tensorflow/python/autograph/impl/api.py\u001b[0m in \u001b[0;36m_call_unconverted\u001b[0;34m(f, args, kwargs, options, update_cache)\u001b[0m\n\u001b[1;32m    457\u001b[0m   \u001b[0;32mif\u001b[0m \u001b[0mkwargs\u001b[0m \u001b[0;32mis\u001b[0m \u001b[0;32mnot\u001b[0m \u001b[0;32mNone\u001b[0m\u001b[0;34m:\u001b[0m\u001b[0;34m\u001b[0m\u001b[0;34m\u001b[0m\u001b[0m\n\u001b[1;32m    458\u001b[0m     \u001b[0;32mreturn\u001b[0m \u001b[0mf\u001b[0m\u001b[0;34m(\u001b[0m\u001b[0;34m*\u001b[0m\u001b[0margs\u001b[0m\u001b[0;34m,\u001b[0m \u001b[0;34m**\u001b[0m\u001b[0mkwargs\u001b[0m\u001b[0;34m)\u001b[0m\u001b[0;34m\u001b[0m\u001b[0;34m\u001b[0m\u001b[0m\n\u001b[0;32m--> 459\u001b[0;31m   \u001b[0;32mreturn\u001b[0m \u001b[0mf\u001b[0m\u001b[0;34m(\u001b[0m\u001b[0;34m*\u001b[0m\u001b[0margs\u001b[0m\u001b[0;34m)\u001b[0m\u001b[0;34m\u001b[0m\u001b[0;34m\u001b[0m\u001b[0m\n\u001b[0m\u001b[1;32m    460\u001b[0m \u001b[0;34m\u001b[0m\u001b[0m\n\u001b[1;32m    461\u001b[0m \u001b[0;34m\u001b[0m\u001b[0m\n",
            "\u001b[0;32m/usr/local/lib/python3.7/dist-packages/keras/engine/training.py\u001b[0m in \u001b[0;36mstep_function\u001b[0;34m(model, iterator)\u001b[0m\n\u001b[1;32m   1008\u001b[0m             run_step, jit_compile=True, experimental_relax_shapes=True)\n\u001b[1;32m   1009\u001b[0m       \u001b[0mdata\u001b[0m \u001b[0;34m=\u001b[0m \u001b[0mnext\u001b[0m\u001b[0;34m(\u001b[0m\u001b[0miterator\u001b[0m\u001b[0;34m)\u001b[0m\u001b[0;34m\u001b[0m\u001b[0;34m\u001b[0m\u001b[0m\n\u001b[0;32m-> 1010\u001b[0;31m       \u001b[0moutputs\u001b[0m \u001b[0;34m=\u001b[0m \u001b[0mmodel\u001b[0m\u001b[0;34m.\u001b[0m\u001b[0mdistribute_strategy\u001b[0m\u001b[0;34m.\u001b[0m\u001b[0mrun\u001b[0m\u001b[0;34m(\u001b[0m\u001b[0mrun_step\u001b[0m\u001b[0;34m,\u001b[0m \u001b[0margs\u001b[0m\u001b[0;34m=\u001b[0m\u001b[0;34m(\u001b[0m\u001b[0mdata\u001b[0m\u001b[0;34m,\u001b[0m\u001b[0;34m)\u001b[0m\u001b[0;34m)\u001b[0m\u001b[0;34m\u001b[0m\u001b[0;34m\u001b[0m\u001b[0m\n\u001b[0m\u001b[1;32m   1011\u001b[0m       outputs = reduce_per_replica(\n\u001b[1;32m   1012\u001b[0m           outputs, self.distribute_strategy, reduction='first')\n",
            "\u001b[0;32m/usr/local/lib/python3.7/dist-packages/tensorflow/python/distribute/distribute_lib.py\u001b[0m in \u001b[0;36mrun\u001b[0;34m(***failed resolving arguments***)\u001b[0m\n\u001b[1;32m   1310\u001b[0m       fn = autograph.tf_convert(\n\u001b[1;32m   1311\u001b[0m           fn, autograph_ctx.control_status_ctx(), convert_by_default=False)\n\u001b[0;32m-> 1312\u001b[0;31m       \u001b[0;32mreturn\u001b[0m \u001b[0mself\u001b[0m\u001b[0;34m.\u001b[0m\u001b[0m_extended\u001b[0m\u001b[0;34m.\u001b[0m\u001b[0mcall_for_each_replica\u001b[0m\u001b[0;34m(\u001b[0m\u001b[0mfn\u001b[0m\u001b[0;34m,\u001b[0m \u001b[0margs\u001b[0m\u001b[0;34m=\u001b[0m\u001b[0margs\u001b[0m\u001b[0;34m,\u001b[0m \u001b[0mkwargs\u001b[0m\u001b[0;34m=\u001b[0m\u001b[0mkwargs\u001b[0m\u001b[0;34m)\u001b[0m\u001b[0;34m\u001b[0m\u001b[0;34m\u001b[0m\u001b[0m\n\u001b[0m\u001b[1;32m   1313\u001b[0m \u001b[0;34m\u001b[0m\u001b[0m\n\u001b[1;32m   1314\u001b[0m   \u001b[0;32mdef\u001b[0m \u001b[0mreduce\u001b[0m\u001b[0;34m(\u001b[0m\u001b[0mself\u001b[0m\u001b[0;34m,\u001b[0m \u001b[0mreduce_op\u001b[0m\u001b[0;34m,\u001b[0m \u001b[0mvalue\u001b[0m\u001b[0;34m,\u001b[0m \u001b[0maxis\u001b[0m\u001b[0;34m)\u001b[0m\u001b[0;34m:\u001b[0m\u001b[0;34m\u001b[0m\u001b[0;34m\u001b[0m\u001b[0m\n",
            "\u001b[0;32m/usr/local/lib/python3.7/dist-packages/tensorflow/python/distribute/distribute_lib.py\u001b[0m in \u001b[0;36mcall_for_each_replica\u001b[0;34m(self, fn, args, kwargs)\u001b[0m\n\u001b[1;32m   2886\u001b[0m       \u001b[0mkwargs\u001b[0m \u001b[0;34m=\u001b[0m \u001b[0;34m{\u001b[0m\u001b[0;34m}\u001b[0m\u001b[0;34m\u001b[0m\u001b[0;34m\u001b[0m\u001b[0m\n\u001b[1;32m   2887\u001b[0m     \u001b[0;32mwith\u001b[0m \u001b[0mself\u001b[0m\u001b[0;34m.\u001b[0m\u001b[0m_container_strategy\u001b[0m\u001b[0;34m(\u001b[0m\u001b[0;34m)\u001b[0m\u001b[0;34m.\u001b[0m\u001b[0mscope\u001b[0m\u001b[0;34m(\u001b[0m\u001b[0;34m)\u001b[0m\u001b[0;34m:\u001b[0m\u001b[0;34m\u001b[0m\u001b[0;34m\u001b[0m\u001b[0m\n\u001b[0;32m-> 2888\u001b[0;31m       \u001b[0;32mreturn\u001b[0m \u001b[0mself\u001b[0m\u001b[0;34m.\u001b[0m\u001b[0m_call_for_each_replica\u001b[0m\u001b[0;34m(\u001b[0m\u001b[0mfn\u001b[0m\u001b[0;34m,\u001b[0m \u001b[0margs\u001b[0m\u001b[0;34m,\u001b[0m \u001b[0mkwargs\u001b[0m\u001b[0;34m)\u001b[0m\u001b[0;34m\u001b[0m\u001b[0;34m\u001b[0m\u001b[0m\n\u001b[0m\u001b[1;32m   2889\u001b[0m \u001b[0;34m\u001b[0m\u001b[0m\n\u001b[1;32m   2890\u001b[0m   \u001b[0;32mdef\u001b[0m \u001b[0m_call_for_each_replica\u001b[0m\u001b[0;34m(\u001b[0m\u001b[0mself\u001b[0m\u001b[0;34m,\u001b[0m \u001b[0mfn\u001b[0m\u001b[0;34m,\u001b[0m \u001b[0margs\u001b[0m\u001b[0;34m,\u001b[0m \u001b[0mkwargs\u001b[0m\u001b[0;34m)\u001b[0m\u001b[0;34m:\u001b[0m\u001b[0;34m\u001b[0m\u001b[0;34m\u001b[0m\u001b[0m\n",
            "\u001b[0;32m/usr/local/lib/python3.7/dist-packages/tensorflow/python/distribute/distribute_lib.py\u001b[0m in \u001b[0;36m_call_for_each_replica\u001b[0;34m(self, fn, args, kwargs)\u001b[0m\n\u001b[1;32m   3687\u001b[0m   \u001b[0;32mdef\u001b[0m \u001b[0m_call_for_each_replica\u001b[0m\u001b[0;34m(\u001b[0m\u001b[0mself\u001b[0m\u001b[0;34m,\u001b[0m \u001b[0mfn\u001b[0m\u001b[0;34m,\u001b[0m \u001b[0margs\u001b[0m\u001b[0;34m,\u001b[0m \u001b[0mkwargs\u001b[0m\u001b[0;34m)\u001b[0m\u001b[0;34m:\u001b[0m\u001b[0;34m\u001b[0m\u001b[0;34m\u001b[0m\u001b[0m\n\u001b[1;32m   3688\u001b[0m     \u001b[0;32mwith\u001b[0m \u001b[0mReplicaContext\u001b[0m\u001b[0;34m(\u001b[0m\u001b[0mself\u001b[0m\u001b[0;34m.\u001b[0m\u001b[0m_container_strategy\u001b[0m\u001b[0;34m(\u001b[0m\u001b[0;34m)\u001b[0m\u001b[0;34m,\u001b[0m \u001b[0mreplica_id_in_sync_group\u001b[0m\u001b[0;34m=\u001b[0m\u001b[0;36m0\u001b[0m\u001b[0;34m)\u001b[0m\u001b[0;34m:\u001b[0m\u001b[0;34m\u001b[0m\u001b[0;34m\u001b[0m\u001b[0m\n\u001b[0;32m-> 3689\u001b[0;31m       \u001b[0;32mreturn\u001b[0m \u001b[0mfn\u001b[0m\u001b[0;34m(\u001b[0m\u001b[0;34m*\u001b[0m\u001b[0margs\u001b[0m\u001b[0;34m,\u001b[0m \u001b[0;34m**\u001b[0m\u001b[0mkwargs\u001b[0m\u001b[0;34m)\u001b[0m\u001b[0;34m\u001b[0m\u001b[0;34m\u001b[0m\u001b[0m\n\u001b[0m\u001b[1;32m   3690\u001b[0m \u001b[0;34m\u001b[0m\u001b[0m\n\u001b[1;32m   3691\u001b[0m   \u001b[0;32mdef\u001b[0m \u001b[0m_reduce_to\u001b[0m\u001b[0;34m(\u001b[0m\u001b[0mself\u001b[0m\u001b[0;34m,\u001b[0m \u001b[0mreduce_op\u001b[0m\u001b[0;34m,\u001b[0m \u001b[0mvalue\u001b[0m\u001b[0;34m,\u001b[0m \u001b[0mdestinations\u001b[0m\u001b[0;34m,\u001b[0m \u001b[0moptions\u001b[0m\u001b[0;34m)\u001b[0m\u001b[0;34m:\u001b[0m\u001b[0;34m\u001b[0m\u001b[0;34m\u001b[0m\u001b[0m\n",
            "\u001b[0;32m/usr/local/lib/python3.7/dist-packages/tensorflow/python/autograph/impl/api.py\u001b[0m in \u001b[0;36mwrapper\u001b[0;34m(*args, **kwargs)\u001b[0m\n\u001b[1;32m    687\u001b[0m       \u001b[0;32mtry\u001b[0m\u001b[0;34m:\u001b[0m\u001b[0;34m\u001b[0m\u001b[0;34m\u001b[0m\u001b[0m\n\u001b[1;32m    688\u001b[0m         \u001b[0;32mwith\u001b[0m \u001b[0mconversion_ctx\u001b[0m\u001b[0;34m:\u001b[0m\u001b[0;34m\u001b[0m\u001b[0;34m\u001b[0m\u001b[0m\n\u001b[0;32m--> 689\u001b[0;31m           \u001b[0;32mreturn\u001b[0m \u001b[0mconverted_call\u001b[0m\u001b[0;34m(\u001b[0m\u001b[0mf\u001b[0m\u001b[0;34m,\u001b[0m \u001b[0margs\u001b[0m\u001b[0;34m,\u001b[0m \u001b[0mkwargs\u001b[0m\u001b[0;34m,\u001b[0m \u001b[0moptions\u001b[0m\u001b[0;34m=\u001b[0m\u001b[0moptions\u001b[0m\u001b[0;34m)\u001b[0m\u001b[0;34m\u001b[0m\u001b[0;34m\u001b[0m\u001b[0m\n\u001b[0m\u001b[1;32m    690\u001b[0m       \u001b[0;32mexcept\u001b[0m \u001b[0mException\u001b[0m \u001b[0;32mas\u001b[0m \u001b[0me\u001b[0m\u001b[0;34m:\u001b[0m  \u001b[0;31m# pylint:disable=broad-except\u001b[0m\u001b[0;34m\u001b[0m\u001b[0;34m\u001b[0m\u001b[0m\n\u001b[1;32m    691\u001b[0m         \u001b[0;32mif\u001b[0m \u001b[0mhasattr\u001b[0m\u001b[0;34m(\u001b[0m\u001b[0me\u001b[0m\u001b[0;34m,\u001b[0m \u001b[0;34m'ag_error_metadata'\u001b[0m\u001b[0;34m)\u001b[0m\u001b[0;34m:\u001b[0m\u001b[0;34m\u001b[0m\u001b[0;34m\u001b[0m\u001b[0m\n",
            "\u001b[0;32m/usr/local/lib/python3.7/dist-packages/tensorflow/python/autograph/impl/api.py\u001b[0m in \u001b[0;36mconverted_call\u001b[0;34m(f, args, kwargs, caller_fn_scope, options)\u001b[0m\n\u001b[1;32m    375\u001b[0m \u001b[0;34m\u001b[0m\u001b[0m\n\u001b[1;32m    376\u001b[0m   \u001b[0;32mif\u001b[0m \u001b[0;32mnot\u001b[0m \u001b[0moptions\u001b[0m\u001b[0;34m.\u001b[0m\u001b[0muser_requested\u001b[0m \u001b[0;32mand\u001b[0m \u001b[0mconversion\u001b[0m\u001b[0;34m.\u001b[0m\u001b[0mis_allowlisted\u001b[0m\u001b[0;34m(\u001b[0m\u001b[0mf\u001b[0m\u001b[0;34m)\u001b[0m\u001b[0;34m:\u001b[0m\u001b[0;34m\u001b[0m\u001b[0;34m\u001b[0m\u001b[0m\n\u001b[0;32m--> 377\u001b[0;31m     \u001b[0;32mreturn\u001b[0m \u001b[0m_call_unconverted\u001b[0m\u001b[0;34m(\u001b[0m\u001b[0mf\u001b[0m\u001b[0;34m,\u001b[0m \u001b[0margs\u001b[0m\u001b[0;34m,\u001b[0m \u001b[0mkwargs\u001b[0m\u001b[0;34m,\u001b[0m \u001b[0moptions\u001b[0m\u001b[0;34m)\u001b[0m\u001b[0;34m\u001b[0m\u001b[0;34m\u001b[0m\u001b[0m\n\u001b[0m\u001b[1;32m    378\u001b[0m \u001b[0;34m\u001b[0m\u001b[0m\n\u001b[1;32m    379\u001b[0m   \u001b[0;31m# internal_convert_user_code is for example turned off when issuing a dynamic\u001b[0m\u001b[0;34m\u001b[0m\u001b[0;34m\u001b[0m\u001b[0;34m\u001b[0m\u001b[0m\n",
            "\u001b[0;32m/usr/local/lib/python3.7/dist-packages/tensorflow/python/autograph/impl/api.py\u001b[0m in \u001b[0;36m_call_unconverted\u001b[0;34m(f, args, kwargs, options, update_cache)\u001b[0m\n\u001b[1;32m    456\u001b[0m \u001b[0;34m\u001b[0m\u001b[0m\n\u001b[1;32m    457\u001b[0m   \u001b[0;32mif\u001b[0m \u001b[0mkwargs\u001b[0m \u001b[0;32mis\u001b[0m \u001b[0;32mnot\u001b[0m \u001b[0;32mNone\u001b[0m\u001b[0;34m:\u001b[0m\u001b[0;34m\u001b[0m\u001b[0;34m\u001b[0m\u001b[0m\n\u001b[0;32m--> 458\u001b[0;31m     \u001b[0;32mreturn\u001b[0m \u001b[0mf\u001b[0m\u001b[0;34m(\u001b[0m\u001b[0;34m*\u001b[0m\u001b[0margs\u001b[0m\u001b[0;34m,\u001b[0m \u001b[0;34m**\u001b[0m\u001b[0mkwargs\u001b[0m\u001b[0;34m)\u001b[0m\u001b[0;34m\u001b[0m\u001b[0;34m\u001b[0m\u001b[0m\n\u001b[0m\u001b[1;32m    459\u001b[0m   \u001b[0;32mreturn\u001b[0m \u001b[0mf\u001b[0m\u001b[0;34m(\u001b[0m\u001b[0;34m*\u001b[0m\u001b[0margs\u001b[0m\u001b[0;34m)\u001b[0m\u001b[0;34m\u001b[0m\u001b[0;34m\u001b[0m\u001b[0m\n\u001b[1;32m    460\u001b[0m \u001b[0;34m\u001b[0m\u001b[0m\n",
            "\u001b[0;32m/usr/local/lib/python3.7/dist-packages/keras/engine/training.py\u001b[0m in \u001b[0;36mrun_step\u001b[0;34m(data)\u001b[0m\n\u001b[1;32m    998\u001b[0m \u001b[0;34m\u001b[0m\u001b[0m\n\u001b[1;32m    999\u001b[0m       \u001b[0;32mdef\u001b[0m \u001b[0mrun_step\u001b[0m\u001b[0;34m(\u001b[0m\u001b[0mdata\u001b[0m\u001b[0;34m)\u001b[0m\u001b[0;34m:\u001b[0m\u001b[0;34m\u001b[0m\u001b[0;34m\u001b[0m\u001b[0m\n\u001b[0;32m-> 1000\u001b[0;31m         \u001b[0moutputs\u001b[0m \u001b[0;34m=\u001b[0m \u001b[0mmodel\u001b[0m\u001b[0;34m.\u001b[0m\u001b[0mtrain_step\u001b[0m\u001b[0;34m(\u001b[0m\u001b[0mdata\u001b[0m\u001b[0;34m)\u001b[0m\u001b[0;34m\u001b[0m\u001b[0;34m\u001b[0m\u001b[0m\n\u001b[0m\u001b[1;32m   1001\u001b[0m         \u001b[0;31m# Ensure counter is updated only if `train_step` succeeds.\u001b[0m\u001b[0;34m\u001b[0m\u001b[0;34m\u001b[0m\u001b[0;34m\u001b[0m\u001b[0m\n\u001b[1;32m   1002\u001b[0m         \u001b[0;32mwith\u001b[0m \u001b[0mtf\u001b[0m\u001b[0;34m.\u001b[0m\u001b[0mcontrol_dependencies\u001b[0m\u001b[0;34m(\u001b[0m\u001b[0m_minimum_control_deps\u001b[0m\u001b[0;34m(\u001b[0m\u001b[0moutputs\u001b[0m\u001b[0;34m)\u001b[0m\u001b[0;34m)\u001b[0m\u001b[0;34m:\u001b[0m\u001b[0;34m\u001b[0m\u001b[0;34m\u001b[0m\u001b[0m\n",
            "\u001b[0;32m/usr/local/lib/python3.7/dist-packages/keras/engine/training.py\u001b[0m in \u001b[0;36mtrain_step\u001b[0;34m(self, data)\u001b[0m\n\u001b[1;32m    861\u001b[0m     \u001b[0mself\u001b[0m\u001b[0;34m.\u001b[0m\u001b[0m_validate_target_and_loss\u001b[0m\u001b[0;34m(\u001b[0m\u001b[0my\u001b[0m\u001b[0;34m,\u001b[0m \u001b[0mloss\u001b[0m\u001b[0;34m)\u001b[0m\u001b[0;34m\u001b[0m\u001b[0;34m\u001b[0m\u001b[0m\n\u001b[1;32m    862\u001b[0m     \u001b[0;31m# Run backwards pass.\u001b[0m\u001b[0;34m\u001b[0m\u001b[0;34m\u001b[0m\u001b[0;34m\u001b[0m\u001b[0m\n\u001b[0;32m--> 863\u001b[0;31m     \u001b[0mself\u001b[0m\u001b[0;34m.\u001b[0m\u001b[0moptimizer\u001b[0m\u001b[0;34m.\u001b[0m\u001b[0mminimize\u001b[0m\u001b[0;34m(\u001b[0m\u001b[0mloss\u001b[0m\u001b[0;34m,\u001b[0m \u001b[0mself\u001b[0m\u001b[0;34m.\u001b[0m\u001b[0mtrainable_variables\u001b[0m\u001b[0;34m,\u001b[0m \u001b[0mtape\u001b[0m\u001b[0;34m=\u001b[0m\u001b[0mtape\u001b[0m\u001b[0;34m)\u001b[0m\u001b[0;34m\u001b[0m\u001b[0;34m\u001b[0m\u001b[0m\n\u001b[0m\u001b[1;32m    864\u001b[0m     \u001b[0;32mreturn\u001b[0m \u001b[0mself\u001b[0m\u001b[0;34m.\u001b[0m\u001b[0mcompute_metrics\u001b[0m\u001b[0;34m(\u001b[0m\u001b[0mx\u001b[0m\u001b[0;34m,\u001b[0m \u001b[0my\u001b[0m\u001b[0;34m,\u001b[0m \u001b[0my_pred\u001b[0m\u001b[0;34m,\u001b[0m \u001b[0msample_weight\u001b[0m\u001b[0;34m)\u001b[0m\u001b[0;34m\u001b[0m\u001b[0;34m\u001b[0m\u001b[0m\n\u001b[1;32m    865\u001b[0m \u001b[0;34m\u001b[0m\u001b[0m\n",
            "\u001b[0;32m/usr/local/lib/python3.7/dist-packages/keras/optimizer_v2/optimizer_v2.py\u001b[0m in \u001b[0;36mminimize\u001b[0;34m(self, loss, var_list, grad_loss, name, tape)\u001b[0m\n\u001b[1;32m    529\u001b[0m     \"\"\"\n\u001b[1;32m    530\u001b[0m     grads_and_vars = self._compute_gradients(\n\u001b[0;32m--> 531\u001b[0;31m         loss, var_list=var_list, grad_loss=grad_loss, tape=tape)\n\u001b[0m\u001b[1;32m    532\u001b[0m     \u001b[0;32mreturn\u001b[0m \u001b[0mself\u001b[0m\u001b[0;34m.\u001b[0m\u001b[0mapply_gradients\u001b[0m\u001b[0;34m(\u001b[0m\u001b[0mgrads_and_vars\u001b[0m\u001b[0;34m,\u001b[0m \u001b[0mname\u001b[0m\u001b[0;34m=\u001b[0m\u001b[0mname\u001b[0m\u001b[0;34m)\u001b[0m\u001b[0;34m\u001b[0m\u001b[0;34m\u001b[0m\u001b[0m\n\u001b[1;32m    533\u001b[0m \u001b[0;34m\u001b[0m\u001b[0m\n",
            "\u001b[0;32m/usr/local/lib/python3.7/dist-packages/keras/optimizer_v2/optimizer_v2.py\u001b[0m in \u001b[0;36m_compute_gradients\u001b[0;34m(self, loss, var_list, grad_loss, tape)\u001b[0m\n\u001b[1;32m    581\u001b[0m     \u001b[0mvar_list\u001b[0m \u001b[0;34m=\u001b[0m \u001b[0mtf\u001b[0m\u001b[0;34m.\u001b[0m\u001b[0mnest\u001b[0m\u001b[0;34m.\u001b[0m\u001b[0mflatten\u001b[0m\u001b[0;34m(\u001b[0m\u001b[0mvar_list\u001b[0m\u001b[0;34m)\u001b[0m\u001b[0;34m\u001b[0m\u001b[0;34m\u001b[0m\u001b[0m\n\u001b[1;32m    582\u001b[0m     \u001b[0;32mwith\u001b[0m \u001b[0mtf\u001b[0m\u001b[0;34m.\u001b[0m\u001b[0mname_scope\u001b[0m\u001b[0;34m(\u001b[0m\u001b[0mself\u001b[0m\u001b[0;34m.\u001b[0m\u001b[0m_name\u001b[0m \u001b[0;34m+\u001b[0m \u001b[0;34m\"/gradients\"\u001b[0m\u001b[0;34m)\u001b[0m\u001b[0;34m:\u001b[0m\u001b[0;34m\u001b[0m\u001b[0;34m\u001b[0m\u001b[0m\n\u001b[0;32m--> 583\u001b[0;31m       \u001b[0mgrads_and_vars\u001b[0m \u001b[0;34m=\u001b[0m \u001b[0mself\u001b[0m\u001b[0;34m.\u001b[0m\u001b[0m_get_gradients\u001b[0m\u001b[0;34m(\u001b[0m\u001b[0mtape\u001b[0m\u001b[0;34m,\u001b[0m \u001b[0mloss\u001b[0m\u001b[0;34m,\u001b[0m \u001b[0mvar_list\u001b[0m\u001b[0;34m,\u001b[0m \u001b[0mgrad_loss\u001b[0m\u001b[0;34m)\u001b[0m\u001b[0;34m\u001b[0m\u001b[0;34m\u001b[0m\u001b[0m\n\u001b[0m\u001b[1;32m    584\u001b[0m \u001b[0;34m\u001b[0m\u001b[0m\n\u001b[1;32m    585\u001b[0m     self._assert_valid_dtypes([\n",
            "\u001b[0;32m/usr/local/lib/python3.7/dist-packages/keras/optimizer_v2/optimizer_v2.py\u001b[0m in \u001b[0;36m_get_gradients\u001b[0;34m(self, tape, loss, var_list, grad_loss)\u001b[0m\n\u001b[1;32m    462\u001b[0m   \u001b[0;32mdef\u001b[0m \u001b[0m_get_gradients\u001b[0m\u001b[0;34m(\u001b[0m\u001b[0mself\u001b[0m\u001b[0;34m,\u001b[0m \u001b[0mtape\u001b[0m\u001b[0;34m,\u001b[0m \u001b[0mloss\u001b[0m\u001b[0;34m,\u001b[0m \u001b[0mvar_list\u001b[0m\u001b[0;34m,\u001b[0m \u001b[0mgrad_loss\u001b[0m\u001b[0;34m=\u001b[0m\u001b[0;32mNone\u001b[0m\u001b[0;34m)\u001b[0m\u001b[0;34m:\u001b[0m\u001b[0;34m\u001b[0m\u001b[0;34m\u001b[0m\u001b[0m\n\u001b[1;32m    463\u001b[0m     \u001b[0;34m\"\"\"Called in `minimize` to compute gradients from loss.\"\"\"\u001b[0m\u001b[0;34m\u001b[0m\u001b[0;34m\u001b[0m\u001b[0m\n\u001b[0;32m--> 464\u001b[0;31m     \u001b[0mgrads\u001b[0m \u001b[0;34m=\u001b[0m \u001b[0mtape\u001b[0m\u001b[0;34m.\u001b[0m\u001b[0mgradient\u001b[0m\u001b[0;34m(\u001b[0m\u001b[0mloss\u001b[0m\u001b[0;34m,\u001b[0m \u001b[0mvar_list\u001b[0m\u001b[0;34m,\u001b[0m \u001b[0mgrad_loss\u001b[0m\u001b[0;34m)\u001b[0m\u001b[0;34m\u001b[0m\u001b[0;34m\u001b[0m\u001b[0m\n\u001b[0m\u001b[1;32m    465\u001b[0m     \u001b[0;32mreturn\u001b[0m \u001b[0mlist\u001b[0m\u001b[0;34m(\u001b[0m\u001b[0mzip\u001b[0m\u001b[0;34m(\u001b[0m\u001b[0mgrads\u001b[0m\u001b[0;34m,\u001b[0m \u001b[0mvar_list\u001b[0m\u001b[0;34m)\u001b[0m\u001b[0;34m)\u001b[0m\u001b[0;34m\u001b[0m\u001b[0;34m\u001b[0m\u001b[0m\n\u001b[1;32m    466\u001b[0m \u001b[0;34m\u001b[0m\u001b[0m\n",
            "\u001b[0;32m/usr/local/lib/python3.7/dist-packages/tensorflow/python/eager/backprop.py\u001b[0m in \u001b[0;36mgradient\u001b[0;34m(self, target, sources, output_gradients, unconnected_gradients)\u001b[0m\n\u001b[1;32m   1085\u001b[0m         \u001b[0moutput_gradients\u001b[0m\u001b[0;34m=\u001b[0m\u001b[0moutput_gradients\u001b[0m\u001b[0;34m,\u001b[0m\u001b[0;34m\u001b[0m\u001b[0;34m\u001b[0m\u001b[0m\n\u001b[1;32m   1086\u001b[0m         \u001b[0msources_raw\u001b[0m\u001b[0;34m=\u001b[0m\u001b[0mflat_sources_raw\u001b[0m\u001b[0;34m,\u001b[0m\u001b[0;34m\u001b[0m\u001b[0;34m\u001b[0m\u001b[0m\n\u001b[0;32m-> 1087\u001b[0;31m         unconnected_gradients=unconnected_gradients)\n\u001b[0m\u001b[1;32m   1088\u001b[0m \u001b[0;34m\u001b[0m\u001b[0m\n\u001b[1;32m   1089\u001b[0m     \u001b[0;32mif\u001b[0m \u001b[0;32mnot\u001b[0m \u001b[0mself\u001b[0m\u001b[0;34m.\u001b[0m\u001b[0m_persistent\u001b[0m\u001b[0;34m:\u001b[0m\u001b[0;34m\u001b[0m\u001b[0;34m\u001b[0m\u001b[0m\n",
            "\u001b[0;32m/usr/local/lib/python3.7/dist-packages/tensorflow/python/eager/imperative_grad.py\u001b[0m in \u001b[0;36mimperative_grad\u001b[0;34m(tape, target, sources, output_gradients, sources_raw, unconnected_gradients)\u001b[0m\n\u001b[1;32m     71\u001b[0m       \u001b[0moutput_gradients\u001b[0m\u001b[0;34m,\u001b[0m\u001b[0;34m\u001b[0m\u001b[0;34m\u001b[0m\u001b[0m\n\u001b[1;32m     72\u001b[0m       \u001b[0msources_raw\u001b[0m\u001b[0;34m,\u001b[0m\u001b[0;34m\u001b[0m\u001b[0;34m\u001b[0m\u001b[0m\n\u001b[0;32m---> 73\u001b[0;31m       compat.as_str(unconnected_gradients.value))\n\u001b[0m",
            "\u001b[0;32m/usr/local/lib/python3.7/dist-packages/tensorflow/python/eager/backprop.py\u001b[0m in \u001b[0;36m_gradient_function\u001b[0;34m(op_name, attr_tuple, num_inputs, inputs, outputs, out_grads, skip_input_indices, forward_pass_name_scope)\u001b[0m\n\u001b[1;32m    154\u001b[0m       \u001b[0mgradient_name_scope\u001b[0m \u001b[0;34m+=\u001b[0m \u001b[0mforward_pass_name_scope\u001b[0m \u001b[0;34m+\u001b[0m \u001b[0;34m\"/\"\u001b[0m\u001b[0;34m\u001b[0m\u001b[0;34m\u001b[0m\u001b[0m\n\u001b[1;32m    155\u001b[0m     \u001b[0;32mwith\u001b[0m \u001b[0mops\u001b[0m\u001b[0;34m.\u001b[0m\u001b[0mname_scope\u001b[0m\u001b[0;34m(\u001b[0m\u001b[0mgradient_name_scope\u001b[0m\u001b[0;34m)\u001b[0m\u001b[0;34m:\u001b[0m\u001b[0;34m\u001b[0m\u001b[0;34m\u001b[0m\u001b[0m\n\u001b[0;32m--> 156\u001b[0;31m       \u001b[0;32mreturn\u001b[0m \u001b[0mgrad_fn\u001b[0m\u001b[0;34m(\u001b[0m\u001b[0mmock_op\u001b[0m\u001b[0;34m,\u001b[0m \u001b[0;34m*\u001b[0m\u001b[0mout_grads\u001b[0m\u001b[0;34m)\u001b[0m\u001b[0;34m\u001b[0m\u001b[0;34m\u001b[0m\u001b[0m\n\u001b[0m\u001b[1;32m    157\u001b[0m   \u001b[0;32melse\u001b[0m\u001b[0;34m:\u001b[0m\u001b[0;34m\u001b[0m\u001b[0;34m\u001b[0m\u001b[0m\n\u001b[1;32m    158\u001b[0m     \u001b[0;32mreturn\u001b[0m \u001b[0mgrad_fn\u001b[0m\u001b[0;34m(\u001b[0m\u001b[0mmock_op\u001b[0m\u001b[0;34m,\u001b[0m \u001b[0;34m*\u001b[0m\u001b[0mout_grads\u001b[0m\u001b[0;34m)\u001b[0m\u001b[0;34m\u001b[0m\u001b[0;34m\u001b[0m\u001b[0m\n",
            "\u001b[0;32m/usr/local/lib/python3.7/dist-packages/tensorflow/python/ops/math_grad.py\u001b[0m in \u001b[0;36m_RealDivGrad\u001b[0;34m(op, grad)\u001b[0m\n\u001b[1;32m   1468\u001b[0m           array_ops.reshape(\n\u001b[1;32m   1469\u001b[0m               math_ops.reduce_sum(\n\u001b[0;32m-> 1470\u001b[0;31m                   grad * math_ops.realdiv(math_ops.realdiv(-x, y), y), ry), sy))  # pylint: disable=invalid-unary-operand-type\n\u001b[0m\u001b[1;32m   1471\u001b[0m \u001b[0;34m\u001b[0m\u001b[0m\n\u001b[1;32m   1472\u001b[0m \u001b[0;34m\u001b[0m\u001b[0m\n",
            "\u001b[0;32m/usr/local/lib/python3.7/dist-packages/tensorflow/python/util/traceback_utils.py\u001b[0m in \u001b[0;36merror_handler\u001b[0;34m(*args, **kwargs)\u001b[0m\n\u001b[1;32m    148\u001b[0m     \u001b[0mfiltered_tb\u001b[0m \u001b[0;34m=\u001b[0m \u001b[0;32mNone\u001b[0m\u001b[0;34m\u001b[0m\u001b[0;34m\u001b[0m\u001b[0m\n\u001b[1;32m    149\u001b[0m     \u001b[0;32mtry\u001b[0m\u001b[0;34m:\u001b[0m\u001b[0;34m\u001b[0m\u001b[0;34m\u001b[0m\u001b[0m\n\u001b[0;32m--> 150\u001b[0;31m       \u001b[0;32mreturn\u001b[0m \u001b[0mfn\u001b[0m\u001b[0;34m(\u001b[0m\u001b[0;34m*\u001b[0m\u001b[0margs\u001b[0m\u001b[0;34m,\u001b[0m \u001b[0;34m**\u001b[0m\u001b[0mkwargs\u001b[0m\u001b[0;34m)\u001b[0m\u001b[0;34m\u001b[0m\u001b[0;34m\u001b[0m\u001b[0m\n\u001b[0m\u001b[1;32m    151\u001b[0m     \u001b[0;32mexcept\u001b[0m \u001b[0mException\u001b[0m \u001b[0;32mas\u001b[0m \u001b[0me\u001b[0m\u001b[0;34m:\u001b[0m\u001b[0;34m\u001b[0m\u001b[0;34m\u001b[0m\u001b[0m\n\u001b[1;32m    152\u001b[0m       \u001b[0mfiltered_tb\u001b[0m \u001b[0;34m=\u001b[0m \u001b[0m_process_traceback_frames\u001b[0m\u001b[0;34m(\u001b[0m\u001b[0me\u001b[0m\u001b[0;34m.\u001b[0m\u001b[0m__traceback__\u001b[0m\u001b[0;34m)\u001b[0m\u001b[0;34m\u001b[0m\u001b[0;34m\u001b[0m\u001b[0m\n",
            "\u001b[0;32m/usr/local/lib/python3.7/dist-packages/tensorflow/python/util/dispatch.py\u001b[0m in \u001b[0;36mop_dispatch_handler\u001b[0;34m(*args, **kwargs)\u001b[0m\n\u001b[1;32m   1080\u001b[0m       \u001b[0;31m# Fallback dispatch system (dispatch v1):\u001b[0m\u001b[0;34m\u001b[0m\u001b[0;34m\u001b[0m\u001b[0;34m\u001b[0m\u001b[0m\n\u001b[1;32m   1081\u001b[0m       \u001b[0;32mtry\u001b[0m\u001b[0;34m:\u001b[0m\u001b[0;34m\u001b[0m\u001b[0;34m\u001b[0m\u001b[0m\n\u001b[0;32m-> 1082\u001b[0;31m         \u001b[0;32mreturn\u001b[0m \u001b[0mdispatch_target\u001b[0m\u001b[0;34m(\u001b[0m\u001b[0;34m*\u001b[0m\u001b[0margs\u001b[0m\u001b[0;34m,\u001b[0m \u001b[0;34m**\u001b[0m\u001b[0mkwargs\u001b[0m\u001b[0;34m)\u001b[0m\u001b[0;34m\u001b[0m\u001b[0;34m\u001b[0m\u001b[0m\n\u001b[0m\u001b[1;32m   1083\u001b[0m       \u001b[0;32mexcept\u001b[0m \u001b[0;34m(\u001b[0m\u001b[0mTypeError\u001b[0m\u001b[0;34m,\u001b[0m \u001b[0mValueError\u001b[0m\u001b[0;34m)\u001b[0m\u001b[0;34m:\u001b[0m\u001b[0;34m\u001b[0m\u001b[0;34m\u001b[0m\u001b[0m\n\u001b[1;32m   1084\u001b[0m         \u001b[0;31m# Note: convert_to_eager_tensor currently raises a ValueError, not a\u001b[0m\u001b[0;34m\u001b[0m\u001b[0;34m\u001b[0m\u001b[0;34m\u001b[0m\u001b[0m\n",
            "\u001b[0;32m/usr/local/lib/python3.7/dist-packages/tensorflow/python/ops/array_ops.py\u001b[0m in \u001b[0;36mreshape\u001b[0;34m(tensor, shape, name)\u001b[0m\n\u001b[1;32m    192\u001b[0m     \u001b[0mA\u001b[0m\u001b[0;31m \u001b[0m\u001b[0;31m`\u001b[0m\u001b[0mTensor\u001b[0m\u001b[0;31m`\u001b[0m\u001b[0;34m.\u001b[0m \u001b[0mHas\u001b[0m \u001b[0mthe\u001b[0m \u001b[0msame\u001b[0m \u001b[0mtype\u001b[0m \u001b[0;32mas\u001b[0m\u001b[0;31m \u001b[0m\u001b[0;31m`\u001b[0m\u001b[0mtensor\u001b[0m\u001b[0;31m`\u001b[0m\u001b[0;34m.\u001b[0m\u001b[0;34m\u001b[0m\u001b[0;34m\u001b[0m\u001b[0m\n\u001b[1;32m    193\u001b[0m   \"\"\"\n\u001b[0;32m--> 194\u001b[0;31m   \u001b[0mresult\u001b[0m \u001b[0;34m=\u001b[0m \u001b[0mgen_array_ops\u001b[0m\u001b[0;34m.\u001b[0m\u001b[0mreshape\u001b[0m\u001b[0;34m(\u001b[0m\u001b[0mtensor\u001b[0m\u001b[0;34m,\u001b[0m \u001b[0mshape\u001b[0m\u001b[0;34m,\u001b[0m \u001b[0mname\u001b[0m\u001b[0;34m)\u001b[0m\u001b[0;34m\u001b[0m\u001b[0;34m\u001b[0m\u001b[0m\n\u001b[0m\u001b[1;32m    195\u001b[0m   \u001b[0mtensor_util\u001b[0m\u001b[0;34m.\u001b[0m\u001b[0mmaybe_set_static_shape\u001b[0m\u001b[0;34m(\u001b[0m\u001b[0mresult\u001b[0m\u001b[0;34m,\u001b[0m \u001b[0mshape\u001b[0m\u001b[0;34m)\u001b[0m\u001b[0;34m\u001b[0m\u001b[0;34m\u001b[0m\u001b[0m\n\u001b[1;32m    196\u001b[0m   \u001b[0;32mreturn\u001b[0m \u001b[0mresult\u001b[0m\u001b[0;34m\u001b[0m\u001b[0;34m\u001b[0m\u001b[0m\n",
            "\u001b[0;32m/usr/local/lib/python3.7/dist-packages/tensorflow/python/ops/gen_array_ops.py\u001b[0m in \u001b[0;36mreshape\u001b[0;34m(tensor, shape, name)\u001b[0m\n\u001b[1;32m   8545\u001b[0m   \u001b[0;31m# Add nodes to the TensorFlow graph.\u001b[0m\u001b[0;34m\u001b[0m\u001b[0;34m\u001b[0m\u001b[0;34m\u001b[0m\u001b[0m\n\u001b[1;32m   8546\u001b[0m   _, _, _op, _outputs = _op_def_library._apply_op_helper(\n\u001b[0;32m-> 8547\u001b[0;31m         \"Reshape\", tensor=tensor, shape=shape, name=name)\n\u001b[0m\u001b[1;32m   8548\u001b[0m   \u001b[0m_result\u001b[0m \u001b[0;34m=\u001b[0m \u001b[0m_outputs\u001b[0m\u001b[0;34m[\u001b[0m\u001b[0;34m:\u001b[0m\u001b[0;34m]\u001b[0m\u001b[0;34m\u001b[0m\u001b[0;34m\u001b[0m\u001b[0m\n\u001b[1;32m   8549\u001b[0m   \u001b[0;32mif\u001b[0m \u001b[0m_execute\u001b[0m\u001b[0;34m.\u001b[0m\u001b[0mmust_record_gradient\u001b[0m\u001b[0;34m(\u001b[0m\u001b[0;34m)\u001b[0m\u001b[0;34m:\u001b[0m\u001b[0;34m\u001b[0m\u001b[0;34m\u001b[0m\u001b[0m\n",
            "\u001b[0;32m/usr/local/lib/python3.7/dist-packages/tensorflow/python/framework/op_def_library.py\u001b[0m in \u001b[0;36m_apply_op_helper\u001b[0;34m(op_type_name, name, **keywords)\u001b[0m\n\u001b[1;32m    511\u001b[0m                 \u001b[0mdtype\u001b[0m\u001b[0;34m=\u001b[0m\u001b[0mdtype\u001b[0m\u001b[0;34m,\u001b[0m\u001b[0;34m\u001b[0m\u001b[0;34m\u001b[0m\u001b[0m\n\u001b[1;32m    512\u001b[0m                 \u001b[0mas_ref\u001b[0m\u001b[0;34m=\u001b[0m\u001b[0minput_arg\u001b[0m\u001b[0;34m.\u001b[0m\u001b[0mis_ref\u001b[0m\u001b[0;34m,\u001b[0m\u001b[0;34m\u001b[0m\u001b[0;34m\u001b[0m\u001b[0m\n\u001b[0;32m--> 513\u001b[0;31m                 preferred_dtype=default_dtype)\n\u001b[0m\u001b[1;32m    514\u001b[0m         \u001b[0;32mexcept\u001b[0m \u001b[0mTypeError\u001b[0m \u001b[0;32mas\u001b[0m \u001b[0merr\u001b[0m\u001b[0;34m:\u001b[0m\u001b[0;34m\u001b[0m\u001b[0;34m\u001b[0m\u001b[0m\n\u001b[1;32m    515\u001b[0m           \u001b[0;32mif\u001b[0m \u001b[0mdtype\u001b[0m \u001b[0;32mis\u001b[0m \u001b[0;32mNone\u001b[0m\u001b[0;34m:\u001b[0m\u001b[0;34m\u001b[0m\u001b[0;34m\u001b[0m\u001b[0m\n",
            "\u001b[0;32m/usr/local/lib/python3.7/dist-packages/tensorflow/python/profiler/trace.py\u001b[0m in \u001b[0;36mwrapped\u001b[0;34m(*args, **kwargs)\u001b[0m\n\u001b[1;32m    178\u001b[0m     \u001b[0;34m@\u001b[0m\u001b[0mfunctools\u001b[0m\u001b[0;34m.\u001b[0m\u001b[0mwraps\u001b[0m\u001b[0;34m(\u001b[0m\u001b[0mfunc\u001b[0m\u001b[0;34m)\u001b[0m\u001b[0;34m\u001b[0m\u001b[0;34m\u001b[0m\u001b[0m\n\u001b[1;32m    179\u001b[0m     \u001b[0;32mdef\u001b[0m \u001b[0mwrapped\u001b[0m\u001b[0;34m(\u001b[0m\u001b[0;34m*\u001b[0m\u001b[0margs\u001b[0m\u001b[0;34m,\u001b[0m \u001b[0;34m**\u001b[0m\u001b[0mkwargs\u001b[0m\u001b[0;34m)\u001b[0m\u001b[0;34m:\u001b[0m\u001b[0;34m\u001b[0m\u001b[0;34m\u001b[0m\u001b[0m\n\u001b[0;32m--> 180\u001b[0;31m       \u001b[0;32mif\u001b[0m \u001b[0menabled\u001b[0m\u001b[0;34m:\u001b[0m\u001b[0;34m\u001b[0m\u001b[0;34m\u001b[0m\u001b[0m\n\u001b[0m\u001b[1;32m    181\u001b[0m         \u001b[0;32mwith\u001b[0m \u001b[0mTrace\u001b[0m\u001b[0;34m(\u001b[0m\u001b[0mtrace_name\u001b[0m\u001b[0;34m,\u001b[0m \u001b[0;34m**\u001b[0m\u001b[0mtrace_kwargs\u001b[0m\u001b[0;34m)\u001b[0m\u001b[0;34m:\u001b[0m\u001b[0;34m\u001b[0m\u001b[0;34m\u001b[0m\u001b[0m\n\u001b[1;32m    182\u001b[0m           \u001b[0;32mreturn\u001b[0m \u001b[0mfunc\u001b[0m\u001b[0;34m(\u001b[0m\u001b[0;34m*\u001b[0m\u001b[0margs\u001b[0m\u001b[0;34m,\u001b[0m \u001b[0;34m**\u001b[0m\u001b[0mkwargs\u001b[0m\u001b[0;34m)\u001b[0m\u001b[0;34m\u001b[0m\u001b[0;34m\u001b[0m\u001b[0m\n",
            "\u001b[0;31mKeyboardInterrupt\u001b[0m: "
          ]
        }
      ],
      "source": [
        "train_bert_bilstm(X_train_text, y_train_text, X_test_text, y_test_text,\n",
        "                  TFBertModel.from_pretrained('bert-base-uncased',num_labels=7),\n",
        "                  '/content/bert_base_ft_ver3',BertTokenizer.from_pretrained('bert-base-cased'),'bert_bilstm_ver_3')\n",
        "\n",
        "'''\n",
        "output (classes shifted)\n",
        "              precision    recall  f1-score   support\n",
        "\n",
        "           1       0.01      0.08      0.02        25\n",
        "           2       0.50      0.02      0.03       119\n",
        "           3       0.24      0.25      0.25       383\n",
        "           4       0.26      0.02      0.05       243\n",
        "           5       0.02      0.32      0.03        19\n",
        "           6       0.56      0.15      0.24       758\n",
        "           7       0.00      0.00      0.00         0\n",
        "\n",
        "    accuracy                           0.15      1547\n",
        "   macro avg       0.23      0.12      0.09      1547\n",
        "weighted avg       0.41      0.15      0.19      1547\n",
        "\n",
        "[[  2   0   4   0   3   4  12]\n",
        " [ 30   2  23   0  41  10  13]\n",
        " [ 63   1  96  11  78  56  78]\n",
        " [ 17   0  90   6  49  23  58]\n",
        " [  3   0   6   0   6   0   4]\n",
        " [112   1 176   6 162 117 184]\n",
        " [  0   0   0   0   0   0   0]]\n",
        "'''\n"
      ]
    },
    {
      "cell_type": "code",
      "execution_count": null,
      "metadata": {
        "id": "HnTR8US4G50y"
      },
      "outputs": [],
      "source": [
        "## Model - BERT + Bidirectional LSTM w/ Attention\n",
        "def train_bert_bilstm2(X_train, y_train, X_test, y_test, ver,outdim=7):\n",
        "  \n",
        "  tokenizer = BertTokenizer.from_pretrained('bert-base-cased')\n",
        "\n",
        "  X_train_encoding = tokenize(X_train, tokenizer)\n",
        "  X_test_encoding = tokenize(X_test, tokenizer)\n",
        "\n",
        "\n",
        "  config = BertConfig.from_pretrained('bert-base-cased', output_hidden_states=True, output_attentions=True) ## transfer learning\n",
        "  BERT = TFBertModel.from_pretrained('bert-base-cased', config=config)\n",
        "  \n",
        "  \n",
        "  ## set up model architecture\n",
        "\n",
        "  input_ids_in = keras.layers.Input(shape=(max_seq,), name='input_token', dtype='int32')\n",
        "  input_masks_in = keras.layers.Input(shape=(max_seq,), name='masked_token', dtype='int32') \n",
        "\n",
        "\n",
        "  embedding_layer = BERT(input_ids = input_ids_in, attention_mask = input_masks_in)[0]\n",
        "  X = keras.layers.Bidirectional(keras.layers.LSTM(128, return_sequences=True))(embedding_layer)\n",
        "  X = keras.layers.GlobalMaxPool1D()(X) \n",
        "  X = keras.layers.Dense(64, activation='relu')(X)\n",
        "  X = keras.layers.Dropout(0.2)(X)\n",
        "  X = keras.layers.Dense(outdim, activation='softmax')(X)\n",
        "\n",
        "  model = keras.Model(inputs=[input_ids_in, input_masks_in], outputs = X)\n",
        "\n",
        "  for layer in model.layers[:3]:\n",
        "      layer.trainable = True\n",
        "\n",
        "  model.summary()   \n",
        "  model.compile(loss='categorical_crossentropy', optimizer=tf.keras.optimizers.Adam(1e-5), metrics=['accuracy'])\n",
        "\n",
        "  #checkpt = ModelCheckpoint(ver + '.h5', monitor=\"val_recall\", mode='min', save_best_only=True)\n",
        "  \n",
        "  history = model.fit(X_train_encoding,  \n",
        "                      y_train,\n",
        "                      epochs = 5,\n",
        "                      batch_size=32,\n",
        "                      validation_split=0.1,callbacks=[PlotLossesKeras()]) #,checkpt])\n",
        "  \n",
        "  pred_bert = model.predict(X_test_encoding) \n",
        "  #pred_bert = [predictions(p) for p in pred_bert]\n",
        "  evaluate_model(y_test, pred_bert)\n",
        "  \n",
        "  model.save(ver)   \n",
        "\n",
        "train_bert_bilstm2(X_train_text, y_train_text, X_test_text, y_test_text,'bert_bilstm_ver_4')\n"
      ]
    },
    {
      "cell_type": "code",
      "execution_count": null,
      "metadata": {
        "id": "PVaXN0VBdfNk"
      },
      "outputs": [],
      "source": [
        "## distilbert  \n",
        "from transformers import TFDistilBertModel, TFDistilBertForSequenceClassification\n",
        "\n",
        "train_bert(X_train_text, X_test_text, y_train_text, y_test_text, \n",
        "           'distilbert_base_ft_ver1.h5',TFDistilBertForSequenceClassification.from_pretrained('distilbert-base-cased',num_labels=7),\n",
        "           DistilBertTokenizer.from_pretrained('distilbert-base-cased'))  \n",
        "\n",
        "train_bert_bilstm(X_train_text, y_train_text, X_test_text, y_test_text,\n",
        "                  TFDistilBertModel.from_pretrained('distilbert-base-cased',num_labels=7),\n",
        "                  '/content/distilbert_base_ft_ver1.h5',DistilBertTokenizer.from_pretrained('distilbert-base-cased'),\n",
        "                  'distilbert_bilstm_ver_1')\n",
        "\n",
        "   "
      ]
    },
    {
      "cell_type": "code",
      "execution_count": null,
      "metadata": {
        "id": "tqYDYk4WdNOg"
      },
      "outputs": [],
      "source": [
        "## roberta \n",
        "from transformers import TFRobertaModel, RobertaTokenizer, TFRobertaForSequenceClassification \n",
        "\n",
        "train_bert(X_train_text, X_test_text, y_train_text, y_test_text, \n",
        "           'roberta_base_ft_ver1.h5',TFRobertaForSequenceClassification.from_pretrained('roberta-base',num_labels=7),\n",
        "           RobertaTokenizer.from_pretrained('roberta-base'))  \n",
        "\n",
        "train_bert_bilstm(X_train_text, y_train_text, X_test_text, y_test_text,\n",
        "                  TFRobertaModel.from_pretrained('roberta-base',num_labels=7),\n",
        "                  '/content/roberta_base_ft_ver1.h5',RobertaTokenizer.from_pretrained('roberta-base'),\n",
        "                  'roberta_bilstm_ver_1')\n",
        "\n"
      ]
    },
    {
      "cell_type": "code",
      "execution_count": null,
      "metadata": {
        "id": "qPRLR6cRc-lB"
      },
      "outputs": [],
      "source": [
        ""
      ]
    },
    {
      "cell_type": "code",
      "execution_count": null,
      "metadata": {
        "id": "iIs2HuPokiMF"
      },
      "outputs": [],
      "source": [
        "def train_bert_bigru(X_train, y_train, X_test, y_test, model,path_for_ft,tokenizer, ver,outdim=7): \n",
        " \n",
        "  X_train_encoding = tokenize(X_train, tokenizer)\n",
        "  X_test_encoding = tokenize(X_test, tokenizer) \n",
        "\n",
        "  BERT = model \n",
        "  BERT.load_weights(path_for_ft)\n",
        "\n",
        "  \n",
        "  input_ids_in = keras.layers.Input(shape=(max_seq,), name='input_token', dtype='int32')\n",
        "  input_masks_in = keras.layers.Input(shape=(max_seq,), name='masked_token', dtype='int32')\n",
        "\n",
        "  embedding = BERT(input_ids = input_ids_in, attention_mask=input_masks_in)[0] \n",
        "  gru = Bidirectional(GRU(128))(embedding)\n",
        "  drop = Dropout(0.5)(gru)    \n",
        "\n",
        "  out = Dense(128, activation='relu')(drop) \n",
        "  out_2 = Dense(64, activation='relu')(drop)  \n",
        "  outputs = Dense(7, activation='softmax')(out_2) \n",
        "\n",
        "  model = Model(inputs=[input_ids_in,input_masks_in], outputs=outputs)   \n",
        "  \n",
        "  for layer in model.layers[:3]:\n",
        "        layer.trainable = False \n",
        "\n",
        "  model.compile( loss='categorical_crossentropy', optimizer='adam', metrics=['accuracy']) \n",
        "  model.fit(X_train_encoding, y_train_text, epochs=10,batch_size=64)  \n",
        "\n",
        "  pred_bert = model.predict(X_test_encoding) \n",
        "  evaluate_model(y_test, pred_bert)\n",
        "  \n",
        "\n",
        " "
      ]
    },
    {
      "cell_type": "code",
      "execution_count": null,
      "metadata": {
        "id": "aryQOi_RlP55"
      },
      "outputs": [],
      "source": [
        "train_bert_bigru(X_train_text, y_train_text, X_test_text, y_test_text,\n",
        "                  TFBertForSequenceClassification.from_pretrained('bert-base-uncased',num_labels=7),\n",
        "                  '/content/bert_base_ft_ver5.index',BertTokenizer.from_pretrained('bert-base-cased'),'bert_bigru_ver_2')\n",
        "\n",
        "\n"
      ]
    },
    {
      "cell_type": "code",
      "execution_count": null,
      "metadata": {
        "id": "PNRrNLLClfey"
      },
      "outputs": [],
      "source": [
        ""
      ]
    },
    {
      "cell_type": "markdown",
      "metadata": {
        "id": "yzz-Re4RlgI9"
      },
      "source": [
        "### More Experiments"
      ]
    },
    {
      "cell_type": "code",
      "execution_count": null,
      "metadata": {
        "id": "_Hl5-Mzqlkhc"
      },
      "outputs": [],
      "source": [
        "from gensim.models import Word2Vec \n"
      ]
    },
    {
      "cell_type": "code",
      "execution_count": null,
      "metadata": {
        "id": "LG3zJCJ_mb1S"
      },
      "outputs": [],
      "source": [
        ""
      ]
    },
    {
      "cell_type": "code",
      "execution_count": null,
      "metadata": {
        "id": "Vo442YTIl_05"
      },
      "outputs": [],
      "source": [
        "tokenizer = Tokenizer(num_words=50000)\n",
        "tokenizer.fit_on_texts(X_train_text) \n",
        "X_train_texts_tokenized = tokenizer.texts_to_sequences(X_train_text)\n",
        "X_test_texts_tokenized = tokenizer.texts_to_sequences(X_test_text)\n",
        "\n",
        "X_train_texts_tokenized = pad_sequences(X_train_texts_tokenized, maxlen=max_seq)\n",
        "X_test_texts_tokenized = pad_sequences(X_test_texts_tokenized, maxlen=max_seq)\n",
        "\n",
        "embedding_dict={}\n",
        "with open('/content/glove.6B.100d.txt','r') as f: \n",
        "    for line in f:\n",
        "        values=line.split()\n",
        "        word=values[0]\n",
        "        vectors=np.asarray(values[1:],'float32')\n",
        "        embedding_dict[word]=vectors\n",
        "f.close()\n",
        "\n",
        "word_index=tokenizer.word_index\n",
        "\n",
        "\n",
        "num_words=len(word_index)+1\n",
        "embedding_matrix=np.zeros((num_words,100))\n",
        "\n",
        "for word,i in word_index.items():\n",
        "    if i > num_words:\n",
        "        continue\n",
        "    \n",
        "    emb_vec=embedding_dict.get(word)\n",
        "    if emb_vec is not None:\n",
        "        embedding_matrix[i]=emb_vec \n",
        "\n",
        "\n",
        "num_words=len(word_index)+1\n",
        "embedding_matrix=np.zeros((num_words,100))\n",
        "\n",
        "for word,i in word_index.items():\n",
        "    if i > num_words:\n",
        "        continue\n",
        "    \n",
        "    emb_vec=embedding_dict.get(word)\n",
        "    if emb_vec is not None:\n",
        "        embedding_matrix[i]=emb_vec\n",
        "     "
      ]
    },
    {
      "cell_type": "code",
      "execution_count": null,
      "metadata": {
        "id": "L-1UKIYq-CmT"
      },
      "outputs": [],
      "source": [
        "def ensemble_CNN_BiGRU(filters = 100, kernel_size = 3, activation='relu', \n",
        "                   input_dim = None, output_dim=300, max_length = None, emb_matrix = None):\n",
        "    \n",
        "    # Channel 1D CNN\n",
        "    input1 = Input(shape=(max_length,))\n",
        "    embeddding1 = Embedding(input_dim=input_dim, \n",
        "                            output_dim=output_dim, \n",
        "                            input_length=max_length, \n",
        "                            input_shape=(max_length, ),\n",
        "                            # Assign the embedding weight with word2vec embedding marix\n",
        "                            weights = [emb_matrix],\n",
        "                            # Set the weight to be not trainable (static)\n",
        "                            trainable = False)(input1)\n",
        "    conv1 = Conv1D(filters=filters, kernel_size=kernel_size, activation='relu', \n",
        "                   kernel_constraint= keras.constraints.MaxNorm( max_value=3, axis=[0,1]))(embeddding1)\n",
        "    pool1 = keras.layers.MaxPool1D(pool_size=2, strides=2)(conv1)\n",
        "    flat1 = Flatten()(pool1)\n",
        "    drop1 = Dropout(0.5)(flat1)\n",
        "    dense1 = Dense(10, activation='relu')(drop1)\n",
        "    drop1 = Dropout(0.5)(dense1)\n",
        "    out1 = Dense(1, activation='sigmoid')(drop1)\n",
        "    \n",
        "    # Channel BiGRU\n",
        "    input2 = Input(shape=(max_length,))\n",
        "    embeddding2 = Embedding(input_dim=input_dim, \n",
        "                            output_dim=output_dim, \n",
        "                            input_length=max_length, \n",
        "                            input_shape=(max_length, ),\n",
        "                            # Assign the embedding weight with word2vec embedding marix\n",
        "                            weights = [emb_matrix],\n",
        "                            # Set the weight to be not trainable (static)\n",
        "                            trainable = False,\n",
        "                            mask_zero=True)(input2)\n",
        "    gru2 = Bidirectional(GRU(64))(embeddding2)\n",
        "    drop2 = Dropout(0.5)(gru2)\n",
        "    out2 = Dense(1, activation='sigmoid')(drop2)\n",
        "    \n",
        "    # Merge\n",
        "    merged = concatenate([out1, out2])\n",
        "    \n",
        "    # Interpretation\n",
        "    outputs = Dense(7, activation='softmax')(merged)\n",
        "    model = Model(inputs=[input1, input2], outputs=outputs)\n",
        "    \n",
        "    # Compile\n",
        "    model.compile( loss='categorical_crossentropy', optimizer='adam', metrics=['accuracy'])\n",
        "    \n",
        "    return model\n",
        "\n",
        "model = ensemble_CNN_BiGRU(filters = 100, kernel_size = 3, activation='relu', \n",
        "                   input_dim = 2502, output_dim=100, max_length = 112, emb_matrix = embedding_matrix)\n",
        "model.fit([X_train_texts_tokenized,X_train_texts_tokenized], y_train_text)\n"
      ]
    },
    {
      "cell_type": "code",
      "execution_count": null,
      "metadata": {
        "id": "1kN_2_7k-Htb"
      },
      "outputs": [],
      "source": [
        ""
      ]
    },
    {
      "cell_type": "markdown",
      "metadata": {
        "id": "89wWtyRJ-IA9"
      },
      "source": [
        "# Tabular"
      ]
    },
    {
      "cell_type": "code",
      "execution_count": null,
      "metadata": {
        "id": "SrKysTT--KlC"
      },
      "outputs": [],
      "source": [
        "def train_model1_liwcaud(X_train,y_train,X_test,y_test,name,num_out=7,loss='categorical_crossentropy',cw=None, epochs = 350):\n",
        "  model = Sequential()  \n",
        "  model.add(Dense(256,activation='relu',input_shape=(X_train.shape[-1],)))\n",
        "  model.add(Dense(256,activation='relu'))\n",
        "  model.add(Dropout(0.3))\n",
        "  model.add(Dense(128,activation='relu'))\n",
        "  model.add(Dropout(0.3))\n",
        "  model.add(Dense(num_out,activation='softmax'))\n",
        "  model.compile(loss=loss, optimizer=tf.keras.optimizers.Adam(1e-4), metrics=['accuracy',Recall()])\n",
        "  print(model.summary()) \n",
        "\n",
        "  # normalize tabulars \n",
        "  scaler = StandardScaler()\n",
        "  X_train = scaler.fit_transform(X_train)\n",
        "  X_test = scaler.transform(X_test) \n",
        " \n",
        "  early_stop = EarlyStopping(monitor=Recall(), mode='min', patience=10) \n",
        "  checkpt = ModelCheckpoint(name + '.h5', monitor=Recall(), mode='min', save_best_only=True)  \n",
        "   \n",
        "                                             \n",
        "  pred_dbert = model.predict(X_test)\n",
        "  pred_dbert = [predictions(p) for p in pred_dbert]\n",
        "  print(evaluate_model(y_test, pred_dbert)) \n",
        "  model.save(name)    "
      ]
    },
    {
      "cell_type": "code",
      "execution_count": null,
      "metadata": {
        "colab": {
          "base_uri": "https://localhost:8080/",
          "height": 1000
        },
        "id": "_WZtL8EyNWL_",
        "outputId": "215b30fb-8db0-4bb1-c2bd-1136f33612f2"
      },
      "outputs": [
        {
          "data": {
            "image/png": "[encoded data removed]",
            "text/plain": [
              "<Figure size 864x864 with 4 Axes>"
            ]
          },
          "metadata": {},
          "output_type": "display_data"
        },
        {
          "name": "stdout",
          "output_type": "stream",
          "text": [
            "accuracy\n",
            "\ttraining         \t (min:    0.351, max:    0.876, cur:    0.874)\n",
            "\tvalidation       \t (min:    0.081, max:    0.660, cur:    0.633)\n",
            "Loss\n",
            "\ttraining         \t (min:    0.293, max:    1.655, cur:    0.294)\n",
            "\tvalidation       \t (min:    1.323, max:    3.251, cur:    1.580)\n",
            "recall_12\n",
            "\ttraining         \t (min:    0.047, max:    0.824, cur:    0.821)\n",
            "\tvalidation       \t (min:    0.004, max:    0.625, cur:    0.598)\n",
            "\b\b\b\b\b\b\b\b\b\b\b\b\b\b\b\b\b\b\b\b\b\b\b\b\b\b\b\b\b\b\b\b\b\b\b\b\b\b\b\b\b\b\b\b\b\b\b\b\b\b\b\b\b\b\b\b\b\b\b\b\b\b\b\b\b\b\b\b\b\b\b\b\b\b\b\b\b\b\b\b\b\b\b\b\b\b\b\b\b\b\b\b\b\b\b\b\b\b\b\b\b\b\b\b\r707/707 [==============================] - 3s 4ms/step - loss: 0.2943 - accuracy: 0.8740 - recall_12: 0.8214 - val_loss: 1.5799 - val_accuracy: 0.6327 - val_recall_12: 0.5982\n",
            "              precision    recall  f1-score   support\n",
            "\n",
            "           0       0.14      1.00      0.25        25\n",
            "           1       0.60      0.80      0.68       119\n",
            "           2       0.95      0.79      0.86       383\n",
            "           3       0.96      0.79      0.87       243\n",
            "           4       1.00      0.79      0.88        19\n",
            "           5       0.93      0.78      0.85       758\n",
            "           6       0.00      0.00      0.00         0\n",
            "\n",
            "   micro avg       0.79      0.79      0.79      1547\n",
            "   macro avg       0.65      0.71      0.63      1547\n",
            "weighted avg       0.90      0.79      0.83      1547\n",
            " samples avg       0.79      0.79      0.79      1547\n",
            "\n",
            "[[ 25   0   0   0   0   0   0]\n",
            " [ 16  95   0   0   0   8   0]\n",
            " [ 42  10 303   0   0  21   7]\n",
            " [ 12  16   2 192   0  16   5]\n",
            " [  3   0   0   0  15   1   0]\n",
            " [ 81  38  15   8   0 594  22]\n",
            " [  0   0   0   0   0   0   0]]\n",
            "None\n"
          ]
        },
        {
          "name": "stderr",
          "output_type": "stream",
          "text": [
            "/usr/local/lib/python3.7/dist-packages/sklearn/metrics/_classification.py:1318: UndefinedMetricWarning: Recall and F-score are ill-defined and being set to 0.0 in labels with no true samples. Use `zero_division` parameter to control this behavior.\n",
            "  _warn_prf(average, modifier, msg_start, len(result))\n"
          ]
        },
        {
          "name": "stdout",
          "output_type": "stream",
          "text": [
            "INFO:tensorflow:Assets written to: model_liwc_only_1/assets\n"
          ]
        }
      ],
      "source": [
        "train_model1_liwcaud(X_train_liwc,y_train_tab,X_test_liwc,y_test_tab,'model_liwc_only_1',epochs=250)   "
      ]
    },
    {
      "cell_type": "markdown",
      "metadata": {
        "id": "AdEiWiUUrnv3"
      },
      "source": [
        "Prosodic Model"
      ]
    },
    {
      "cell_type": "code",
      "execution_count": null,
      "metadata": {
        "colab": {
          "base_uri": "https://localhost:8080/",
          "height": 1000
        },
        "id": "9YbDQxgqNWP8",
        "outputId": "49651a0c-05ac-4608-a628-75578c2ded54"
      },
      "outputs": [
        {
          "data": {
            "image/png": "[encoded data removed]",
            "text/plain": [
              "<Figure size 864x864 with 4 Axes>"
            ]
          },
          "metadata": {},
          "output_type": "display_data"
        },
        {
          "name": "stdout",
          "output_type": "stream",
          "text": [
            "accuracy\n",
            "\ttraining         \t (min:    0.368, max:    0.721, cur:    0.719)\n",
            "\tvalidation       \t (min:    0.033, max:    0.322, cur:    0.315)\n",
            "Loss\n",
            "\ttraining         \t (min:    0.713, max:    1.639, cur:    0.715)\n",
            "\tvalidation       \t (min:    2.726, max:    3.616, cur:    2.752)\n",
            "recall_21\n",
            "\ttraining         \t (min:    0.041, max:    0.612, cur:    0.607)\n",
            "\tvalidation       \t (min:    0.000, max:    0.281, cur:    0.276)\n",
            "\b\b\b\b\b\b\b\b\b\b\b\b\b\b\b\b\b\b\b\b\b\b\b\b\b\b\b\b\b\b\b\b\b\b\b\b\b\b\b\b\b\b\b\b\b\b\b\b\b\b\b\b\b\b\b\b\b\b\b\b\b\b\b\b\b\b\b\b\b\b\b\b\b\b\b\b\b\b\b\b\b\b\b\b\b\b\b\b\b\b\b\b\b\b\b\b\b\b\b\b\b\b\b\b\r707/707 [==============================] - 3s 4ms/step - loss: 0.7154 - accuracy: 0.7192 - recall_21: 0.6074 - val_loss: 2.7519 - val_accuracy: 0.3147 - val_recall_21: 0.2762\n",
            "              precision    recall  f1-score   support\n",
            "\n",
            "           0       0.40      0.96      0.56        25\n",
            "           1       0.37      0.92      0.53       119\n",
            "           2       0.49      0.49      0.49       383\n",
            "           3       0.45      0.86      0.59       243\n",
            "           4       0.00      0.00      0.00        19\n",
            "           5       0.68      0.27      0.38       758\n",
            "           6       0.00      0.00      0.00         0\n",
            "\n",
            "   micro avg       0.47      0.47      0.47      1547\n",
            "   macro avg       0.34      0.50      0.37      1547\n",
            "weighted avg       0.56      0.47      0.45      1547\n",
            " samples avg       0.47      0.47      0.47      1547\n",
            "\n",
            "[[ 24   0   0   0   0   1   0]\n",
            " [  1 109   1   2   0   6   0]\n",
            " [ 10  48 186  59   0  69  11]\n",
            " [  1  10   9 209   0  13   1]\n",
            " [  0   1   7   2   0   8   1]\n",
            " [ 24 124 174 191   0 203  42]\n",
            " [  0   0   0   0   0   0   0]]\n",
            "None\n"
          ]
        },
        {
          "name": "stderr",
          "output_type": "stream",
          "text": [
            "/usr/local/lib/python3.7/dist-packages/sklearn/metrics/_classification.py:1318: UndefinedMetricWarning: Precision and F-score are ill-defined and being set to 0.0 in labels with no predicted samples. Use `zero_division` parameter to control this behavior.\n",
            "  _warn_prf(average, modifier, msg_start, len(result))\n",
            "/usr/local/lib/python3.7/dist-packages/sklearn/metrics/_classification.py:1318: UndefinedMetricWarning: Recall and F-score are ill-defined and being set to 0.0 in labels with no true samples. Use `zero_division` parameter to control this behavior.\n",
            "  _warn_prf(average, modifier, msg_start, len(result))\n"
          ]
        },
        {
          "name": "stdout",
          "output_type": "stream",
          "text": [
            "INFO:tensorflow:Assets written to: model_aud_only_1/assets\n"
          ]
        }
      ],
      "source": [
        "train_model1_liwcaud(X_train_aud,y_train_tab,X_test_aud,y_test_tab,'model_aud_only_1',epochs=250)   \n",
        "   "
      ]
    },
    {
      "cell_type": "code",
      "execution_count": null,
      "metadata": {
        "id": "sdNoq2xK-ibl"
      },
      "outputs": [],
      "source": [
        ""
      ]
    },
    {
      "cell_type": "code",
      "execution_count": null,
      "metadata": {
        "colab": {
          "base_uri": "https://localhost:8080/",
          "height": 754
        },
        "id": "9_0OBhl70AAe",
        "outputId": "24af42bb-1b50-49c8-f146-04306998dfc5"
      },
      "outputs": [
        {
          "data": {
            "image/png": "[encoded data removed]",
            "text/plain": [
              "<IPython.core.display.Image object>"
            ]
          },
          "execution_count": 26,
          "metadata": {},
          "output_type": "execute_result"
        }
      ],
      "source": [
        "model = keras.models.load_model('/content/new/content/model_liwc_3')\n",
        "from keras.utils.vis_utils import plot_model \n",
        "plot_model(model, show_shapes=True, show_layer_names=True)  "
      ]
    },
    {
      "cell_type": "code",
      "execution_count": null,
      "metadata": {
        "id": "oLDOjkZqgpMB"
      },
      "outputs": [],
      "source": [
        "scaler = StandardScaler()\n",
        "X_train_s = scaler.fit_transform(X_train_tab)\n",
        "X_test_s = scaler.transform(X_test_tab)  "
      ]
    },
    {
      "cell_type": "code",
      "execution_count": null,
      "metadata": {
        "id": "Zhu52z7Eq2ui"
      },
      "outputs": [],
      "source": [
        "!pip install shap"
      ]
    },
    {
      "cell_type": "code",
      "execution_count": null,
      "metadata": {
        "colab": {
          "base_uri": "https://localhost:8080/",
          "height": 690
        },
        "id": "58BWxRXZqkg5",
        "outputId": "a8c7102b-3ee5-4a9b-8b1a-3d45b3222510"
      },
      "outputs": [
        {
          "name": "stdout",
          "output_type": "stream",
          "text": [
            "WARNING:tensorflow:From /usr/local/lib/python3.7/dist-packages/shap/explainers/tf_utils.py:28: The name tf.keras.backend.get_session is deprecated. Please use tf.compat.v1.keras.backend.get_session instead.\n",
            "\n"
          ]
        },
        {
          "name": "stderr",
          "output_type": "stream",
          "text": [
            "keras is no longer supported, please use tf.keras instead.\n",
            "Your TensorFlow version is newer than 2.4.0 and so graph support has been removed in eager mode and some static graphs may not be supported. See PR #1483 for discussion.\n",
            "You have provided over 5k background samples! For better performance consider using smaller random sample.\n"
          ]
        },
        {
          "data": {
            "image/png": "[encoded data removed]",
            "text/plain": [
              "<Figure size 576x684 with 1 Axes>"
            ]
          },
          "metadata": {},
          "output_type": "display_data"
        }
      ],
      "source": [
        "import tensorflow as tf\n",
        "tf.compat.v1.disable_v2_behavior() \n",
        "import shap\n",
        "\n",
        "liwc_model = keras.models.load_model('/content/model_liwc_3')\n",
        "# SHAP values\n",
        "shap_exp = shap.DeepExplainer(liwc_model, X_train_s)\n",
        "shap_values = shap_exp.shap_values(X_test_s[:10]) \n",
        " \n",
        "shap.summary_plot(shap_values[0], plot_type = 'bar', feature_names = tabular_cols)\n",
        "## POSEMO = positive emotion  "
      ]
    },
    {
      "cell_type": "code",
      "execution_count": null,
      "metadata": {
        "id": "nuw64IF5-pkW"
      },
      "outputs": [],
      "source": [
        ""
      ]
    },
    {
      "cell_type": "markdown",
      "metadata": {
        "id": "uYsdZAOpr0CW"
      },
      "source": [
        "MultiChannel LIWC + Prosodic"
      ]
    },
    {
      "cell_type": "code",
      "execution_count": null,
      "metadata": {
        "id": "LT9fz2C4r2qS"
      },
      "outputs": [],
      "source": [
        "def train_multichannel_liwcaud(X_train_liwc,X_train_aud,y_train,X_test_liwc,X_test_aud,y_test,name,num_out=7,loss='categorical_crossentropy',cw=None, epochs=350):\n",
        "  \n",
        "  \n",
        "  ## liwc \n",
        "  inputs_text = Input(shape=(X_train_liwc.shape[-1],))\n",
        "  X_text = Dense(256,activation='relu')(inputs_text)\n",
        "  X_text = Dense(256,activation='relu')(X_text)\n",
        "  X_text = Dropout(0.3)(X_text)\n",
        "  X_text = Dense(128,activation='relu')(X_text)\n",
        "  X_text = Dropout(0.3)(X_text)\n",
        "  X_text = Dense(128,activation='relu')(X_text)\n",
        "  flat_text = Flatten()(X_text)\n",
        "\n",
        "  ## prosodic  \n",
        "  inputs_aud = Input(shape=(X_train_aud.shape[-1],))\n",
        "  X_aud = Dense(256,activation='relu')(inputs_aud)\n",
        "  X_aud = Dense(256,activation='relu')(X_aud)\n",
        "  X_aud = Dropout(0.3)(X_aud)\n",
        "  X_aud = Dense(128,activation='relu')(X_aud)\n",
        "  X_aud = Dropout(0.3)(X_aud)\n",
        "  X_aud = Dense(128,activation='relu')(X_aud)\n",
        "  flat_aud = Flatten()(X_aud) \n",
        "   \n",
        "  # normalize tabulars \n",
        "  scaler = StandardScaler()\n",
        "  X_train_liwc = scaler.fit_transform(X_train_liwc)\n",
        "  X_test_liwc = scaler.transform(X_test_liwc) \n",
        "\n",
        "  X_train_aud = scaler.fit_transform(X_train_aud)\n",
        "  X_test_aud = scaler.transform(X_test_aud) \n",
        "    \n",
        "  merged = concatenate([flat_text, flat_aud])\n",
        "\n",
        "  dense1 = Dense(128, activation='relu')(merged)\n",
        "  dense2 = Dense(64, activation='relu')(dense1)\n",
        "  outputs = Dense(7, activation='softmax')(dense2)\n",
        "\n",
        "  \n",
        "  model = Model(inputs=[inputs_text, inputs_aud], outputs=outputs)\n",
        "  for layer in model.layers[:3]:\n",
        "    layer.trainable = False  \n",
        "     \n",
        "  model.compile(loss='categorical_crossentropy',\n",
        "              optimizer='adam',\n",
        "              metrics=['accuracy'])\n",
        "\n",
        " \n",
        "  early_stop = EarlyStopping(monitor='val_loss', mode='min', patience=8) \n",
        "  checkpt = ModelCheckpoint(name+'.h5', monitor='val_loss', mode='min', save_best_only=True) \n",
        "\n",
        "  history = model.fit([X_train_liwc,X_train_aud], y_train, batch_size = 32, epochs=epochs, callbacks=[early_stop,checkpt,PlotLossesKeras()],validation_split=0.1,class_weight=cw) \n",
        "   \n",
        "  preds = model.predict([X_test_liwc,X_test_aud]) \n",
        "  preds = [x.argmax() for x in preds] \n",
        "  y_true = [x.argmax() for x in y_test]\n",
        "\n",
        "  print(confusion_matrix(y_true,preds))\n",
        "  print(classification_report(y_true,preds)) \n",
        "  print(accuracy_score(y_true,preds))  \n",
        "    \n",
        "  model.save(name)  \n",
        "\n",
        "  return model   "
      ]
    },
    {
      "cell_type": "code",
      "execution_count": null,
      "metadata": {
        "colab": {
          "base_uri": "https://localhost:8080/",
          "height": 1000
        },
        "id": "0HVjpwxOr2x0",
        "outputId": "30e14184-d48b-4e4a-853e-f7b54db8af0c"
      },
      "outputs": [
        {
          "data": {
            "image/png": "[encoded data removed]",
            "text/plain": [
              "<Figure size 864x576 with 2 Axes>"
            ]
          },
          "metadata": {},
          "output_type": "display_data"
        },
        {
          "name": "stdout",
          "output_type": "stream",
          "text": [
            "accuracy\n",
            "\ttraining         \t (min:    0.559, max:    0.874, cur:    0.874)\n",
            "\tvalidation       \t (min:    0.004, max:    0.741, cur:    0.719)\n",
            "Loss\n",
            "\ttraining         \t (min:    0.335, max:    1.156, cur:    0.335)\n",
            "\tvalidation       \t (min:    0.717, max:    2.460, cur:    0.803)\n",
            "\b\b\b\b\b\b\b\b\b\b\b\b\b\b\b\b\b\b\b\b\b\b\b\b\b\b\b\b\b\b\b\b\b\b\b\b\b\b\b\b\b\b\b\b\b\b\b\b\b\b\b\b\b\b\b\b\b\b\b\b\b\b\b\b\b\b\b\b\b\b\b\b\b\b\b\b\b\b\b\b\b\b\b\b\r795/795 [==============================] - 4s 5ms/step - loss: 0.3350 - accuracy: 0.8736 - val_loss: 0.8032 - val_accuracy: 0.7189\n",
            "[[ 24   0   1   0   0   0   0]\n",
            " [  0 116   0   0   1   2   0]\n",
            " [  6  14 303   4   2  53   1]\n",
            " [  0   8   4 207   1  20   3]\n",
            " [  0   0   2   0  16   1   0]\n",
            " [  4  25  77  22  12 608  10]\n",
            " [  0   0   0   0   0   0   0]]\n",
            "              precision    recall  f1-score   support\n",
            "\n",
            "           0       0.71      0.96      0.81        25\n",
            "           1       0.71      0.97      0.82       119\n",
            "           2       0.78      0.79      0.79       383\n",
            "           3       0.89      0.85      0.87       243\n",
            "           4       0.50      0.84      0.63        19\n",
            "           5       0.89      0.80      0.84       758\n",
            "           6       0.00      0.00      0.00         0\n",
            "\n",
            "    accuracy                           0.82      1547\n",
            "   macro avg       0.64      0.75      0.68      1547\n",
            "weighted avg       0.84      0.82      0.83      1547\n",
            "\n",
            "0.8235294117647058\n"
          ]
        },
        {
          "name": "stderr",
          "output_type": "stream",
          "text": [
            "/usr/local/lib/python3.7/dist-packages/sklearn/metrics/_classification.py:1318: UndefinedMetricWarning: Recall and F-score are ill-defined and being set to 0.0 in labels with no true samples. Use `zero_division` parameter to control this behavior.\n",
            "  _warn_prf(average, modifier, msg_start, len(result))\n",
            "/usr/local/lib/python3.7/dist-packages/sklearn/metrics/_classification.py:1318: UndefinedMetricWarning: Recall and F-score are ill-defined and being set to 0.0 in labels with no true samples. Use `zero_division` parameter to control this behavior.\n",
            "  _warn_prf(average, modifier, msg_start, len(result))\n",
            "/usr/local/lib/python3.7/dist-packages/sklearn/metrics/_classification.py:1318: UndefinedMetricWarning: Recall and F-score are ill-defined and being set to 0.0 in labels with no true samples. Use `zero_division` parameter to control this behavior.\n",
            "  _warn_prf(average, modifier, msg_start, len(result))\n"
          ]
        },
        {
          "name": "stdout",
          "output_type": "stream",
          "text": [
            "INFO:tensorflow:Assets written to: multi_liwc_aud_ver1/assets\n"
          ]
        }
      ],
      "source": [
        "model_m = train_multichannel_liwcaud(X_train_liwc,X_train_aud,y_train_tab,X_test_liwc,X_test_aud,y_test_tab,'multi_liwc_aud_ver1',epochs=275)\n"
      ]
    },
    {
      "cell_type": "code",
      "execution_count": null,
      "metadata": {
        "id": "4J_jtZjRcUnQ"
      },
      "outputs": [],
      "source": [
        "pip install --upgrade tabnet"
      ]
    },
    {
      "cell_type": "code",
      "execution_count": null,
      "metadata": {
        "id": "jw1m_X8ucWXv"
      },
      "outputs": [],
      "source": [
        "from tabnet import TabNet, TabNetClassifier  "
      ]
    },
    {
      "cell_type": "code",
      "execution_count": null,
      "metadata": {
        "id": "4CYpzE3ofhBV"
      },
      "outputs": [],
      "source": [
        "## feature columns\n",
        "\n",
        "liwc_feature_cols = []\n",
        "for col_name in [c for c in tabular_cols if c not in ['F0','voice_probability','pcm_loudness']]:\n",
        "    liwc_feature_cols.append(tf.feature_column.numeric_column(col_name))\n",
        "     \n",
        "aud_feature_cols = []\n",
        "for col_name in ['F0','voice_probability','pcm_loudness']:\n",
        "    aud_feature_cols.append(tf.feature_column.numeric_column(col_name))\n",
        "    "
      ]
    },
    {
      "cell_type": "code",
      "execution_count": null,
      "metadata": {
        "id": "CqC3tXKpl2UA"
      },
      "outputs": [],
      "source": [
        "def train_multichannel_liwcaud_tabnets(X_train_liwc,X_train_aud,y_train,X_test_liwc,X_test_aud,y_test,name,num_out=7,epochs=350):\n",
        "  \n",
        "  ## liwc \n",
        "  tn1 = TabNet(feature_columns=liwc_feature_cols, output_dim=32) \n",
        "  inputs_text = Input(shape=(X_train_liwc.shape[-1],))\n",
        "  text_layer = tn1.layers[2](inputs_text)\n",
        "  text_layer = tn1.layers[3](text_layer)\n",
        "\n",
        "  #for layer in tn1.layers[3:5]:\n",
        "  #  text_layer = layer(text_layer)\n",
        "  \n",
        "  flat_text = Flatten()(text_layer)\n",
        "  \n",
        "  ## prosodic  \n",
        "  tn2 = TabNet(feature_columns=aud_feature_cols, output_dim=32)\n",
        "  inputs_aud = Input(shape=(X_train_aud.shape[-1],))\n",
        "  aud_layer = tn2.layers[2](inputs_aud)\n",
        "  aud_layer = tn2.layers[3](aud_layer)\n",
        "  #for layer2 in tn2.layers[3:5]:\n",
        "  # aud_layer = layer2(aud_layer)  \n",
        "  flat_aud = Flatten()(aud_layer)\n",
        "  \n",
        "  # normalize tabulars \n",
        "  scaler = StandardScaler()\n",
        "  X_train_liwc = scaler.fit_transform(X_train_liwc)\n",
        "  X_test_liwc = scaler.transform(X_test_liwc) \n",
        "\n",
        "  X_train_aud = scaler.fit_transform(X_train_aud)\n",
        "  X_test_aud = scaler.transform(X_test_aud) \n",
        "  \n",
        "  merged = concatenate([flat_text, flat_aud])\n",
        "\n",
        "  dense1 = Dense(128, activation='relu')(merged)\n",
        "  dense2 = Dense(64, activation='relu')(dense1)\n",
        "  outputs = Dense(7, activation='softmax')(dense2)\n",
        "  \n",
        "  model = Model(inputs=[inputs_text, inputs_aud], outputs=outputs)\n",
        "  for layer in model.layers[:1]:\n",
        "    layer.trainable = False  \n",
        "     \n",
        "  model.compile(loss='categorical_crossentropy',\n",
        "              optimizer=tf.optimizers.Adam(1e-3),\n",
        "              metrics=['accuracy'])\n",
        "  \n",
        "  \n",
        "  history = model.fit([X_train_liwc,X_train_aud], y_train, batch_size = 32, epochs=epochs,validation_split=0.1) \n",
        "   \n",
        "  preds = model.predict([X_test_liwc,X_test_aud]) \n",
        "  preds = [x.argmax() for x in preds] \n",
        "  y_true = [x.argmax() for x in y_test]\n",
        "\n",
        "  print(confusion_matrix(y_true,preds))\n",
        "  print(classification_report(y_true,preds)) \n",
        "  print(accuracy_score(y_true,preds))  \n",
        "    \n",
        "  model.save(name)  \n",
        "   \n",
        "  return model     \n",
        "  "
      ]
    },
    {
      "cell_type": "code",
      "execution_count": null,
      "metadata": {
        "id": "WD-KUyeVlU31"
      },
      "outputs": [],
      "source": [
        "train_multichannel_liwcaud_tabnets(X_train_liwc,X_train_aud,y_train_tab,X_test_liwc,X_test_aud,y_test_tab,'tabnet_liwcandpros_v2',num_out=7, epochs=55)"
      ]
    },
    {
      "cell_type": "code",
      "execution_count": null,
      "metadata": {
        "id": "kvh-kXg9zpFB"
      },
      "outputs": [],
      "source": [
        "  "
      ]
    },
    {
      "cell_type": "code",
      "execution_count": null,
      "metadata": {
        "colab": {
          "base_uri": "https://localhost:8080/"
        },
        "id": "LUfrG5YhBBlW",
        "outputId": "9942a7dc-ed5a-4ec2-965c-c3c2d7d30960"
      },
      "outputs": [
        {
          "name": "stdout",
          "output_type": "stream",
          "text": [
            "              precision    recall  f1-score   support\n",
            "\n",
            "           0       0.41      0.96      0.57        25\n",
            "           1       0.37      0.98      0.53       119\n",
            "           2       0.62      0.69      0.65       383\n",
            "           3       0.85      0.78      0.82       243\n",
            "           4       0.33      0.79      0.47        19\n",
            "           5       0.86      0.53      0.66       758\n",
            "           6       0.00      0.00      0.00         0\n",
            "\n",
            "    accuracy                           0.65      1547\n",
            "   macro avg       0.49      0.68      0.53      1547\n",
            "weighted avg       0.75      0.65      0.67      1547\n",
            "\n",
            "[[ 24   1   0   0   0   0   0]\n",
            " [  0 117   0   0   0   1   1]\n",
            " [  5  54 263   2   7  52   0]\n",
            " [  4  28   6 190   3  11   1]\n",
            " [  2   1   1   0  15   0   0]\n",
            " [ 24 118 156  31  20 402   7]\n",
            " [  0   0   0   0   0   0   0]]\n"
          ]
        },
        {
          "name": "stderr",
          "output_type": "stream",
          "text": [
            "/usr/local/lib/python3.7/dist-packages/sklearn/metrics/_classification.py:1318: UndefinedMetricWarning: Recall and F-score are ill-defined and being set to 0.0 in labels with no true samples. Use `zero_division` parameter to control this behavior.\n",
            "  _warn_prf(average, modifier, msg_start, len(result))\n",
            "/usr/local/lib/python3.7/dist-packages/sklearn/metrics/_classification.py:1318: UndefinedMetricWarning: Recall and F-score are ill-defined and being set to 0.0 in labels with no true samples. Use `zero_division` parameter to control this behavior.\n",
            "  _warn_prf(average, modifier, msg_start, len(result))\n",
            "/usr/local/lib/python3.7/dist-packages/sklearn/metrics/_classification.py:1318: UndefinedMetricWarning: Recall and F-score are ill-defined and being set to 0.0 in labels with no true samples. Use `zero_division` parameter to control this behavior.\n",
            "  _warn_prf(average, modifier, msg_start, len(result))\n"
          ]
        }
      ],
      "source": [
        "'''\n",
        "from pytorch_tabnet.tab_model import TabNetClassifier\n",
        "\n",
        "tabnet = TabNetClassifier()\n",
        "\n",
        "tabnet.fit(X_train=X_train_liwc, y_train=np.array([np.argmax(c) for c in y_train_tab]),\n",
        "              eval_set=[(X_test_liwc, np.array([np.argmax(c) for c in y_test_tab]))], \n",
        "              patience=300, max_epochs=1500,eval_metric=['balanced_accuracy'])   \n",
        "              \n",
        "print(classification_report([np.argmax(c) for c in y_test_tab],tabnet.predict(X_test_liwc)))\n",
        "print(confusion_matrix([np.argmax(c) for c in y_test_tab],tabnet.predict(X_test_liwc)))  \n",
        "'''"
      ]
    },
    {
      "cell_type": "code",
      "execution_count": null,
      "metadata": {
        "id": "Yt1wsTOv8i0x"
      },
      "outputs": [],
      "source": [
        ""
      ]
    },
    {
      "cell_type": "code",
      "execution_count": null,
      "metadata": {
        "id": "fHDuhr0HoKCN"
      },
      "outputs": [],
      "source": [
        " "
      ]
    },
    {
      "cell_type": "code",
      "execution_count": null,
      "metadata": {
        "id": "fGCb1-hToKFV"
      },
      "outputs": [],
      "source": [
        ""
      ]
    },
    {
      "cell_type": "markdown",
      "metadata": {
        "id": "jDvbKhrHoKjR"
      },
      "source": [
        "LSTM"
      ]
    },
    {
      "cell_type": "code",
      "execution_count": null,
      "metadata": {
        "colab": {
          "base_uri": "https://localhost:8080/"
        },
        "id": "-J6DAF-HoKLU",
        "outputId": "c0180773-3c92-4d5b-cb9d-b5712f670c72"
      },
      "outputs": [
        {
          "name": "stdout",
          "output_type": "stream",
          "text": [
            "Model: \"sequential\"\n",
            "_________________________________________________________________\n",
            " Layer (type)                Output Shape              Param #   \n",
            "=================================================================\n",
            " embedding (Embedding)       (None, 115, 100)          6400      \n",
            "                                                                 \n",
            " bidirectional (Bidirectiona  (None, 115, 256)         234496    \n",
            " l)                                                              \n",
            "                                                                 \n",
            " global_max_pooling1d (Globa  (None, 256)              0         \n",
            " lMaxPooling1D)                                                  \n",
            "                                                                 \n",
            " dense (Dense)               (None, 64)                16448     \n",
            "                                                                 \n",
            " dropout (Dropout)           (None, 64)                0         \n",
            "                                                                 \n",
            " dense_1 (Dense)             (None, 7)                 455       \n",
            "                                                                 \n",
            "=================================================================\n",
            "Total params: 257,799\n",
            "Trainable params: 257,799\n",
            "Non-trainable params: 0\n",
            "_________________________________________________________________\n",
            "None\n",
            "Epoch 1/60\n",
            "398/398 [==============================] - 20s 24ms/step - loss: 1.8101 - accuracy: 0.2458 - val_loss: 3.1559 - val_accuracy: 0.0000e+00\n",
            "Epoch 2/60\n",
            "398/398 [==============================] - 9s 23ms/step - loss: 1.6451 - accuracy: 0.3533 - val_loss: 3.0764 - val_accuracy: 0.0000e+00\n",
            "Epoch 3/60\n",
            "398/398 [==============================] - 8s 21ms/step - loss: 1.5036 - accuracy: 0.4232 - val_loss: 2.9477 - val_accuracy: 0.0000e+00\n",
            "Epoch 4/60\n",
            "398/398 [==============================] - 7s 17ms/step - loss: 1.3897 - accuracy: 0.4764 - val_loss: 2.8070 - val_accuracy: 0.0000e+00\n",
            "Epoch 5/60\n",
            "398/398 [==============================] - 7s 17ms/step - loss: 1.2528 - accuracy: 0.5356 - val_loss: 2.7182 - val_accuracy: 0.0000e+00\n",
            "Epoch 6/60\n",
            "398/398 [==============================] - 7s 17ms/step - loss: 1.1294 - accuracy: 0.5836 - val_loss: 2.6321 - val_accuracy: 0.0000e+00\n",
            "Epoch 7/60\n",
            "398/398 [==============================] - 7s 17ms/step - loss: 1.0194 - accuracy: 0.6242 - val_loss: 3.1081 - val_accuracy: 0.0000e+00\n",
            "Epoch 8/60\n",
            "398/398 [==============================] - 7s 18ms/step - loss: 0.9261 - accuracy: 0.6579 - val_loss: 2.2542 - val_accuracy: 0.0011\n",
            "Epoch 9/60\n",
            "398/398 [==============================] - 7s 18ms/step - loss: 0.8560 - accuracy: 0.6835 - val_loss: 2.3252 - val_accuracy: 0.0244\n",
            "Epoch 10/60\n",
            "398/398 [==============================] - 7s 18ms/step - loss: 0.7938 - accuracy: 0.7045 - val_loss: 2.4777 - val_accuracy: 0.0166\n",
            "Epoch 11/60\n",
            "398/398 [==============================] - 7s 18ms/step - loss: 0.7378 - accuracy: 0.7221 - val_loss: 2.2989 - val_accuracy: 0.0241\n",
            "Epoch 12/60\n",
            "398/398 [==============================] - 7s 18ms/step - loss: 0.7099 - accuracy: 0.7356 - val_loss: 2.2804 - val_accuracy: 0.0326\n",
            "Epoch 13/60\n",
            "398/398 [==============================] - 8s 19ms/step - loss: 0.6553 - accuracy: 0.7550 - val_loss: 1.8812 - val_accuracy: 0.1773\n",
            "Epoch 14/60\n",
            "398/398 [==============================] - 7s 18ms/step - loss: 0.6248 - accuracy: 0.7647 - val_loss: 2.3605 - val_accuracy: 0.0368\n",
            "Epoch 15/60\n",
            "398/398 [==============================] - 7s 19ms/step - loss: 0.5969 - accuracy: 0.7711 - val_loss: 2.2177 - val_accuracy: 0.1250\n",
            "Epoch 16/60\n",
            "398/398 [==============================] - 7s 18ms/step - loss: 0.5828 - accuracy: 0.7793 - val_loss: 2.1824 - val_accuracy: 0.1508\n",
            "Epoch 17/60\n",
            "398/398 [==============================] - 7s 18ms/step - loss: 0.5530 - accuracy: 0.7892 - val_loss: 1.8923 - val_accuracy: 0.2088\n",
            "Epoch 18/60\n",
            "398/398 [==============================] - 7s 19ms/step - loss: 0.5275 - accuracy: 0.7980 - val_loss: 2.0385 - val_accuracy: 0.1834\n",
            "Epoch 19/60\n",
            "398/398 [==============================] - 7s 18ms/step - loss: 0.5095 - accuracy: 0.8045 - val_loss: 2.1089 - val_accuracy: 0.2644\n",
            "Epoch 20/60\n",
            "398/398 [==============================] - 7s 18ms/step - loss: 0.4944 - accuracy: 0.8127 - val_loss: 2.4491 - val_accuracy: 0.1122\n",
            "Epoch 21/60\n",
            "398/398 [==============================] - 7s 18ms/step - loss: 0.4766 - accuracy: 0.8197 - val_loss: 2.1618 - val_accuracy: 0.2216\n",
            "Epoch 22/60\n",
            "398/398 [==============================] - 7s 18ms/step - loss: 0.4607 - accuracy: 0.8225 - val_loss: 2.4056 - val_accuracy: 0.1834\n",
            "Epoch 23/60\n",
            "398/398 [==============================] - 7s 18ms/step - loss: 0.4576 - accuracy: 0.8262 - val_loss: 2.3893 - val_accuracy: 0.2088\n",
            "Epoch 24/60\n",
            "398/398 [==============================] - 7s 18ms/step - loss: 0.4396 - accuracy: 0.8293 - val_loss: 2.1192 - val_accuracy: 0.2531\n",
            "Epoch 25/60\n",
            "398/398 [==============================] - 7s 18ms/step - loss: 0.4216 - accuracy: 0.8397 - val_loss: 1.9274 - val_accuracy: 0.3083\n",
            "Epoch 26/60\n",
            "398/398 [==============================] - 7s 18ms/step - loss: 0.4140 - accuracy: 0.8434 - val_loss: 1.5764 - val_accuracy: 0.4474\n",
            "Epoch 27/60\n",
            "398/398 [==============================] - 7s 18ms/step - loss: 0.4131 - accuracy: 0.8432 - val_loss: 2.0847 - val_accuracy: 0.3232\n",
            "Epoch 28/60\n",
            "398/398 [==============================] - 7s 18ms/step - loss: 0.4026 - accuracy: 0.8462 - val_loss: 2.1594 - val_accuracy: 0.3094\n",
            "Epoch 29/60\n",
            "398/398 [==============================] - 7s 18ms/step - loss: 0.3834 - accuracy: 0.8530 - val_loss: 2.2589 - val_accuracy: 0.3196\n",
            "Epoch 30/60\n",
            "398/398 [==============================] - 7s 19ms/step - loss: 0.3699 - accuracy: 0.8587 - val_loss: 2.2816 - val_accuracy: 0.3444\n",
            "Epoch 31/60\n",
            "398/398 [==============================] - 7s 18ms/step - loss: 0.3789 - accuracy: 0.8576 - val_loss: 1.8594 - val_accuracy: 0.4485\n",
            "Epoch 32/60\n",
            "398/398 [==============================] - 7s 18ms/step - loss: 0.3732 - accuracy: 0.8559 - val_loss: 2.7880 - val_accuracy: 0.2920\n",
            "Epoch 33/60\n",
            "398/398 [==============================] - 7s 18ms/step - loss: 0.3589 - accuracy: 0.8631 - val_loss: 2.0691 - val_accuracy: 0.4131\n",
            "Epoch 34/60\n",
            "398/398 [==============================] - 7s 18ms/step - loss: 0.3519 - accuracy: 0.8640 - val_loss: 2.0499 - val_accuracy: 0.4096\n",
            "Epoch 35/60\n",
            "398/398 [==============================] - 7s 18ms/step - loss: 0.3513 - accuracy: 0.8635 - val_loss: 2.2045 - val_accuracy: 0.3812\n",
            "Epoch 36/60\n",
            "398/398 [==============================] - 7s 18ms/step - loss: 0.3389 - accuracy: 0.8705 - val_loss: 2.2659 - val_accuracy: 0.3759\n",
            "Epoch 37/60\n",
            "398/398 [==============================] - 7s 18ms/step - loss: 0.3386 - accuracy: 0.8692 - val_loss: 2.4978 - val_accuracy: 0.3664\n",
            "Epoch 38/60\n",
            "398/398 [==============================] - 7s 18ms/step - loss: 0.3400 - accuracy: 0.8686 - val_loss: 2.5964 - val_accuracy: 0.3621\n",
            "Epoch 39/60\n",
            "398/398 [==============================] - 7s 18ms/step - loss: 0.3259 - accuracy: 0.8751 - val_loss: 2.8654 - val_accuracy: 0.3278\n",
            "Epoch 40/60\n",
            "398/398 [==============================] - 7s 18ms/step - loss: 0.3377 - accuracy: 0.8697 - val_loss: 1.9897 - val_accuracy: 0.4588\n",
            "Epoch 41/60\n",
            "398/398 [==============================] - 7s 18ms/step - loss: 0.3197 - accuracy: 0.8774 - val_loss: 3.3234 - val_accuracy: 0.2906\n",
            "Epoch 42/60\n",
            "398/398 [==============================] - 7s 18ms/step - loss: 0.3114 - accuracy: 0.8797 - val_loss: 2.8212 - val_accuracy: 0.3600\n",
            "Epoch 43/60\n",
            "398/398 [==============================] - 7s 18ms/step - loss: 0.3081 - accuracy: 0.8817 - val_loss: 3.0516 - val_accuracy: 0.3412\n",
            "Epoch 44/60\n",
            "398/398 [==============================] - 7s 19ms/step - loss: 0.3093 - accuracy: 0.8799 - val_loss: 3.9013 - val_accuracy: 0.2503\n",
            "Epoch 45/60\n",
            "398/398 [==============================] - 7s 18ms/step - loss: 0.3150 - accuracy: 0.8781 - val_loss: 3.0888 - val_accuracy: 0.3175\n",
            "Epoch 46/60\n",
            "398/398 [==============================] - 7s 18ms/step - loss: 0.3125 - accuracy: 0.8799 - val_loss: 2.5552 - val_accuracy: 0.4329\n",
            "Epoch 47/60\n",
            "398/398 [==============================] - 7s 18ms/step - loss: 0.3045 - accuracy: 0.8827 - val_loss: 2.7988 - val_accuracy: 0.3855\n",
            "Epoch 48/60\n",
            "398/398 [==============================] - 7s 18ms/step - loss: 0.2954 - accuracy: 0.8854 - val_loss: 2.9603 - val_accuracy: 0.3989\n",
            "Epoch 49/60\n",
            "398/398 [==============================] - 7s 17ms/step - loss: 0.3032 - accuracy: 0.8834 - val_loss: 3.9756 - val_accuracy: 0.2273\n",
            "Epoch 50/60\n",
            "398/398 [==============================] - 7s 17ms/step - loss: 0.2989 - accuracy: 0.8838 - val_loss: 2.8205 - val_accuracy: 0.4007\n",
            "Epoch 51/60\n",
            "398/398 [==============================] - 7s 17ms/step - loss: 0.2906 - accuracy: 0.8874 - val_loss: 3.1632 - val_accuracy: 0.3458\n",
            "Epoch 52/60\n",
            "398/398 [==============================] - 7s 17ms/step - loss: 0.3073 - accuracy: 0.8781 - val_loss: 2.2707 - val_accuracy: 0.4545\n",
            "Epoch 53/60\n",
            "398/398 [==============================] - 7s 17ms/step - loss: 0.2966 - accuracy: 0.8832 - val_loss: 2.9451 - val_accuracy: 0.3887\n",
            "Epoch 54/60\n",
            "398/398 [==============================] - 7s 17ms/step - loss: 0.2924 - accuracy: 0.8880 - val_loss: 2.7508 - val_accuracy: 0.4414\n",
            "Epoch 55/60\n",
            "398/398 [==============================] - 7s 17ms/step - loss: 0.2865 - accuracy: 0.8891 - val_loss: 3.2946 - val_accuracy: 0.3504\n",
            "Epoch 56/60\n",
            "398/398 [==============================] - 7s 17ms/step - loss: 0.2862 - accuracy: 0.8889 - val_loss: 2.2401 - val_accuracy: 0.4814\n",
            "Epoch 57/60\n",
            "398/398 [==============================] - 7s 18ms/step - loss: 0.2894 - accuracy: 0.8893 - val_loss: 2.3767 - val_accuracy: 0.4602\n",
            "Epoch 58/60\n",
            "398/398 [==============================] - 7s 18ms/step - loss: 0.2866 - accuracy: 0.8887 - val_loss: 2.2354 - val_accuracy: 0.5002\n",
            "Epoch 59/60\n",
            "398/398 [==============================] - 7s 17ms/step - loss: 0.2887 - accuracy: 0.8884 - val_loss: 2.6089 - val_accuracy: 0.4453\n",
            "Epoch 60/60\n",
            "398/398 [==============================] - 7s 17ms/step - loss: 0.2853 - accuracy: 0.8892 - val_loss: 2.9466 - val_accuracy: 0.4149\n",
            "              precision    recall  f1-score   support\n",
            "\n",
            "           0       0.50      0.88      0.64        25\n",
            "           1       0.59      0.88      0.71       119\n",
            "           2       0.93      0.65      0.77       383\n",
            "           3       0.94      0.78      0.85       243\n",
            "           4       0.61      0.58      0.59        19\n",
            "           5       0.81      0.87      0.84       758\n",
            "           6       0.00      0.00      0.00         0\n",
            "\n",
            "    accuracy                           0.80      1547\n",
            "   macro avg       0.63      0.66      0.63      1547\n",
            "weighted avg       0.84      0.80      0.81      1547\n",
            "\n",
            "[[ 22   0   1   0   0   1   1]\n",
            " [  0 105   0   0   0  14   0]\n",
            " [  6  22 249   0   2  96   8]\n",
            " [  3  10   2 189   0  34   5]\n",
            " [  1   0   2   0  11   4   1]\n",
            " [ 12  41  13  12   5 656  19]\n",
            " [  0   0   0   0   0   0   0]]\n"
          ]
        },
        {
          "name": "stderr",
          "output_type": "stream",
          "text": [
            "/usr/local/lib/python3.7/dist-packages/sklearn/metrics/_classification.py:1318: UndefinedMetricWarning: Recall and F-score are ill-defined and being set to 0.0 in labels with no true samples. Use `zero_division` parameter to control this behavior.\n",
            "  _warn_prf(average, modifier, msg_start, len(result))\n",
            "/usr/local/lib/python3.7/dist-packages/sklearn/metrics/_classification.py:1318: UndefinedMetricWarning: Recall and F-score are ill-defined and being set to 0.0 in labels with no true samples. Use `zero_division` parameter to control this behavior.\n",
            "  _warn_prf(average, modifier, msg_start, len(result))\n",
            "/usr/local/lib/python3.7/dist-packages/sklearn/metrics/_classification.py:1318: UndefinedMetricWarning: Recall and F-score are ill-defined and being set to 0.0 in labels with no true samples. Use `zero_division` parameter to control this behavior.\n",
            "  _warn_prf(average, modifier, msg_start, len(result))\n"
          ]
        }
      ],
      "source": [
        "## make model\n",
        "max_words = 64\n",
        "max_seq = 64\n",
        "emb_dim = 100  \n",
        "\n",
        "model = Sequential()\n",
        "model.add(Embedding(max_words, emb_dim, input_length=X_train_tab.shape[1])) \n",
        "model.add(keras.layers.Bidirectional(keras.layers.LSTM(128, return_sequences=True)))\n",
        "model.add(keras.layers.GlobalMaxPool1D())\n",
        "model.add(keras.layers.Dense(64, activation='relu'))\n",
        "model.add(keras.layers.Dropout(0.2))\n",
        "model.add(keras.layers.Dense(7, activation='softmax'))\n",
        "\n",
        "model.compile(loss='categorical_crossentropy', optimizer='adam', metrics=['accuracy'])\n",
        "print(model.summary())\n",
        "\n",
        "\n",
        "## train \n",
        "epochs = 60 \n",
        "batch_size = 64   \n",
        " \n",
        "history = model.fit(X_train_tab, y_train_tab, epochs=epochs, batch_size=batch_size,validation_split=0.1) \n",
        "\n",
        "preds = model.predict(X_test_tab)\n",
        "print(classification_report([np.argmax(c) for c in y_test_tab],[np.argmax(c) for c in preds]))\n",
        "print(confusion_matrix([np.argmax(c) for c in y_test_tab],[np.argmax(c) for c in preds]))  \n",
        "\n",
        " "
      ]
    },
    {
      "cell_type": "markdown",
      "metadata": {
        "id": "GWQIl4qioFOc"
      },
      "source": [
        "WideDeep (TabMlp, TabResnet, TabNet, TabTransformer, SAINT, FTTransformer TabPerceiver, TabFastFormer)"
      ]
    },
    {
      "cell_type": "markdown",
      "metadata": {
        "id": "kkSL9m7yXkaG"
      },
      "source": [
        "https://github.com/jrzaurin/pytorch-widedeep "
      ]
    },
    {
      "cell_type": "code",
      "execution_count": null,
      "metadata": {
        "id": "oMPL88vPIdkA"
      },
      "outputs": [],
      "source": [
        "! pip install pytorch-widedeep\n",
        "! pip install transformers"
      ]
    },
    {
      "cell_type": "code",
      "execution_count": null,
      "metadata": {
        "id": "EZE-S-7aO63G"
      },
      "outputs": [],
      "source": [
        "import transformers"
      ]
    },
    {
      "cell_type": "code",
      "execution_count": null,
      "metadata": {
        "id": "vum5EiT4IhfM"
      },
      "outputs": [],
      "source": [
        "import pytorch_widedeep"
      ]
    },
    {
      "cell_type": "code",
      "execution_count": null,
      "metadata": {
        "id": "A_3t2GHuL126"
      },
      "outputs": [],
      "source": [
        "import torch "
      ]
    },
    {
      "cell_type": "code",
      "execution_count": null,
      "metadata": {
        "id": "m4JWoJoxKRlA"
      },
      "outputs": [],
      "source": [
        "from pytorch_widedeep.models import TabMlp, WideDeep, TabResnet, BasicRNN, TabNet, FTTransformer,TabFastFormer \n",
        "from pytorch_widedeep.preprocessing import TabPreprocessor\n",
        "from pytorch_widedeep import Trainer\n",
        "from pytorch_widedeep.metrics import Accuracy, Recall, Precision "
      ]
    },
    {
      "cell_type": "code",
      "execution_count": null,
      "metadata": {
        "id": "G3Vqu8iYKuzx"
      },
      "outputs": [],
      "source": [
        "# DeepTabular \n",
        "tab_preprocessor = TabPreprocessor(continuous_cols=tabular_cols) \n",
        "X_tab = tab_preprocessor.fit_transform(train_data[tabular_cols]) \n",
        " \n"
      ]
    },
    {
      "cell_type": "code",
      "execution_count": null,
      "metadata": {
        "colab": {
          "base_uri": "https://localhost:8080/"
        },
        "id": "MZ_SsPn_Ms0Y",
        "outputId": "fea4f868-7131-40f2-fc3e-7754a8d33ca1"
      },
      "outputs": [
        {
          "name": "stderr",
          "output_type": "stream",
          "text": [
            "epoch 1: 100%|██████████| 89/89 [00:09<00:00,  9.09it/s, loss=2.04, metrics={'rec': 0.2623}]\n",
            "valid: 100%|██████████| 23/23 [00:00<00:00, 26.05it/s, loss=1.47, metrics={'rec': 0.4278}]\n",
            "epoch 2: 100%|██████████| 89/89 [00:09<00:00,  9.44it/s, loss=1.38, metrics={'rec': 0.4587}]\n",
            "valid: 100%|██████████| 23/23 [00:00<00:00, 26.53it/s, loss=1.19, metrics={'rec': 0.5393}]\n",
            "epoch 3: 100%|██████████| 89/89 [00:09<00:00,  9.39it/s, loss=1.16, metrics={'rec': 0.5437}]\n",
            "valid: 100%|██████████| 23/23 [00:00<00:00, 25.86it/s, loss=1.01, metrics={'rec': 0.6051}]\n",
            "epoch 4: 100%|██████████| 89/89 [00:09<00:00,  9.40it/s, loss=1.03, metrics={'rec': 0.5974}]\n",
            "valid: 100%|██████████| 23/23 [00:00<00:00, 25.89it/s, loss=0.885, metrics={'rec': 0.6586}]\n",
            "epoch 5: 100%|██████████| 89/89 [00:09<00:00,  9.40it/s, loss=0.933, metrics={'rec': 0.631}]\n",
            "valid: 100%|██████████| 23/23 [00:00<00:00, 26.02it/s, loss=0.847, metrics={'rec': 0.6725}]\n",
            "epoch 6: 100%|██████████| 89/89 [00:09<00:00,  9.40it/s, loss=0.87, metrics={'rec': 0.6524}]\n",
            "valid: 100%|██████████| 23/23 [00:00<00:00, 26.03it/s, loss=0.781, metrics={'rec': 0.6865}]\n",
            "epoch 7: 100%|██████████| 89/89 [00:09<00:00,  9.37it/s, loss=0.816, metrics={'rec': 0.6757}]\n",
            "valid: 100%|██████████| 23/23 [00:01<00:00, 22.18it/s, loss=0.77, metrics={'rec': 0.6925}]\n",
            "epoch 8: 100%|██████████| 89/89 [00:09<00:00,  9.36it/s, loss=0.775, metrics={'rec': 0.6937}]\n",
            "valid: 100%|██████████| 23/23 [00:00<00:00, 25.64it/s, loss=0.71, metrics={'rec': 0.7225}]\n",
            "epoch 9: 100%|██████████| 89/89 [00:09<00:00,  9.36it/s, loss=0.738, metrics={'rec': 0.7087}]\n",
            "valid: 100%|██████████| 23/23 [00:00<00:00, 25.60it/s, loss=0.683, metrics={'rec': 0.7247}]\n",
            "epoch 10: 100%|██████████| 89/89 [00:09<00:00,  9.38it/s, loss=0.705, metrics={'rec': 0.7185}]\n",
            "valid: 100%|██████████| 23/23 [00:00<00:00, 25.66it/s, loss=0.654, metrics={'rec': 0.7323}]\n",
            "epoch 11: 100%|██████████| 89/89 [00:09<00:00,  9.32it/s, loss=0.676, metrics={'rec': 0.7308}]\n",
            "valid: 100%|██████████| 23/23 [00:00<00:00, 25.90it/s, loss=0.646, metrics={'rec': 0.7489}]\n",
            "epoch 12: 100%|██████████| 89/89 [00:10<00:00,  8.71it/s, loss=0.655, metrics={'rec': 0.7415}]\n",
            "valid: 100%|██████████| 23/23 [00:01<00:00, 22.11it/s, loss=0.625, metrics={'rec': 0.757}]\n",
            "epoch 13: 100%|██████████| 89/89 [00:10<00:00,  8.72it/s, loss=0.635, metrics={'rec': 0.7486}]\n",
            "valid: 100%|██████████| 23/23 [00:00<00:00, 24.68it/s, loss=0.602, metrics={'rec': 0.7528}]\n",
            "epoch 14: 100%|██████████| 89/89 [00:09<00:00,  8.94it/s, loss=0.619, metrics={'rec': 0.7533}]\n",
            "valid: 100%|██████████| 23/23 [00:01<00:00, 22.20it/s, loss=0.589, metrics={'rec': 0.7684}]\n",
            "epoch 15: 100%|██████████| 89/89 [00:10<00:00,  8.46it/s, loss=0.593, metrics={'rec': 0.767}]\n",
            "valid: 100%|██████████| 23/23 [00:01<00:00, 21.59it/s, loss=0.592, metrics={'rec': 0.7719}]\n",
            "epoch 16: 100%|██████████| 89/89 [00:09<00:00,  8.99it/s, loss=0.591, metrics={'rec': 0.768}]\n",
            "valid: 100%|██████████| 23/23 [00:00<00:00, 25.67it/s, loss=0.583, metrics={'rec': 0.7687}]\n",
            "epoch 17: 100%|██████████| 89/89 [00:09<00:00,  9.32it/s, loss=0.582, metrics={'rec': 0.7697}]\n",
            "valid: 100%|██████████| 23/23 [00:00<00:00, 25.79it/s, loss=0.563, metrics={'rec': 0.7811}]\n",
            "epoch 18: 100%|██████████| 89/89 [00:09<00:00,  9.30it/s, loss=0.567, metrics={'rec': 0.7765}]\n",
            "valid: 100%|██████████| 23/23 [00:00<00:00, 25.50it/s, loss=0.612, metrics={'rec': 0.7531}]\n",
            "epoch 19: 100%|██████████| 89/89 [00:09<00:00,  9.33it/s, loss=0.61, metrics={'rec': 0.7677}]\n",
            "valid: 100%|██████████| 23/23 [00:00<00:00, 25.26it/s, loss=0.596, metrics={'rec': 0.7595}]\n",
            "epoch 20: 100%|██████████| 89/89 [00:09<00:00,  9.29it/s, loss=0.645, metrics={'rec': 0.7556}]\n",
            "valid: 100%|██████████| 23/23 [00:00<00:00, 24.72it/s, loss=0.578, metrics={'rec': 0.7739}]\n",
            "epoch 21: 100%|██████████| 89/89 [00:09<00:00,  9.27it/s, loss=0.577, metrics={'rec': 0.7753}]\n",
            "valid: 100%|██████████| 23/23 [00:00<00:00, 25.23it/s, loss=0.559, metrics={'rec': 0.779}]\n",
            "epoch 22: 100%|██████████| 89/89 [00:09<00:00,  9.22it/s, loss=0.546, metrics={'rec': 0.7868}]\n",
            "valid: 100%|██████████| 23/23 [00:00<00:00, 25.22it/s, loss=0.573, metrics={'rec': 0.7808}]\n",
            "epoch 23: 100%|██████████| 89/89 [00:09<00:00,  9.21it/s, loss=0.538, metrics={'rec': 0.7888}]\n",
            "valid: 100%|██████████| 23/23 [00:01<00:00, 21.40it/s, loss=0.55, metrics={'rec': 0.7812}]\n",
            "epoch 24: 100%|██████████| 89/89 [00:11<00:00,  8.02it/s, loss=0.524, metrics={'rec': 0.7946}]\n",
            "valid: 100%|██████████| 23/23 [00:01<00:00, 21.69it/s, loss=0.526, metrics={'rec': 0.7875}]\n",
            "epoch 25: 100%|██████████| 89/89 [00:09<00:00,  9.03it/s, loss=0.514, metrics={'rec': 0.8003}]\n",
            "valid: 100%|██████████| 23/23 [00:00<00:00, 25.07it/s, loss=0.531, metrics={'rec': 0.7947}]\n",
            "epoch 26: 100%|██████████| 89/89 [00:10<00:00,  8.74it/s, loss=0.507, metrics={'rec': 0.7997}]\n",
            "valid: 100%|██████████| 23/23 [00:01<00:00, 22.04it/s, loss=0.543, metrics={'rec': 0.7943}]\n",
            "epoch 27: 100%|██████████| 89/89 [00:10<00:00,  8.85it/s, loss=0.499, metrics={'rec': 0.8022}]\n",
            "valid: 100%|██████████| 23/23 [00:01<00:00, 22.14it/s, loss=0.526, metrics={'rec': 0.7961}]\n",
            "epoch 28: 100%|██████████| 89/89 [00:09<00:00,  9.01it/s, loss=0.49, metrics={'rec': 0.808}]\n",
            "valid: 100%|██████████| 23/23 [00:00<00:00, 25.07it/s, loss=0.533, metrics={'rec': 0.7969}]\n",
            "epoch 29: 100%|██████████| 89/89 [00:09<00:00,  9.29it/s, loss=0.478, metrics={'rec': 0.8115}]\n",
            "valid: 100%|██████████| 23/23 [00:00<00:00, 25.39it/s, loss=0.517, metrics={'rec': 0.8032}]\n",
            "epoch 30: 100%|██████████| 89/89 [00:09<00:00,  9.31it/s, loss=0.474, metrics={'rec': 0.8135}]\n",
            "valid: 100%|██████████| 23/23 [00:00<00:00, 25.49it/s, loss=0.526, metrics={'rec': 0.8059}]\n",
            "epoch 31: 100%|██████████| 89/89 [00:09<00:00,  9.14it/s, loss=0.473, metrics={'rec': 0.815}]\n",
            "valid: 100%|██████████| 23/23 [00:00<00:00, 25.21it/s, loss=0.535, metrics={'rec': 0.8034}]\n",
            "epoch 32: 100%|██████████| 89/89 [00:09<00:00,  9.31it/s, loss=0.474, metrics={'rec': 0.8178}]\n",
            "valid: 100%|██████████| 23/23 [00:00<00:00, 25.19it/s, loss=0.521, metrics={'rec': 0.8067}]\n",
            "epoch 33: 100%|██████████| 89/89 [00:09<00:00,  9.27it/s, loss=0.465, metrics={'rec': 0.8184}]\n",
            "valid: 100%|██████████| 23/23 [00:00<00:00, 25.12it/s, loss=0.506, metrics={'rec': 0.8071}]\n",
            "epoch 34: 100%|██████████| 89/89 [00:09<00:00,  9.28it/s, loss=0.453, metrics={'rec': 0.8235}]\n",
            "valid: 100%|██████████| 23/23 [00:00<00:00, 25.25it/s, loss=0.511, metrics={'rec': 0.8073}]\n",
            "epoch 35: 100%|██████████| 89/89 [00:09<00:00,  9.29it/s, loss=0.445, metrics={'rec': 0.8275}]\n",
            "valid: 100%|██████████| 23/23 [00:00<00:00, 25.32it/s, loss=0.51, metrics={'rec': 0.8092}]\n",
            "epoch 36: 100%|██████████| 89/89 [00:09<00:00,  9.17it/s, loss=0.447, metrics={'rec': 0.8264}]\n",
            "valid: 100%|██████████| 23/23 [00:01<00:00, 21.71it/s, loss=0.503, metrics={'rec': 0.8032}]\n",
            "epoch 37: 100%|██████████| 89/89 [00:10<00:00,  8.65it/s, loss=0.444, metrics={'rec': 0.8271}]\n",
            "valid: 100%|██████████| 23/23 [00:01<00:00, 17.19it/s, loss=0.5, metrics={'rec': 0.8115}]\n",
            "epoch 38: 100%|██████████| 89/89 [00:10<00:00,  8.87it/s, loss=0.445, metrics={'rec': 0.8283}]\n",
            "valid: 100%|██████████| 23/23 [00:00<00:00, 25.14it/s, loss=0.494, metrics={'rec': 0.8175}]\n",
            "epoch 39: 100%|██████████| 89/89 [00:09<00:00,  9.31it/s, loss=0.43, metrics={'rec': 0.8337}]\n",
            "valid: 100%|██████████| 23/23 [00:00<00:00, 25.30it/s, loss=0.487, metrics={'rec': 0.8091}]\n",
            "epoch 40: 100%|██████████| 89/89 [00:09<00:00,  9.30it/s, loss=0.436, metrics={'rec': 0.8308}]\n",
            "valid: 100%|██████████| 23/23 [00:00<00:00, 24.84it/s, loss=0.464, metrics={'rec': 0.8122}]\n",
            "epoch 41: 100%|██████████| 89/89 [00:09<00:00,  9.27it/s, loss=0.436, metrics={'rec': 0.8306}]\n",
            "valid: 100%|██████████| 23/23 [00:00<00:00, 24.97it/s, loss=0.482, metrics={'rec': 0.8213}]\n",
            "epoch 42: 100%|██████████| 89/89 [00:09<00:00,  9.26it/s, loss=0.421, metrics={'rec': 0.8378}]\n",
            "valid: 100%|██████████| 23/23 [00:00<00:00, 25.36it/s, loss=0.483, metrics={'rec': 0.8191}]\n",
            "epoch 43: 100%|██████████| 89/89 [00:09<00:00,  9.28it/s, loss=0.429, metrics={'rec': 0.8338}]\n",
            "valid: 100%|██████████| 23/23 [00:00<00:00, 25.28it/s, loss=0.465, metrics={'rec': 0.8244}]\n",
            "epoch 44: 100%|██████████| 89/89 [00:09<00:00,  9.26it/s, loss=0.429, metrics={'rec': 0.8334}]\n",
            "valid: 100%|██████████| 23/23 [00:00<00:00, 25.33it/s, loss=0.487, metrics={'rec': 0.8196}]\n",
            "epoch 45: 100%|██████████| 89/89 [00:09<00:00,  9.30it/s, loss=0.417, metrics={'rec': 0.8368}]\n",
            "valid: 100%|██████████| 23/23 [00:00<00:00, 25.23it/s, loss=0.478, metrics={'rec': 0.8225}]\n",
            "epoch 46: 100%|██████████| 89/89 [00:09<00:00,  9.29it/s, loss=0.414, metrics={'rec': 0.8413}]\n",
            "valid: 100%|██████████| 23/23 [00:00<00:00, 25.05it/s, loss=0.489, metrics={'rec': 0.8163}]\n",
            "epoch 47: 100%|██████████| 89/89 [00:09<00:00,  9.21it/s, loss=0.413, metrics={'rec': 0.8395}]\n",
            "valid: 100%|██████████| 23/23 [00:00<00:00, 23.37it/s, loss=0.471, metrics={'rec': 0.8161}]\n",
            "epoch 48: 100%|██████████| 89/89 [00:09<00:00,  9.28it/s, loss=0.412, metrics={'rec': 0.842}]\n",
            "valid: 100%|██████████| 23/23 [00:00<00:00, 24.90it/s, loss=0.47, metrics={'rec': 0.825}]\n",
            "epoch 49: 100%|██████████| 89/89 [00:09<00:00,  9.25it/s, loss=0.409, metrics={'rec': 0.8417}]\n",
            "valid: 100%|██████████| 23/23 [00:00<00:00, 25.21it/s, loss=0.479, metrics={'rec': 0.818}]\n",
            "epoch 50: 100%|██████████| 89/89 [00:09<00:00,  9.28it/s, loss=0.402, metrics={'rec': 0.8437}]\n",
            "valid: 100%|██████████| 23/23 [00:00<00:00, 25.52it/s, loss=0.469, metrics={'rec': 0.8251}]\n"
          ]
        }
      ],
      "source": [
        "tff = TabFastFormer(\n",
        "    column_idx=tab_preprocessor.column_idx,\n",
        "    continuous_cols=tabular_cols,\n",
        "  \n",
        ")\n",
        "model = WideDeep(deeptabular=tff , pred_dim=7)\n",
        "trainer = Trainer(model, objective=\"categorical_cross_entropy\", metrics=[(Recall)])\n",
        "trainer.fit(X_tab=X_tab, target=[np.argmax(c) for c in y_train_tab], n_epochs=50, batch_size=256, val_split=0.2)  "
      ]
    },
    {
      "cell_type": "code",
      "execution_count": null,
      "metadata": {
        "colab": {
          "base_uri": "https://localhost:8080/"
        },
        "id": "pfVvIYOFWnwn",
        "outputId": "9d224df0-bb62-4ee7-bdd5-c4d03c9003eb"
      },
      "outputs": [
        {
          "name": "stderr",
          "output_type": "stream",
          "text": [
            "predict: 100%|██████████| 7/7 [00:00<00:00, 16.16it/s]\n",
            "/usr/local/lib/python3.7/dist-packages/sklearn/metrics/_classification.py:1318: UndefinedMetricWarning: Recall and F-score are ill-defined and being set to 0.0 in labels with no true samples. Use `zero_division` parameter to control this behavior.\n",
            "  _warn_prf(average, modifier, msg_start, len(result))\n"
          ]
        },
        {
          "name": "stdout",
          "output_type": "stream",
          "text": [
            "              precision    recall  f1-score   support\n",
            "\n",
            "           0       0.19      0.84      0.31        25\n",
            "           1       0.84      0.74      0.79       119\n",
            "           2       0.87      0.69      0.77       383\n",
            "           3       0.88      0.77      0.82       243\n",
            "           4       0.36      0.95      0.52        19\n",
            "           5       0.82      0.80      0.81       758\n",
            "           6       0.00      0.00      0.00         0\n",
            "\n",
            "    accuracy                           0.77      1547\n",
            "   macro avg       0.57      0.68      0.57      1547\n",
            "weighted avg       0.83      0.77      0.79      1547\n",
            "\n",
            "[[ 21   0   1   0   3   0   0]\n",
            " [  6  88   0   0   2  23   0]\n",
            " [ 30   3 265   1   4  75   5]\n",
            " [  7   0   3 187   5  35   6]\n",
            " [  0   0   1   0  18   0   0]\n",
            " [ 45  14  36  24  18 606  15]\n",
            " [  0   0   0   0   0   0   0]]\n"
          ]
        },
        {
          "name": "stderr",
          "output_type": "stream",
          "text": [
            "/usr/local/lib/python3.7/dist-packages/sklearn/metrics/_classification.py:1318: UndefinedMetricWarning: Recall and F-score are ill-defined and being set to 0.0 in labels with no true samples. Use `zero_division` parameter to control this behavior.\n",
            "  _warn_prf(average, modifier, msg_start, len(result))\n",
            "/usr/local/lib/python3.7/dist-packages/sklearn/metrics/_classification.py:1318: UndefinedMetricWarning: Recall and F-score are ill-defined and being set to 0.0 in labels with no true samples. Use `zero_division` parameter to control this behavior.\n",
            "  _warn_prf(average, modifier, msg_start, len(result))\n"
          ]
        }
      ],
      "source": [
        "preds = trainer.predict(X_tab = tab_preprocessor.transform(test_data[tabular_cols])) \n",
        "\n",
        "print(classification_report([np.argmax(c) for c in y_test_tab],preds))\n",
        "print(confusion_matrix([np.argmax(c) for c in y_test_tab],preds))  "
      ]
    },
    {
      "cell_type": "code",
      "execution_count": null,
      "metadata": {
        "id": "mkhmy0BMWqpM"
      },
      "outputs": [],
      "source": [
        ""
      ]
    },
    {
      "cell_type": "code",
      "execution_count": null,
      "metadata": {
        "colab": {
          "base_uri": "https://localhost:8080/"
        },
        "id": "HuuQKk0J6nrM",
        "outputId": "a53f539a-4482-44c7-d5b1-54ff43fa9fe7"
      },
      "outputs": [
        {
          "name": "stderr",
          "output_type": "stream",
          "text": [
            "epoch 1: 100%|██████████| 89/89 [00:05<00:00, 15.60it/s, loss=1.44, metrics={'rec': 0.4412}]\n",
            "valid: 100%|██████████| 23/23 [00:00<00:00, 25.91it/s, loss=1.18, metrics={'rec': 0.5441}]\n",
            "epoch 2: 100%|██████████| 89/89 [00:05<00:00, 15.15it/s, loss=1.12, metrics={'rec': 0.5709}]\n",
            "valid: 100%|██████████| 23/23 [00:00<00:00, 26.04it/s, loss=1.02, metrics={'rec': 0.6183}]\n",
            "epoch 3: 100%|██████████| 89/89 [00:05<00:00, 16.89it/s, loss=0.991, metrics={'rec': 0.6216}]\n",
            "valid: 100%|██████████| 23/23 [00:00<00:00, 30.56it/s, loss=0.875, metrics={'rec': 0.6614}]\n",
            "epoch 4: 100%|██████████| 89/89 [00:05<00:00, 16.89it/s, loss=0.887, metrics={'rec': 0.6585}]\n",
            "valid: 100%|██████████| 23/23 [00:00<00:00, 30.91it/s, loss=0.786, metrics={'rec': 0.7026}]\n",
            "epoch 5: 100%|██████████| 89/89 [00:05<00:00, 17.26it/s, loss=0.82, metrics={'rec': 0.684}]\n",
            "valid: 100%|██████████| 23/23 [00:00<00:00, 30.95it/s, loss=0.73, metrics={'rec': 0.7187}]\n",
            "epoch 6: 100%|██████████| 89/89 [00:05<00:00, 17.23it/s, loss=0.752, metrics={'rec': 0.7095}]\n",
            "valid: 100%|██████████| 23/23 [00:00<00:00, 31.55it/s, loss=0.713, metrics={'rec': 0.7351}]\n",
            "epoch 7: 100%|██████████| 89/89 [00:05<00:00, 17.21it/s, loss=0.711, metrics={'rec': 0.7239}]\n",
            "valid: 100%|██████████| 23/23 [00:00<00:00, 31.48it/s, loss=0.679, metrics={'rec': 0.7497}]\n",
            "epoch 8: 100%|██████████| 89/89 [00:05<00:00, 17.19it/s, loss=0.67, metrics={'rec': 0.7428}]\n",
            "valid: 100%|██████████| 23/23 [00:00<00:00, 30.88it/s, loss=0.62, metrics={'rec': 0.7649}]\n",
            "epoch 9: 100%|██████████| 89/89 [00:05<00:00, 17.22it/s, loss=0.626, metrics={'rec': 0.7581}]\n",
            "valid: 100%|██████████| 23/23 [00:00<00:00, 31.09it/s, loss=0.604, metrics={'rec': 0.7757}]\n",
            "epoch 10: 100%|██████████| 89/89 [00:05<00:00, 17.20it/s, loss=0.595, metrics={'rec': 0.7699}]\n",
            "valid: 100%|██████████| 23/23 [00:00<00:00, 31.03it/s, loss=0.596, metrics={'rec': 0.7858}]\n",
            "epoch 11: 100%|██████████| 89/89 [00:05<00:00, 17.23it/s, loss=0.583, metrics={'rec': 0.7748}]\n",
            "valid: 100%|██████████| 23/23 [00:00<00:00, 30.82it/s, loss=0.575, metrics={'rec': 0.7906}]\n",
            "epoch 12: 100%|██████████| 89/89 [00:05<00:00, 17.15it/s, loss=0.555, metrics={'rec': 0.7844}]\n",
            "valid: 100%|██████████| 23/23 [00:00<00:00, 30.98it/s, loss=0.537, metrics={'rec': 0.8015}]\n",
            "epoch 13: 100%|██████████| 89/89 [00:05<00:00, 17.13it/s, loss=0.523, metrics={'rec': 0.7988}]\n",
            "valid: 100%|██████████| 23/23 [00:00<00:00, 30.99it/s, loss=0.574, metrics={'rec': 0.7993}]\n",
            "epoch 14: 100%|██████████| 89/89 [00:05<00:00, 17.23it/s, loss=0.52, metrics={'rec': 0.8005}]\n",
            "valid: 100%|██████████| 23/23 [00:00<00:00, 30.49it/s, loss=0.578, metrics={'rec': 0.8004}]\n",
            "epoch 15: 100%|██████████| 89/89 [00:05<00:00, 16.74it/s, loss=0.505, metrics={'rec': 0.8044}]\n",
            "valid: 100%|██████████| 23/23 [00:00<00:00, 30.68it/s, loss=0.547, metrics={'rec': 0.81}]\n",
            "epoch 16: 100%|██████████| 89/89 [00:05<00:00, 16.29it/s, loss=0.484, metrics={'rec': 0.8119}]\n",
            "valid: 100%|██████████| 23/23 [00:00<00:00, 29.51it/s, loss=0.581, metrics={'rec': 0.8045}]\n",
            "epoch 17: 100%|██████████| 89/89 [00:05<00:00, 17.06it/s, loss=0.465, metrics={'rec': 0.8196}]\n",
            "valid: 100%|██████████| 23/23 [00:00<00:00, 30.18it/s, loss=0.581, metrics={'rec': 0.8097}]\n",
            "epoch 18: 100%|██████████| 89/89 [00:05<00:00, 17.01it/s, loss=0.463, metrics={'rec': 0.822}]\n",
            "valid: 100%|██████████| 23/23 [00:00<00:00, 30.66it/s, loss=0.532, metrics={'rec': 0.8119}]\n",
            "epoch 19: 100%|██████████| 89/89 [00:05<00:00, 15.31it/s, loss=0.446, metrics={'rec': 0.8279}]\n",
            "valid: 100%|██████████| 23/23 [00:00<00:00, 30.80it/s, loss=0.553, metrics={'rec': 0.8184}]\n",
            "epoch 20: 100%|██████████| 89/89 [00:05<00:00, 17.15it/s, loss=0.442, metrics={'rec': 0.8306}]\n",
            "valid: 100%|██████████| 23/23 [00:00<00:00, 30.15it/s, loss=0.557, metrics={'rec': 0.8134}]\n",
            "epoch 21: 100%|██████████| 89/89 [00:05<00:00, 17.11it/s, loss=0.432, metrics={'rec': 0.8331}]\n",
            "valid: 100%|██████████| 23/23 [00:00<00:00, 30.10it/s, loss=0.552, metrics={'rec': 0.8184}]\n",
            "epoch 22: 100%|██████████| 89/89 [00:05<00:00, 17.10it/s, loss=0.424, metrics={'rec': 0.8394}]\n",
            "valid: 100%|██████████| 23/23 [00:00<00:00, 30.55it/s, loss=0.539, metrics={'rec': 0.8181}]\n",
            "epoch 23: 100%|██████████| 89/89 [00:05<00:00, 16.99it/s, loss=0.406, metrics={'rec': 0.8443}]\n",
            "valid: 100%|██████████| 23/23 [00:00<00:00, 29.99it/s, loss=0.517, metrics={'rec': 0.8245}]\n",
            "epoch 24: 100%|██████████| 89/89 [00:05<00:00, 17.12it/s, loss=0.412, metrics={'rec': 0.8436}]\n",
            "valid: 100%|██████████| 23/23 [00:00<00:00, 28.32it/s, loss=0.529, metrics={'rec': 0.8271}]\n",
            "epoch 25: 100%|██████████| 89/89 [00:05<00:00, 16.85it/s, loss=0.407, metrics={'rec': 0.8443}]\n",
            "valid: 100%|██████████| 23/23 [00:00<00:00, 29.66it/s, loss=0.523, metrics={'rec': 0.8234}]\n",
            "epoch 26: 100%|██████████| 89/89 [00:05<00:00, 17.11it/s, loss=0.394, metrics={'rec': 0.8459}]\n",
            "valid: 100%|██████████| 23/23 [00:00<00:00, 30.61it/s, loss=0.532, metrics={'rec': 0.8294}]\n",
            "epoch 27: 100%|██████████| 89/89 [00:05<00:00, 17.07it/s, loss=0.393, metrics={'rec': 0.849}]\n",
            "valid: 100%|██████████| 23/23 [00:00<00:00, 30.28it/s, loss=0.516, metrics={'rec': 0.8274}]\n",
            "epoch 28: 100%|██████████| 89/89 [00:05<00:00, 17.18it/s, loss=0.377, metrics={'rec': 0.8559}]\n",
            "valid: 100%|██████████| 23/23 [00:00<00:00, 30.38it/s, loss=0.553, metrics={'rec': 0.8269}]\n",
            "epoch 29: 100%|██████████| 89/89 [00:05<00:00, 17.12it/s, loss=0.378, metrics={'rec': 0.855}]\n",
            "valid: 100%|██████████| 23/23 [00:00<00:00, 30.20it/s, loss=0.53, metrics={'rec': 0.8294}]\n",
            "epoch 30: 100%|██████████| 89/89 [00:05<00:00, 17.15it/s, loss=0.375, metrics={'rec': 0.8565}]\n",
            "valid: 100%|██████████| 23/23 [00:00<00:00, 30.10it/s, loss=0.498, metrics={'rec': 0.8302}]\n",
            "epoch 31: 100%|██████████| 89/89 [00:05<00:00, 17.09it/s, loss=0.376, metrics={'rec': 0.8562}]\n",
            "valid: 100%|██████████| 23/23 [00:00<00:00, 29.91it/s, loss=0.484, metrics={'rec': 0.8342}]\n",
            "epoch 32: 100%|██████████| 89/89 [00:05<00:00, 16.99it/s, loss=0.36, metrics={'rec': 0.8637}]\n",
            "valid: 100%|██████████| 23/23 [00:00<00:00, 30.31it/s, loss=0.511, metrics={'rec': 0.8403}]\n",
            "epoch 33: 100%|██████████| 89/89 [00:05<00:00, 17.10it/s, loss=0.356, metrics={'rec': 0.8649}]\n",
            "valid: 100%|██████████| 23/23 [00:00<00:00, 30.22it/s, loss=0.517, metrics={'rec': 0.8298}]\n",
            "epoch 34: 100%|██████████| 89/89 [00:05<00:00, 17.13it/s, loss=0.351, metrics={'rec': 0.8666}]\n",
            "valid: 100%|██████████| 23/23 [00:00<00:00, 30.85it/s, loss=0.511, metrics={'rec': 0.8406}]\n",
            "epoch 35: 100%|██████████| 89/89 [00:05<00:00, 17.12it/s, loss=0.347, metrics={'rec': 0.8648}]\n",
            "valid: 100%|██████████| 23/23 [00:00<00:00, 30.85it/s, loss=0.509, metrics={'rec': 0.8386}]\n",
            "epoch 36: 100%|██████████| 89/89 [00:05<00:00, 17.11it/s, loss=0.347, metrics={'rec': 0.8677}]\n",
            "valid: 100%|██████████| 23/23 [00:00<00:00, 30.81it/s, loss=0.484, metrics={'rec': 0.8423}]\n",
            "epoch 37: 100%|██████████| 89/89 [00:05<00:00, 17.17it/s, loss=0.339, metrics={'rec': 0.8716}]\n",
            "valid: 100%|██████████| 23/23 [00:00<00:00, 30.18it/s, loss=0.548, metrics={'rec': 0.8337}]\n",
            "epoch 38: 100%|██████████| 89/89 [00:05<00:00, 17.10it/s, loss=0.34, metrics={'rec': 0.8714}]\n",
            "valid: 100%|██████████| 23/23 [00:00<00:00, 30.05it/s, loss=0.504, metrics={'rec': 0.8429}]\n",
            "epoch 39: 100%|██████████| 89/89 [00:05<00:00, 16.69it/s, loss=0.334, metrics={'rec': 0.8727}]\n",
            "valid: 100%|██████████| 23/23 [00:00<00:00, 26.27it/s, loss=0.522, metrics={'rec': 0.837}]\n",
            "epoch 40: 100%|██████████| 89/89 [00:06<00:00, 14.81it/s, loss=0.329, metrics={'rec': 0.8755}]\n",
            "valid: 100%|██████████| 23/23 [00:01<00:00, 18.40it/s, loss=0.551, metrics={'rec': 0.833}]\n",
            "epoch 41: 100%|██████████| 89/89 [00:05<00:00, 16.57it/s, loss=0.332, metrics={'rec': 0.8718}]\n",
            "valid: 100%|██████████| 23/23 [00:00<00:00, 30.05it/s, loss=0.506, metrics={'rec': 0.8423}]\n",
            "epoch 42: 100%|██████████| 89/89 [00:05<00:00, 17.06it/s, loss=0.319, metrics={'rec': 0.8788}]\n",
            "valid: 100%|██████████| 23/23 [00:00<00:00, 30.55it/s, loss=0.535, metrics={'rec': 0.8377}]\n",
            "epoch 43: 100%|██████████| 89/89 [00:05<00:00, 17.03it/s, loss=0.319, metrics={'rec': 0.8798}]\n",
            "valid: 100%|██████████| 23/23 [00:00<00:00, 30.03it/s, loss=0.541, metrics={'rec': 0.839}]\n",
            "epoch 44: 100%|██████████| 89/89 [00:05<00:00, 17.05it/s, loss=0.321, metrics={'rec': 0.8781}]\n",
            "valid: 100%|██████████| 23/23 [00:00<00:00, 30.52it/s, loss=0.543, metrics={'rec': 0.8415}]\n",
            "epoch 45: 100%|██████████| 89/89 [00:05<00:00, 16.72it/s, loss=0.316, metrics={'rec': 0.8798}]\n",
            "valid: 100%|██████████| 23/23 [00:00<00:00, 30.46it/s, loss=0.513, metrics={'rec': 0.8418}]\n",
            "epoch 46: 100%|██████████| 89/89 [00:05<00:00, 17.03it/s, loss=0.313, metrics={'rec': 0.8827}]\n",
            "valid: 100%|██████████| 23/23 [00:00<00:00, 30.74it/s, loss=0.558, metrics={'rec': 0.8365}]\n",
            "epoch 47: 100%|██████████| 89/89 [00:05<00:00, 17.08it/s, loss=0.313, metrics={'rec': 0.8809}]\n",
            "valid: 100%|██████████| 23/23 [00:00<00:00, 30.53it/s, loss=0.509, metrics={'rec': 0.8439}]\n",
            "epoch 48: 100%|██████████| 89/89 [00:05<00:00, 17.06it/s, loss=0.309, metrics={'rec': 0.8833}]\n",
            "valid: 100%|██████████| 23/23 [00:00<00:00, 30.86it/s, loss=0.531, metrics={'rec': 0.8402}]\n",
            "epoch 49: 100%|██████████| 89/89 [00:05<00:00, 17.06it/s, loss=0.304, metrics={'rec': 0.8854}]\n",
            "valid: 100%|██████████| 23/23 [00:00<00:00, 30.73it/s, loss=0.53, metrics={'rec': 0.8501}]\n",
            "epoch 50: 100%|██████████| 89/89 [00:05<00:00, 17.02it/s, loss=0.293, metrics={'rec': 0.8891}]\n",
            "valid: 100%|██████████| 23/23 [00:00<00:00, 29.83it/s, loss=0.518, metrics={'rec': 0.8411}]\n"
          ]
        }
      ],
      "source": [
        "ftt = FTTransformer(column_idx=tab_preprocessor.column_idx,  continuous_cols=tabular_cols)\n",
        "model = WideDeep(deeptabular=ftt, pred_dim=7) \n",
        "\n",
        "trainer = Trainer(model, objective=\"categorical_cross_entropy\", metrics=[(Recall)])\n",
        "trainer.fit(X_tab=X_tab, target=[np.argmax(c) for c in y_train_tab], n_epochs=50, batch_size=256, val_split=0.2)  "
      ]
    },
    {
      "cell_type": "code",
      "execution_count": null,
      "metadata": {
        "colab": {
          "base_uri": "https://localhost:8080/"
        },
        "id": "ySwbdymXWorb",
        "outputId": "6c7255ea-2741-42a8-fb4f-9bf60c0a8c48"
      },
      "outputs": [
        {
          "name": "stderr",
          "output_type": "stream",
          "text": [
            "predict: 100%|██████████| 7/7 [00:00<00:00, 20.75it/s]\n"
          ]
        },
        {
          "name": "stdout",
          "output_type": "stream",
          "text": [
            "              precision    recall  f1-score   support\n",
            "\n",
            "           0       0.30      0.96      0.46        25\n",
            "           1       0.88      0.84      0.86       119\n",
            "           2       0.90      0.71      0.80       383\n",
            "           3       0.90      0.81      0.86       243\n",
            "           4       0.23      0.89      0.37        19\n",
            "           5       0.84      0.83      0.83       758\n",
            "           6       0.00      0.00      0.00         0\n",
            "\n",
            "    accuracy                           0.80      1547\n",
            "   macro avg       0.58      0.72      0.60      1547\n",
            "weighted avg       0.85      0.80      0.82      1547\n",
            "\n",
            "[[ 24   0   0   0   1   0   0]\n",
            " [  1 100   0   0   4  14   0]\n",
            " [ 14   1 273   4  18  71   2]\n",
            " [  4   0   3 198   2  34   2]\n",
            " [  0   0   0   0  17   2   0]\n",
            " [ 36  12  27  18  31 626   8]\n",
            " [  0   0   0   0   0   0   0]]\n"
          ]
        },
        {
          "name": "stderr",
          "output_type": "stream",
          "text": [
            "/usr/local/lib/python3.7/dist-packages/sklearn/metrics/_classification.py:1318: UndefinedMetricWarning: Recall and F-score are ill-defined and being set to 0.0 in labels with no true samples. Use `zero_division` parameter to control this behavior.\n",
            "  _warn_prf(average, modifier, msg_start, len(result))\n",
            "/usr/local/lib/python3.7/dist-packages/sklearn/metrics/_classification.py:1318: UndefinedMetricWarning: Recall and F-score are ill-defined and being set to 0.0 in labels with no true samples. Use `zero_division` parameter to control this behavior.\n",
            "  _warn_prf(average, modifier, msg_start, len(result))\n",
            "/usr/local/lib/python3.7/dist-packages/sklearn/metrics/_classification.py:1318: UndefinedMetricWarning: Recall and F-score are ill-defined and being set to 0.0 in labels with no true samples. Use `zero_division` parameter to control this behavior.\n",
            "  _warn_prf(average, modifier, msg_start, len(result))\n"
          ]
        }
      ],
      "source": [
        "preds = trainer.predict(X_tab = tab_preprocessor.transform(test_data[tabular_cols])) \n",
        "\n",
        "print(classification_report([np.argmax(c) for c in y_test_tab],preds))\n",
        "print(confusion_matrix([np.argmax(c) for c in y_test_tab],preds))   "
      ]
    },
    {
      "cell_type": "code",
      "execution_count": null,
      "metadata": {
        "id": "xVYAbISzWpqe"
      },
      "outputs": [],
      "source": [
        "tabresnet = TabResnet(\n",
        "    column_idx=tab_preprocessor.column_idx,\n",
        "    continuous_cols=tabular_cols,\n",
        "    blocks_dims=[200, 100, 100],\n",
        "    mlp_hidden_dims=[100, 50],\n",
        ")\n",
        "model = WideDeep(deeptabular=tabresnet, pred_dim=7) "
      ]
    },
    {
      "cell_type": "code",
      "execution_count": null,
      "metadata": {
        "colab": {
          "base_uri": "https://localhost:8080/"
        },
        "id": "4a4d56yuLW4G",
        "outputId": "d5fa3120-f528-484e-9ac5-eafa4a223a07"
      },
      "outputs": [
        {
          "name": "stderr",
          "output_type": "stream",
          "text": [
            "epoch 1: 100%|██████████| 89/89 [00:03<00:00, 25.78it/s, loss=0.304, metrics={'rec': 0.8831}]\n",
            "valid: 100%|██████████| 23/23 [00:00<00:00, 33.53it/s, loss=0.512, metrics={'rec': 0.8356}]\n",
            "epoch 2: 100%|██████████| 89/89 [00:03<00:00, 27.36it/s, loss=0.305, metrics={'rec': 0.8816}]\n",
            "valid: 100%|██████████| 23/23 [00:00<00:00, 33.51it/s, loss=0.513, metrics={'rec': 0.8362}]\n",
            "epoch 3: 100%|██████████| 89/89 [00:02<00:00, 31.21it/s, loss=0.295, metrics={'rec': 0.8878}]\n",
            "valid: 100%|██████████| 23/23 [00:00<00:00, 31.25it/s, loss=0.489, metrics={'rec': 0.8388}]\n",
            "epoch 4: 100%|██████████| 89/89 [00:02<00:00, 29.82it/s, loss=0.285, metrics={'rec': 0.8908}]\n",
            "valid: 100%|██████████| 23/23 [00:00<00:00, 40.45it/s, loss=0.503, metrics={'rec': 0.8371}]\n",
            "epoch 5: 100%|██████████| 89/89 [00:02<00:00, 35.94it/s, loss=0.288, metrics={'rec': 0.89}]\n",
            "valid: 100%|██████████| 23/23 [00:00<00:00, 39.81it/s, loss=0.47, metrics={'rec': 0.8433}]\n",
            "epoch 6: 100%|██████████| 89/89 [00:02<00:00, 38.25it/s, loss=0.278, metrics={'rec': 0.8942}]\n",
            "valid: 100%|██████████| 23/23 [00:00<00:00, 42.84it/s, loss=0.515, metrics={'rec': 0.8424}]\n",
            "epoch 7: 100%|██████████| 89/89 [00:02<00:00, 33.67it/s, loss=0.282, metrics={'rec': 0.8907}]\n",
            "valid: 100%|██████████| 23/23 [00:00<00:00, 39.98it/s, loss=0.497, metrics={'rec': 0.8418}]\n",
            "epoch 8: 100%|██████████| 89/89 [00:02<00:00, 37.09it/s, loss=0.283, metrics={'rec': 0.893}]\n",
            "valid: 100%|██████████| 23/23 [00:00<00:00, 40.21it/s, loss=0.508, metrics={'rec': 0.8395}]\n",
            "epoch 9: 100%|██████████| 89/89 [00:02<00:00, 37.63it/s, loss=0.278, metrics={'rec': 0.8925}]\n",
            "valid: 100%|██████████| 23/23 [00:00<00:00, 41.98it/s, loss=0.503, metrics={'rec': 0.8417}]\n",
            "epoch 10: 100%|██████████| 89/89 [00:02<00:00, 42.78it/s, loss=0.28, metrics={'rec': 0.8937}]\n",
            "valid: 100%|██████████| 23/23 [00:00<00:00, 49.85it/s, loss=0.512, metrics={'rec': 0.8382}]\n",
            "epoch 11: 100%|██████████| 89/89 [00:01<00:00, 49.24it/s, loss=0.276, metrics={'rec': 0.8936}]\n",
            "valid: 100%|██████████| 23/23 [00:00<00:00, 51.29it/s, loss=0.537, metrics={'rec': 0.8413}]\n",
            "epoch 12: 100%|██████████| 89/89 [00:01<00:00, 49.86it/s, loss=0.274, metrics={'rec': 0.895}]\n",
            "valid: 100%|██████████| 23/23 [00:00<00:00, 50.13it/s, loss=0.57, metrics={'rec': 0.8399}]\n",
            "epoch 13: 100%|██████████| 89/89 [00:01<00:00, 48.44it/s, loss=0.268, metrics={'rec': 0.8987}]\n",
            "valid: 100%|██████████| 23/23 [00:00<00:00, 51.03it/s, loss=0.522, metrics={'rec': 0.8372}]\n",
            "epoch 14: 100%|██████████| 89/89 [00:01<00:00, 48.70it/s, loss=0.267, metrics={'rec': 0.8955}]\n",
            "valid: 100%|██████████| 23/23 [00:00<00:00, 48.93it/s, loss=0.514, metrics={'rec': 0.8422}]\n",
            "epoch 15: 100%|██████████| 89/89 [00:01<00:00, 49.15it/s, loss=0.269, metrics={'rec': 0.8969}]\n",
            "valid: 100%|██████████| 23/23 [00:00<00:00, 50.55it/s, loss=0.548, metrics={'rec': 0.8389}]\n",
            "epoch 16: 100%|██████████| 89/89 [00:01<00:00, 48.98it/s, loss=0.267, metrics={'rec': 0.8983}]\n",
            "valid: 100%|██████████| 23/23 [00:00<00:00, 50.44it/s, loss=0.515, metrics={'rec': 0.8431}]\n",
            "epoch 17: 100%|██████████| 89/89 [00:01<00:00, 49.13it/s, loss=0.266, metrics={'rec': 0.8993}]\n",
            "valid: 100%|██████████| 23/23 [00:00<00:00, 50.12it/s, loss=0.51, metrics={'rec': 0.8419}]\n",
            "epoch 18: 100%|██████████| 89/89 [00:01<00:00, 49.66it/s, loss=0.274, metrics={'rec': 0.8946}]\n",
            "valid: 100%|██████████| 23/23 [00:00<00:00, 51.54it/s, loss=0.484, metrics={'rec': 0.8458}]\n",
            "epoch 19: 100%|██████████| 89/89 [00:01<00:00, 50.07it/s, loss=0.262, metrics={'rec': 0.8997}]\n",
            "valid: 100%|██████████| 23/23 [00:00<00:00, 50.05it/s, loss=0.501, metrics={'rec': 0.842}]\n",
            "epoch 20: 100%|██████████| 89/89 [00:01<00:00, 49.70it/s, loss=0.253, metrics={'rec': 0.9038}]\n",
            "valid: 100%|██████████| 23/23 [00:00<00:00, 50.44it/s, loss=0.554, metrics={'rec': 0.8403}]\n",
            "epoch 21: 100%|██████████| 89/89 [00:01<00:00, 49.23it/s, loss=0.266, metrics={'rec': 0.8995}]\n",
            "valid: 100%|██████████| 23/23 [00:00<00:00, 49.80it/s, loss=0.568, metrics={'rec': 0.8341}]\n",
            "epoch 22: 100%|██████████| 89/89 [00:01<00:00, 48.53it/s, loss=0.268, metrics={'rec': 0.899}]\n",
            "valid: 100%|██████████| 23/23 [00:00<00:00, 50.15it/s, loss=0.54, metrics={'rec': 0.8408}]\n",
            "epoch 23: 100%|██████████| 89/89 [00:01<00:00, 48.96it/s, loss=0.261, metrics={'rec': 0.8989}]\n",
            "valid: 100%|██████████| 23/23 [00:00<00:00, 48.54it/s, loss=0.535, metrics={'rec': 0.8368}]\n",
            "epoch 24: 100%|██████████| 89/89 [00:01<00:00, 48.78it/s, loss=0.259, metrics={'rec': 0.9016}]\n",
            "valid: 100%|██████████| 23/23 [00:00<00:00, 49.93it/s, loss=0.533, metrics={'rec': 0.8387}]\n",
            "epoch 25: 100%|██████████| 89/89 [00:01<00:00, 49.78it/s, loss=0.251, metrics={'rec': 0.9014}]\n",
            "valid: 100%|██████████| 23/23 [00:00<00:00, 50.54it/s, loss=0.536, metrics={'rec': 0.8401}]\n",
            "epoch 26: 100%|██████████| 89/89 [00:01<00:00, 48.68it/s, loss=0.247, metrics={'rec': 0.9046}]\n",
            "valid: 100%|██████████| 23/23 [00:00<00:00, 48.51it/s, loss=0.572, metrics={'rec': 0.8367}]\n",
            "epoch 27: 100%|██████████| 89/89 [00:01<00:00, 48.51it/s, loss=0.253, metrics={'rec': 0.9026}]\n",
            "valid: 100%|██████████| 23/23 [00:00<00:00, 50.61it/s, loss=0.513, metrics={'rec': 0.8394}]\n",
            "epoch 28: 100%|██████████| 89/89 [00:01<00:00, 48.73it/s, loss=0.254, metrics={'rec': 0.9028}]\n",
            "valid: 100%|██████████| 23/23 [00:00<00:00, 49.81it/s, loss=0.513, metrics={'rec': 0.8445}]\n",
            "epoch 29: 100%|██████████| 89/89 [00:01<00:00, 48.79it/s, loss=0.252, metrics={'rec': 0.9034}]\n",
            "valid: 100%|██████████| 23/23 [00:00<00:00, 49.22it/s, loss=0.583, metrics={'rec': 0.8387}]\n",
            "epoch 30: 100%|██████████| 89/89 [00:01<00:00, 48.66it/s, loss=0.248, metrics={'rec': 0.9036}]\n",
            "valid: 100%|██████████| 23/23 [00:00<00:00, 50.04it/s, loss=0.566, metrics={'rec': 0.842}]\n",
            "epoch 31: 100%|██████████| 89/89 [00:01<00:00, 49.21it/s, loss=0.246, metrics={'rec': 0.9077}]\n",
            "valid: 100%|██████████| 23/23 [00:00<00:00, 49.99it/s, loss=0.524, metrics={'rec': 0.8389}]\n",
            "epoch 32: 100%|██████████| 89/89 [00:01<00:00, 48.61it/s, loss=0.247, metrics={'rec': 0.9055}]\n",
            "valid: 100%|██████████| 23/23 [00:00<00:00, 50.14it/s, loss=0.573, metrics={'rec': 0.841}]\n",
            "epoch 33: 100%|██████████| 89/89 [00:01<00:00, 48.95it/s, loss=0.244, metrics={'rec': 0.9068}]\n",
            "valid: 100%|██████████| 23/23 [00:00<00:00, 49.92it/s, loss=0.567, metrics={'rec': 0.8394}]\n",
            "epoch 34: 100%|██████████| 89/89 [00:01<00:00, 48.59it/s, loss=0.243, metrics={'rec': 0.9074}]\n",
            "valid: 100%|██████████| 23/23 [00:00<00:00, 49.54it/s, loss=0.576, metrics={'rec': 0.838}]\n",
            "epoch 35: 100%|██████████| 89/89 [00:01<00:00, 48.32it/s, loss=0.241, metrics={'rec': 0.9078}]\n",
            "valid: 100%|██████████| 23/23 [00:00<00:00, 50.27it/s, loss=0.536, metrics={'rec': 0.8433}]\n",
            "epoch 36: 100%|██████████| 89/89 [00:01<00:00, 48.71it/s, loss=0.246, metrics={'rec': 0.9079}]\n",
            "valid: 100%|██████████| 23/23 [00:00<00:00, 49.31it/s, loss=0.557, metrics={'rec': 0.8408}]\n",
            "epoch 37: 100%|██████████| 89/89 [00:01<00:00, 48.56it/s, loss=0.24, metrics={'rec': 0.9066}]\n",
            "valid: 100%|██████████| 23/23 [00:00<00:00, 49.98it/s, loss=0.547, metrics={'rec': 0.8454}]\n",
            "epoch 38: 100%|██████████| 89/89 [00:01<00:00, 48.73it/s, loss=0.239, metrics={'rec': 0.9099}]\n",
            "valid: 100%|██████████| 23/23 [00:00<00:00, 49.84it/s, loss=0.547, metrics={'rec': 0.8429}]\n",
            "epoch 39: 100%|██████████| 89/89 [00:01<00:00, 48.49it/s, loss=0.242, metrics={'rec': 0.9076}]\n",
            "valid: 100%|██████████| 23/23 [00:00<00:00, 51.27it/s, loss=0.575, metrics={'rec': 0.8375}]\n",
            "epoch 40: 100%|██████████| 89/89 [00:01<00:00, 47.95it/s, loss=0.241, metrics={'rec': 0.9077}]\n",
            "valid: 100%|██████████| 23/23 [00:00<00:00, 49.09it/s, loss=0.567, metrics={'rec': 0.8408}]\n",
            "epoch 41: 100%|██████████| 89/89 [00:02<00:00, 42.31it/s, loss=0.241, metrics={'rec': 0.9072}]\n",
            "valid: 100%|██████████| 23/23 [00:00<00:00, 52.54it/s, loss=0.578, metrics={'rec': 0.8405}]\n",
            "epoch 42: 100%|██████████| 89/89 [00:01<00:00, 47.94it/s, loss=0.233, metrics={'rec': 0.9124}]\n",
            "valid: 100%|██████████| 23/23 [00:00<00:00, 48.55it/s, loss=0.572, metrics={'rec': 0.8486}]\n",
            "epoch 43: 100%|██████████| 89/89 [00:01<00:00, 48.15it/s, loss=0.228, metrics={'rec': 0.9115}]\n",
            "valid: 100%|██████████| 23/23 [00:00<00:00, 48.86it/s, loss=0.575, metrics={'rec': 0.841}]\n",
            "epoch 44: 100%|██████████| 89/89 [00:01<00:00, 48.03it/s, loss=0.235, metrics={'rec': 0.9096}]\n",
            "valid: 100%|██████████| 23/23 [00:00<00:00, 50.16it/s, loss=0.612, metrics={'rec': 0.8457}]\n",
            "epoch 45: 100%|██████████| 89/89 [00:01<00:00, 47.98it/s, loss=0.239, metrics={'rec': 0.909}]\n",
            "valid: 100%|██████████| 23/23 [00:00<00:00, 48.29it/s, loss=0.543, metrics={'rec': 0.8425}]\n",
            "epoch 46: 100%|██████████| 89/89 [00:01<00:00, 47.74it/s, loss=0.235, metrics={'rec': 0.9099}]\n",
            "valid: 100%|██████████| 23/23 [00:00<00:00, 48.88it/s, loss=0.563, metrics={'rec': 0.8441}]\n",
            "epoch 47: 100%|██████████| 89/89 [00:01<00:00, 47.22it/s, loss=0.234, metrics={'rec': 0.9102}]\n",
            "valid: 100%|██████████| 23/23 [00:00<00:00, 48.62it/s, loss=0.585, metrics={'rec': 0.8468}]\n",
            "epoch 48: 100%|██████████| 89/89 [00:01<00:00, 47.41it/s, loss=0.226, metrics={'rec': 0.9133}]\n",
            "valid: 100%|██████████| 23/23 [00:00<00:00, 48.08it/s, loss=0.615, metrics={'rec': 0.8451}]\n",
            "epoch 49: 100%|██████████| 89/89 [00:01<00:00, 47.07it/s, loss=0.223, metrics={'rec': 0.9138}]\n",
            "valid: 100%|██████████| 23/23 [00:00<00:00, 49.06it/s, loss=0.616, metrics={'rec': 0.8443}]\n",
            "epoch 50: 100%|██████████| 89/89 [00:01<00:00, 47.38it/s, loss=0.227, metrics={'rec': 0.9139}]\n",
            "valid: 100%|██████████| 23/23 [00:00<00:00, 48.80it/s, loss=0.651, metrics={'rec': 0.8381}]\n"
          ]
        }
      ],
      "source": [
        "trainer = Trainer(model, objective=\"categorical_cross_entropy\", metrics=[(Recall)])\n",
        "trainer.fit(X_tab=X_tab, target=[np.argmax(c) for c in y_train_tab], n_epochs=50, batch_size=256, val_split=0.2) "
      ]
    },
    {
      "cell_type": "code",
      "execution_count": null,
      "metadata": {
        "colab": {
          "base_uri": "https://localhost:8080/"
        },
        "id": "QVRLFCDadLL9",
        "outputId": "2f07a943-6cc7-4345-dcea-ed0de4c6bc55"
      },
      "outputs": [
        {
          "name": "stdout",
          "output_type": "stream",
          "text": [
            "              precision    recall  f1-score   support\n",
            "\n",
            "           0       0.36      0.96      0.53        25\n",
            "           1       0.75      0.87      0.80       119\n",
            "           2       0.77      0.74      0.75       383\n",
            "           3       0.89      0.80      0.84       243\n",
            "           4       0.34      1.00      0.51        19\n",
            "           5       0.83      0.75      0.79       758\n",
            "           6       0.00      0.00      0.00         0\n",
            "\n",
            "    accuracy                           0.77      1547\n",
            "   macro avg       0.56      0.73      0.60      1547\n",
            "weighted avg       0.81      0.77      0.78      1547\n",
            "\n",
            "[[ 24   0   1   0   0   0   0]\n",
            " [  2 103   1   0   0  13   0]\n",
            " [ 16   6 282   5   6  64   4]\n",
            " [  2   0   4 194   1  38   4]\n",
            " [  0   0   0   0  19   0   0]\n",
            " [ 22  29  80  18  30 568  11]\n",
            " [  0   0   0   0   0   0   0]]\n"
          ]
        },
        {
          "name": "stderr",
          "output_type": "stream",
          "text": [
            "/usr/local/lib/python3.7/dist-packages/sklearn/metrics/_classification.py:1318: UndefinedMetricWarning: Recall and F-score are ill-defined and being set to 0.0 in labels with no true samples. Use `zero_division` parameter to control this behavior.\n",
            "  _warn_prf(average, modifier, msg_start, len(result))\n",
            "/usr/local/lib/python3.7/dist-packages/sklearn/metrics/_classification.py:1318: UndefinedMetricWarning: Recall and F-score are ill-defined and being set to 0.0 in labels with no true samples. Use `zero_division` parameter to control this behavior.\n",
            "  _warn_prf(average, modifier, msg_start, len(result))\n",
            "/usr/local/lib/python3.7/dist-packages/sklearn/metrics/_classification.py:1318: UndefinedMetricWarning: Recall and F-score are ill-defined and being set to 0.0 in labels with no true samples. Use `zero_division` parameter to control this behavior.\n",
            "  _warn_prf(average, modifier, msg_start, len(result))\n"
          ]
        }
      ],
      "source": [
        "preds = trainer.predict(X_tab = tab_preprocessor.transform(test_data[tabular_cols])) \n",
        "\n",
        "print(classification_report([np.argmax(c) for c in y_test_tab],preds))\n",
        "print(confusion_matrix([np.argmax(c) for c in y_test_tab],preds))  "
      ]
    },
    {
      "cell_type": "code",
      "execution_count": null,
      "metadata": {
        "id": "zLbV88sOcv2s"
      },
      "outputs": [],
      "source": [
        ""
      ]
    },
    {
      "cell_type": "code",
      "execution_count": null,
      "metadata": {
        "id": "y8Lurx4_JE3n"
      },
      "outputs": [],
      "source": [
        ""
      ]
    }
  ],
  "metadata": {
    "accelerator": "GPU",
    "colab": {
      "collapsed_sections": [
        "D9J9WjaOS-ds",
        "KMeuoWqekN3M",
        "lXwii4UrU-xV",
        "yzz-Re4RlgI9"
      ],
      "name": "Conversational Sentiment Analysis 6 Zeyneb.ipynb",
      "provenance": [],
      "include_colab_link": true
    },
    "kernelspec": {
      "display_name": "Python 3",
      "name": "python3"
    },
    "language_info": {
      "name": "python"
    },
    "widgets": {
      "application/vnd.jupyter.widget-state+json": {
        "1a785b81ff8f43a1b99ae41d2d5e924b": {
          "model_module": "@jupyter-widgets/controls",
          "model_name": "HBoxModel",
          "model_module_version": "1.5.0",
          "state": {
            "_dom_classes": [],
            "_model_module": "@jupyter-widgets/controls",
            "_model_module_version": "1.5.0",
            "_model_name": "HBoxModel",
            "_view_count": null,
            "_view_module": "@jupyter-widgets/controls",
            "_view_module_version": "1.5.0",
            "_view_name": "HBoxView",
            "box_style": "",
            "children": [
              "IPY_MODEL_0659a74469c84dc49d86f02c95560425",
              "IPY_MODEL_17aed50c287147fda21a92b76c3093be",
              "IPY_MODEL_7d9a3719d9044380a19590a863b58e6d"
            ],
            "layout": "IPY_MODEL_978f11caf32d4a98b36a1600c599a329"
          }
        },
        "0659a74469c84dc49d86f02c95560425": {
          "model_module": "@jupyter-widgets/controls",
          "model_name": "HTMLModel",
          "model_module_version": "1.5.0",
          "state": {
            "_dom_classes": [],
            "_model_module": "@jupyter-widgets/controls",
            "_model_module_version": "1.5.0",
            "_model_name": "HTMLModel",
            "_view_count": null,
            "_view_module": "@jupyter-widgets/controls",
            "_view_module_version": "1.5.0",
            "_view_name": "HTMLView",
            "description": "",
            "description_tooltip": null,
            "layout": "IPY_MODEL_d3a42caf480d4950b13da34dbc52aa53",
            "placeholder": "​",
            "style": "IPY_MODEL_8296aea53d854dbcb3c12931f3372bd5",
            "value": "Downloading: 100%"
          }
        },
        "17aed50c287147fda21a92b76c3093be": {
          "model_module": "@jupyter-widgets/controls",
          "model_name": "FloatProgressModel",
          "model_module_version": "1.5.0",
          "state": {
            "_dom_classes": [],
            "_model_module": "@jupyter-widgets/controls",
            "_model_module_version": "1.5.0",
            "_model_name": "FloatProgressModel",
            "_view_count": null,
            "_view_module": "@jupyter-widgets/controls",
            "_view_module_version": "1.5.0",
            "_view_name": "ProgressView",
            "bar_style": "success",
            "description": "",
            "description_tooltip": null,
            "layout": "IPY_MODEL_c7341c8257274af3b34dfe80b5e8089e",
            "max": 481,
            "min": 0,
            "orientation": "horizontal",
            "style": "IPY_MODEL_9cd95155957c44d18b05e8a81aa49f7b",
            "value": 481
          }
        },
        "7d9a3719d9044380a19590a863b58e6d": {
          "model_module": "@jupyter-widgets/controls",
          "model_name": "HTMLModel",
          "model_module_version": "1.5.0",
          "state": {
            "_dom_classes": [],
            "_model_module": "@jupyter-widgets/controls",
            "_model_module_version": "1.5.0",
            "_model_name": "HTMLModel",
            "_view_count": null,
            "_view_module": "@jupyter-widgets/controls",
            "_view_module_version": "1.5.0",
            "_view_name": "HTMLView",
            "description": "",
            "description_tooltip": null,
            "layout": "IPY_MODEL_061e1bf7d5b84e0d87d4da4bb8f7ca57",
            "placeholder": "​",
            "style": "IPY_MODEL_f0699baf384e43b98987c9ee58b92d85",
            "value": " 481/481 [00:00&lt;00:00, 5.44kB/s]"
          }
        },
        "978f11caf32d4a98b36a1600c599a329": {
          "model_module": "@jupyter-widgets/base",
          "model_name": "LayoutModel",
          "model_module_version": "1.2.0",
          "state": {
            "_model_module": "@jupyter-widgets/base",
            "_model_module_version": "1.2.0",
            "_model_name": "LayoutModel",
            "_view_count": null,
            "_view_module": "@jupyter-widgets/base",
            "_view_module_version": "1.2.0",
            "_view_name": "LayoutView",
            "align_content": null,
            "align_items": null,
            "align_self": null,
            "border": null,
            "bottom": null,
            "display": null,
            "flex": null,
            "flex_flow": null,
            "grid_area": null,
            "grid_auto_columns": null,
            "grid_auto_flow": null,
            "grid_auto_rows": null,
            "grid_column": null,
            "grid_gap": null,
            "grid_row": null,
            "grid_template_areas": null,
            "grid_template_columns": null,
            "grid_template_rows": null,
            "height": null,
            "justify_content": null,
            "justify_items": null,
            "left": null,
            "margin": null,
            "max_height": null,
            "max_width": null,
            "min_height": null,
            "min_width": null,
            "object_fit": null,
            "object_position": null,
            "order": null,
            "overflow": null,
            "overflow_x": null,
            "overflow_y": null,
            "padding": null,
            "right": null,
            "top": null,
            "visibility": null,
            "width": null
          }
        },
        "d3a42caf480d4950b13da34dbc52aa53": {
          "model_module": "@jupyter-widgets/base",
          "model_name": "LayoutModel",
          "model_module_version": "1.2.0",
          "state": {
            "_model_module": "@jupyter-widgets/base",
            "_model_module_version": "1.2.0",
            "_model_name": "LayoutModel",
            "_view_count": null,
            "_view_module": "@jupyter-widgets/base",
            "_view_module_version": "1.2.0",
            "_view_name": "LayoutView",
            "align_content": null,
            "align_items": null,
            "align_self": null,
            "border": null,
            "bottom": null,
            "display": null,
            "flex": null,
            "flex_flow": null,
            "grid_area": null,
            "grid_auto_columns": null,
            "grid_auto_flow": null,
            "grid_auto_rows": null,
            "grid_column": null,
            "grid_gap": null,
            "grid_row": null,
            "grid_template_areas": null,
            "grid_template_columns": null,
            "grid_template_rows": null,
            "height": null,
            "justify_content": null,
            "justify_items": null,
            "left": null,
            "margin": null,
            "max_height": null,
            "max_width": null,
            "min_height": null,
            "min_width": null,
            "object_fit": null,
            "object_position": null,
            "order": null,
            "overflow": null,
            "overflow_x": null,
            "overflow_y": null,
            "padding": null,
            "right": null,
            "top": null,
            "visibility": null,
            "width": null
          }
        },
        "8296aea53d854dbcb3c12931f3372bd5": {
          "model_module": "@jupyter-widgets/controls",
          "model_name": "DescriptionStyleModel",
          "model_module_version": "1.5.0",
          "state": {
            "_model_module": "@jupyter-widgets/controls",
            "_model_module_version": "1.5.0",
            "_model_name": "DescriptionStyleModel",
            "_view_count": null,
            "_view_module": "@jupyter-widgets/base",
            "_view_module_version": "1.2.0",
            "_view_name": "StyleView",
            "description_width": ""
          }
        },
        "c7341c8257274af3b34dfe80b5e8089e": {
          "model_module": "@jupyter-widgets/base",
          "model_name": "LayoutModel",
          "model_module_version": "1.2.0",
          "state": {
            "_model_module": "@jupyter-widgets/base",
            "_model_module_version": "1.2.0",
            "_model_name": "LayoutModel",
            "_view_count": null,
            "_view_module": "@jupyter-widgets/base",
            "_view_module_version": "1.2.0",
            "_view_name": "LayoutView",
            "align_content": null,
            "align_items": null,
            "align_self": null,
            "border": null,
            "bottom": null,
            "display": null,
            "flex": null,
            "flex_flow": null,
            "grid_area": null,
            "grid_auto_columns": null,
            "grid_auto_flow": null,
            "grid_auto_rows": null,
            "grid_column": null,
            "grid_gap": null,
            "grid_row": null,
            "grid_template_areas": null,
            "grid_template_columns": null,
            "grid_template_rows": null,
            "height": null,
            "justify_content": null,
            "justify_items": null,
            "left": null,
            "margin": null,
            "max_height": null,
            "max_width": null,
            "min_height": null,
            "min_width": null,
            "object_fit": null,
            "object_position": null,
            "order": null,
            "overflow": null,
            "overflow_x": null,
            "overflow_y": null,
            "padding": null,
            "right": null,
            "top": null,
            "visibility": null,
            "width": null
          }
        },
        "9cd95155957c44d18b05e8a81aa49f7b": {
          "model_module": "@jupyter-widgets/controls",
          "model_name": "ProgressStyleModel",
          "model_module_version": "1.5.0",
          "state": {
            "_model_module": "@jupyter-widgets/controls",
            "_model_module_version": "1.5.0",
            "_model_name": "ProgressStyleModel",
            "_view_count": null,
            "_view_module": "@jupyter-widgets/base",
            "_view_module_version": "1.2.0",
            "_view_name": "StyleView",
            "bar_color": null,
            "description_width": ""
          }
        },
        "061e1bf7d5b84e0d87d4da4bb8f7ca57": {
          "model_module": "@jupyter-widgets/base",
          "model_name": "LayoutModel",
          "model_module_version": "1.2.0",
          "state": {
            "_model_module": "@jupyter-widgets/base",
            "_model_module_version": "1.2.0",
            "_model_name": "LayoutModel",
            "_view_count": null,
            "_view_module": "@jupyter-widgets/base",
            "_view_module_version": "1.2.0",
            "_view_name": "LayoutView",
            "align_content": null,
            "align_items": null,
            "align_self": null,
            "border": null,
            "bottom": null,
            "display": null,
            "flex": null,
            "flex_flow": null,
            "grid_area": null,
            "grid_auto_columns": null,
            "grid_auto_flow": null,
            "grid_auto_rows": null,
            "grid_column": null,
            "grid_gap": null,
            "grid_row": null,
            "grid_template_areas": null,
            "grid_template_columns": null,
            "grid_template_rows": null,
            "height": null,
            "justify_content": null,
            "justify_items": null,
            "left": null,
            "margin": null,
            "max_height": null,
            "max_width": null,
            "min_height": null,
            "min_width": null,
            "object_fit": null,
            "object_position": null,
            "order": null,
            "overflow": null,
            "overflow_x": null,
            "overflow_y": null,
            "padding": null,
            "right": null,
            "top": null,
            "visibility": null,
            "width": null
          }
        },
        "f0699baf384e43b98987c9ee58b92d85": {
          "model_module": "@jupyter-widgets/controls",
          "model_name": "DescriptionStyleModel",
          "model_module_version": "1.5.0",
          "state": {
            "_model_module": "@jupyter-widgets/controls",
            "_model_module_version": "1.5.0",
            "_model_name": "DescriptionStyleModel",
            "_view_count": null,
            "_view_module": "@jupyter-widgets/base",
            "_view_module_version": "1.2.0",
            "_view_name": "StyleView",
            "description_width": ""
          }
        },
        "1a7b538f6c174509ace1b8c7db84700b": {
          "model_module": "@jupyter-widgets/controls",
          "model_name": "HBoxModel",
          "model_module_version": "1.5.0",
          "state": {
            "_dom_classes": [],
            "_model_module": "@jupyter-widgets/controls",
            "_model_module_version": "1.5.0",
            "_model_name": "HBoxModel",
            "_view_count": null,
            "_view_module": "@jupyter-widgets/controls",
            "_view_module_version": "1.5.0",
            "_view_name": "HBoxView",
            "box_style": "",
            "children": [
              "IPY_MODEL_0f708c6eab5647bc9ee76de41de1fcf7",
              "IPY_MODEL_79bfe58273824905a30b85f06109c5b9",
              "IPY_MODEL_0c6eff7b26d740cda09a982a8a81cd03"
            ],
            "layout": "IPY_MODEL_6c26aaafc6d04eb0abb3056365a4357f"
          }
        },
        "0f708c6eab5647bc9ee76de41de1fcf7": {
          "model_module": "@jupyter-widgets/controls",
          "model_name": "HTMLModel",
          "model_module_version": "1.5.0",
          "state": {
            "_dom_classes": [],
            "_model_module": "@jupyter-widgets/controls",
            "_model_module_version": "1.5.0",
            "_model_name": "HTMLModel",
            "_view_count": null,
            "_view_module": "@jupyter-widgets/controls",
            "_view_module_version": "1.5.0",
            "_view_name": "HTMLView",
            "description": "",
            "description_tooltip": null,
            "layout": "IPY_MODEL_c04ac68af3dc46e1ae9fbdeb3404e3b3",
            "placeholder": "​",
            "style": "IPY_MODEL_8e391c0f9c2c4f82a61183d346cc8708",
            "value": "Downloading: 100%"
          }
        },
        "79bfe58273824905a30b85f06109c5b9": {
          "model_module": "@jupyter-widgets/controls",
          "model_name": "FloatProgressModel",
          "model_module_version": "1.5.0",
          "state": {
            "_dom_classes": [],
            "_model_module": "@jupyter-widgets/controls",
            "_model_module_version": "1.5.0",
            "_model_name": "FloatProgressModel",
            "_view_count": null,
            "_view_module": "@jupyter-widgets/controls",
            "_view_module_version": "1.5.0",
            "_view_name": "ProgressView",
            "bar_style": "success",
            "description": "",
            "description_tooltip": null,
            "layout": "IPY_MODEL_4ead0d0ea1c843f391869fd7241cb7d9",
            "max": 657434796,
            "min": 0,
            "orientation": "horizontal",
            "style": "IPY_MODEL_4044dee9231948ce84de56edce8f5f28",
            "value": 657434796
          }
        },
        "0c6eff7b26d740cda09a982a8a81cd03": {
          "model_module": "@jupyter-widgets/controls",
          "model_name": "HTMLModel",
          "model_module_version": "1.5.0",
          "state": {
            "_dom_classes": [],
            "_model_module": "@jupyter-widgets/controls",
            "_model_module_version": "1.5.0",
            "_model_name": "HTMLModel",
            "_view_count": null,
            "_view_module": "@jupyter-widgets/controls",
            "_view_module_version": "1.5.0",
            "_view_name": "HTMLView",
            "description": "",
            "description_tooltip": null,
            "layout": "IPY_MODEL_dd139428607e47969f03866a5f2b95e8",
            "placeholder": "​",
            "style": "IPY_MODEL_b7f9de41b6c84fddbd559aaf79bac99f",
            "value": " 627M/627M [00:30&lt;00:00, 55.5MB/s]"
          }
        },
        "6c26aaafc6d04eb0abb3056365a4357f": {
          "model_module": "@jupyter-widgets/base",
          "model_name": "LayoutModel",
          "model_module_version": "1.2.0",
          "state": {
            "_model_module": "@jupyter-widgets/base",
            "_model_module_version": "1.2.0",
            "_model_name": "LayoutModel",
            "_view_count": null,
            "_view_module": "@jupyter-widgets/base",
            "_view_module_version": "1.2.0",
            "_view_name": "LayoutView",
            "align_content": null,
            "align_items": null,
            "align_self": null,
            "border": null,
            "bottom": null,
            "display": null,
            "flex": null,
            "flex_flow": null,
            "grid_area": null,
            "grid_auto_columns": null,
            "grid_auto_flow": null,
            "grid_auto_rows": null,
            "grid_column": null,
            "grid_gap": null,
            "grid_row": null,
            "grid_template_areas": null,
            "grid_template_columns": null,
            "grid_template_rows": null,
            "height": null,
            "justify_content": null,
            "justify_items": null,
            "left": null,
            "margin": null,
            "max_height": null,
            "max_width": null,
            "min_height": null,
            "min_width": null,
            "object_fit": null,
            "object_position": null,
            "order": null,
            "overflow": null,
            "overflow_x": null,
            "overflow_y": null,
            "padding": null,
            "right": null,
            "top": null,
            "visibility": null,
            "width": null
          }
        },
        "c04ac68af3dc46e1ae9fbdeb3404e3b3": {
          "model_module": "@jupyter-widgets/base",
          "model_name": "LayoutModel",
          "model_module_version": "1.2.0",
          "state": {
            "_model_module": "@jupyter-widgets/base",
            "_model_module_version": "1.2.0",
            "_model_name": "LayoutModel",
            "_view_count": null,
            "_view_module": "@jupyter-widgets/base",
            "_view_module_version": "1.2.0",
            "_view_name": "LayoutView",
            "align_content": null,
            "align_items": null,
            "align_self": null,
            "border": null,
            "bottom": null,
            "display": null,
            "flex": null,
            "flex_flow": null,
            "grid_area": null,
            "grid_auto_columns": null,
            "grid_auto_flow": null,
            "grid_auto_rows": null,
            "grid_column": null,
            "grid_gap": null,
            "grid_row": null,
            "grid_template_areas": null,
            "grid_template_columns": null,
            "grid_template_rows": null,
            "height": null,
            "justify_content": null,
            "justify_items": null,
            "left": null,
            "margin": null,
            "max_height": null,
            "max_width": null,
            "min_height": null,
            "min_width": null,
            "object_fit": null,
            "object_position": null,
            "order": null,
            "overflow": null,
            "overflow_x": null,
            "overflow_y": null,
            "padding": null,
            "right": null,
            "top": null,
            "visibility": null,
            "width": null
          }
        },
        "8e391c0f9c2c4f82a61183d346cc8708": {
          "model_module": "@jupyter-widgets/controls",
          "model_name": "DescriptionStyleModel",
          "model_module_version": "1.5.0",
          "state": {
            "_model_module": "@jupyter-widgets/controls",
            "_model_module_version": "1.5.0",
            "_model_name": "DescriptionStyleModel",
            "_view_count": null,
            "_view_module": "@jupyter-widgets/base",
            "_view_module_version": "1.2.0",
            "_view_name": "StyleView",
            "description_width": ""
          }
        },
        "4ead0d0ea1c843f391869fd7241cb7d9": {
          "model_module": "@jupyter-widgets/base",
          "model_name": "LayoutModel",
          "model_module_version": "1.2.0",
          "state": {
            "_model_module": "@jupyter-widgets/base",
            "_model_module_version": "1.2.0",
            "_model_name": "LayoutModel",
            "_view_count": null,
            "_view_module": "@jupyter-widgets/base",
            "_view_module_version": "1.2.0",
            "_view_name": "LayoutView",
            "align_content": null,
            "align_items": null,
            "align_self": null,
            "border": null,
            "bottom": null,
            "display": null,
            "flex": null,
            "flex_flow": null,
            "grid_area": null,
            "grid_auto_columns": null,
            "grid_auto_flow": null,
            "grid_auto_rows": null,
            "grid_column": null,
            "grid_gap": null,
            "grid_row": null,
            "grid_template_areas": null,
            "grid_template_columns": null,
            "grid_template_rows": null,
            "height": null,
            "justify_content": null,
            "justify_items": null,
            "left": null,
            "margin": null,
            "max_height": null,
            "max_width": null,
            "min_height": null,
            "min_width": null,
            "object_fit": null,
            "object_position": null,
            "order": null,
            "overflow": null,
            "overflow_x": null,
            "overflow_y": null,
            "padding": null,
            "right": null,
            "top": null,
            "visibility": null,
            "width": null
          }
        },
        "4044dee9231948ce84de56edce8f5f28": {
          "model_module": "@jupyter-widgets/controls",
          "model_name": "ProgressStyleModel",
          "model_module_version": "1.5.0",
          "state": {
            "_model_module": "@jupyter-widgets/controls",
            "_model_module_version": "1.5.0",
            "_model_name": "ProgressStyleModel",
            "_view_count": null,
            "_view_module": "@jupyter-widgets/base",
            "_view_module_version": "1.2.0",
            "_view_name": "StyleView",
            "bar_color": null,
            "description_width": ""
          }
        },
        "dd139428607e47969f03866a5f2b95e8": {
          "model_module": "@jupyter-widgets/base",
          "model_name": "LayoutModel",
          "model_module_version": "1.2.0",
          "state": {
            "_model_module": "@jupyter-widgets/base",
            "_model_module_version": "1.2.0",
            "_model_name": "LayoutModel",
            "_view_count": null,
            "_view_module": "@jupyter-widgets/base",
            "_view_module_version": "1.2.0",
            "_view_name": "LayoutView",
            "align_content": null,
            "align_items": null,
            "align_self": null,
            "border": null,
            "bottom": null,
            "display": null,
            "flex": null,
            "flex_flow": null,
            "grid_area": null,
            "grid_auto_columns": null,
            "grid_auto_flow": null,
            "grid_auto_rows": null,
            "grid_column": null,
            "grid_gap": null,
            "grid_row": null,
            "grid_template_areas": null,
            "grid_template_columns": null,
            "grid_template_rows": null,
            "height": null,
            "justify_content": null,
            "justify_items": null,
            "left": null,
            "margin": null,
            "max_height": null,
            "max_width": null,
            "min_height": null,
            "min_width": null,
            "object_fit": null,
            "object_position": null,
            "order": null,
            "overflow": null,
            "overflow_x": null,
            "overflow_y": null,
            "padding": null,
            "right": null,
            "top": null,
            "visibility": null,
            "width": null
          }
        },
        "b7f9de41b6c84fddbd559aaf79bac99f": {
          "model_module": "@jupyter-widgets/controls",
          "model_name": "DescriptionStyleModel",
          "model_module_version": "1.5.0",
          "state": {
            "_model_module": "@jupyter-widgets/controls",
            "_model_module_version": "1.5.0",
            "_model_name": "DescriptionStyleModel",
            "_view_count": null,
            "_view_module": "@jupyter-widgets/base",
            "_view_module_version": "1.2.0",
            "_view_name": "StyleView",
            "description_width": ""
          }
        },
        "99e0b1fce52c46ed92d64d8387c209c2": {
          "model_module": "@jupyter-widgets/controls",
          "model_name": "HBoxModel",
          "model_module_version": "1.5.0",
          "state": {
            "_dom_classes": [],
            "_model_module": "@jupyter-widgets/controls",
            "_model_module_version": "1.5.0",
            "_model_name": "HBoxModel",
            "_view_count": null,
            "_view_module": "@jupyter-widgets/controls",
            "_view_module_version": "1.5.0",
            "_view_name": "HBoxView",
            "box_style": "",
            "children": [
              "IPY_MODEL_364ab28006d54b8499009b3ba1d18161",
              "IPY_MODEL_f3cfb212ed96423b9e4a6661a1586442",
              "IPY_MODEL_f08bfab9f9ae4634aa42448c35dc55ca"
            ],
            "layout": "IPY_MODEL_1269c0ff7ad54d0184e66dea961d1a41"
          }
        },
        "364ab28006d54b8499009b3ba1d18161": {
          "model_module": "@jupyter-widgets/controls",
          "model_name": "HTMLModel",
          "model_module_version": "1.5.0",
          "state": {
            "_dom_classes": [],
            "_model_module": "@jupyter-widgets/controls",
            "_model_module_version": "1.5.0",
            "_model_name": "HTMLModel",
            "_view_count": null,
            "_view_module": "@jupyter-widgets/controls",
            "_view_module_version": "1.5.0",
            "_view_name": "HTMLView",
            "description": "",
            "description_tooltip": null,
            "layout": "IPY_MODEL_13a1246f76134c388e939ec2e74b9002",
            "placeholder": "​",
            "style": "IPY_MODEL_574c6ac658874efaa53067222bac69c7",
            "value": "Downloading: 100%"
          }
        },
        "f3cfb212ed96423b9e4a6661a1586442": {
          "model_module": "@jupyter-widgets/controls",
          "model_name": "FloatProgressModel",
          "model_module_version": "1.5.0",
          "state": {
            "_dom_classes": [],
            "_model_module": "@jupyter-widgets/controls",
            "_model_module_version": "1.5.0",
            "_model_name": "FloatProgressModel",
            "_view_count": null,
            "_view_module": "@jupyter-widgets/controls",
            "_view_module_version": "1.5.0",
            "_view_name": "ProgressView",
            "bar_style": "success",
            "description": "",
            "description_tooltip": null,
            "layout": "IPY_MODEL_0debf9a89b704439beec914ceeee6bd4",
            "max": 898823,
            "min": 0,
            "orientation": "horizontal",
            "style": "IPY_MODEL_c4734a15de734da99373287a5c2c367a",
            "value": 898823
          }
        },
        "f08bfab9f9ae4634aa42448c35dc55ca": {
          "model_module": "@jupyter-widgets/controls",
          "model_name": "HTMLModel",
          "model_module_version": "1.5.0",
          "state": {
            "_dom_classes": [],
            "_model_module": "@jupyter-widgets/controls",
            "_model_module_version": "1.5.0",
            "_model_name": "HTMLModel",
            "_view_count": null,
            "_view_module": "@jupyter-widgets/controls",
            "_view_module_version": "1.5.0",
            "_view_name": "HTMLView",
            "description": "",
            "description_tooltip": null,
            "layout": "IPY_MODEL_6af72be135f84de2ac9ec656ffe9b5e6",
            "placeholder": "​",
            "style": "IPY_MODEL_0bfd23b7efbf4e849ac4cb613e66b9e6",
            "value": " 878k/878k [00:00&lt;00:00, 2.76MB/s]"
          }
        },
        "1269c0ff7ad54d0184e66dea961d1a41": {
          "model_module": "@jupyter-widgets/base",
          "model_name": "LayoutModel",
          "model_module_version": "1.2.0",
          "state": {
            "_model_module": "@jupyter-widgets/base",
            "_model_module_version": "1.2.0",
            "_model_name": "LayoutModel",
            "_view_count": null,
            "_view_module": "@jupyter-widgets/base",
            "_view_module_version": "1.2.0",
            "_view_name": "LayoutView",
            "align_content": null,
            "align_items": null,
            "align_self": null,
            "border": null,
            "bottom": null,
            "display": null,
            "flex": null,
            "flex_flow": null,
            "grid_area": null,
            "grid_auto_columns": null,
            "grid_auto_flow": null,
            "grid_auto_rows": null,
            "grid_column": null,
            "grid_gap": null,
            "grid_row": null,
            "grid_template_areas": null,
            "grid_template_columns": null,
            "grid_template_rows": null,
            "height": null,
            "justify_content": null,
            "justify_items": null,
            "left": null,
            "margin": null,
            "max_height": null,
            "max_width": null,
            "min_height": null,
            "min_width": null,
            "object_fit": null,
            "object_position": null,
            "order": null,
            "overflow": null,
            "overflow_x": null,
            "overflow_y": null,
            "padding": null,
            "right": null,
            "top": null,
            "visibility": null,
            "width": null
          }
        },
        "13a1246f76134c388e939ec2e74b9002": {
          "model_module": "@jupyter-widgets/base",
          "model_name": "LayoutModel",
          "model_module_version": "1.2.0",
          "state": {
            "_model_module": "@jupyter-widgets/base",
            "_model_module_version": "1.2.0",
            "_model_name": "LayoutModel",
            "_view_count": null,
            "_view_module": "@jupyter-widgets/base",
            "_view_module_version": "1.2.0",
            "_view_name": "LayoutView",
            "align_content": null,
            "align_items": null,
            "align_self": null,
            "border": null,
            "bottom": null,
            "display": null,
            "flex": null,
            "flex_flow": null,
            "grid_area": null,
            "grid_auto_columns": null,
            "grid_auto_flow": null,
            "grid_auto_rows": null,
            "grid_column": null,
            "grid_gap": null,
            "grid_row": null,
            "grid_template_areas": null,
            "grid_template_columns": null,
            "grid_template_rows": null,
            "height": null,
            "justify_content": null,
            "justify_items": null,
            "left": null,
            "margin": null,
            "max_height": null,
            "max_width": null,
            "min_height": null,
            "min_width": null,
            "object_fit": null,
            "object_position": null,
            "order": null,
            "overflow": null,
            "overflow_x": null,
            "overflow_y": null,
            "padding": null,
            "right": null,
            "top": null,
            "visibility": null,
            "width": null
          }
        },
        "574c6ac658874efaa53067222bac69c7": {
          "model_module": "@jupyter-widgets/controls",
          "model_name": "DescriptionStyleModel",
          "model_module_version": "1.5.0",
          "state": {
            "_model_module": "@jupyter-widgets/controls",
            "_model_module_version": "1.5.0",
            "_model_name": "DescriptionStyleModel",
            "_view_count": null,
            "_view_module": "@jupyter-widgets/base",
            "_view_module_version": "1.2.0",
            "_view_name": "StyleView",
            "description_width": ""
          }
        },
        "0debf9a89b704439beec914ceeee6bd4": {
          "model_module": "@jupyter-widgets/base",
          "model_name": "LayoutModel",
          "model_module_version": "1.2.0",
          "state": {
            "_model_module": "@jupyter-widgets/base",
            "_model_module_version": "1.2.0",
            "_model_name": "LayoutModel",
            "_view_count": null,
            "_view_module": "@jupyter-widgets/base",
            "_view_module_version": "1.2.0",
            "_view_name": "LayoutView",
            "align_content": null,
            "align_items": null,
            "align_self": null,
            "border": null,
            "bottom": null,
            "display": null,
            "flex": null,
            "flex_flow": null,
            "grid_area": null,
            "grid_auto_columns": null,
            "grid_auto_flow": null,
            "grid_auto_rows": null,
            "grid_column": null,
            "grid_gap": null,
            "grid_row": null,
            "grid_template_areas": null,
            "grid_template_columns": null,
            "grid_template_rows": null,
            "height": null,
            "justify_content": null,
            "justify_items": null,
            "left": null,
            "margin": null,
            "max_height": null,
            "max_width": null,
            "min_height": null,
            "min_width": null,
            "object_fit": null,
            "object_position": null,
            "order": null,
            "overflow": null,
            "overflow_x": null,
            "overflow_y": null,
            "padding": null,
            "right": null,
            "top": null,
            "visibility": null,
            "width": null
          }
        },
        "c4734a15de734da99373287a5c2c367a": {
          "model_module": "@jupyter-widgets/controls",
          "model_name": "ProgressStyleModel",
          "model_module_version": "1.5.0",
          "state": {
            "_model_module": "@jupyter-widgets/controls",
            "_model_module_version": "1.5.0",
            "_model_name": "ProgressStyleModel",
            "_view_count": null,
            "_view_module": "@jupyter-widgets/base",
            "_view_module_version": "1.2.0",
            "_view_name": "StyleView",
            "bar_color": null,
            "description_width": ""
          }
        },
        "6af72be135f84de2ac9ec656ffe9b5e6": {
          "model_module": "@jupyter-widgets/base",
          "model_name": "LayoutModel",
          "model_module_version": "1.2.0",
          "state": {
            "_model_module": "@jupyter-widgets/base",
            "_model_module_version": "1.2.0",
            "_model_name": "LayoutModel",
            "_view_count": null,
            "_view_module": "@jupyter-widgets/base",
            "_view_module_version": "1.2.0",
            "_view_name": "LayoutView",
            "align_content": null,
            "align_items": null,
            "align_self": null,
            "border": null,
            "bottom": null,
            "display": null,
            "flex": null,
            "flex_flow": null,
            "grid_area": null,
            "grid_auto_columns": null,
            "grid_auto_flow": null,
            "grid_auto_rows": null,
            "grid_column": null,
            "grid_gap": null,
            "grid_row": null,
            "grid_template_areas": null,
            "grid_template_columns": null,
            "grid_template_rows": null,
            "height": null,
            "justify_content": null,
            "justify_items": null,
            "left": null,
            "margin": null,
            "max_height": null,
            "max_width": null,
            "min_height": null,
            "min_width": null,
            "object_fit": null,
            "object_position": null,
            "order": null,
            "overflow": null,
            "overflow_x": null,
            "overflow_y": null,
            "padding": null,
            "right": null,
            "top": null,
            "visibility": null,
            "width": null
          }
        },
        "0bfd23b7efbf4e849ac4cb613e66b9e6": {
          "model_module": "@jupyter-widgets/controls",
          "model_name": "DescriptionStyleModel",
          "model_module_version": "1.5.0",
          "state": {
            "_model_module": "@jupyter-widgets/controls",
            "_model_module_version": "1.5.0",
            "_model_name": "DescriptionStyleModel",
            "_view_count": null,
            "_view_module": "@jupyter-widgets/base",
            "_view_module_version": "1.2.0",
            "_view_name": "StyleView",
            "description_width": ""
          }
        },
        "24b729d707064c578e3764a5f2123bd8": {
          "model_module": "@jupyter-widgets/controls",
          "model_name": "HBoxModel",
          "model_module_version": "1.5.0",
          "state": {
            "_dom_classes": [],
            "_model_module": "@jupyter-widgets/controls",
            "_model_module_version": "1.5.0",
            "_model_name": "HBoxModel",
            "_view_count": null,
            "_view_module": "@jupyter-widgets/controls",
            "_view_module_version": "1.5.0",
            "_view_name": "HBoxView",
            "box_style": "",
            "children": [
              "IPY_MODEL_4cc7fe71c5524d198d0b194481dfdffe",
              "IPY_MODEL_cd6ffb1bf3564eac9f4d1fecaedbda9e",
              "IPY_MODEL_812337690d6e4a46a2b086505c86a2c2"
            ],
            "layout": "IPY_MODEL_922e29760dec4f2d864c2558ca0ddece"
          }
        },
        "4cc7fe71c5524d198d0b194481dfdffe": {
          "model_module": "@jupyter-widgets/controls",
          "model_name": "HTMLModel",
          "model_module_version": "1.5.0",
          "state": {
            "_dom_classes": [],
            "_model_module": "@jupyter-widgets/controls",
            "_model_module_version": "1.5.0",
            "_model_name": "HTMLModel",
            "_view_count": null,
            "_view_module": "@jupyter-widgets/controls",
            "_view_module_version": "1.5.0",
            "_view_name": "HTMLView",
            "description": "",
            "description_tooltip": null,
            "layout": "IPY_MODEL_eab7008b4d53474796fa41250970d603",
            "placeholder": "​",
            "style": "IPY_MODEL_663bca18af0244c9a16b24ec8d92584c",
            "value": "Downloading: 100%"
          }
        },
        "cd6ffb1bf3564eac9f4d1fecaedbda9e": {
          "model_module": "@jupyter-widgets/controls",
          "model_name": "FloatProgressModel",
          "model_module_version": "1.5.0",
          "state": {
            "_dom_classes": [],
            "_model_module": "@jupyter-widgets/controls",
            "_model_module_version": "1.5.0",
            "_model_name": "FloatProgressModel",
            "_view_count": null,
            "_view_module": "@jupyter-widgets/controls",
            "_view_module_version": "1.5.0",
            "_view_name": "ProgressView",
            "bar_style": "success",
            "description": "",
            "description_tooltip": null,
            "layout": "IPY_MODEL_4bd3c8a007484a74b35c4ea59009d225",
            "max": 456318,
            "min": 0,
            "orientation": "horizontal",
            "style": "IPY_MODEL_019a65d52d904ae6b9f911ace1382601",
            "value": 456318
          }
        },
        "812337690d6e4a46a2b086505c86a2c2": {
          "model_module": "@jupyter-widgets/controls",
          "model_name": "HTMLModel",
          "model_module_version": "1.5.0",
          "state": {
            "_dom_classes": [],
            "_model_module": "@jupyter-widgets/controls",
            "_model_module_version": "1.5.0",
            "_model_name": "HTMLModel",
            "_view_count": null,
            "_view_module": "@jupyter-widgets/controls",
            "_view_module_version": "1.5.0",
            "_view_name": "HTMLView",
            "description": "",
            "description_tooltip": null,
            "layout": "IPY_MODEL_9ee444c879ef494eb725d082d04c54fa",
            "placeholder": "​",
            "style": "IPY_MODEL_076514d042f74e87b57649c80c601132",
            "value": " 446k/446k [00:00&lt;00:00, 852kB/s]"
          }
        },
        "922e29760dec4f2d864c2558ca0ddece": {
          "model_module": "@jupyter-widgets/base",
          "model_name": "LayoutModel",
          "model_module_version": "1.2.0",
          "state": {
            "_model_module": "@jupyter-widgets/base",
            "_model_module_version": "1.2.0",
            "_model_name": "LayoutModel",
            "_view_count": null,
            "_view_module": "@jupyter-widgets/base",
            "_view_module_version": "1.2.0",
            "_view_name": "LayoutView",
            "align_content": null,
            "align_items": null,
            "align_self": null,
            "border": null,
            "bottom": null,
            "display": null,
            "flex": null,
            "flex_flow": null,
            "grid_area": null,
            "grid_auto_columns": null,
            "grid_auto_flow": null,
            "grid_auto_rows": null,
            "grid_column": null,
            "grid_gap": null,
            "grid_row": null,
            "grid_template_areas": null,
            "grid_template_columns": null,
            "grid_template_rows": null,
            "height": null,
            "justify_content": null,
            "justify_items": null,
            "left": null,
            "margin": null,
            "max_height": null,
            "max_width": null,
            "min_height": null,
            "min_width": null,
            "object_fit": null,
            "object_position": null,
            "order": null,
            "overflow": null,
            "overflow_x": null,
            "overflow_y": null,
            "padding": null,
            "right": null,
            "top": null,
            "visibility": null,
            "width": null
          }
        },
        "eab7008b4d53474796fa41250970d603": {
          "model_module": "@jupyter-widgets/base",
          "model_name": "LayoutModel",
          "model_module_version": "1.2.0",
          "state": {
            "_model_module": "@jupyter-widgets/base",
            "_model_module_version": "1.2.0",
            "_model_name": "LayoutModel",
            "_view_count": null,
            "_view_module": "@jupyter-widgets/base",
            "_view_module_version": "1.2.0",
            "_view_name": "LayoutView",
            "align_content": null,
            "align_items": null,
            "align_self": null,
            "border": null,
            "bottom": null,
            "display": null,
            "flex": null,
            "flex_flow": null,
            "grid_area": null,
            "grid_auto_columns": null,
            "grid_auto_flow": null,
            "grid_auto_rows": null,
            "grid_column": null,
            "grid_gap": null,
            "grid_row": null,
            "grid_template_areas": null,
            "grid_template_columns": null,
            "grid_template_rows": null,
            "height": null,
            "justify_content": null,
            "justify_items": null,
            "left": null,
            "margin": null,
            "max_height": null,
            "max_width": null,
            "min_height": null,
            "min_width": null,
            "object_fit": null,
            "object_position": null,
            "order": null,
            "overflow": null,
            "overflow_x": null,
            "overflow_y": null,
            "padding": null,
            "right": null,
            "top": null,
            "visibility": null,
            "width": null
          }
        },
        "663bca18af0244c9a16b24ec8d92584c": {
          "model_module": "@jupyter-widgets/controls",
          "model_name": "DescriptionStyleModel",
          "model_module_version": "1.5.0",
          "state": {
            "_model_module": "@jupyter-widgets/controls",
            "_model_module_version": "1.5.0",
            "_model_name": "DescriptionStyleModel",
            "_view_count": null,
            "_view_module": "@jupyter-widgets/base",
            "_view_module_version": "1.2.0",
            "_view_name": "StyleView",
            "description_width": ""
          }
        },
        "4bd3c8a007484a74b35c4ea59009d225": {
          "model_module": "@jupyter-widgets/base",
          "model_name": "LayoutModel",
          "model_module_version": "1.2.0",
          "state": {
            "_model_module": "@jupyter-widgets/base",
            "_model_module_version": "1.2.0",
            "_model_name": "LayoutModel",
            "_view_count": null,
            "_view_module": "@jupyter-widgets/base",
            "_view_module_version": "1.2.0",
            "_view_name": "LayoutView",
            "align_content": null,
            "align_items": null,
            "align_self": null,
            "border": null,
            "bottom": null,
            "display": null,
            "flex": null,
            "flex_flow": null,
            "grid_area": null,
            "grid_auto_columns": null,
            "grid_auto_flow": null,
            "grid_auto_rows": null,
            "grid_column": null,
            "grid_gap": null,
            "grid_row": null,
            "grid_template_areas": null,
            "grid_template_columns": null,
            "grid_template_rows": null,
            "height": null,
            "justify_content": null,
            "justify_items": null,
            "left": null,
            "margin": null,
            "max_height": null,
            "max_width": null,
            "min_height": null,
            "min_width": null,
            "object_fit": null,
            "object_position": null,
            "order": null,
            "overflow": null,
            "overflow_x": null,
            "overflow_y": null,
            "padding": null,
            "right": null,
            "top": null,
            "visibility": null,
            "width": null
          }
        },
        "019a65d52d904ae6b9f911ace1382601": {
          "model_module": "@jupyter-widgets/controls",
          "model_name": "ProgressStyleModel",
          "model_module_version": "1.5.0",
          "state": {
            "_model_module": "@jupyter-widgets/controls",
            "_model_module_version": "1.5.0",
            "_model_name": "ProgressStyleModel",
            "_view_count": null,
            "_view_module": "@jupyter-widgets/base",
            "_view_module_version": "1.2.0",
            "_view_name": "StyleView",
            "bar_color": null,
            "description_width": ""
          }
        },
        "9ee444c879ef494eb725d082d04c54fa": {
          "model_module": "@jupyter-widgets/base",
          "model_name": "LayoutModel",
          "model_module_version": "1.2.0",
          "state": {
            "_model_module": "@jupyter-widgets/base",
            "_model_module_version": "1.2.0",
            "_model_name": "LayoutModel",
            "_view_count": null,
            "_view_module": "@jupyter-widgets/base",
            "_view_module_version": "1.2.0",
            "_view_name": "LayoutView",
            "align_content": null,
            "align_items": null,
            "align_self": null,
            "border": null,
            "bottom": null,
            "display": null,
            "flex": null,
            "flex_flow": null,
            "grid_area": null,
            "grid_auto_columns": null,
            "grid_auto_flow": null,
            "grid_auto_rows": null,
            "grid_column": null,
            "grid_gap": null,
            "grid_row": null,
            "grid_template_areas": null,
            "grid_template_columns": null,
            "grid_template_rows": null,
            "height": null,
            "justify_content": null,
            "justify_items": null,
            "left": null,
            "margin": null,
            "max_height": null,
            "max_width": null,
            "min_height": null,
            "min_width": null,
            "object_fit": null,
            "object_position": null,
            "order": null,
            "overflow": null,
            "overflow_x": null,
            "overflow_y": null,
            "padding": null,
            "right": null,
            "top": null,
            "visibility": null,
            "width": null
          }
        },
        "076514d042f74e87b57649c80c601132": {
          "model_module": "@jupyter-widgets/controls",
          "model_name": "DescriptionStyleModel",
          "model_module_version": "1.5.0",
          "state": {
            "_model_module": "@jupyter-widgets/controls",
            "_model_module_version": "1.5.0",
            "_model_name": "DescriptionStyleModel",
            "_view_count": null,
            "_view_module": "@jupyter-widgets/base",
            "_view_module_version": "1.2.0",
            "_view_name": "StyleView",
            "description_width": ""
          }
        },
        "d36069fe09d34358bcee5837e5f3e70e": {
          "model_module": "@jupyter-widgets/controls",
          "model_name": "HBoxModel",
          "model_module_version": "1.5.0",
          "state": {
            "_dom_classes": [],
            "_model_module": "@jupyter-widgets/controls",
            "_model_module_version": "1.5.0",
            "_model_name": "HBoxModel",
            "_view_count": null,
            "_view_module": "@jupyter-widgets/controls",
            "_view_module_version": "1.5.0",
            "_view_name": "HBoxView",
            "box_style": "",
            "children": [
              "IPY_MODEL_0cb2d02ecd7d4a70a9bee59606cad23b",
              "IPY_MODEL_cea7380e61264a6cb7dd58c84ff7c8a9",
              "IPY_MODEL_f1aa411835584ac29d6ba205bbc71c09"
            ],
            "layout": "IPY_MODEL_cce003b96d9d436ba3ca40f39d590e37"
          }
        },
        "0cb2d02ecd7d4a70a9bee59606cad23b": {
          "model_module": "@jupyter-widgets/controls",
          "model_name": "HTMLModel",
          "model_module_version": "1.5.0",
          "state": {
            "_dom_classes": [],
            "_model_module": "@jupyter-widgets/controls",
            "_model_module_version": "1.5.0",
            "_model_name": "HTMLModel",
            "_view_count": null,
            "_view_module": "@jupyter-widgets/controls",
            "_view_module_version": "1.5.0",
            "_view_name": "HTMLView",
            "description": "",
            "description_tooltip": null,
            "layout": "IPY_MODEL_6fa14ff880034c6fba42b765dac33365",
            "placeholder": "​",
            "style": "IPY_MODEL_f0ec051643714019b0d05edf9352787f",
            "value": "Downloading: 100%"
          }
        },
        "cea7380e61264a6cb7dd58c84ff7c8a9": {
          "model_module": "@jupyter-widgets/controls",
          "model_name": "FloatProgressModel",
          "model_module_version": "1.5.0",
          "state": {
            "_dom_classes": [],
            "_model_module": "@jupyter-widgets/controls",
            "_model_module_version": "1.5.0",
            "_model_name": "FloatProgressModel",
            "_view_count": null,
            "_view_module": "@jupyter-widgets/controls",
            "_view_module_version": "1.5.0",
            "_view_name": "ProgressView",
            "bar_style": "success",
            "description": "",
            "description_tooltip": null,
            "layout": "IPY_MODEL_76d5c6bf1fb5425b9fafa2805907c8dc",
            "max": 570,
            "min": 0,
            "orientation": "horizontal",
            "style": "IPY_MODEL_7b6d953c8d6a4badaf274ae92436a676",
            "value": 570
          }
        },
        "f1aa411835584ac29d6ba205bbc71c09": {
          "model_module": "@jupyter-widgets/controls",
          "model_name": "HTMLModel",
          "model_module_version": "1.5.0",
          "state": {
            "_dom_classes": [],
            "_model_module": "@jupyter-widgets/controls",
            "_model_module_version": "1.5.0",
            "_model_name": "HTMLModel",
            "_view_count": null,
            "_view_module": "@jupyter-widgets/controls",
            "_view_module_version": "1.5.0",
            "_view_name": "HTMLView",
            "description": "",
            "description_tooltip": null,
            "layout": "IPY_MODEL_4349eb73052c4347b6f3e7ea999ba6a8",
            "placeholder": "​",
            "style": "IPY_MODEL_8fe4deea699e44669aaeebcc9f2f39e1",
            "value": " 570/570 [00:00&lt;00:00, 18.2kB/s]"
          }
        },
        "cce003b96d9d436ba3ca40f39d590e37": {
          "model_module": "@jupyter-widgets/base",
          "model_name": "LayoutModel",
          "model_module_version": "1.2.0",
          "state": {
            "_model_module": "@jupyter-widgets/base",
            "_model_module_version": "1.2.0",
            "_model_name": "LayoutModel",
            "_view_count": null,
            "_view_module": "@jupyter-widgets/base",
            "_view_module_version": "1.2.0",
            "_view_name": "LayoutView",
            "align_content": null,
            "align_items": null,
            "align_self": null,
            "border": null,
            "bottom": null,
            "display": null,
            "flex": null,
            "flex_flow": null,
            "grid_area": null,
            "grid_auto_columns": null,
            "grid_auto_flow": null,
            "grid_auto_rows": null,
            "grid_column": null,
            "grid_gap": null,
            "grid_row": null,
            "grid_template_areas": null,
            "grid_template_columns": null,
            "grid_template_rows": null,
            "height": null,
            "justify_content": null,
            "justify_items": null,
            "left": null,
            "margin": null,
            "max_height": null,
            "max_width": null,
            "min_height": null,
            "min_width": null,
            "object_fit": null,
            "object_position": null,
            "order": null,
            "overflow": null,
            "overflow_x": null,
            "overflow_y": null,
            "padding": null,
            "right": null,
            "top": null,
            "visibility": null,
            "width": null
          }
        },
        "6fa14ff880034c6fba42b765dac33365": {
          "model_module": "@jupyter-widgets/base",
          "model_name": "LayoutModel",
          "model_module_version": "1.2.0",
          "state": {
            "_model_module": "@jupyter-widgets/base",
            "_model_module_version": "1.2.0",
            "_model_name": "LayoutModel",
            "_view_count": null,
            "_view_module": "@jupyter-widgets/base",
            "_view_module_version": "1.2.0",
            "_view_name": "LayoutView",
            "align_content": null,
            "align_items": null,
            "align_self": null,
            "border": null,
            "bottom": null,
            "display": null,
            "flex": null,
            "flex_flow": null,
            "grid_area": null,
            "grid_auto_columns": null,
            "grid_auto_flow": null,
            "grid_auto_rows": null,
            "grid_column": null,
            "grid_gap": null,
            "grid_row": null,
            "grid_template_areas": null,
            "grid_template_columns": null,
            "grid_template_rows": null,
            "height": null,
            "justify_content": null,
            "justify_items": null,
            "left": null,
            "margin": null,
            "max_height": null,
            "max_width": null,
            "min_height": null,
            "min_width": null,
            "object_fit": null,
            "object_position": null,
            "order": null,
            "overflow": null,
            "overflow_x": null,
            "overflow_y": null,
            "padding": null,
            "right": null,
            "top": null,
            "visibility": null,
            "width": null
          }
        },
        "f0ec051643714019b0d05edf9352787f": {
          "model_module": "@jupyter-widgets/controls",
          "model_name": "DescriptionStyleModel",
          "model_module_version": "1.5.0",
          "state": {
            "_model_module": "@jupyter-widgets/controls",
            "_model_module_version": "1.5.0",
            "_model_name": "DescriptionStyleModel",
            "_view_count": null,
            "_view_module": "@jupyter-widgets/base",
            "_view_module_version": "1.2.0",
            "_view_name": "StyleView",
            "description_width": ""
          }
        },
        "76d5c6bf1fb5425b9fafa2805907c8dc": {
          "model_module": "@jupyter-widgets/base",
          "model_name": "LayoutModel",
          "model_module_version": "1.2.0",
          "state": {
            "_model_module": "@jupyter-widgets/base",
            "_model_module_version": "1.2.0",
            "_model_name": "LayoutModel",
            "_view_count": null,
            "_view_module": "@jupyter-widgets/base",
            "_view_module_version": "1.2.0",
            "_view_name": "LayoutView",
            "align_content": null,
            "align_items": null,
            "align_self": null,
            "border": null,
            "bottom": null,
            "display": null,
            "flex": null,
            "flex_flow": null,
            "grid_area": null,
            "grid_auto_columns": null,
            "grid_auto_flow": null,
            "grid_auto_rows": null,
            "grid_column": null,
            "grid_gap": null,
            "grid_row": null,
            "grid_template_areas": null,
            "grid_template_columns": null,
            "grid_template_rows": null,
            "height": null,
            "justify_content": null,
            "justify_items": null,
            "left": null,
            "margin": null,
            "max_height": null,
            "max_width": null,
            "min_height": null,
            "min_width": null,
            "object_fit": null,
            "object_position": null,
            "order": null,
            "overflow": null,
            "overflow_x": null,
            "overflow_y": null,
            "padding": null,
            "right": null,
            "top": null,
            "visibility": null,
            "width": null
          }
        },
        "7b6d953c8d6a4badaf274ae92436a676": {
          "model_module": "@jupyter-widgets/controls",
          "model_name": "ProgressStyleModel",
          "model_module_version": "1.5.0",
          "state": {
            "_model_module": "@jupyter-widgets/controls",
            "_model_module_version": "1.5.0",
            "_model_name": "ProgressStyleModel",
            "_view_count": null,
            "_view_module": "@jupyter-widgets/base",
            "_view_module_version": "1.2.0",
            "_view_name": "StyleView",
            "bar_color": null,
            "description_width": ""
          }
        },
        "4349eb73052c4347b6f3e7ea999ba6a8": {
          "model_module": "@jupyter-widgets/base",
          "model_name": "LayoutModel",
          "model_module_version": "1.2.0",
          "state": {
            "_model_module": "@jupyter-widgets/base",
            "_model_module_version": "1.2.0",
            "_model_name": "LayoutModel",
            "_view_count": null,
            "_view_module": "@jupyter-widgets/base",
            "_view_module_version": "1.2.0",
            "_view_name": "LayoutView",
            "align_content": null,
            "align_items": null,
            "align_self": null,
            "border": null,
            "bottom": null,
            "display": null,
            "flex": null,
            "flex_flow": null,
            "grid_area": null,
            "grid_auto_columns": null,
            "grid_auto_flow": null,
            "grid_auto_rows": null,
            "grid_column": null,
            "grid_gap": null,
            "grid_row": null,
            "grid_template_areas": null,
            "grid_template_columns": null,
            "grid_template_rows": null,
            "height": null,
            "justify_content": null,
            "justify_items": null,
            "left": null,
            "margin": null,
            "max_height": null,
            "max_width": null,
            "min_height": null,
            "min_width": null,
            "object_fit": null,
            "object_position": null,
            "order": null,
            "overflow": null,
            "overflow_x": null,
            "overflow_y": null,
            "padding": null,
            "right": null,
            "top": null,
            "visibility": null,
            "width": null
          }
        },
        "8fe4deea699e44669aaeebcc9f2f39e1": {
          "model_module": "@jupyter-widgets/controls",
          "model_name": "DescriptionStyleModel",
          "model_module_version": "1.5.0",
          "state": {
            "_model_module": "@jupyter-widgets/controls",
            "_model_module_version": "1.5.0",
            "_model_name": "DescriptionStyleModel",
            "_view_count": null,
            "_view_module": "@jupyter-widgets/base",
            "_view_module_version": "1.2.0",
            "_view_name": "StyleView",
            "description_width": ""
          }
        },
        "0b60aaea13274aa49ed39a4aee2f480b": {
          "model_module": "@jupyter-widgets/controls",
          "model_name": "HBoxModel",
          "model_module_version": "1.5.0",
          "state": {
            "_dom_classes": [],
            "_model_module": "@jupyter-widgets/controls",
            "_model_module_version": "1.5.0",
            "_model_name": "HBoxModel",
            "_view_count": null,
            "_view_module": "@jupyter-widgets/controls",
            "_view_module_version": "1.5.0",
            "_view_name": "HBoxView",
            "box_style": "",
            "children": [
              "IPY_MODEL_c0942a4a17c14df5b6b6d25eabdc7956",
              "IPY_MODEL_8ae9ffb9bc0d4367942bc5fe5a50b443",
              "IPY_MODEL_89cbcdb5207b4e2295c9d4b44689a631"
            ],
            "layout": "IPY_MODEL_ad56dbd2d615454b93eaf9bbee559d06"
          }
        },
        "c0942a4a17c14df5b6b6d25eabdc7956": {
          "model_module": "@jupyter-widgets/controls",
          "model_name": "HTMLModel",
          "model_module_version": "1.5.0",
          "state": {
            "_dom_classes": [],
            "_model_module": "@jupyter-widgets/controls",
            "_model_module_version": "1.5.0",
            "_model_name": "HTMLModel",
            "_view_count": null,
            "_view_module": "@jupyter-widgets/controls",
            "_view_module_version": "1.5.0",
            "_view_name": "HTMLView",
            "description": "",
            "description_tooltip": null,
            "layout": "IPY_MODEL_2542bfb169d841ebb474e4315822a65a",
            "placeholder": "​",
            "style": "IPY_MODEL_eec8ded1a3774945b4536aeb8af5b62f",
            "value": "Downloading: 100%"
          }
        },
        "8ae9ffb9bc0d4367942bc5fe5a50b443": {
          "model_module": "@jupyter-widgets/controls",
          "model_name": "FloatProgressModel",
          "model_module_version": "1.5.0",
          "state": {
            "_dom_classes": [],
            "_model_module": "@jupyter-widgets/controls",
            "_model_module_version": "1.5.0",
            "_model_name": "FloatProgressModel",
            "_view_count": null,
            "_view_module": "@jupyter-widgets/controls",
            "_view_module_version": "1.5.0",
            "_view_name": "ProgressView",
            "bar_style": "success",
            "description": "",
            "description_tooltip": null,
            "layout": "IPY_MODEL_ec6e6d4279ca4a2d9edbe18abdbf4ffd",
            "max": 536063208,
            "min": 0,
            "orientation": "horizontal",
            "style": "IPY_MODEL_e30af9ab09fd43bd996b325f60a1583a",
            "value": 536063208
          }
        },
        "89cbcdb5207b4e2295c9d4b44689a631": {
          "model_module": "@jupyter-widgets/controls",
          "model_name": "HTMLModel",
          "model_module_version": "1.5.0",
          "state": {
            "_dom_classes": [],
            "_model_module": "@jupyter-widgets/controls",
            "_model_module_version": "1.5.0",
            "_model_name": "HTMLModel",
            "_view_count": null,
            "_view_module": "@jupyter-widgets/controls",
            "_view_module_version": "1.5.0",
            "_view_name": "HTMLView",
            "description": "",
            "description_tooltip": null,
            "layout": "IPY_MODEL_3764ab9c99b24f4490825a5fe02482ae",
            "placeholder": "​",
            "style": "IPY_MODEL_f3ad50ab074f499ebda524ec8637ae5c",
            "value": " 511M/511M [00:23&lt;00:00, 59.1MB/s]"
          }
        },
        "ad56dbd2d615454b93eaf9bbee559d06": {
          "model_module": "@jupyter-widgets/base",
          "model_name": "LayoutModel",
          "model_module_version": "1.2.0",
          "state": {
            "_model_module": "@jupyter-widgets/base",
            "_model_module_version": "1.2.0",
            "_model_name": "LayoutModel",
            "_view_count": null,
            "_view_module": "@jupyter-widgets/base",
            "_view_module_version": "1.2.0",
            "_view_name": "LayoutView",
            "align_content": null,
            "align_items": null,
            "align_self": null,
            "border": null,
            "bottom": null,
            "display": null,
            "flex": null,
            "flex_flow": null,
            "grid_area": null,
            "grid_auto_columns": null,
            "grid_auto_flow": null,
            "grid_auto_rows": null,
            "grid_column": null,
            "grid_gap": null,
            "grid_row": null,
            "grid_template_areas": null,
            "grid_template_columns": null,
            "grid_template_rows": null,
            "height": null,
            "justify_content": null,
            "justify_items": null,
            "left": null,
            "margin": null,
            "max_height": null,
            "max_width": null,
            "min_height": null,
            "min_width": null,
            "object_fit": null,
            "object_position": null,
            "order": null,
            "overflow": null,
            "overflow_x": null,
            "overflow_y": null,
            "padding": null,
            "right": null,
            "top": null,
            "visibility": null,
            "width": null
          }
        },
        "2542bfb169d841ebb474e4315822a65a": {
          "model_module": "@jupyter-widgets/base",
          "model_name": "LayoutModel",
          "model_module_version": "1.2.0",
          "state": {
            "_model_module": "@jupyter-widgets/base",
            "_model_module_version": "1.2.0",
            "_model_name": "LayoutModel",
            "_view_count": null,
            "_view_module": "@jupyter-widgets/base",
            "_view_module_version": "1.2.0",
            "_view_name": "LayoutView",
            "align_content": null,
            "align_items": null,
            "align_self": null,
            "border": null,
            "bottom": null,
            "display": null,
            "flex": null,
            "flex_flow": null,
            "grid_area": null,
            "grid_auto_columns": null,
            "grid_auto_flow": null,
            "grid_auto_rows": null,
            "grid_column": null,
            "grid_gap": null,
            "grid_row": null,
            "grid_template_areas": null,
            "grid_template_columns": null,
            "grid_template_rows": null,
            "height": null,
            "justify_content": null,
            "justify_items": null,
            "left": null,
            "margin": null,
            "max_height": null,
            "max_width": null,
            "min_height": null,
            "min_width": null,
            "object_fit": null,
            "object_position": null,
            "order": null,
            "overflow": null,
            "overflow_x": null,
            "overflow_y": null,
            "padding": null,
            "right": null,
            "top": null,
            "visibility": null,
            "width": null
          }
        },
        "eec8ded1a3774945b4536aeb8af5b62f": {
          "model_module": "@jupyter-widgets/controls",
          "model_name": "DescriptionStyleModel",
          "model_module_version": "1.5.0",
          "state": {
            "_model_module": "@jupyter-widgets/controls",
            "_model_module_version": "1.5.0",
            "_model_name": "DescriptionStyleModel",
            "_view_count": null,
            "_view_module": "@jupyter-widgets/base",
            "_view_module_version": "1.2.0",
            "_view_name": "StyleView",
            "description_width": ""
          }
        },
        "ec6e6d4279ca4a2d9edbe18abdbf4ffd": {
          "model_module": "@jupyter-widgets/base",
          "model_name": "LayoutModel",
          "model_module_version": "1.2.0",
          "state": {
            "_model_module": "@jupyter-widgets/base",
            "_model_module_version": "1.2.0",
            "_model_name": "LayoutModel",
            "_view_count": null,
            "_view_module": "@jupyter-widgets/base",
            "_view_module_version": "1.2.0",
            "_view_name": "LayoutView",
            "align_content": null,
            "align_items": null,
            "align_self": null,
            "border": null,
            "bottom": null,
            "display": null,
            "flex": null,
            "flex_flow": null,
            "grid_area": null,
            "grid_auto_columns": null,
            "grid_auto_flow": null,
            "grid_auto_rows": null,
            "grid_column": null,
            "grid_gap": null,
            "grid_row": null,
            "grid_template_areas": null,
            "grid_template_columns": null,
            "grid_template_rows": null,
            "height": null,
            "justify_content": null,
            "justify_items": null,
            "left": null,
            "margin": null,
            "max_height": null,
            "max_width": null,
            "min_height": null,
            "min_width": null,
            "object_fit": null,
            "object_position": null,
            "order": null,
            "overflow": null,
            "overflow_x": null,
            "overflow_y": null,
            "padding": null,
            "right": null,
            "top": null,
            "visibility": null,
            "width": null
          }
        },
        "e30af9ab09fd43bd996b325f60a1583a": {
          "model_module": "@jupyter-widgets/controls",
          "model_name": "ProgressStyleModel",
          "model_module_version": "1.5.0",
          "state": {
            "_model_module": "@jupyter-widgets/controls",
            "_model_module_version": "1.5.0",
            "_model_name": "ProgressStyleModel",
            "_view_count": null,
            "_view_module": "@jupyter-widgets/base",
            "_view_module_version": "1.2.0",
            "_view_name": "StyleView",
            "bar_color": null,
            "description_width": ""
          }
        },
        "3764ab9c99b24f4490825a5fe02482ae": {
          "model_module": "@jupyter-widgets/base",
          "model_name": "LayoutModel",
          "model_module_version": "1.2.0",
          "state": {
            "_model_module": "@jupyter-widgets/base",
            "_model_module_version": "1.2.0",
            "_model_name": "LayoutModel",
            "_view_count": null,
            "_view_module": "@jupyter-widgets/base",
            "_view_module_version": "1.2.0",
            "_view_name": "LayoutView",
            "align_content": null,
            "align_items": null,
            "align_self": null,
            "border": null,
            "bottom": null,
            "display": null,
            "flex": null,
            "flex_flow": null,
            "grid_area": null,
            "grid_auto_columns": null,
            "grid_auto_flow": null,
            "grid_auto_rows": null,
            "grid_column": null,
            "grid_gap": null,
            "grid_row": null,
            "grid_template_areas": null,
            "grid_template_columns": null,
            "grid_template_rows": null,
            "height": null,
            "justify_content": null,
            "justify_items": null,
            "left": null,
            "margin": null,
            "max_height": null,
            "max_width": null,
            "min_height": null,
            "min_width": null,
            "object_fit": null,
            "object_position": null,
            "order": null,
            "overflow": null,
            "overflow_x": null,
            "overflow_y": null,
            "padding": null,
            "right": null,
            "top": null,
            "visibility": null,
            "width": null
          }
        },
        "f3ad50ab074f499ebda524ec8637ae5c": {
          "model_module": "@jupyter-widgets/controls",
          "model_name": "DescriptionStyleModel",
          "model_module_version": "1.5.0",
          "state": {
            "_model_module": "@jupyter-widgets/controls",
            "_model_module_version": "1.5.0",
            "_model_name": "DescriptionStyleModel",
            "_view_count": null,
            "_view_module": "@jupyter-widgets/base",
            "_view_module_version": "1.2.0",
            "_view_name": "StyleView",
            "description_width": ""
          }
        },
        "80b420511a604aab9d1f77b292ea50e2": {
          "model_module": "@jupyter-widgets/controls",
          "model_name": "HBoxModel",
          "model_module_version": "1.5.0",
          "state": {
            "_dom_classes": [],
            "_model_module": "@jupyter-widgets/controls",
            "_model_module_version": "1.5.0",
            "_model_name": "HBoxModel",
            "_view_count": null,
            "_view_module": "@jupyter-widgets/controls",
            "_view_module_version": "1.5.0",
            "_view_name": "HBoxView",
            "box_style": "",
            "children": [
              "IPY_MODEL_4343899aa70b42f2baa7308536fd1a47",
              "IPY_MODEL_c03a9ab4eb79441b949ec82b7107fd66",
              "IPY_MODEL_ad51e6604c8c42d599b4fc37c76621d9"
            ],
            "layout": "IPY_MODEL_695e6fc8e85d4347acf74f07cf643ae4"
          }
        },
        "4343899aa70b42f2baa7308536fd1a47": {
          "model_module": "@jupyter-widgets/controls",
          "model_name": "HTMLModel",
          "model_module_version": "1.5.0",
          "state": {
            "_dom_classes": [],
            "_model_module": "@jupyter-widgets/controls",
            "_model_module_version": "1.5.0",
            "_model_name": "HTMLModel",
            "_view_count": null,
            "_view_module": "@jupyter-widgets/controls",
            "_view_module_version": "1.5.0",
            "_view_name": "HTMLView",
            "description": "",
            "description_tooltip": null,
            "layout": "IPY_MODEL_628886859a4b42da84d848595741d17b",
            "placeholder": "​",
            "style": "IPY_MODEL_44b4ad0c9481423ea3e6c0fbf82a4cc2",
            "value": "Downloading: 100%"
          }
        },
        "c03a9ab4eb79441b949ec82b7107fd66": {
          "model_module": "@jupyter-widgets/controls",
          "model_name": "FloatProgressModel",
          "model_module_version": "1.5.0",
          "state": {
            "_dom_classes": [],
            "_model_module": "@jupyter-widgets/controls",
            "_model_module_version": "1.5.0",
            "_model_name": "FloatProgressModel",
            "_view_count": null,
            "_view_module": "@jupyter-widgets/controls",
            "_view_module_version": "1.5.0",
            "_view_name": "ProgressView",
            "bar_style": "success",
            "description": "",
            "description_tooltip": null,
            "layout": "IPY_MODEL_5b586794cd1c4a47b72b6e822ba20632",
            "max": 231508,
            "min": 0,
            "orientation": "horizontal",
            "style": "IPY_MODEL_fa9dfffe0aec468d8dd2977648dd8221",
            "value": 231508
          }
        },
        "ad51e6604c8c42d599b4fc37c76621d9": {
          "model_module": "@jupyter-widgets/controls",
          "model_name": "HTMLModel",
          "model_module_version": "1.5.0",
          "state": {
            "_dom_classes": [],
            "_model_module": "@jupyter-widgets/controls",
            "_model_module_version": "1.5.0",
            "_model_name": "HTMLModel",
            "_view_count": null,
            "_view_module": "@jupyter-widgets/controls",
            "_view_module_version": "1.5.0",
            "_view_name": "HTMLView",
            "description": "",
            "description_tooltip": null,
            "layout": "IPY_MODEL_c5c9ccc2e9884eddb32884ab68e96568",
            "placeholder": "​",
            "style": "IPY_MODEL_21cea8a18f8445f1a548df60a9308f1e",
            "value": " 226k/226k [00:00&lt;00:00, 904kB/s]"
          }
        },
        "695e6fc8e85d4347acf74f07cf643ae4": {
          "model_module": "@jupyter-widgets/base",
          "model_name": "LayoutModel",
          "model_module_version": "1.2.0",
          "state": {
            "_model_module": "@jupyter-widgets/base",
            "_model_module_version": "1.2.0",
            "_model_name": "LayoutModel",
            "_view_count": null,
            "_view_module": "@jupyter-widgets/base",
            "_view_module_version": "1.2.0",
            "_view_name": "LayoutView",
            "align_content": null,
            "align_items": null,
            "align_self": null,
            "border": null,
            "bottom": null,
            "display": null,
            "flex": null,
            "flex_flow": null,
            "grid_area": null,
            "grid_auto_columns": null,
            "grid_auto_flow": null,
            "grid_auto_rows": null,
            "grid_column": null,
            "grid_gap": null,
            "grid_row": null,
            "grid_template_areas": null,
            "grid_template_columns": null,
            "grid_template_rows": null,
            "height": null,
            "justify_content": null,
            "justify_items": null,
            "left": null,
            "margin": null,
            "max_height": null,
            "max_width": null,
            "min_height": null,
            "min_width": null,
            "object_fit": null,
            "object_position": null,
            "order": null,
            "overflow": null,
            "overflow_x": null,
            "overflow_y": null,
            "padding": null,
            "right": null,
            "top": null,
            "visibility": null,
            "width": null
          }
        },
        "628886859a4b42da84d848595741d17b": {
          "model_module": "@jupyter-widgets/base",
          "model_name": "LayoutModel",
          "model_module_version": "1.2.0",
          "state": {
            "_model_module": "@jupyter-widgets/base",
            "_model_module_version": "1.2.0",
            "_model_name": "LayoutModel",
            "_view_count": null,
            "_view_module": "@jupyter-widgets/base",
            "_view_module_version": "1.2.0",
            "_view_name": "LayoutView",
            "align_content": null,
            "align_items": null,
            "align_self": null,
            "border": null,
            "bottom": null,
            "display": null,
            "flex": null,
            "flex_flow": null,
            "grid_area": null,
            "grid_auto_columns": null,
            "grid_auto_flow": null,
            "grid_auto_rows": null,
            "grid_column": null,
            "grid_gap": null,
            "grid_row": null,
            "grid_template_areas": null,
            "grid_template_columns": null,
            "grid_template_rows": null,
            "height": null,
            "justify_content": null,
            "justify_items": null,
            "left": null,
            "margin": null,
            "max_height": null,
            "max_width": null,
            "min_height": null,
            "min_width": null,
            "object_fit": null,
            "object_position": null,
            "order": null,
            "overflow": null,
            "overflow_x": null,
            "overflow_y": null,
            "padding": null,
            "right": null,
            "top": null,
            "visibility": null,
            "width": null
          }
        },
        "44b4ad0c9481423ea3e6c0fbf82a4cc2": {
          "model_module": "@jupyter-widgets/controls",
          "model_name": "DescriptionStyleModel",
          "model_module_version": "1.5.0",
          "state": {
            "_model_module": "@jupyter-widgets/controls",
            "_model_module_version": "1.5.0",
            "_model_name": "DescriptionStyleModel",
            "_view_count": null,
            "_view_module": "@jupyter-widgets/base",
            "_view_module_version": "1.2.0",
            "_view_name": "StyleView",
            "description_width": ""
          }
        },
        "5b586794cd1c4a47b72b6e822ba20632": {
          "model_module": "@jupyter-widgets/base",
          "model_name": "LayoutModel",
          "model_module_version": "1.2.0",
          "state": {
            "_model_module": "@jupyter-widgets/base",
            "_model_module_version": "1.2.0",
            "_model_name": "LayoutModel",
            "_view_count": null,
            "_view_module": "@jupyter-widgets/base",
            "_view_module_version": "1.2.0",
            "_view_name": "LayoutView",
            "align_content": null,
            "align_items": null,
            "align_self": null,
            "border": null,
            "bottom": null,
            "display": null,
            "flex": null,
            "flex_flow": null,
            "grid_area": null,
            "grid_auto_columns": null,
            "grid_auto_flow": null,
            "grid_auto_rows": null,
            "grid_column": null,
            "grid_gap": null,
            "grid_row": null,
            "grid_template_areas": null,
            "grid_template_columns": null,
            "grid_template_rows": null,
            "height": null,
            "justify_content": null,
            "justify_items": null,
            "left": null,
            "margin": null,
            "max_height": null,
            "max_width": null,
            "min_height": null,
            "min_width": null,
            "object_fit": null,
            "object_position": null,
            "order": null,
            "overflow": null,
            "overflow_x": null,
            "overflow_y": null,
            "padding": null,
            "right": null,
            "top": null,
            "visibility": null,
            "width": null
          }
        },
        "fa9dfffe0aec468d8dd2977648dd8221": {
          "model_module": "@jupyter-widgets/controls",
          "model_name": "ProgressStyleModel",
          "model_module_version": "1.5.0",
          "state": {
            "_model_module": "@jupyter-widgets/controls",
            "_model_module_version": "1.5.0",
            "_model_name": "ProgressStyleModel",
            "_view_count": null,
            "_view_module": "@jupyter-widgets/base",
            "_view_module_version": "1.2.0",
            "_view_name": "StyleView",
            "bar_color": null,
            "description_width": ""
          }
        },
        "c5c9ccc2e9884eddb32884ab68e96568": {
          "model_module": "@jupyter-widgets/base",
          "model_name": "LayoutModel",
          "model_module_version": "1.2.0",
          "state": {
            "_model_module": "@jupyter-widgets/base",
            "_model_module_version": "1.2.0",
            "_model_name": "LayoutModel",
            "_view_count": null,
            "_view_module": "@jupyter-widgets/base",
            "_view_module_version": "1.2.0",
            "_view_name": "LayoutView",
            "align_content": null,
            "align_items": null,
            "align_self": null,
            "border": null,
            "bottom": null,
            "display": null,
            "flex": null,
            "flex_flow": null,
            "grid_area": null,
            "grid_auto_columns": null,
            "grid_auto_flow": null,
            "grid_auto_rows": null,
            "grid_column": null,
            "grid_gap": null,
            "grid_row": null,
            "grid_template_areas": null,
            "grid_template_columns": null,
            "grid_template_rows": null,
            "height": null,
            "justify_content": null,
            "justify_items": null,
            "left": null,
            "margin": null,
            "max_height": null,
            "max_width": null,
            "min_height": null,
            "min_width": null,
            "object_fit": null,
            "object_position": null,
            "order": null,
            "overflow": null,
            "overflow_x": null,
            "overflow_y": null,
            "padding": null,
            "right": null,
            "top": null,
            "visibility": null,
            "width": null
          }
        },
        "21cea8a18f8445f1a548df60a9308f1e": {
          "model_module": "@jupyter-widgets/controls",
          "model_name": "DescriptionStyleModel",
          "model_module_version": "1.5.0",
          "state": {
            "_model_module": "@jupyter-widgets/controls",
            "_model_module_version": "1.5.0",
            "_model_name": "DescriptionStyleModel",
            "_view_count": null,
            "_view_module": "@jupyter-widgets/base",
            "_view_module_version": "1.2.0",
            "_view_name": "StyleView",
            "description_width": ""
          }
        },
        "9442ae37b3e1414d9e73e6d2b1abb6ef": {
          "model_module": "@jupyter-widgets/controls",
          "model_name": "HBoxModel",
          "model_module_version": "1.5.0",
          "state": {
            "_dom_classes": [],
            "_model_module": "@jupyter-widgets/controls",
            "_model_module_version": "1.5.0",
            "_model_name": "HBoxModel",
            "_view_count": null,
            "_view_module": "@jupyter-widgets/controls",
            "_view_module_version": "1.5.0",
            "_view_name": "HBoxView",
            "box_style": "",
            "children": [
              "IPY_MODEL_141cb06a05fe465abcc1f1553027f430",
              "IPY_MODEL_0adb9e84ac394ce0a447bea113c4b48d",
              "IPY_MODEL_9df36790ddd4464f9064495184e6bbed"
            ],
            "layout": "IPY_MODEL_93d06067415a40b28d2cc8b1f89811cd"
          }
        },
        "141cb06a05fe465abcc1f1553027f430": {
          "model_module": "@jupyter-widgets/controls",
          "model_name": "HTMLModel",
          "model_module_version": "1.5.0",
          "state": {
            "_dom_classes": [],
            "_model_module": "@jupyter-widgets/controls",
            "_model_module_version": "1.5.0",
            "_model_name": "HTMLModel",
            "_view_count": null,
            "_view_module": "@jupyter-widgets/controls",
            "_view_module_version": "1.5.0",
            "_view_name": "HTMLView",
            "description": "",
            "description_tooltip": null,
            "layout": "IPY_MODEL_a77c31d6e7e64b87a4d74d82d10c8ef3",
            "placeholder": "​",
            "style": "IPY_MODEL_3cec9decdc694d0fb118fb72d3f7c32e",
            "value": "Downloading: 100%"
          }
        },
        "0adb9e84ac394ce0a447bea113c4b48d": {
          "model_module": "@jupyter-widgets/controls",
          "model_name": "FloatProgressModel",
          "model_module_version": "1.5.0",
          "state": {
            "_dom_classes": [],
            "_model_module": "@jupyter-widgets/controls",
            "_model_module_version": "1.5.0",
            "_model_name": "FloatProgressModel",
            "_view_count": null,
            "_view_module": "@jupyter-widgets/controls",
            "_view_module_version": "1.5.0",
            "_view_name": "ProgressView",
            "bar_style": "success",
            "description": "",
            "description_tooltip": null,
            "layout": "IPY_MODEL_648412b285384b88b32620c6d9cef82e",
            "max": 28,
            "min": 0,
            "orientation": "horizontal",
            "style": "IPY_MODEL_505425ca2d9343eeb1279d2fdf213e33",
            "value": 28
          }
        },
        "9df36790ddd4464f9064495184e6bbed": {
          "model_module": "@jupyter-widgets/controls",
          "model_name": "HTMLModel",
          "model_module_version": "1.5.0",
          "state": {
            "_dom_classes": [],
            "_model_module": "@jupyter-widgets/controls",
            "_model_module_version": "1.5.0",
            "_model_name": "HTMLModel",
            "_view_count": null,
            "_view_module": "@jupyter-widgets/controls",
            "_view_module_version": "1.5.0",
            "_view_name": "HTMLView",
            "description": "",
            "description_tooltip": null,
            "layout": "IPY_MODEL_de2a96017d24465b9568c1a8e5db0b4f",
            "placeholder": "​",
            "style": "IPY_MODEL_11525cd0c1b741e28d92fd02f358893f",
            "value": " 28.0/28.0 [00:00&lt;00:00, 916B/s]"
          }
        },
        "93d06067415a40b28d2cc8b1f89811cd": {
          "model_module": "@jupyter-widgets/base",
          "model_name": "LayoutModel",
          "model_module_version": "1.2.0",
          "state": {
            "_model_module": "@jupyter-widgets/base",
            "_model_module_version": "1.2.0",
            "_model_name": "LayoutModel",
            "_view_count": null,
            "_view_module": "@jupyter-widgets/base",
            "_view_module_version": "1.2.0",
            "_view_name": "LayoutView",
            "align_content": null,
            "align_items": null,
            "align_self": null,
            "border": null,
            "bottom": null,
            "display": null,
            "flex": null,
            "flex_flow": null,
            "grid_area": null,
            "grid_auto_columns": null,
            "grid_auto_flow": null,
            "grid_auto_rows": null,
            "grid_column": null,
            "grid_gap": null,
            "grid_row": null,
            "grid_template_areas": null,
            "grid_template_columns": null,
            "grid_template_rows": null,
            "height": null,
            "justify_content": null,
            "justify_items": null,
            "left": null,
            "margin": null,
            "max_height": null,
            "max_width": null,
            "min_height": null,
            "min_width": null,
            "object_fit": null,
            "object_position": null,
            "order": null,
            "overflow": null,
            "overflow_x": null,
            "overflow_y": null,
            "padding": null,
            "right": null,
            "top": null,
            "visibility": null,
            "width": null
          }
        },
        "a77c31d6e7e64b87a4d74d82d10c8ef3": {
          "model_module": "@jupyter-widgets/base",
          "model_name": "LayoutModel",
          "model_module_version": "1.2.0",
          "state": {
            "_model_module": "@jupyter-widgets/base",
            "_model_module_version": "1.2.0",
            "_model_name": "LayoutModel",
            "_view_count": null,
            "_view_module": "@jupyter-widgets/base",
            "_view_module_version": "1.2.0",
            "_view_name": "LayoutView",
            "align_content": null,
            "align_items": null,
            "align_self": null,
            "border": null,
            "bottom": null,
            "display": null,
            "flex": null,
            "flex_flow": null,
            "grid_area": null,
            "grid_auto_columns": null,
            "grid_auto_flow": null,
            "grid_auto_rows": null,
            "grid_column": null,
            "grid_gap": null,
            "grid_row": null,
            "grid_template_areas": null,
            "grid_template_columns": null,
            "grid_template_rows": null,
            "height": null,
            "justify_content": null,
            "justify_items": null,
            "left": null,
            "margin": null,
            "max_height": null,
            "max_width": null,
            "min_height": null,
            "min_width": null,
            "object_fit": null,
            "object_position": null,
            "order": null,
            "overflow": null,
            "overflow_x": null,
            "overflow_y": null,
            "padding": null,
            "right": null,
            "top": null,
            "visibility": null,
            "width": null
          }
        },
        "3cec9decdc694d0fb118fb72d3f7c32e": {
          "model_module": "@jupyter-widgets/controls",
          "model_name": "DescriptionStyleModel",
          "model_module_version": "1.5.0",
          "state": {
            "_model_module": "@jupyter-widgets/controls",
            "_model_module_version": "1.5.0",
            "_model_name": "DescriptionStyleModel",
            "_view_count": null,
            "_view_module": "@jupyter-widgets/base",
            "_view_module_version": "1.2.0",
            "_view_name": "StyleView",
            "description_width": ""
          }
        },
        "648412b285384b88b32620c6d9cef82e": {
          "model_module": "@jupyter-widgets/base",
          "model_name": "LayoutModel",
          "model_module_version": "1.2.0",
          "state": {
            "_model_module": "@jupyter-widgets/base",
            "_model_module_version": "1.2.0",
            "_model_name": "LayoutModel",
            "_view_count": null,
            "_view_module": "@jupyter-widgets/base",
            "_view_module_version": "1.2.0",
            "_view_name": "LayoutView",
            "align_content": null,
            "align_items": null,
            "align_self": null,
            "border": null,
            "bottom": null,
            "display": null,
            "flex": null,
            "flex_flow": null,
            "grid_area": null,
            "grid_auto_columns": null,
            "grid_auto_flow": null,
            "grid_auto_rows": null,
            "grid_column": null,
            "grid_gap": null,
            "grid_row": null,
            "grid_template_areas": null,
            "grid_template_columns": null,
            "grid_template_rows": null,
            "height": null,
            "justify_content": null,
            "justify_items": null,
            "left": null,
            "margin": null,
            "max_height": null,
            "max_width": null,
            "min_height": null,
            "min_width": null,
            "object_fit": null,
            "object_position": null,
            "order": null,
            "overflow": null,
            "overflow_x": null,
            "overflow_y": null,
            "padding": null,
            "right": null,
            "top": null,
            "visibility": null,
            "width": null
          }
        },
        "505425ca2d9343eeb1279d2fdf213e33": {
          "model_module": "@jupyter-widgets/controls",
          "model_name": "ProgressStyleModel",
          "model_module_version": "1.5.0",
          "state": {
            "_model_module": "@jupyter-widgets/controls",
            "_model_module_version": "1.5.0",
            "_model_name": "ProgressStyleModel",
            "_view_count": null,
            "_view_module": "@jupyter-widgets/base",
            "_view_module_version": "1.2.0",
            "_view_name": "StyleView",
            "bar_color": null,
            "description_width": ""
          }
        },
        "de2a96017d24465b9568c1a8e5db0b4f": {
          "model_module": "@jupyter-widgets/base",
          "model_name": "LayoutModel",
          "model_module_version": "1.2.0",
          "state": {
            "_model_module": "@jupyter-widgets/base",
            "_model_module_version": "1.2.0",
            "_model_name": "LayoutModel",
            "_view_count": null,
            "_view_module": "@jupyter-widgets/base",
            "_view_module_version": "1.2.0",
            "_view_name": "LayoutView",
            "align_content": null,
            "align_items": null,
            "align_self": null,
            "border": null,
            "bottom": null,
            "display": null,
            "flex": null,
            "flex_flow": null,
            "grid_area": null,
            "grid_auto_columns": null,
            "grid_auto_flow": null,
            "grid_auto_rows": null,
            "grid_column": null,
            "grid_gap": null,
            "grid_row": null,
            "grid_template_areas": null,
            "grid_template_columns": null,
            "grid_template_rows": null,
            "height": null,
            "justify_content": null,
            "justify_items": null,
            "left": null,
            "margin": null,
            "max_height": null,
            "max_width": null,
            "min_height": null,
            "min_width": null,
            "object_fit": null,
            "object_position": null,
            "order": null,
            "overflow": null,
            "overflow_x": null,
            "overflow_y": null,
            "padding": null,
            "right": null,
            "top": null,
            "visibility": null,
            "width": null
          }
        },
        "11525cd0c1b741e28d92fd02f358893f": {
          "model_module": "@jupyter-widgets/controls",
          "model_name": "DescriptionStyleModel",
          "model_module_version": "1.5.0",
          "state": {
            "_model_module": "@jupyter-widgets/controls",
            "_model_module_version": "1.5.0",
            "_model_name": "DescriptionStyleModel",
            "_view_count": null,
            "_view_module": "@jupyter-widgets/base",
            "_view_module_version": "1.2.0",
            "_view_name": "StyleView",
            "description_width": ""
          }
        },
        "9d593799b9e442998acdc6aa3cd1e912": {
          "model_module": "@jupyter-widgets/controls",
          "model_name": "HBoxModel",
          "model_module_version": "1.5.0",
          "state": {
            "_dom_classes": [],
            "_model_module": "@jupyter-widgets/controls",
            "_model_module_version": "1.5.0",
            "_model_name": "HBoxModel",
            "_view_count": null,
            "_view_module": "@jupyter-widgets/controls",
            "_view_module_version": "1.5.0",
            "_view_name": "HBoxView",
            "box_style": "",
            "children": [
              "IPY_MODEL_30115aecce114defa393ff66f3e45996",
              "IPY_MODEL_01c6a23804d44aedacfc9e97b8a83056",
              "IPY_MODEL_b3e7c6e3e533493f8e644e6285782ae8"
            ],
            "layout": "IPY_MODEL_6d31bc9072a54c9bab919c780865ef02"
          }
        },
        "30115aecce114defa393ff66f3e45996": {
          "model_module": "@jupyter-widgets/controls",
          "model_name": "HTMLModel",
          "model_module_version": "1.5.0",
          "state": {
            "_dom_classes": [],
            "_model_module": "@jupyter-widgets/controls",
            "_model_module_version": "1.5.0",
            "_model_name": "HTMLModel",
            "_view_count": null,
            "_view_module": "@jupyter-widgets/controls",
            "_view_module_version": "1.5.0",
            "_view_name": "HTMLView",
            "description": "",
            "description_tooltip": null,
            "layout": "IPY_MODEL_45daa649b97d4e4cb8500cd4c253e7d6",
            "placeholder": "​",
            "style": "IPY_MODEL_6d239732e220492ca2e2b5d49b901baf",
            "value": "Downloading: 100%"
          }
        },
        "01c6a23804d44aedacfc9e97b8a83056": {
          "model_module": "@jupyter-widgets/controls",
          "model_name": "FloatProgressModel",
          "model_module_version": "1.5.0",
          "state": {
            "_dom_classes": [],
            "_model_module": "@jupyter-widgets/controls",
            "_model_module_version": "1.5.0",
            "_model_name": "FloatProgressModel",
            "_view_count": null,
            "_view_module": "@jupyter-widgets/controls",
            "_view_module_version": "1.5.0",
            "_view_name": "ProgressView",
            "bar_style": "success",
            "description": "",
            "description_tooltip": null,
            "layout": "IPY_MODEL_17ac023dd58f41d387750c69c5cbe457",
            "max": 213450,
            "min": 0,
            "orientation": "horizontal",
            "style": "IPY_MODEL_67e881094b7a4cf0b7a0436486d560c7",
            "value": 213450
          }
        },
        "b3e7c6e3e533493f8e644e6285782ae8": {
          "model_module": "@jupyter-widgets/controls",
          "model_name": "HTMLModel",
          "model_module_version": "1.5.0",
          "state": {
            "_dom_classes": [],
            "_model_module": "@jupyter-widgets/controls",
            "_model_module_version": "1.5.0",
            "_model_name": "HTMLModel",
            "_view_count": null,
            "_view_module": "@jupyter-widgets/controls",
            "_view_module_version": "1.5.0",
            "_view_name": "HTMLView",
            "description": "",
            "description_tooltip": null,
            "layout": "IPY_MODEL_2f46f33ae467494eb00228047488cb1e",
            "placeholder": "​",
            "style": "IPY_MODEL_efef3051f5b7410192b09181e9f61911",
            "value": " 208k/208k [00:00&lt;00:00, 841kB/s]"
          }
        },
        "6d31bc9072a54c9bab919c780865ef02": {
          "model_module": "@jupyter-widgets/base",
          "model_name": "LayoutModel",
          "model_module_version": "1.2.0",
          "state": {
            "_model_module": "@jupyter-widgets/base",
            "_model_module_version": "1.2.0",
            "_model_name": "LayoutModel",
            "_view_count": null,
            "_view_module": "@jupyter-widgets/base",
            "_view_module_version": "1.2.0",
            "_view_name": "LayoutView",
            "align_content": null,
            "align_items": null,
            "align_self": null,
            "border": null,
            "bottom": null,
            "display": null,
            "flex": null,
            "flex_flow": null,
            "grid_area": null,
            "grid_auto_columns": null,
            "grid_auto_flow": null,
            "grid_auto_rows": null,
            "grid_column": null,
            "grid_gap": null,
            "grid_row": null,
            "grid_template_areas": null,
            "grid_template_columns": null,
            "grid_template_rows": null,
            "height": null,
            "justify_content": null,
            "justify_items": null,
            "left": null,
            "margin": null,
            "max_height": null,
            "max_width": null,
            "min_height": null,
            "min_width": null,
            "object_fit": null,
            "object_position": null,
            "order": null,
            "overflow": null,
            "overflow_x": null,
            "overflow_y": null,
            "padding": null,
            "right": null,
            "top": null,
            "visibility": null,
            "width": null
          }
        },
        "45daa649b97d4e4cb8500cd4c253e7d6": {
          "model_module": "@jupyter-widgets/base",
          "model_name": "LayoutModel",
          "model_module_version": "1.2.0",
          "state": {
            "_model_module": "@jupyter-widgets/base",
            "_model_module_version": "1.2.0",
            "_model_name": "LayoutModel",
            "_view_count": null,
            "_view_module": "@jupyter-widgets/base",
            "_view_module_version": "1.2.0",
            "_view_name": "LayoutView",
            "align_content": null,
            "align_items": null,
            "align_self": null,
            "border": null,
            "bottom": null,
            "display": null,
            "flex": null,
            "flex_flow": null,
            "grid_area": null,
            "grid_auto_columns": null,
            "grid_auto_flow": null,
            "grid_auto_rows": null,
            "grid_column": null,
            "grid_gap": null,
            "grid_row": null,
            "grid_template_areas": null,
            "grid_template_columns": null,
            "grid_template_rows": null,
            "height": null,
            "justify_content": null,
            "justify_items": null,
            "left": null,
            "margin": null,
            "max_height": null,
            "max_width": null,
            "min_height": null,
            "min_width": null,
            "object_fit": null,
            "object_position": null,
            "order": null,
            "overflow": null,
            "overflow_x": null,
            "overflow_y": null,
            "padding": null,
            "right": null,
            "top": null,
            "visibility": null,
            "width": null
          }
        },
        "6d239732e220492ca2e2b5d49b901baf": {
          "model_module": "@jupyter-widgets/controls",
          "model_name": "DescriptionStyleModel",
          "model_module_version": "1.5.0",
          "state": {
            "_model_module": "@jupyter-widgets/controls",
            "_model_module_version": "1.5.0",
            "_model_name": "DescriptionStyleModel",
            "_view_count": null,
            "_view_module": "@jupyter-widgets/base",
            "_view_module_version": "1.2.0",
            "_view_name": "StyleView",
            "description_width": ""
          }
        },
        "17ac023dd58f41d387750c69c5cbe457": {
          "model_module": "@jupyter-widgets/base",
          "model_name": "LayoutModel",
          "model_module_version": "1.2.0",
          "state": {
            "_model_module": "@jupyter-widgets/base",
            "_model_module_version": "1.2.0",
            "_model_name": "LayoutModel",
            "_view_count": null,
            "_view_module": "@jupyter-widgets/base",
            "_view_module_version": "1.2.0",
            "_view_name": "LayoutView",
            "align_content": null,
            "align_items": null,
            "align_self": null,
            "border": null,
            "bottom": null,
            "display": null,
            "flex": null,
            "flex_flow": null,
            "grid_area": null,
            "grid_auto_columns": null,
            "grid_auto_flow": null,
            "grid_auto_rows": null,
            "grid_column": null,
            "grid_gap": null,
            "grid_row": null,
            "grid_template_areas": null,
            "grid_template_columns": null,
            "grid_template_rows": null,
            "height": null,
            "justify_content": null,
            "justify_items": null,
            "left": null,
            "margin": null,
            "max_height": null,
            "max_width": null,
            "min_height": null,
            "min_width": null,
            "object_fit": null,
            "object_position": null,
            "order": null,
            "overflow": null,
            "overflow_x": null,
            "overflow_y": null,
            "padding": null,
            "right": null,
            "top": null,
            "visibility": null,
            "width": null
          }
        },
        "67e881094b7a4cf0b7a0436486d560c7": {
          "model_module": "@jupyter-widgets/controls",
          "model_name": "ProgressStyleModel",
          "model_module_version": "1.5.0",
          "state": {
            "_model_module": "@jupyter-widgets/controls",
            "_model_module_version": "1.5.0",
            "_model_name": "ProgressStyleModel",
            "_view_count": null,
            "_view_module": "@jupyter-widgets/base",
            "_view_module_version": "1.2.0",
            "_view_name": "StyleView",
            "bar_color": null,
            "description_width": ""
          }
        },
        "2f46f33ae467494eb00228047488cb1e": {
          "model_module": "@jupyter-widgets/base",
          "model_name": "LayoutModel",
          "model_module_version": "1.2.0",
          "state": {
            "_model_module": "@jupyter-widgets/base",
            "_model_module_version": "1.2.0",
            "_model_name": "LayoutModel",
            "_view_count": null,
            "_view_module": "@jupyter-widgets/base",
            "_view_module_version": "1.2.0",
            "_view_name": "LayoutView",
            "align_content": null,
            "align_items": null,
            "align_self": null,
            "border": null,
            "bottom": null,
            "display": null,
            "flex": null,
            "flex_flow": null,
            "grid_area": null,
            "grid_auto_columns": null,
            "grid_auto_flow": null,
            "grid_auto_rows": null,
            "grid_column": null,
            "grid_gap": null,
            "grid_row": null,
            "grid_template_areas": null,
            "grid_template_columns": null,
            "grid_template_rows": null,
            "height": null,
            "justify_content": null,
            "justify_items": null,
            "left": null,
            "margin": null,
            "max_height": null,
            "max_width": null,
            "min_height": null,
            "min_width": null,
            "object_fit": null,
            "object_position": null,
            "order": null,
            "overflow": null,
            "overflow_x": null,
            "overflow_y": null,
            "padding": null,
            "right": null,
            "top": null,
            "visibility": null,
            "width": null
          }
        },
        "efef3051f5b7410192b09181e9f61911": {
          "model_module": "@jupyter-widgets/controls",
          "model_name": "DescriptionStyleModel",
          "model_module_version": "1.5.0",
          "state": {
            "_model_module": "@jupyter-widgets/controls",
            "_model_module_version": "1.5.0",
            "_model_name": "DescriptionStyleModel",
            "_view_count": null,
            "_view_module": "@jupyter-widgets/base",
            "_view_module_version": "1.2.0",
            "_view_name": "StyleView",
            "description_width": ""
          }
        },
        "34f499f81c4c4298b54e3a7710a01805": {
          "model_module": "@jupyter-widgets/controls",
          "model_name": "HBoxModel",
          "model_module_version": "1.5.0",
          "state": {
            "_dom_classes": [],
            "_model_module": "@jupyter-widgets/controls",
            "_model_module_version": "1.5.0",
            "_model_name": "HBoxModel",
            "_view_count": null,
            "_view_module": "@jupyter-widgets/controls",
            "_view_module_version": "1.5.0",
            "_view_name": "HBoxView",
            "box_style": "",
            "children": [
              "IPY_MODEL_b98bd781a9cb43d5838508ceb78d3e11",
              "IPY_MODEL_d10ae0b6cac2437590ba1dde1e6d0324",
              "IPY_MODEL_ce46c4dbb71d466cb4a7e0b89b4dee05"
            ],
            "layout": "IPY_MODEL_536ebce7cc2f4c94a817b0c73407c022"
          }
        },
        "b98bd781a9cb43d5838508ceb78d3e11": {
          "model_module": "@jupyter-widgets/controls",
          "model_name": "HTMLModel",
          "model_module_version": "1.5.0",
          "state": {
            "_dom_classes": [],
            "_model_module": "@jupyter-widgets/controls",
            "_model_module_version": "1.5.0",
            "_model_name": "HTMLModel",
            "_view_count": null,
            "_view_module": "@jupyter-widgets/controls",
            "_view_module_version": "1.5.0",
            "_view_name": "HTMLView",
            "description": "",
            "description_tooltip": null,
            "layout": "IPY_MODEL_99c9337e05914722b9d3614a205795c2",
            "placeholder": "​",
            "style": "IPY_MODEL_22de8fe9701a45fca57762f3ed86126a",
            "value": "Downloading: 100%"
          }
        },
        "d10ae0b6cac2437590ba1dde1e6d0324": {
          "model_module": "@jupyter-widgets/controls",
          "model_name": "FloatProgressModel",
          "model_module_version": "1.5.0",
          "state": {
            "_dom_classes": [],
            "_model_module": "@jupyter-widgets/controls",
            "_model_module_version": "1.5.0",
            "_model_name": "FloatProgressModel",
            "_view_count": null,
            "_view_module": "@jupyter-widgets/controls",
            "_view_module_version": "1.5.0",
            "_view_name": "ProgressView",
            "bar_style": "success",
            "description": "",
            "description_tooltip": null,
            "layout": "IPY_MODEL_f065126765574e62b7fa95b1e75ba368",
            "max": 29,
            "min": 0,
            "orientation": "horizontal",
            "style": "IPY_MODEL_cfd63613743e44aebf39050d3c0e6dbb",
            "value": 29
          }
        },
        "ce46c4dbb71d466cb4a7e0b89b4dee05": {
          "model_module": "@jupyter-widgets/controls",
          "model_name": "HTMLModel",
          "model_module_version": "1.5.0",
          "state": {
            "_dom_classes": [],
            "_model_module": "@jupyter-widgets/controls",
            "_model_module_version": "1.5.0",
            "_model_name": "HTMLModel",
            "_view_count": null,
            "_view_module": "@jupyter-widgets/controls",
            "_view_module_version": "1.5.0",
            "_view_name": "HTMLView",
            "description": "",
            "description_tooltip": null,
            "layout": "IPY_MODEL_6bdcafa25c7e4927b837ab39ed2ed593",
            "placeholder": "​",
            "style": "IPY_MODEL_81d68e10843e46c995c1cab2219a99e6",
            "value": " 29.0/29.0 [00:00&lt;00:00, 675B/s]"
          }
        },
        "536ebce7cc2f4c94a817b0c73407c022": {
          "model_module": "@jupyter-widgets/base",
          "model_name": "LayoutModel",
          "model_module_version": "1.2.0",
          "state": {
            "_model_module": "@jupyter-widgets/base",
            "_model_module_version": "1.2.0",
            "_model_name": "LayoutModel",
            "_view_count": null,
            "_view_module": "@jupyter-widgets/base",
            "_view_module_version": "1.2.0",
            "_view_name": "LayoutView",
            "align_content": null,
            "align_items": null,
            "align_self": null,
            "border": null,
            "bottom": null,
            "display": null,
            "flex": null,
            "flex_flow": null,
            "grid_area": null,
            "grid_auto_columns": null,
            "grid_auto_flow": null,
            "grid_auto_rows": null,
            "grid_column": null,
            "grid_gap": null,
            "grid_row": null,
            "grid_template_areas": null,
            "grid_template_columns": null,
            "grid_template_rows": null,
            "height": null,
            "justify_content": null,
            "justify_items": null,
            "left": null,
            "margin": null,
            "max_height": null,
            "max_width": null,
            "min_height": null,
            "min_width": null,
            "object_fit": null,
            "object_position": null,
            "order": null,
            "overflow": null,
            "overflow_x": null,
            "overflow_y": null,
            "padding": null,
            "right": null,
            "top": null,
            "visibility": null,
            "width": null
          }
        },
        "99c9337e05914722b9d3614a205795c2": {
          "model_module": "@jupyter-widgets/base",
          "model_name": "LayoutModel",
          "model_module_version": "1.2.0",
          "state": {
            "_model_module": "@jupyter-widgets/base",
            "_model_module_version": "1.2.0",
            "_model_name": "LayoutModel",
            "_view_count": null,
            "_view_module": "@jupyter-widgets/base",
            "_view_module_version": "1.2.0",
            "_view_name": "LayoutView",
            "align_content": null,
            "align_items": null,
            "align_self": null,
            "border": null,
            "bottom": null,
            "display": null,
            "flex": null,
            "flex_flow": null,
            "grid_area": null,
            "grid_auto_columns": null,
            "grid_auto_flow": null,
            "grid_auto_rows": null,
            "grid_column": null,
            "grid_gap": null,
            "grid_row": null,
            "grid_template_areas": null,
            "grid_template_columns": null,
            "grid_template_rows": null,
            "height": null,
            "justify_content": null,
            "justify_items": null,
            "left": null,
            "margin": null,
            "max_height": null,
            "max_width": null,
            "min_height": null,
            "min_width": null,
            "object_fit": null,
            "object_position": null,
            "order": null,
            "overflow": null,
            "overflow_x": null,
            "overflow_y": null,
            "padding": null,
            "right": null,
            "top": null,
            "visibility": null,
            "width": null
          }
        },
        "22de8fe9701a45fca57762f3ed86126a": {
          "model_module": "@jupyter-widgets/controls",
          "model_name": "DescriptionStyleModel",
          "model_module_version": "1.5.0",
          "state": {
            "_model_module": "@jupyter-widgets/controls",
            "_model_module_version": "1.5.0",
            "_model_name": "DescriptionStyleModel",
            "_view_count": null,
            "_view_module": "@jupyter-widgets/base",
            "_view_module_version": "1.2.0",
            "_view_name": "StyleView",
            "description_width": ""
          }
        },
        "f065126765574e62b7fa95b1e75ba368": {
          "model_module": "@jupyter-widgets/base",
          "model_name": "LayoutModel",
          "model_module_version": "1.2.0",
          "state": {
            "_model_module": "@jupyter-widgets/base",
            "_model_module_version": "1.2.0",
            "_model_name": "LayoutModel",
            "_view_count": null,
            "_view_module": "@jupyter-widgets/base",
            "_view_module_version": "1.2.0",
            "_view_name": "LayoutView",
            "align_content": null,
            "align_items": null,
            "align_self": null,
            "border": null,
            "bottom": null,
            "display": null,
            "flex": null,
            "flex_flow": null,
            "grid_area": null,
            "grid_auto_columns": null,
            "grid_auto_flow": null,
            "grid_auto_rows": null,
            "grid_column": null,
            "grid_gap": null,
            "grid_row": null,
            "grid_template_areas": null,
            "grid_template_columns": null,
            "grid_template_rows": null,
            "height": null,
            "justify_content": null,
            "justify_items": null,
            "left": null,
            "margin": null,
            "max_height": null,
            "max_width": null,
            "min_height": null,
            "min_width": null,
            "object_fit": null,
            "object_position": null,
            "order": null,
            "overflow": null,
            "overflow_x": null,
            "overflow_y": null,
            "padding": null,
            "right": null,
            "top": null,
            "visibility": null,
            "width": null
          }
        },
        "cfd63613743e44aebf39050d3c0e6dbb": {
          "model_module": "@jupyter-widgets/controls",
          "model_name": "ProgressStyleModel",
          "model_module_version": "1.5.0",
          "state": {
            "_model_module": "@jupyter-widgets/controls",
            "_model_module_version": "1.5.0",
            "_model_name": "ProgressStyleModel",
            "_view_count": null,
            "_view_module": "@jupyter-widgets/base",
            "_view_module_version": "1.2.0",
            "_view_name": "StyleView",
            "bar_color": null,
            "description_width": ""
          }
        },
        "6bdcafa25c7e4927b837ab39ed2ed593": {
          "model_module": "@jupyter-widgets/base",
          "model_name": "LayoutModel",
          "model_module_version": "1.2.0",
          "state": {
            "_model_module": "@jupyter-widgets/base",
            "_model_module_version": "1.2.0",
            "_model_name": "LayoutModel",
            "_view_count": null,
            "_view_module": "@jupyter-widgets/base",
            "_view_module_version": "1.2.0",
            "_view_name": "LayoutView",
            "align_content": null,
            "align_items": null,
            "align_self": null,
            "border": null,
            "bottom": null,
            "display": null,
            "flex": null,
            "flex_flow": null,
            "grid_area": null,
            "grid_auto_columns": null,
            "grid_auto_flow": null,
            "grid_auto_rows": null,
            "grid_column": null,
            "grid_gap": null,
            "grid_row": null,
            "grid_template_areas": null,
            "grid_template_columns": null,
            "grid_template_rows": null,
            "height": null,
            "justify_content": null,
            "justify_items": null,
            "left": null,
            "margin": null,
            "max_height": null,
            "max_width": null,
            "min_height": null,
            "min_width": null,
            "object_fit": null,
            "object_position": null,
            "order": null,
            "overflow": null,
            "overflow_x": null,
            "overflow_y": null,
            "padding": null,
            "right": null,
            "top": null,
            "visibility": null,
            "width": null
          }
        },
        "81d68e10843e46c995c1cab2219a99e6": {
          "model_module": "@jupyter-widgets/controls",
          "model_name": "DescriptionStyleModel",
          "model_module_version": "1.5.0",
          "state": {
            "_model_module": "@jupyter-widgets/controls",
            "_model_module_version": "1.5.0",
            "_model_name": "DescriptionStyleModel",
            "_view_count": null,
            "_view_module": "@jupyter-widgets/base",
            "_view_module_version": "1.2.0",
            "_view_name": "StyleView",
            "description_width": ""
          }
        },
        "5837eb76151145e98a425e6a69c55d98": {
          "model_module": "@jupyter-widgets/controls",
          "model_name": "HBoxModel",
          "model_module_version": "1.5.0",
          "state": {
            "_dom_classes": [],
            "_model_module": "@jupyter-widgets/controls",
            "_model_module_version": "1.5.0",
            "_model_name": "HBoxModel",
            "_view_count": null,
            "_view_module": "@jupyter-widgets/controls",
            "_view_module_version": "1.5.0",
            "_view_name": "HBoxView",
            "box_style": "",
            "children": [
              "IPY_MODEL_c045cb9a709b4ac68563f142c9bdf01c",
              "IPY_MODEL_3da9660fce284bba96dfd67a5c1018a0",
              "IPY_MODEL_d3a38c7bdd3944b6ad69c1e26f00e265"
            ],
            "layout": "IPY_MODEL_92fae5a86ac24109bcabd42e5a5068d9"
          }
        },
        "c045cb9a709b4ac68563f142c9bdf01c": {
          "model_module": "@jupyter-widgets/controls",
          "model_name": "HTMLModel",
          "model_module_version": "1.5.0",
          "state": {
            "_dom_classes": [],
            "_model_module": "@jupyter-widgets/controls",
            "_model_module_version": "1.5.0",
            "_model_name": "HTMLModel",
            "_view_count": null,
            "_view_module": "@jupyter-widgets/controls",
            "_view_module_version": "1.5.0",
            "_view_name": "HTMLView",
            "description": "",
            "description_tooltip": null,
            "layout": "IPY_MODEL_4b1b91330dbf4c4090e177783708c7f6",
            "placeholder": "​",
            "style": "IPY_MODEL_03be58962f654ec8bf1028ffdc05e38f",
            "value": "Downloading: 100%"
          }
        },
        "3da9660fce284bba96dfd67a5c1018a0": {
          "model_module": "@jupyter-widgets/controls",
          "model_name": "FloatProgressModel",
          "model_module_version": "1.5.0",
          "state": {
            "_dom_classes": [],
            "_model_module": "@jupyter-widgets/controls",
            "_model_module_version": "1.5.0",
            "_model_name": "FloatProgressModel",
            "_view_count": null,
            "_view_module": "@jupyter-widgets/controls",
            "_view_module_version": "1.5.0",
            "_view_name": "ProgressView",
            "bar_style": "success",
            "description": "",
            "description_tooltip": null,
            "layout": "IPY_MODEL_f35e4eb066724b4ebdaeb2ab367e3cf4",
            "max": 570,
            "min": 0,
            "orientation": "horizontal",
            "style": "IPY_MODEL_2832485c4c494954ad0f237845ee5302",
            "value": 570
          }
        },
        "d3a38c7bdd3944b6ad69c1e26f00e265": {
          "model_module": "@jupyter-widgets/controls",
          "model_name": "HTMLModel",
          "model_module_version": "1.5.0",
          "state": {
            "_dom_classes": [],
            "_model_module": "@jupyter-widgets/controls",
            "_model_module_version": "1.5.0",
            "_model_name": "HTMLModel",
            "_view_count": null,
            "_view_module": "@jupyter-widgets/controls",
            "_view_module_version": "1.5.0",
            "_view_name": "HTMLView",
            "description": "",
            "description_tooltip": null,
            "layout": "IPY_MODEL_c103eec9c9bc47c6acb381930192098c",
            "placeholder": "​",
            "style": "IPY_MODEL_7de0dd26b1e54753a0204317e80a94e2",
            "value": " 570/570 [00:00&lt;00:00, 16.3kB/s]"
          }
        },
        "92fae5a86ac24109bcabd42e5a5068d9": {
          "model_module": "@jupyter-widgets/base",
          "model_name": "LayoutModel",
          "model_module_version": "1.2.0",
          "state": {
            "_model_module": "@jupyter-widgets/base",
            "_model_module_version": "1.2.0",
            "_model_name": "LayoutModel",
            "_view_count": null,
            "_view_module": "@jupyter-widgets/base",
            "_view_module_version": "1.2.0",
            "_view_name": "LayoutView",
            "align_content": null,
            "align_items": null,
            "align_self": null,
            "border": null,
            "bottom": null,
            "display": null,
            "flex": null,
            "flex_flow": null,
            "grid_area": null,
            "grid_auto_columns": null,
            "grid_auto_flow": null,
            "grid_auto_rows": null,
            "grid_column": null,
            "grid_gap": null,
            "grid_row": null,
            "grid_template_areas": null,
            "grid_template_columns": null,
            "grid_template_rows": null,
            "height": null,
            "justify_content": null,
            "justify_items": null,
            "left": null,
            "margin": null,
            "max_height": null,
            "max_width": null,
            "min_height": null,
            "min_width": null,
            "object_fit": null,
            "object_position": null,
            "order": null,
            "overflow": null,
            "overflow_x": null,
            "overflow_y": null,
            "padding": null,
            "right": null,
            "top": null,
            "visibility": null,
            "width": null
          }
        },
        "4b1b91330dbf4c4090e177783708c7f6": {
          "model_module": "@jupyter-widgets/base",
          "model_name": "LayoutModel",
          "model_module_version": "1.2.0",
          "state": {
            "_model_module": "@jupyter-widgets/base",
            "_model_module_version": "1.2.0",
            "_model_name": "LayoutModel",
            "_view_count": null,
            "_view_module": "@jupyter-widgets/base",
            "_view_module_version": "1.2.0",
            "_view_name": "LayoutView",
            "align_content": null,
            "align_items": null,
            "align_self": null,
            "border": null,
            "bottom": null,
            "display": null,
            "flex": null,
            "flex_flow": null,
            "grid_area": null,
            "grid_auto_columns": null,
            "grid_auto_flow": null,
            "grid_auto_rows": null,
            "grid_column": null,
            "grid_gap": null,
            "grid_row": null,
            "grid_template_areas": null,
            "grid_template_columns": null,
            "grid_template_rows": null,
            "height": null,
            "justify_content": null,
            "justify_items": null,
            "left": null,
            "margin": null,
            "max_height": null,
            "max_width": null,
            "min_height": null,
            "min_width": null,
            "object_fit": null,
            "object_position": null,
            "order": null,
            "overflow": null,
            "overflow_x": null,
            "overflow_y": null,
            "padding": null,
            "right": null,
            "top": null,
            "visibility": null,
            "width": null
          }
        },
        "03be58962f654ec8bf1028ffdc05e38f": {
          "model_module": "@jupyter-widgets/controls",
          "model_name": "DescriptionStyleModel",
          "model_module_version": "1.5.0",
          "state": {
            "_model_module": "@jupyter-widgets/controls",
            "_model_module_version": "1.5.0",
            "_model_name": "DescriptionStyleModel",
            "_view_count": null,
            "_view_module": "@jupyter-widgets/base",
            "_view_module_version": "1.2.0",
            "_view_name": "StyleView",
            "description_width": ""
          }
        },
        "f35e4eb066724b4ebdaeb2ab367e3cf4": {
          "model_module": "@jupyter-widgets/base",
          "model_name": "LayoutModel",
          "model_module_version": "1.2.0",
          "state": {
            "_model_module": "@jupyter-widgets/base",
            "_model_module_version": "1.2.0",
            "_model_name": "LayoutModel",
            "_view_count": null,
            "_view_module": "@jupyter-widgets/base",
            "_view_module_version": "1.2.0",
            "_view_name": "LayoutView",
            "align_content": null,
            "align_items": null,
            "align_self": null,
            "border": null,
            "bottom": null,
            "display": null,
            "flex": null,
            "flex_flow": null,
            "grid_area": null,
            "grid_auto_columns": null,
            "grid_auto_flow": null,
            "grid_auto_rows": null,
            "grid_column": null,
            "grid_gap": null,
            "grid_row": null,
            "grid_template_areas": null,
            "grid_template_columns": null,
            "grid_template_rows": null,
            "height": null,
            "justify_content": null,
            "justify_items": null,
            "left": null,
            "margin": null,
            "max_height": null,
            "max_width": null,
            "min_height": null,
            "min_width": null,
            "object_fit": null,
            "object_position": null,
            "order": null,
            "overflow": null,
            "overflow_x": null,
            "overflow_y": null,
            "padding": null,
            "right": null,
            "top": null,
            "visibility": null,
            "width": null
          }
        },
        "2832485c4c494954ad0f237845ee5302": {
          "model_module": "@jupyter-widgets/controls",
          "model_name": "ProgressStyleModel",
          "model_module_version": "1.5.0",
          "state": {
            "_model_module": "@jupyter-widgets/controls",
            "_model_module_version": "1.5.0",
            "_model_name": "ProgressStyleModel",
            "_view_count": null,
            "_view_module": "@jupyter-widgets/base",
            "_view_module_version": "1.2.0",
            "_view_name": "StyleView",
            "bar_color": null,
            "description_width": ""
          }
        },
        "c103eec9c9bc47c6acb381930192098c": {
          "model_module": "@jupyter-widgets/base",
          "model_name": "LayoutModel",
          "model_module_version": "1.2.0",
          "state": {
            "_model_module": "@jupyter-widgets/base",
            "_model_module_version": "1.2.0",
            "_model_name": "LayoutModel",
            "_view_count": null,
            "_view_module": "@jupyter-widgets/base",
            "_view_module_version": "1.2.0",
            "_view_name": "LayoutView",
            "align_content": null,
            "align_items": null,
            "align_self": null,
            "border": null,
            "bottom": null,
            "display": null,
            "flex": null,
            "flex_flow": null,
            "grid_area": null,
            "grid_auto_columns": null,
            "grid_auto_flow": null,
            "grid_auto_rows": null,
            "grid_column": null,
            "grid_gap": null,
            "grid_row": null,
            "grid_template_areas": null,
            "grid_template_columns": null,
            "grid_template_rows": null,
            "height": null,
            "justify_content": null,
            "justify_items": null,
            "left": null,
            "margin": null,
            "max_height": null,
            "max_width": null,
            "min_height": null,
            "min_width": null,
            "object_fit": null,
            "object_position": null,
            "order": null,
            "overflow": null,
            "overflow_x": null,
            "overflow_y": null,
            "padding": null,
            "right": null,
            "top": null,
            "visibility": null,
            "width": null
          }
        },
        "7de0dd26b1e54753a0204317e80a94e2": {
          "model_module": "@jupyter-widgets/controls",
          "model_name": "DescriptionStyleModel",
          "model_module_version": "1.5.0",
          "state": {
            "_model_module": "@jupyter-widgets/controls",
            "_model_module_version": "1.5.0",
            "_model_name": "DescriptionStyleModel",
            "_view_count": null,
            "_view_module": "@jupyter-widgets/base",
            "_view_module_version": "1.2.0",
            "_view_name": "StyleView",
            "description_width": ""
          }
        }
      }
    },
    "gpuClass": "standard"
  },
  "nbformat": 4,
  "nbformat_minor": 0
}