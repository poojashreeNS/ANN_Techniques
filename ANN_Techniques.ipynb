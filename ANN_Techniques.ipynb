{
  "nbformat": 4,
  "nbformat_minor": 0,
  "metadata": {
    "colab": {
      "name": "ANN_Techniques.ipynb",
      "provenance": [],
      "collapsed_sections": [
        "OeAgBZpASbiv",
        "-E8LsPzsmPRw",
        "9qfTzlhyj2pS",
        "y0h6m6SohvHT",
        "DkcWQhBVVG0F"
      ],
      "authorship_tag": "ABX9TyMv35tLthPvQDvZvv/6GX0R",
      "include_colab_link": true
    },
    "kernelspec": {
      "name": "python3",
      "display_name": "Python 3"
    },
    "language_info": {
      "name": "python"
    }
  },
  "cells": [
    {
      "cell_type": "markdown",
      "metadata": {
        "id": "view-in-github",
        "colab_type": "text"
      },
      "source": [
        "<a href=\"https://colab.research.google.com/github/poojashreeNS/ANN_Techniques/blob/main/ANN_Techniques.ipynb\" target=\"_parent\"><img src=\"https://colab.research.google.com/assets/colab-badge.svg\" alt=\"Open In Colab\"/></a>"
      ]
    },
    {
      "cell_type": "code",
      "metadata": {
        "id": "740Mq96IrAxD"
      },
      "source": [
        "!pip install faiss-cpu"
      ],
      "execution_count": null,
      "outputs": []
    },
    {
      "cell_type": "code",
      "metadata": {
        "id": "kjrmKuUwdZ9k"
      },
      "source": [
        "from lightfm import LightFM\n",
        "from lightfm.datasets import fetch_movielens\n",
        "import pickle"
      ],
      "execution_count": null,
      "outputs": []
    },
    {
      "cell_type": "code",
      "metadata": {
        "id": "f3fAdv3BeSgN"
      },
      "source": [
        "stackexchange = fetch_movielens()\n",
        "train = stackexchange['train']\n",
        "test = stackexchange['test']\n",
        "\n",
        "model = LightFM(learning_rate=0.05, loss='warp', no_components=64, item_alpha=0.001)\n",
        "model.fit_partial(train, item_features=stackexchange['item_features'], epochs=20 )\n",
        "\n",
        "item_vectors = stackexchange['item_features'] * model.item_embeddings"
      ],
      "execution_count": null,
      "outputs": []
    },
    {
      "cell_type": "code",
      "metadata": {
        "id": "lTkJtJEmimWk"
      },
      "source": [
        "with open('stackexchange.pickle', 'wb') as f:\n",
        "    pickle.dump({\"name\": stackexchange['item_feature_labels'], \"vector\": item_vectors}, f)"
      ],
      "execution_count": null,
      "outputs": []
    },
    {
      "cell_type": "code",
      "metadata": {
        "colab": {
          "base_uri": "https://localhost:8080/"
        },
        "id": "jSJvjWLoj5VK",
        "outputId": "ed7cafad-df2d-4e90-bb73-d2f8a346d9c0"
      },
      "source": [
        "def load_data():\n",
        "    with open('stackexchange.pickle', 'rb') as f:\n",
        "        data = pickle.load(f)\n",
        "    return data\n",
        "\n",
        "data = load_data()\n",
        "data"
      ],
      "execution_count": null,
      "outputs": [
        {
          "output_type": "execute_result",
          "data": {
            "text/plain": [
              "{'name': array(['Toy Story (1995)', 'GoldenEye (1995)', 'Four Rooms (1995)', ...,\n",
              "        'Sliding Doors (1998)', 'You So Crazy (1994)',\n",
              "        'Scream of Stone (Schrei aus Stein) (1991)'], dtype=object),\n",
              " 'vector': array([[-0.31464535,  0.13365287,  0.38005927, ...,  0.02249122,\n",
              "         -0.03750825, -0.08592322],\n",
              "        [-0.16997173,  0.11235693,  0.2217186 , ..., -0.13605641,\n",
              "          0.2161419 ,  0.11136161],\n",
              "        [-0.12343781,  0.14566147,  0.05448459, ...,  0.41542345,\n",
              "          0.0528531 , -0.07463649],\n",
              "        ...,\n",
              "        [ 0.07096124, -0.18025255, -0.05786032, ..., -0.01613087,\n",
              "          0.04188032,  0.08435941],\n",
              "        [-0.00207763, -0.06229061, -0.04819448, ..., -0.18208297,\n",
              "         -0.00321682,  0.21578231],\n",
              "        [ 0.05797838, -0.05754833, -0.0014502 , ..., -0.0947851 ,\n",
              "          0.03941731,  0.10738818]], dtype=float32)}"
            ]
          },
          "metadata": {},
          "execution_count": 74
        }
      ]
    },
    {
      "cell_type": "markdown",
      "metadata": {
        "id": "OeAgBZpASbiv"
      },
      "source": [
        "# **LSH**"
      ]
    },
    {
      "cell_type": "markdown",
      "metadata": {
        "id": "8kiNzI6pnxKt"
      },
      "source": [
        "LSH construct a hash table as their data structure by mapping points that are nearby into the same bucket.\n",
        "\n",
        "In LSH, in order to construct the index, we apply multiple hash functions to map data points into buckets so that data points near each other are located in the same buckets with high probability, while data points far from each other are likely to fall into different buckets.\n",
        "\n",
        "\n",
        "In order to search the constructed index, the query point is hashed in order to obtain the closest buckets (a set of candidate points) from which the closest to the query points are returned."
      ]
    },
    {
      "cell_type": "code",
      "metadata": {
        "id": "2fykNiRjTJ9i"
      },
      "source": [
        "class LSHIndex():\n",
        "    def __init__(self, vectors, labels):\n",
        "        self.dimension = vectors.shape[1]\n",
        "        self.vectors = vectors.astype('float32')\n",
        "        self.labels = labels    \n",
        "   \n",
        "    def build(self, num_bits=8):\n",
        "        self.index = faiss.IndexLSH(self.dimension, num_bits)\n",
        "        self.index.add(self.vectors)\n",
        "        \n",
        "    def query(self, vectors, k=10):\n",
        "        distances, indices = self.index.search(vectors, k) \n",
        "        # I expect only query on one vector thus the slice\n",
        "        return [self.labels[i] for i in indices[0]]"
      ],
      "execution_count": null,
      "outputs": []
    },
    {
      "cell_type": "code",
      "metadata": {
        "id": "mEtG0FuOURgo"
      },
      "source": [
        "index = LSHIndex(data[\"vector\"], data[\"name\"])\n",
        "index.build()"
      ],
      "execution_count": null,
      "outputs": []
    },
    {
      "cell_type": "code",
      "metadata": {
        "colab": {
          "base_uri": "https://localhost:8080/"
        },
        "id": "VJpr4Ox9UY2T",
        "outputId": "99fd6841-ac46-46a2-d10a-951dba8b78b3"
      },
      "source": [
        "movie_index = 90\n",
        "movie_vector = data['vector'][movie_index:movie_index+1]\n",
        "print(f\"The most simillar movies to {data['name'][movie_index]} are:\")\n",
        "index.query(movie_vector)"
      ],
      "execution_count": null,
      "outputs": [
        {
          "output_type": "stream",
          "name": "stdout",
          "text": [
            "The most simillar movies to Nightmare Before Christmas, The (1993) are:\n"
          ]
        },
        {
          "output_type": "execute_result",
          "data": {
            "text/plain": [
              "['Shawshank Redemption, The (1994)',\n",
              " 'Babe (1995)',\n",
              " 'Lion King, The (1994)',\n",
              " 'Apollo 13 (1995)',\n",
              " 'Braveheart (1995)',\n",
              " 'Fugitive, The (1993)',\n",
              " 'Nightmare Before Christmas, The (1993)',\n",
              " 'Terminator 2: Judgment Day (1991)',\n",
              " 'Pulp Fiction (1994)',\n",
              " 'Star Wars (1977)']"
            ]
          },
          "metadata": {},
          "execution_count": 82
        }
      ]
    },
    {
      "cell_type": "markdown",
      "metadata": {
        "id": "-E8LsPzsmPRw"
      },
      "source": [
        "# **Exhaustive Search**"
      ]
    },
    {
      "cell_type": "markdown",
      "metadata": {
        "id": "lv-17-L01V29"
      },
      "source": [
        "Comparing each point to every other point, which will require Linear query time depending on the size of dataset."
      ]
    },
    {
      "cell_type": "code",
      "metadata": {
        "id": "tjXyLXZnmZyi"
      },
      "source": [
        "class BruteForceIndex():\n",
        "    def __init__(self, vectors, labels):\n",
        "        self.dimension = vectors.shape[1]\n",
        "        self.vectors = vectors.astype('float32')\n",
        "        self.labels = labels    \n",
        "   \n",
        "    def build(self):\n",
        "        self.index = faiss.IndexFlatL2(self.dimension,)\n",
        "        self.index.add(self.vectors)\n",
        "        \n",
        "    def query(self, vectors, k=10):\n",
        "        distances, indices = self.index.search(vectors, k) \n",
        "        # I expect only query on one vector thus the slice\n",
        "        return [self.labels[i] for i in indices[0]]"
      ],
      "execution_count": null,
      "outputs": []
    },
    {
      "cell_type": "code",
      "metadata": {
        "id": "2QLzcVkumbeh"
      },
      "source": [
        "index = BruteForceIndex(data[\"vector\"], data[\"name\"])\n",
        "index.build()"
      ],
      "execution_count": null,
      "outputs": []
    },
    {
      "cell_type": "code",
      "metadata": {
        "colab": {
          "base_uri": "https://localhost:8080/"
        },
        "id": "I7wnG4LumlF9",
        "outputId": "2ae0ab41-91f2-49d9-aab5-cbca2dd23911"
      },
      "source": [
        "movie_index = 90\n",
        "movie_vector = data['vector'][movie_index:movie_index+1]\n",
        "print(f\"The most simillar movies to {data['name'][movie_index]} are:\")\n",
        "index.query(movie_vector)"
      ],
      "execution_count": null,
      "outputs": [
        {
          "output_type": "stream",
          "name": "stdout",
          "text": [
            "The most simillar movies to Nightmare Before Christmas, The (1993) are:\n"
          ]
        },
        {
          "output_type": "execute_result",
          "data": {
            "text/plain": [
              "['Nightmare Before Christmas, The (1993)',\n",
              " 'Heavy Metal (1981)',\n",
              " 'Benny & Joon (1993)',\n",
              " 'Heathers (1989)',\n",
              " 'Pink Floyd - The Wall (1982)',\n",
              " 'Akira (1988)',\n",
              " 'Fantasia (1940)',\n",
              " 'Winnie the Pooh and the Blustery Day (1968)',\n",
              " 'Sneakers (1992)',\n",
              " 'Hudsucker Proxy, The (1994)']"
            ]
          },
          "metadata": {},
          "execution_count": 108
        }
      ]
    },
    {
      "cell_type": "markdown",
      "metadata": {
        "id": "9qfTzlhyj2pS"
      },
      "source": [
        "# **Product Quantization**\n",
        "\n",
        "\n",
        "\n"
      ]
    },
    {
      "cell_type": "markdown",
      "metadata": {
        "id": "EL29iXgO74qt"
      },
      "source": [
        "In Product Quantization we can increase drastically the number of centroids by dividing each vector into many vectors and run our quantizer on all of these and thus improves accuracy.\n",
        "\n",
        "Construct a table with the calculated distance between each sub-vector and each of the centroids for that sub-vector.\n",
        "\n",
        "Calculating approximate distance values for each of the vectors in the dataset, we just use those centroids id’s to look up the partial distances in the table and sum those up!"
      ]
    },
    {
      "cell_type": "code",
      "metadata": {
        "id": "eed_dKE5EDl9"
      },
      "source": [
        "class IVPQIndex():\n",
        "    def __init__(self, vectors, labels):\n",
        "        self.dimention = vectors.shape[1]\n",
        "        self.vectors = vectors.astype('float32')\n",
        "        self.labels = labels\n",
        "\n",
        "\n",
        "    def build(self, number_of_partition=8, search_in_x_partitions=2, subvector_size=8):\n",
        "        quantizer = faiss.IndexFlatL2(self.dimention)\n",
        "        self.index = faiss.IndexIVFPQ(quantizer, \n",
        "                                      self.dimention, \n",
        "                                      number_of_partition, \n",
        "                                      search_in_x_partitions, \n",
        "                                      subvector_size)\n",
        "        self.index.train(self.vectors)\n",
        "        self.index.add(self.vectors)\n",
        "        \n",
        "    def query(self, vectors, k=10):\n",
        "        distances, indices = self.index.search(vectors, k) \n",
        "        return [self.labels[i] for i in indices[0]]"
      ],
      "execution_count": null,
      "outputs": []
    },
    {
      "cell_type": "code",
      "metadata": {
        "id": "wOcIIjqxEJic"
      },
      "source": [
        "index = IVPQIndex(data[\"vector\"], data[\"name\"])\n",
        "index.build()"
      ],
      "execution_count": null,
      "outputs": []
    },
    {
      "cell_type": "code",
      "metadata": {
        "colab": {
          "base_uri": "https://localhost:8080/"
        },
        "id": "T7YMMB-8EPmf",
        "outputId": "326b9589-8b1c-41a8-97f6-3474b8b69f16"
      },
      "source": [
        "movie_index = 90\n",
        "movie_vector = data['vector'][movie_index:movie_index+1]\n",
        "print(f\"The most simillar movies to {data['name'][movie_index]} are:\")\n",
        "index.query(movie_vector)"
      ],
      "execution_count": null,
      "outputs": [
        {
          "output_type": "stream",
          "name": "stdout",
          "text": [
            "The most simillar movies to Nightmare Before Christmas, The (1993) are:\n"
          ]
        },
        {
          "output_type": "execute_result",
          "data": {
            "text/plain": [
              "['Nightmare Before Christmas, The (1993)',\n",
              " 'Heavy Metal (1981)',\n",
              " 'Fantasia (1940)',\n",
              " 'Pink Floyd - The Wall (1982)',\n",
              " 'Batman (1989)',\n",
              " 'E.T. the Extra-Terrestrial (1982)',\n",
              " 'Return of the Jedi (1983)',\n",
              " 'Aladdin (1992)',\n",
              " 'Heathers (1989)',\n",
              " 'Star Wars (1977)']"
            ]
          },
          "metadata": {},
          "execution_count": 89
        }
      ]
    },
    {
      "cell_type": "markdown",
      "metadata": {
        "id": "y0h6m6SohvHT"
      },
      "source": [
        "# **Trees based ANN**"
      ]
    },
    {
      "cell_type": "markdown",
      "metadata": {
        "id": "VurRM3O3AyJ6"
      },
      "source": [
        "They construct forests (collection of trees) as their data structure by splitting the dataset into subsets.\n",
        "\n",
        "Each tree is constructed in the following way, we pick two points at random and split the space into two by their hyperplane, we keep splitting into the subspaces recursively until the points associated with a node is small enough.\n",
        "\n",
        "In order to search the constructed index, the forest is traversed in order to obtain a set of candidate points from which the closest to the query point is returned."
      ]
    },
    {
      "cell_type": "code",
      "metadata": {
        "id": "9jCbizAXhuIw"
      },
      "source": [
        "import annoy\n",
        "\n",
        "class AnnoyIndex():\n",
        "    def __init__(self, vectors, labels):\n",
        "        self.dimention = vectors.shape[1]\n",
        "        self.vectors = vectors.astype('float32')\n",
        "        self.labels = labels\n",
        "\n",
        "\n",
        "    def build(self, number_of_trees=5):\n",
        "        self.index = annoy.AnnoyIndex(self.dimention)\n",
        "        for i, vec in enumerate(self.vectors):\n",
        "            self.index.add_item(i, vec.tolist())\n",
        "        self.index.build(number_of_trees)\n",
        "        \n",
        "    def query(self, vector, k=10):\n",
        "        indices = self.index.get_nns_by_vector(vector.tolist(), k)\n",
        "        return [self.labels[i] for i in indices]"
      ],
      "execution_count": null,
      "outputs": []
    },
    {
      "cell_type": "code",
      "metadata": {
        "colab": {
          "base_uri": "https://localhost:8080/"
        },
        "id": "nVMQpk8_jDCT",
        "outputId": "81c6dfcb-994f-4abb-e5c0-056b37efd36a"
      },
      "source": [
        "index = AnnoyIndex(data[\"vector\"], data[\"name\"])\n",
        "index.build()"
      ],
      "execution_count": null,
      "outputs": [
        {
          "output_type": "stream",
          "name": "stderr",
          "text": [
            "/usr/local/lib/python3.7/dist-packages/ipykernel_launcher.py:11: FutureWarning: The default argument for metric will be removed in future version of Annoy. Please pass metric='angular' explicitly.\n",
            "  # This is added back by InteractiveShellApp.init_path()\n"
          ]
        }
      ]
    },
    {
      "cell_type": "code",
      "metadata": {
        "colab": {
          "base_uri": "https://localhost:8080/"
        },
        "id": "wL3Ll2y1jVCh",
        "outputId": "654de079-8dd1-479d-f088-3c8190e85796"
      },
      "source": [
        "movie_vector, movie_name = data['vector'][90], data['name'][90]\n",
        "simlar_movies_names = '\\n* '.join(index.query(movie_vector))\n",
        "print(f\"The most similar movies to {movie_name} are:\\n* {simlar_movies_names}\")"
      ],
      "execution_count": null,
      "outputs": [
        {
          "output_type": "stream",
          "name": "stdout",
          "text": [
            "The most similar movies to Nightmare Before Christmas, The (1993) are:\n",
            "* Nightmare Before Christmas, The (1993)\n",
            "* Heavy Metal (1981)\n",
            "* Fantasia (1940)\n",
            "* Aladdin (1992)\n",
            "* Benny & Joon (1993)\n",
            "* Beauty and the Beast (1991)\n",
            "* Lion King, The (1994)\n",
            "* Empire Strikes Back, The (1980)\n",
            "* Jurassic Park (1993)\n",
            "* Sound of Music, The (1965)\n"
          ]
        }
      ]
    },
    {
      "cell_type": "markdown",
      "metadata": {
        "id": "DkcWQhBVVG0F"
      },
      "source": [
        "# **HNSW**"
      ]
    },
    {
      "cell_type": "markdown",
      "metadata": {
        "id": "QSakI7SmBPQp"
      },
      "source": [
        "The algorithm examines the distances from a query to the neighbors of a current base node and then selects as the next base node the adjacent node that minimizes the distance, while constantly keeping track of the best-discovered neighbors. The search is terminated when some stopping condition is met."
      ]
    },
    {
      "cell_type": "code",
      "metadata": {
        "colab": {
          "base_uri": "https://localhost:8080/"
        },
        "id": "4yCOmpC4VcDZ",
        "outputId": "dd954f9d-0e5b-47c2-c63c-f18764a5e422"
      },
      "source": [
        "!pip install nmslib\n",
        "import nmslib\n",
        "\n",
        "class NMSLIBIndex():\n",
        "    def __init__(self, vectors, labels):\n",
        "        self.dimention = vectors.shape[1]\n",
        "        self.vectors = vectors.astype('float32')\n",
        "        self.labels = labels\n",
        "    def build(self):\n",
        "        self.index = nmslib.init(method='hnsw', space='cosinesimil')\n",
        "        self.index.addDataPointBatch(self.vectors)\n",
        "        self.index.createIndex({'post': 2})\n",
        "        \n",
        "    def query(self, vector, k=10):\n",
        "        indices = self.index.knnQuery(vector, k=k)\n",
        "        return [self.labels[i] for i in indices[0]]"
      ],
      "execution_count": null,
      "outputs": [
        {
          "output_type": "stream",
          "name": "stdout",
          "text": [
            "Collecting nmslib\n",
            "  Downloading nmslib-2.1.1-cp37-cp37m-manylinux2010_x86_64.whl (13.5 MB)\n",
            "\u001b[K     |████████████████████████████████| 13.5 MB 70 kB/s \n",
            "\u001b[?25hRequirement already satisfied: psutil in /usr/local/lib/python3.7/dist-packages (from nmslib) (5.4.8)\n",
            "Requirement already satisfied: numpy>=1.10.0 in /usr/local/lib/python3.7/dist-packages (from nmslib) (1.19.5)\n",
            "Collecting pybind11<2.6.2\n",
            "  Downloading pybind11-2.6.1-py2.py3-none-any.whl (188 kB)\n",
            "\u001b[K     |████████████████████████████████| 188 kB 47.9 MB/s \n",
            "\u001b[?25hInstalling collected packages: pybind11, nmslib\n",
            "Successfully installed nmslib-2.1.1 pybind11-2.6.1\n"
          ]
        }
      ]
    },
    {
      "cell_type": "code",
      "metadata": {
        "id": "Hy33VLLLVfDl"
      },
      "source": [
        "index = NMSLIBIndex(data[\"vector\"], data[\"name\"])\n",
        "index.build()"
      ],
      "execution_count": null,
      "outputs": []
    },
    {
      "cell_type": "code",
      "metadata": {
        "colab": {
          "base_uri": "https://localhost:8080/"
        },
        "id": "TEcTKmS1WOIc",
        "outputId": "9ffc1761-c830-430a-9707-66129212cd25"
      },
      "source": [
        "movie_index = 90\n",
        "movie_vector = data['vector'][movie_index:movie_index+1]\n",
        "print(f\"The most simillar movies to {data['name'][movie_index]} are:\")\n",
        "index.query(movie_vector)"
      ],
      "execution_count": null,
      "outputs": [
        {
          "output_type": "stream",
          "name": "stdout",
          "text": [
            "The most simillar movies to Nightmare Before Christmas, The (1993) are:\n"
          ]
        },
        {
          "output_type": "execute_result",
          "data": {
            "text/plain": [
              "['Nightmare Before Christmas, The (1993)',\n",
              " 'Heavy Metal (1981)',\n",
              " 'Fantasia (1940)',\n",
              " 'Pink Floyd - The Wall (1982)',\n",
              " 'Batman (1989)',\n",
              " 'E.T. the Extra-Terrestrial (1982)',\n",
              " 'Return of the Jedi (1983)',\n",
              " 'Aladdin (1992)',\n",
              " 'Heathers (1989)',\n",
              " 'Star Wars (1977)']"
            ]
          },
          "metadata": {},
          "execution_count": 90
        }
      ]
    }
  ]
}